{
 "cells": [
  {
   "cell_type": "markdown",
   "id": "a2914681",
   "metadata": {},
   "source": [
    "# Suicide Detection - Modeling"
   ]
  },
  {
   "cell_type": "markdown",
   "id": "df64b993",
   "metadata": {},
   "source": [
    "### Table of Contents\n",
    "* [Step 1. Imports](#Step-1:--Imports) \n",
    "* [Step 2. Load the Data](#Step-2:--Load-the-Data)\n",
    "* [Step 3.  Look at Correlations](#Step-3:-Look-at-correlations)\n",
    "* [Step 4.  Modeling](#Step-4:-Modeling)\n",
    "    * [Step 4a)  Naive Bayes with Count Vectorizer - Text Only](#Step-4a:-Naive-Bayes-with-Count-Vectorizer---Text-Only)\n",
    "    * [Step 4b)  Naive Bayes with Count Vectorizer - All Features](#Step-4b:-Naive-Bayes-with-Count-Vectorizer---All-Features)\n",
    "    * [Step 4c)  Naive Bayes with TF-IDF - Text Only](#Step-4c:-Nave-Bayes-with-TF-IDF---Text-Only)\n",
    "    * [Step 4d)  Naive Bayes with TF-IDF - All Features](#Step-4d:--Naive-Bayes---TF-IDF---All-Features)\n",
    "    * [Step 4e)  Random Forest with Count Vectorizer - Text Only](#Step-4e:--Random-Forest-with-Count-Vectorizor---Text-Only)\n",
    "    * [Step 4f)  Random Forest with Count Vectorizer - All Features](#Step-4f:--Random-Forest-with-Count-Vectorizer---All-Features)\n",
    "    * [Step 4g)  Random Forest with TF-IDF - Text Only](#Step-4g:--Random-Forest-with-TF-IDF---Text-Only)\n",
    "    * [Step 4h)  Random Forest with TF-IDF - All Features](#Step-4h:--Random-Forest-with-TF-IDF---All-Features)\n",
    "    * [Step 4i)  Logistic Regression with Count Vectorizer - Text Only](#Step-4i:--Logistic-Regression-with-Count-Vectorizer---Text-Only)\n",
    "    * [Step 4j)  Logistic Regression with Count Vectorizer - All Features](#Step-4j:--Logistic-Regression-with-Count-Vectorizer---All-Features)\n",
    "    * [Step 4k)  Logistic Regression with TF-IDF - Text Only](#Step-4k:--Logistic-Regression-with-TF-IDF---Text-Only)\n",
    "    * [Step 4l)  Logistic Regression with TF-IDF - All Features](#Step-4l:--Logistic-Regression-with-TF-IDF---All-Features)\n",
    "* [Step 5.  Compare the Models](#Step-5:--Compare-the-models)\n",
    "* [Step 6.  Select and Review Top Performing Model](#Step-6:--Select-and-review-the-top-performing-model)\n",
    "* [Step 7.  Look at Mis-Labeled Examples](#Step-7:--Look-at-Mis-Labeled-Examples)\n",
    "* [Step 8.  Thresholding](#Step-8:--Thresholding)\n",
    "* [Step 9.  Evaluate Model with Text from a Different Source - Songs](#Step-9:--Evaluate-Model-with-Text-From-a-Different-Source---Songs)\n",
    "* [Step 10.  Summary](#Step-10:--Summary)\n",
    "* [Step 11.  Next Steps](#Step-11:--Next-Steps)"
   ]
  },
  {
   "cell_type": "markdown",
   "id": "5e708ec4",
   "metadata": {},
   "source": [
    "# Step 1:  Imports"
   ]
  },
  {
   "cell_type": "code",
   "execution_count": 1,
   "id": "cf4295c5",
   "metadata": {},
   "outputs": [],
   "source": [
    "import pandas as pd\n",
    "\n",
    "from sklearn.model_selection import train_test_split, cross_validate, GridSearchCV, learning_curve\n",
    "import numpy as np\n",
    "import matplotlib.pyplot as plt\n",
    "from sklearn.naive_bayes import MultinomialNB\n",
    "from sklearn.ensemble import RandomForestClassifier\n",
    "from sklearn.linear_model import LogisticRegression\n",
    "\n",
    "from sklearn import tree, metrics\n",
    "\n",
    "from sklearn.pipeline import Pipeline, FeatureUnion\n",
    "from spacy.lang.en.stop_words import STOP_WORDS\n",
    "\n",
    "from sklearn.feature_extraction.text import TfidfVectorizer\n",
    "from sklearn.feature_extraction.text import CountVectorizer\n",
    "\n",
    "#import warnings\n",
    "#warnings.filterwarnings(\"ignore\")"
   ]
  },
  {
   "cell_type": "markdown",
   "id": "e3cb716c",
   "metadata": {},
   "source": [
    "# Step 2:  Load the Data"
   ]
  },
  {
   "cell_type": "code",
   "execution_count": 2,
   "id": "8b995b8c",
   "metadata": {},
   "outputs": [],
   "source": [
    "df = pd.read_csv('Suicide_Detection_Cleaned.csv')"
   ]
  },
  {
   "cell_type": "code",
   "execution_count": 3,
   "id": "05664333",
   "metadata": {},
   "outputs": [
    {
     "data": {
      "text/html": [
       "<div>\n",
       "<style scoped>\n",
       "    .dataframe tbody tr th:only-of-type {\n",
       "        vertical-align: middle;\n",
       "    }\n",
       "\n",
       "    .dataframe tbody tr th {\n",
       "        vertical-align: top;\n",
       "    }\n",
       "\n",
       "    .dataframe thead th {\n",
       "        text-align: right;\n",
       "    }\n",
       "</style>\n",
       "<table border=\"1\" class=\"dataframe\">\n",
       "  <thead>\n",
       "    <tr style=\"text-align: right;\">\n",
       "      <th></th>\n",
       "      <th>Unnamed: 0.2</th>\n",
       "      <th>Unnamed: 0.1</th>\n",
       "      <th>Unnamed: 0</th>\n",
       "      <th>text</th>\n",
       "      <th>class</th>\n",
       "      <th>word</th>\n",
       "      <th>clean_text</th>\n",
       "      <th>length</th>\n",
       "      <th>sentiment</th>\n",
       "      <th>flesch_kincaid</th>\n",
       "      <th>repetition</th>\n",
       "    </tr>\n",
       "  </thead>\n",
       "  <tbody>\n",
       "    <tr>\n",
       "      <th>0</th>\n",
       "      <td>0</td>\n",
       "      <td>0</td>\n",
       "      <td>2</td>\n",
       "      <td>ex wife threatening suiciderecently i left my ...</td>\n",
       "      <td>suicide</td>\n",
       "      <td>['ex', 'wife', 'threatening', 'suiciderecently...</td>\n",
       "      <td>ex wife threatening suiciderecently left wife ...</td>\n",
       "      <td>345</td>\n",
       "      <td>0.100000</td>\n",
       "      <td>24.4</td>\n",
       "      <td>0</td>\n",
       "    </tr>\n",
       "    <tr>\n",
       "      <th>1</th>\n",
       "      <td>1</td>\n",
       "      <td>1</td>\n",
       "      <td>3</td>\n",
       "      <td>am i weird i do not get affected by compliment...</td>\n",
       "      <td>non-suicide</td>\n",
       "      <td>['weird', 'affected', 'compliment', 'coming', ...</td>\n",
       "      <td>weird affected compliment coming know irl feel...</td>\n",
       "      <td>69</td>\n",
       "      <td>0.100000</td>\n",
       "      <td>8.4</td>\n",
       "      <td>0</td>\n",
       "    </tr>\n",
       "    <tr>\n",
       "      <th>2</th>\n",
       "      <td>2</td>\n",
       "      <td>2</td>\n",
       "      <td>4</td>\n",
       "      <td>finally  is almost over so i can never hear  h...</td>\n",
       "      <td>non-suicide</td>\n",
       "      <td>['finally', 'hear', 'bad', 'year', 'swear', 'f...</td>\n",
       "      <td>finally hear bad year swear fucking god annoying</td>\n",
       "      <td>48</td>\n",
       "      <td>-0.525000</td>\n",
       "      <td>6.4</td>\n",
       "      <td>0</td>\n",
       "    </tr>\n",
       "    <tr>\n",
       "      <th>3</th>\n",
       "      <td>3</td>\n",
       "      <td>3</td>\n",
       "      <td>8</td>\n",
       "      <td>i need helpjust help me im crying so hard</td>\n",
       "      <td>suicide</td>\n",
       "      <td>['need', 'helpjust', 'help', 'im', 'cry', 'hard']</td>\n",
       "      <td>need helpjust help im cry hard</td>\n",
       "      <td>30</td>\n",
       "      <td>-0.291667</td>\n",
       "      <td>-1.5</td>\n",
       "      <td>0</td>\n",
       "    </tr>\n",
       "    <tr>\n",
       "      <th>4</th>\n",
       "      <td>4</td>\n",
       "      <td>4</td>\n",
       "      <td>9</td>\n",
       "      <td>i am so losthello my name is adam  and i have ...</td>\n",
       "      <td>suicide</td>\n",
       "      <td>['losthello', 'adam', 'struggling', 'year', 'a...</td>\n",
       "      <td>losthello adam struggling year afraid past yea...</td>\n",
       "      <td>1281</td>\n",
       "      <td>-0.228461</td>\n",
       "      <td>73.9</td>\n",
       "      <td>2</td>\n",
       "    </tr>\n",
       "  </tbody>\n",
       "</table>\n",
       "</div>"
      ],
      "text/plain": [
       "   Unnamed: 0.2  Unnamed: 0.1  Unnamed: 0  \\\n",
       "0             0             0           2   \n",
       "1             1             1           3   \n",
       "2             2             2           4   \n",
       "3             3             3           8   \n",
       "4             4             4           9   \n",
       "\n",
       "                                                text        class  \\\n",
       "0  ex wife threatening suiciderecently i left my ...      suicide   \n",
       "1  am i weird i do not get affected by compliment...  non-suicide   \n",
       "2  finally  is almost over so i can never hear  h...  non-suicide   \n",
       "3          i need helpjust help me im crying so hard      suicide   \n",
       "4  i am so losthello my name is adam  and i have ...      suicide   \n",
       "\n",
       "                                                word  \\\n",
       "0  ['ex', 'wife', 'threatening', 'suiciderecently...   \n",
       "1  ['weird', 'affected', 'compliment', 'coming', ...   \n",
       "2  ['finally', 'hear', 'bad', 'year', 'swear', 'f...   \n",
       "3  ['need', 'helpjust', 'help', 'im', 'cry', 'hard']   \n",
       "4  ['losthello', 'adam', 'struggling', 'year', 'a...   \n",
       "\n",
       "                                          clean_text  length  sentiment  \\\n",
       "0  ex wife threatening suiciderecently left wife ...     345   0.100000   \n",
       "1  weird affected compliment coming know irl feel...      69   0.100000   \n",
       "2   finally hear bad year swear fucking god annoying      48  -0.525000   \n",
       "3                     need helpjust help im cry hard      30  -0.291667   \n",
       "4  losthello adam struggling year afraid past yea...    1281  -0.228461   \n",
       "\n",
       "   flesch_kincaid  repetition  \n",
       "0            24.4           0  \n",
       "1             8.4           0  \n",
       "2             6.4           0  \n",
       "3            -1.5           0  \n",
       "4            73.9           2  "
      ]
     },
     "execution_count": 3,
     "metadata": {},
     "output_type": "execute_result"
    }
   ],
   "source": [
    "df.head(5)"
   ]
  },
  {
   "cell_type": "code",
   "execution_count": 4,
   "id": "43c0f537",
   "metadata": {},
   "outputs": [],
   "source": [
    "df = df.dropna()"
   ]
  },
  {
   "cell_type": "code",
   "execution_count": 5,
   "id": "5d830114",
   "metadata": {
    "scrolled": true
   },
   "outputs": [
    {
     "name": "stderr",
     "output_type": "stream",
     "text": [
      "C:\\Users\\betha\\AppData\\Local\\Temp\\ipykernel_15788\\3149362354.py:1: SettingWithCopyWarning: \n",
      "A value is trying to be set on a copy of a slice from a DataFrame\n",
      "\n",
      "See the caveats in the documentation: https://pandas.pydata.org/pandas-docs/stable/user_guide/indexing.html#returning-a-view-versus-a-copy\n",
      "  df['class'][df['class'] == 'suicide'] = 1\n",
      "C:\\Users\\betha\\AppData\\Local\\Temp\\ipykernel_15788\\3149362354.py:2: SettingWithCopyWarning: \n",
      "A value is trying to be set on a copy of a slice from a DataFrame\n",
      "\n",
      "See the caveats in the documentation: https://pandas.pydata.org/pandas-docs/stable/user_guide/indexing.html#returning-a-view-versus-a-copy\n",
      "  df['class'][df['class'] == 'non-suicide'] = 0\n"
     ]
    }
   ],
   "source": [
    "df['class'][df['class'] == 'suicide'] = 1\n",
    "df['class'][df['class'] == 'non-suicide'] = 0"
   ]
  },
  {
   "cell_type": "code",
   "execution_count": 6,
   "id": "de416d23",
   "metadata": {},
   "outputs": [],
   "source": [
    "df['class'] = df['class'].astype(int)"
   ]
  },
  {
   "cell_type": "code",
   "execution_count": 7,
   "id": "6e099278",
   "metadata": {},
   "outputs": [
    {
     "name": "stdout",
     "output_type": "stream",
     "text": [
      "<class 'pandas.core.frame.DataFrame'>\n",
      "RangeIndex: 232049 entries, 0 to 232048\n",
      "Data columns (total 11 columns):\n",
      " #   Column          Non-Null Count   Dtype  \n",
      "---  ------          --------------   -----  \n",
      " 0   Unnamed: 0.2    232049 non-null  int64  \n",
      " 1   Unnamed: 0.1    232049 non-null  int64  \n",
      " 2   Unnamed: 0      232049 non-null  int64  \n",
      " 3   text            232049 non-null  object \n",
      " 4   class           232049 non-null  int32  \n",
      " 5   word            232049 non-null  object \n",
      " 6   clean_text      232049 non-null  object \n",
      " 7   length          232049 non-null  int64  \n",
      " 8   sentiment       232049 non-null  float64\n",
      " 9   flesch_kincaid  232049 non-null  float64\n",
      " 10  repetition      232049 non-null  int64  \n",
      "dtypes: float64(2), int32(1), int64(5), object(3)\n",
      "memory usage: 18.6+ MB\n"
     ]
    }
   ],
   "source": [
    "df.info()"
   ]
  },
  {
   "cell_type": "markdown",
   "id": "0608e71d",
   "metadata": {},
   "source": [
    "It looks like we have 232,052 rows of data and no columns are null.  With that we have no data to impute. "
   ]
  },
  {
   "cell_type": "markdown",
   "id": "41fb25dd",
   "metadata": {},
   "source": [
    "# Step 3: Look at correlations"
   ]
  },
  {
   "cell_type": "markdown",
   "id": "b6d10e87",
   "metadata": {},
   "source": [
    "In the previous step we created variables for reading level, length, repetition and sentiment.  Are they measuring the same thing?"
   ]
  },
  {
   "cell_type": "code",
   "execution_count": 8,
   "id": "2ab62ea9",
   "metadata": {},
   "outputs": [
    {
     "data": {
      "text/html": [
       "<div>\n",
       "<style scoped>\n",
       "    .dataframe tbody tr th:only-of-type {\n",
       "        vertical-align: middle;\n",
       "    }\n",
       "\n",
       "    .dataframe tbody tr th {\n",
       "        vertical-align: top;\n",
       "    }\n",
       "\n",
       "    .dataframe thead th {\n",
       "        text-align: right;\n",
       "    }\n",
       "</style>\n",
       "<table border=\"1\" class=\"dataframe\">\n",
       "  <thead>\n",
       "    <tr style=\"text-align: right;\">\n",
       "      <th></th>\n",
       "      <th>length</th>\n",
       "      <th>sentiment</th>\n",
       "      <th>flesch_kincaid</th>\n",
       "      <th>repetition</th>\n",
       "      <th>class</th>\n",
       "    </tr>\n",
       "  </thead>\n",
       "  <tbody>\n",
       "    <tr>\n",
       "      <th>0</th>\n",
       "      <td>345</td>\n",
       "      <td>0.100000</td>\n",
       "      <td>24.4</td>\n",
       "      <td>0</td>\n",
       "      <td>1</td>\n",
       "    </tr>\n",
       "    <tr>\n",
       "      <th>1</th>\n",
       "      <td>69</td>\n",
       "      <td>0.100000</td>\n",
       "      <td>8.4</td>\n",
       "      <td>0</td>\n",
       "      <td>0</td>\n",
       "    </tr>\n",
       "    <tr>\n",
       "      <th>2</th>\n",
       "      <td>48</td>\n",
       "      <td>-0.525000</td>\n",
       "      <td>6.4</td>\n",
       "      <td>0</td>\n",
       "      <td>0</td>\n",
       "    </tr>\n",
       "    <tr>\n",
       "      <th>3</th>\n",
       "      <td>30</td>\n",
       "      <td>-0.291667</td>\n",
       "      <td>-1.5</td>\n",
       "      <td>0</td>\n",
       "      <td>1</td>\n",
       "    </tr>\n",
       "    <tr>\n",
       "      <th>4</th>\n",
       "      <td>1281</td>\n",
       "      <td>-0.228461</td>\n",
       "      <td>73.9</td>\n",
       "      <td>2</td>\n",
       "      <td>1</td>\n",
       "    </tr>\n",
       "  </tbody>\n",
       "</table>\n",
       "</div>"
      ],
      "text/plain": [
       "   length  sentiment  flesch_kincaid  repetition  class\n",
       "0     345   0.100000            24.4           0      1\n",
       "1      69   0.100000             8.4           0      0\n",
       "2      48  -0.525000             6.4           0      0\n",
       "3      30  -0.291667            -1.5           0      1\n",
       "4    1281  -0.228461            73.9           2      1"
      ]
     },
     "execution_count": 8,
     "metadata": {},
     "output_type": "execute_result"
    }
   ],
   "source": [
    "df1 = df[['length', 'sentiment', 'flesch_kincaid', 'repetition', 'class']]\n",
    "df1.head()"
   ]
  },
  {
   "cell_type": "code",
   "execution_count": 9,
   "id": "b859dc5e",
   "metadata": {},
   "outputs": [
    {
     "data": {
      "text/html": [
       "<div>\n",
       "<style scoped>\n",
       "    .dataframe tbody tr th:only-of-type {\n",
       "        vertical-align: middle;\n",
       "    }\n",
       "\n",
       "    .dataframe tbody tr th {\n",
       "        vertical-align: top;\n",
       "    }\n",
       "\n",
       "    .dataframe thead th {\n",
       "        text-align: right;\n",
       "    }\n",
       "</style>\n",
       "<table border=\"1\" class=\"dataframe\">\n",
       "  <thead>\n",
       "    <tr style=\"text-align: right;\">\n",
       "      <th></th>\n",
       "      <th>length</th>\n",
       "      <th>sentiment</th>\n",
       "      <th>flesch_kincaid</th>\n",
       "      <th>repetition</th>\n",
       "      <th>class</th>\n",
       "    </tr>\n",
       "  </thead>\n",
       "  <tbody>\n",
       "    <tr>\n",
       "      <th>length</th>\n",
       "      <td>1.000000</td>\n",
       "      <td>-0.002191</td>\n",
       "      <td>0.869642</td>\n",
       "      <td>0.090591</td>\n",
       "      <td>0.094261</td>\n",
       "    </tr>\n",
       "    <tr>\n",
       "      <th>sentiment</th>\n",
       "      <td>-0.002191</td>\n",
       "      <td>1.000000</td>\n",
       "      <td>-0.001117</td>\n",
       "      <td>-0.000916</td>\n",
       "      <td>-0.098720</td>\n",
       "    </tr>\n",
       "    <tr>\n",
       "      <th>flesch_kincaid</th>\n",
       "      <td>0.869642</td>\n",
       "      <td>-0.001117</td>\n",
       "      <td>1.000000</td>\n",
       "      <td>0.023206</td>\n",
       "      <td>0.019304</td>\n",
       "    </tr>\n",
       "    <tr>\n",
       "      <th>repetition</th>\n",
       "      <td>0.090591</td>\n",
       "      <td>-0.000916</td>\n",
       "      <td>0.023206</td>\n",
       "      <td>1.000000</td>\n",
       "      <td>-0.012584</td>\n",
       "    </tr>\n",
       "    <tr>\n",
       "      <th>class</th>\n",
       "      <td>0.094261</td>\n",
       "      <td>-0.098720</td>\n",
       "      <td>0.019304</td>\n",
       "      <td>-0.012584</td>\n",
       "      <td>1.000000</td>\n",
       "    </tr>\n",
       "  </tbody>\n",
       "</table>\n",
       "</div>"
      ],
      "text/plain": [
       "                  length  sentiment  flesch_kincaid  repetition     class\n",
       "length          1.000000  -0.002191        0.869642    0.090591  0.094261\n",
       "sentiment      -0.002191   1.000000       -0.001117   -0.000916 -0.098720\n",
       "flesch_kincaid  0.869642  -0.001117        1.000000    0.023206  0.019304\n",
       "repetition      0.090591  -0.000916        0.023206    1.000000 -0.012584\n",
       "class           0.094261  -0.098720        0.019304   -0.012584  1.000000"
      ]
     },
     "execution_count": 9,
     "metadata": {},
     "output_type": "execute_result"
    }
   ],
   "source": [
    "df1.corr()"
   ]
  },
  {
   "cell_type": "markdown",
   "id": "4eb2846b",
   "metadata": {},
   "source": [
    "\n",
    "We can see that reading level and length of post are highly correlated.  However since the correlation is less than 0.95, I think we can keep both variables.\n"
   ]
  },
  {
   "cell_type": "markdown",
   "id": "78d8fc79",
   "metadata": {},
   "source": [
    "# Step 4: Modeling"
   ]
  },
  {
   "cell_type": "markdown",
   "id": "cb563bb6",
   "metadata": {},
   "source": [
    "# Step 4a: Naive Bayes with Count Vectorizer - Text Only"
   ]
  },
  {
   "cell_type": "code",
   "execution_count": 10,
   "id": "a24ce348",
   "metadata": {},
   "outputs": [
    {
     "name": "stderr",
     "output_type": "stream",
     "text": [
      "C:\\Users\\betha\\anaconda3\\lib\\site-packages\\sklearn\\feature_extraction\\text.py:396: UserWarning: Your stop_words may be inconsistent with your preprocessing. Tokenizing the stop words generated tokens ['ll', 've'] not in stop_words.\n",
      "  warnings.warn(\n"
     ]
    }
   ],
   "source": [
    "vectorizer = CountVectorizer(min_df=3, ngram_range = (1,2), stop_words = STOP_WORDS)\n",
    "X = vectorizer.fit_transform(df['clean_text'])\n",
    "X = X.tocsc() \n",
    "y = df['class']"
   ]
  },
  {
   "cell_type": "code",
   "execution_count": 11,
   "id": "44f23f45",
   "metadata": {},
   "outputs": [],
   "source": [
    "X_train1, X_test1, y_train1, y_test1 = train_test_split(X, y, test_size=0.25, random_state=12)"
   ]
  },
  {
   "cell_type": "code",
   "execution_count": 12,
   "id": "804e0df4",
   "metadata": {},
   "outputs": [
    {
     "data": {
      "text/plain": [
       "GridSearchCV(cv=5, estimator=MultinomialNB(),\n",
       "             param_grid={'alpha': [0.025, 0.05, 0.1, 0.2, 0.4, 0.5, 0.75, 1, 2,\n",
       "                                   5, 8]})"
      ]
     },
     "execution_count": 12,
     "metadata": {},
     "output_type": "execute_result"
    }
   ],
   "source": [
    "n_est = [0.025, 0.05, 0.1, 0.2, 0.4, 0.5, 0.75, 1, 2, 5, 8]\n",
    "#n_est = [int(n) for n in np.logspace(start=0, stop=3, num=30)]\n",
    "param_grid = {'alpha':n_est}\n",
    "nbcv = MultinomialNB()\n",
    "nbcv_cv= GridSearchCV(nbcv,param_grid,cv=5)\n",
    "nbcv_cv.fit(X_train1, y_train1)"
   ]
  },
  {
   "cell_type": "code",
   "execution_count": 13,
   "id": "8c548ac4",
   "metadata": {},
   "outputs": [
    {
     "name": "stdout",
     "output_type": "stream",
     "text": [
      "Best Score:0.9178388417604918\n",
      "Best Parameters: {'alpha': 0.4}\n"
     ]
    }
   ],
   "source": [
    "print(\"Best Score:\" + str(nbcv_cv.best_score_))\n",
    "print(\"Best Parameters: \" + str(nbcv_cv.best_params_))"
   ]
  },
  {
   "cell_type": "code",
   "execution_count": 14,
   "id": "c513534e",
   "metadata": {
    "scrolled": true
   },
   "outputs": [
    {
     "data": {
      "text/plain": [
       "MultinomialNB(alpha=0.4)"
      ]
     },
     "execution_count": 14,
     "metadata": {},
     "output_type": "execute_result"
    }
   ],
   "source": [
    "nbcv = MultinomialNB(alpha = 0.4)\n",
    "nbcv.fit(X_train1, y_train1)"
   ]
  },
  {
   "cell_type": "code",
   "execution_count": 15,
   "id": "34d286c0",
   "metadata": {},
   "outputs": [],
   "source": [
    "y_train_pred1 = nbcv.predict(X_train1)\n",
    "y_pred1 = nbcv.predict(X_test1)"
   ]
  },
  {
   "cell_type": "code",
   "execution_count": 16,
   "id": "988ac373",
   "metadata": {},
   "outputs": [
    {
     "name": "stdout",
     "output_type": "stream",
     "text": [
      "Accuracy: 0.9191388137141675\n",
      "Balanced accuracy: 0.9191885918301574\n",
      "Precision score 0.8903647005853219\n",
      "Recall score 0.9557427417406014\n",
      "F1 score 0.9218960723264681\n",
      "ROC_AUC Score 0.9191885918301573\n"
     ]
    }
   ],
   "source": [
    "from sklearn import tree, metrics\n",
    "accuracy_nbcv = metrics.accuracy_score(y_test1,y_pred1)\n",
    "balanced_accuracy_nbcv = metrics.balanced_accuracy_score(y_test1,y_pred1)\n",
    "precision_nbcv = metrics.precision_score(y_test1,y_pred1, pos_label = 1)\n",
    "recall_nbcv = metrics.recall_score(y_test1,y_pred1, pos_label = 1)\n",
    "f1_nbcv = metrics.f1_score(y_test1, y_pred1, pos_label = 1)\n",
    "roc_auc_nbcv = metrics.roc_auc_score(y_test1, y_pred1)\n",
    "print(\"Accuracy:\", accuracy_nbcv)\n",
    "print(\"Balanced accuracy:\", balanced_accuracy_nbcv)\n",
    "print('Precision score' , precision_nbcv)\n",
    "print('Recall score' , recall_nbcv)\n",
    "print('F1 score' , f1_nbcv)\n",
    "print('ROC_AUC Score' , roc_auc_nbcv)"
   ]
  },
  {
   "cell_type": "code",
   "execution_count": 17,
   "id": "7ef12b7d",
   "metadata": {},
   "outputs": [
    {
     "name": "stdout",
     "output_type": "stream",
     "text": [
      "True Suicide: 27685\n",
      "False Suicide: 3409\n",
      "True Non-Suicide: 25637\n",
      "False Non-Suicide: 1282\n"
     ]
    }
   ],
   "source": [
    "from sklearn.metrics import confusion_matrix\n",
    "tn_nbcv, fp_nbcv, fn_nbcv, tp_nbcv = confusion_matrix(y_test1, y_pred1).ravel()\n",
    "print(f'True Suicide: {tp_nbcv}')\n",
    "print(f'False Suicide: {fp_nbcv}')\n",
    "print(f'True Non-Suicide: {tn_nbcv}')\n",
    "print(f'False Non-Suicide: {fn_nbcv}')"
   ]
  },
  {
   "cell_type": "code",
   "execution_count": 18,
   "id": "eefbf7b3",
   "metadata": {},
   "outputs": [
    {
     "data": {
      "text/html": [
       "<div>\n",
       "<style scoped>\n",
       "    .dataframe tbody tr th:only-of-type {\n",
       "        vertical-align: middle;\n",
       "    }\n",
       "\n",
       "    .dataframe tbody tr th {\n",
       "        vertical-align: top;\n",
       "    }\n",
       "\n",
       "    .dataframe thead th {\n",
       "        text-align: right;\n",
       "    }\n",
       "</style>\n",
       "<table border=\"1\" class=\"dataframe\">\n",
       "  <thead>\n",
       "    <tr style=\"text-align: right;\">\n",
       "      <th></th>\n",
       "      <th>Predicted Non-Suicide</th>\n",
       "      <th>Predicted Suicide</th>\n",
       "    </tr>\n",
       "  </thead>\n",
       "  <tbody>\n",
       "    <tr>\n",
       "      <th>Actual Non-Suicide</th>\n",
       "      <td>25637</td>\n",
       "      <td>3409</td>\n",
       "    </tr>\n",
       "    <tr>\n",
       "      <th>Actual Suicide</th>\n",
       "      <td>1282</td>\n",
       "      <td>27685</td>\n",
       "    </tr>\n",
       "  </tbody>\n",
       "</table>\n",
       "</div>"
      ],
      "text/plain": [
       "                    Predicted Non-Suicide  Predicted Suicide\n",
       "Actual Non-Suicide                  25637               3409\n",
       "Actual Suicide                       1282              27685"
      ]
     },
     "execution_count": 18,
     "metadata": {},
     "output_type": "execute_result"
    }
   ],
   "source": [
    "pd.DataFrame(confusion_matrix(y_test1, y_pred1), columns=['Predicted Non-Suicide', \"Predicted Suicide\"], index=['Actual Non-Suicide', 'Actual Suicide'])"
   ]
  },
  {
   "cell_type": "code",
   "execution_count": 19,
   "id": "171ae73f",
   "metadata": {},
   "outputs": [
    {
     "data": {
      "image/png": "[encoded data removed]",
      "text/plain": [
       "<Figure size 576x432 with 1 Axes>"
      ]
     },
     "metadata": {
      "needs_background": "light"
     },
     "output_type": "display_data"
    }
   ],
   "source": [
    "y_pred_proba1 = nbcv.predict_proba(X_test1)[::,1]\n",
    "fpr1, tpr1, _ = metrics.roc_curve(y_test1,  y_pred_proba1)\n",
    "plt.rcParams.update({'figure.figsize': (8, 6.0)})\n",
    "#create ROC curve\n",
    "plt.plot(fpr1,tpr1)\n",
    "plt.plot([0, 1], [0, 1],'r--')\n",
    "plt.title(\"ROC_AUC CURVE Naive Bayes with Count Vectorizer\")\n",
    "plt.ylabel('True Positive Rate')\n",
    "plt.xlabel('False Positive Rate')\n",
    "plt.tight_layout()\n",
    "plt.savefig('ROC_AUC Naive Bayes with Count Vectorizer.png')"
   ]
  },
  {
   "cell_type": "markdown",
   "id": "fa029149",
   "metadata": {},
   "source": [
    "# Step 4b: Naive Bayes with Count Vectorizer - All Features"
   ]
  },
  {
   "cell_type": "code",
   "execution_count": 20,
   "id": "34416696",
   "metadata": {},
   "outputs": [],
   "source": [
    "from sklearn.preprocessing import StandardScaler, MinMaxScaler, RobustScaler, MaxAbsScaler\n",
    "scaler = MinMaxScaler()\n",
    "scaler.fit(df1)\n",
    "df_scaled = scaler.transform(df1)\n",
    "scaled_features_df = pd.DataFrame(df_scaled, index=df1.index, columns=df1.columns)"
   ]
  },
  {
   "cell_type": "code",
   "execution_count": 21,
   "id": "5bc70f18",
   "metadata": {},
   "outputs": [
    {
     "data": {
      "text/html": [
       "<div>\n",
       "<style scoped>\n",
       "    .dataframe tbody tr th:only-of-type {\n",
       "        vertical-align: middle;\n",
       "    }\n",
       "\n",
       "    .dataframe tbody tr th {\n",
       "        vertical-align: top;\n",
       "    }\n",
       "\n",
       "    .dataframe thead th {\n",
       "        text-align: right;\n",
       "    }\n",
       "</style>\n",
       "<table border=\"1\" class=\"dataframe\">\n",
       "  <thead>\n",
       "    <tr style=\"text-align: right;\">\n",
       "      <th></th>\n",
       "      <th>length</th>\n",
       "      <th>sentiment</th>\n",
       "      <th>flesch_kincaid</th>\n",
       "      <th>repetition</th>\n",
       "      <th>class</th>\n",
       "    </tr>\n",
       "  </thead>\n",
       "  <tbody>\n",
       "    <tr>\n",
       "      <th>0</th>\n",
       "      <td>0.000574</td>\n",
       "      <td>0.550000</td>\n",
       "      <td>0.000241</td>\n",
       "      <td>0.000000</td>\n",
       "      <td>1.0</td>\n",
       "    </tr>\n",
       "    <tr>\n",
       "      <th>1</th>\n",
       "      <td>0.000113</td>\n",
       "      <td>0.550000</td>\n",
       "      <td>0.000145</td>\n",
       "      <td>0.000000</td>\n",
       "      <td>0.0</td>\n",
       "    </tr>\n",
       "    <tr>\n",
       "      <th>2</th>\n",
       "      <td>0.000078</td>\n",
       "      <td>0.237500</td>\n",
       "      <td>0.000133</td>\n",
       "      <td>0.000000</td>\n",
       "      <td>0.0</td>\n",
       "    </tr>\n",
       "    <tr>\n",
       "      <th>3</th>\n",
       "      <td>0.000048</td>\n",
       "      <td>0.354167</td>\n",
       "      <td>0.000085</td>\n",
       "      <td>0.000000</td>\n",
       "      <td>1.0</td>\n",
       "    </tr>\n",
       "    <tr>\n",
       "      <th>4</th>\n",
       "      <td>0.002135</td>\n",
       "      <td>0.385769</td>\n",
       "      <td>0.000538</td>\n",
       "      <td>0.000257</td>\n",
       "      <td>1.0</td>\n",
       "    </tr>\n",
       "  </tbody>\n",
       "</table>\n",
       "</div>"
      ],
      "text/plain": [
       "     length  sentiment  flesch_kincaid  repetition  class\n",
       "0  0.000574   0.550000        0.000241    0.000000    1.0\n",
       "1  0.000113   0.550000        0.000145    0.000000    0.0\n",
       "2  0.000078   0.237500        0.000133    0.000000    0.0\n",
       "3  0.000048   0.354167        0.000085    0.000000    1.0\n",
       "4  0.002135   0.385769        0.000538    0.000257    1.0"
      ]
     },
     "execution_count": 21,
     "metadata": {},
     "output_type": "execute_result"
    }
   ],
   "source": [
    "scaled_features_df.head()"
   ]
  },
  {
   "cell_type": "code",
   "execution_count": 22,
   "id": "cf1745af",
   "metadata": {},
   "outputs": [
    {
     "data": {
      "text/plain": [
       "0.0"
      ]
     },
     "execution_count": 22,
     "metadata": {},
     "output_type": "execute_result"
    }
   ],
   "source": [
    "scaled_features_df['length'].min()"
   ]
  },
  {
   "cell_type": "code",
   "execution_count": 23,
   "id": "3f1bd393",
   "metadata": {},
   "outputs": [
    {
     "name": "stderr",
     "output_type": "stream",
     "text": [
      "C:\\Users\\betha\\anaconda3\\lib\\site-packages\\sklearn\\feature_extraction\\text.py:396: UserWarning: Your stop_words may be inconsistent with your preprocessing. Tokenizing the stop words generated tokens ['ll', 've'] not in stop_words.\n",
      "  warnings.warn(\n",
      "C:\\Users\\betha\\AppData\\Local\\Temp\\ipykernel_15788\\2403083902.py:7: FutureWarning: Support for multi-dimensional indexing (e.g. `obj[:, None]`) is deprecated and will be removed in a future version.  Convert to a numpy array before indexing instead.\n",
      "  reading_level = scaled_features_df['flesch_kincaid'][:, None]\n",
      "C:\\Users\\betha\\AppData\\Local\\Temp\\ipykernel_15788\\2403083902.py:8: FutureWarning: Support for multi-dimensional indexing (e.g. `obj[:, None]`) is deprecated and will be removed in a future version.  Convert to a numpy array before indexing instead.\n",
      "  repetition = scaled_features_df['repetition'][:, None]\n"
     ]
    }
   ],
   "source": [
    "from scipy.sparse import hstack\n",
    "vectorizer = CountVectorizer(min_df=3, ngram_range = (1,2), stop_words = STOP_WORDS)\n",
    "text_matrix = vectorizer.fit_transform(df['clean_text'])\n",
    "text_matrix = text_matrix.tocsc() \n",
    "length = scaled_features_df['length'].values[:, None]\n",
    "sentiment = scaled_features_df['sentiment'].values[:, None]\n",
    "reading_level = scaled_features_df['flesch_kincaid'][:, None]\n",
    "repetition = scaled_features_df['repetition'][:, None]\n",
    "first = hstack((text_matrix, length))\n",
    "second = hstack((first, sentiment))\n",
    "third = hstack((second, reading_level))\n",
    "X = hstack((third, sentiment))\n",
    "\n",
    "y = df['class']"
   ]
  },
  {
   "cell_type": "code",
   "execution_count": 24,
   "id": "31277304",
   "metadata": {},
   "outputs": [],
   "source": [
    "X_train2, X_test2, y_train2, y_test2 = train_test_split(X, y, test_size=0.25, random_state=12)"
   ]
  },
  {
   "cell_type": "code",
   "execution_count": 25,
   "id": "03683569",
   "metadata": {},
   "outputs": [
    {
     "data": {
      "text/plain": [
       "GridSearchCV(cv=5, estimator=MultinomialNB(),\n",
       "             param_grid={'alpha': [0.025, 0.05, 0.1, 0.2, 0.4, 0.5, 0.75, 1, 2,\n",
       "                                   5, 8]})"
      ]
     },
     "execution_count": 25,
     "metadata": {},
     "output_type": "execute_result"
    }
   ],
   "source": [
    "alphas = [0.025, 0.05, 0.1, 0.2, 0.4, 0.5, 0.75, 1, 2, 5, 8]\n",
    "\n",
    "param_grid = {'alpha':alphas}\n",
    "nbcv = MultinomialNB()\n",
    "nbcv_cv= GridSearchCV(nbcv,param_grid,cv=5)\n",
    "nbcv_cv.fit(X_train2, y_train2)"
   ]
  },
  {
   "cell_type": "code",
   "execution_count": 26,
   "id": "16cd97f3",
   "metadata": {},
   "outputs": [
    {
     "name": "stdout",
     "output_type": "stream",
     "text": [
      "Best Score:0.9209473955331596\n",
      "Best Parameters: {'alpha': 0.5}\n"
     ]
    }
   ],
   "source": [
    "print(\"Best Score:\" + str(nbcv_cv.best_score_))\n",
    "print(\"Best Parameters: \" + str(nbcv_cv.best_params_))"
   ]
  },
  {
   "cell_type": "code",
   "execution_count": 27,
   "id": "0c25a895",
   "metadata": {},
   "outputs": [
    {
     "data": {
      "text/plain": [
       "MultinomialNB(alpha=0.5)"
      ]
     },
     "execution_count": 27,
     "metadata": {},
     "output_type": "execute_result"
    }
   ],
   "source": [
    "nbcvi = MultinomialNB(alpha = 0.5)\n",
    "nbcvi.fit(X_train2, y_train2)"
   ]
  },
  {
   "cell_type": "code",
   "execution_count": 28,
   "id": "94f0f9f8",
   "metadata": {},
   "outputs": [],
   "source": [
    "y_train_pred2 = nbcvi.predict(X_train2)\n",
    "y_pred2 = nbcvi.predict(X_test2)"
   ]
  },
  {
   "cell_type": "code",
   "execution_count": 29,
   "id": "a8cd2c98",
   "metadata": {},
   "outputs": [
    {
     "name": "stdout",
     "output_type": "stream",
     "text": [
      "Accuracy: 0.9226035543757434\n",
      "Balanced accuracy: 0.922636977909941\n",
      "Precision score 0.9026219692732835\n",
      "Recall score 0.9471812752442434\n",
      "F1 score 0.9243649349774273\n",
      "ROC_AUC Score 0.922636977909941\n"
     ]
    }
   ],
   "source": [
    "accuracy_nbcvi = metrics.accuracy_score(y_test2,y_pred2)\n",
    "balanced_accuracy_nbcvi = metrics.balanced_accuracy_score(y_test2,y_pred2)\n",
    "precision_nbcvi = metrics.precision_score(y_test2,y_pred2, pos_label = 1)\n",
    "recall_nbcvi = metrics.recall_score(y_test2,y_pred2, pos_label = 1)\n",
    "f1_nbcvi = metrics.f1_score(y_test2, y_pred2, pos_label = 1)\n",
    "roc_auc_nbcvi = metrics.roc_auc_score(y_test2, y_pred2)\n",
    "print(\"Accuracy:\", accuracy_nbcvi)\n",
    "print(\"Balanced accuracy:\", balanced_accuracy_nbcvi)\n",
    "print('Precision score' , precision_nbcvi)\n",
    "print('Recall score' , recall_nbcvi)\n",
    "print('F1 score' , f1_nbcvi)\n",
    "print('ROC_AUC Score' , roc_auc_nbcvi)"
   ]
  },
  {
   "cell_type": "code",
   "execution_count": 30,
   "id": "bbb40d86",
   "metadata": {},
   "outputs": [
    {
     "name": "stdout",
     "output_type": "stream",
     "text": [
      "True Suicide: 27437\n",
      "False Suicide: 2960\n",
      "True Non-Suicide: 26086\n",
      "False Non-Suicide: 1530\n"
     ]
    }
   ],
   "source": [
    "from sklearn.metrics import confusion_matrix\n",
    "tn_nbcvi, fp_nbcvi, fn_nbcvi, tp_nbcvi = confusion_matrix(y_test2, y_pred2).ravel()\n",
    "print(f'True Suicide: {tp_nbcvi}')\n",
    "print(f'False Suicide: {fp_nbcvi}')\n",
    "print(f'True Non-Suicide: {tn_nbcvi}')\n",
    "print(f'False Non-Suicide: {fn_nbcvi}')"
   ]
  },
  {
   "cell_type": "code",
   "execution_count": 31,
   "id": "2f0ba6ee",
   "metadata": {},
   "outputs": [
    {
     "data": {
      "text/html": [
       "<div>\n",
       "<style scoped>\n",
       "    .dataframe tbody tr th:only-of-type {\n",
       "        vertical-align: middle;\n",
       "    }\n",
       "\n",
       "    .dataframe tbody tr th {\n",
       "        vertical-align: top;\n",
       "    }\n",
       "\n",
       "    .dataframe thead th {\n",
       "        text-align: right;\n",
       "    }\n",
       "</style>\n",
       "<table border=\"1\" class=\"dataframe\">\n",
       "  <thead>\n",
       "    <tr style=\"text-align: right;\">\n",
       "      <th></th>\n",
       "      <th>Predicted Non-Suicide</th>\n",
       "      <th>Predicted Suicide</th>\n",
       "    </tr>\n",
       "  </thead>\n",
       "  <tbody>\n",
       "    <tr>\n",
       "      <th>Actual Non-Suicide</th>\n",
       "      <td>26086</td>\n",
       "      <td>2960</td>\n",
       "    </tr>\n",
       "    <tr>\n",
       "      <th>Actual Suicide</th>\n",
       "      <td>1530</td>\n",
       "      <td>27437</td>\n",
       "    </tr>\n",
       "  </tbody>\n",
       "</table>\n",
       "</div>"
      ],
      "text/plain": [
       "                    Predicted Non-Suicide  Predicted Suicide\n",
       "Actual Non-Suicide                  26086               2960\n",
       "Actual Suicide                       1530              27437"
      ]
     },
     "execution_count": 31,
     "metadata": {},
     "output_type": "execute_result"
    }
   ],
   "source": [
    "pd.DataFrame(confusion_matrix(y_test2, y_pred2), columns=['Predicted Non-Suicide', \"Predicted Suicide\"], index=['Actual Non-Suicide', 'Actual Suicide'])"
   ]
  },
  {
   "cell_type": "code",
   "execution_count": 32,
   "id": "d0589156",
   "metadata": {},
   "outputs": [
    {
     "data": {
      "image/png": "[encoded data removed]",
      "text/plain": [
       "<Figure size 576x432 with 1 Axes>"
      ]
     },
     "metadata": {
      "needs_background": "light"
     },
     "output_type": "display_data"
    }
   ],
   "source": [
    "y_pred_proba2 = nbcvi.predict_proba(X_test2)[::,1]\n",
    "fpr2, tpr2, _ = metrics.roc_curve(y_test2,  y_pred_proba2)\n",
    "plt.rcParams.update({'figure.figsize': (8, 6.0)})\n",
    "#create ROC curve\n",
    "plt.plot(fpr2,tpr2)\n",
    "plt.plot([0, 1], [0, 1],'r--')\n",
    "plt.title(\"ROC_AUC CURVE Naive Bayes with Count Vectorizer All Features\")\n",
    "plt.ylabel('True Positive Rate')\n",
    "plt.xlabel('False Positive Rate')\n",
    "plt.tight_layout()\n",
    "plt.savefig('ROC_AUC Naive Bayes with Count Vectorizer All features.png')"
   ]
  },
  {
   "cell_type": "markdown",
   "id": "e0d206dc",
   "metadata": {},
   "source": [
    "# Step 4c: Nave Bayes with TF-IDF - Text Only"
   ]
  },
  {
   "cell_type": "code",
   "execution_count": 33,
   "id": "c0b8172f",
   "metadata": {},
   "outputs": [
    {
     "name": "stderr",
     "output_type": "stream",
     "text": [
      "C:\\Users\\betha\\anaconda3\\lib\\site-packages\\sklearn\\feature_extraction\\text.py:396: UserWarning: Your stop_words may be inconsistent with your preprocessing. Tokenizing the stop words generated tokens ['ll', 've'] not in stop_words.\n",
      "  warnings.warn(\n"
     ]
    }
   ],
   "source": [
    "from sklearn.feature_extraction.text import TfidfVectorizer\n",
    "vectorizor_tfid = TfidfVectorizer(min_df=3, ngram_range = (1,2), stop_words = STOP_WORDS)\n",
    "X_tfid1 = vectorizor_tfid.fit_transform(df['text'])\n",
    "X_tfid1 = X_tfid1.tocsc() \n",
    "y_tfid1 = df['class']"
   ]
  },
  {
   "cell_type": "code",
   "execution_count": 34,
   "id": "7ef9127b",
   "metadata": {},
   "outputs": [],
   "source": [
    "X_train3, X_test3, y_train3, y_test3 = train_test_split(X_tfid1, y_tfid1, test_size=0.25, random_state=12)"
   ]
  },
  {
   "cell_type": "code",
   "execution_count": 35,
   "id": "df7f84f1",
   "metadata": {},
   "outputs": [
    {
     "data": {
      "text/plain": [
       "GridSearchCV(cv=5, estimator=MultinomialNB(),\n",
       "             param_grid={'alpha': [0.025, 0.05, 0.1, 0.2, 0.4, 0.5, 0.75, 1, 2,\n",
       "                                   5, 8]})"
      ]
     },
     "execution_count": 35,
     "metadata": {},
     "output_type": "execute_result"
    }
   ],
   "source": [
    "n_est = [0.025, 0.05, 0.1, 0.2, 0.4, 0.5, 0.75, 1, 2, 5, 8]\n",
    "#n_est = [int(n) for n in np.logspace(start=0, stop=3, num=30)]\n",
    "param_grid = {'alpha':n_est}\n",
    "nb_tfidf = MultinomialNB()\n",
    "nb_tfidf_cv= GridSearchCV(nb_tfidf,param_grid,cv=5)\n",
    "nb_tfidf_cv.fit(X_train3, y_train3)"
   ]
  },
  {
   "cell_type": "code",
   "execution_count": 36,
   "id": "c573f43a",
   "metadata": {},
   "outputs": [
    {
     "name": "stdout",
     "output_type": "stream",
     "text": [
      "Best Score:0.921062314615769\n",
      "Best Parameters: {'alpha': 0.1}\n"
     ]
    }
   ],
   "source": [
    "print(\"Best Score:\" + str(nb_tfidf_cv.best_score_))\n",
    "print(\"Best Parameters: \" + str(nb_tfidf_cv.best_params_))"
   ]
  },
  {
   "cell_type": "code",
   "execution_count": 37,
   "id": "a937f194",
   "metadata": {},
   "outputs": [
    {
     "data": {
      "text/plain": [
       "MultinomialNB(alpha=0.1)"
      ]
     },
     "execution_count": 37,
     "metadata": {},
     "output_type": "execute_result"
    }
   ],
   "source": [
    "\n",
    "nb_tfidf = MultinomialNB(alpha = 0.1)\n",
    "nb_tfidf.fit(X_train3, y_train3)"
   ]
  },
  {
   "cell_type": "code",
   "execution_count": 38,
   "id": "0c0fcf92",
   "metadata": {},
   "outputs": [],
   "source": [
    "y_train_pred3 = nb_tfidf.predict(X_train3)\n",
    "y_pred3 = nb_tfidf.predict(X_test3)"
   ]
  },
  {
   "cell_type": "code",
   "execution_count": 39,
   "id": "a8753017",
   "metadata": {},
   "outputs": [
    {
     "name": "stdout",
     "output_type": "stream",
     "text": [
      "Accuracy: 0.9228448795959526\n",
      "Balanced accuracy: 0.922899148016771\n",
      "Precision score 0.8914176122742529\n",
      "Recall score 0.9627507163323782\n",
      "F1 score 0.9257120095598487\n",
      "ROC_AUC Score 0.9228991480167709\n"
     ]
    }
   ],
   "source": [
    "from sklearn import tree, metrics\n",
    "accuracy_nb_tfidf = metrics.accuracy_score(y_test3,y_pred3)\n",
    "balanced_accuracy_nb_tfidf = metrics.balanced_accuracy_score(y_test3,y_pred3)\n",
    "precision_nb_tfidf = metrics.precision_score(y_test3,y_pred3, pos_label = 1)\n",
    "recall_nb_tfidf = metrics.recall_score(y_test3,y_pred3, pos_label = 1)\n",
    "f1_nb_tfidf = metrics.f1_score(y_test3, y_pred3, pos_label = 1)\n",
    "roc_auc_nb_tfidf = metrics.roc_auc_score(y_test3, y_pred3)\n",
    "print(\"Accuracy:\", accuracy_nb_tfidf)\n",
    "print(\"Balanced accuracy:\", balanced_accuracy_nb_tfidf)\n",
    "print('Precision score' , precision_nb_tfidf)\n",
    "print('Recall score' , recall_nb_tfidf)\n",
    "print('F1 score' , f1_nb_tfidf)\n",
    "print('ROC_AUC Score' , roc_auc_nb_tfidf)\n",
    "\n"
   ]
  },
  {
   "cell_type": "code",
   "execution_count": 40,
   "id": "d2276b90",
   "metadata": {},
   "outputs": [
    {
     "name": "stdout",
     "output_type": "stream",
     "text": [
      "True Suicide: 27888\n",
      "False Suicide: 3397\n",
      "True Non-Suicide: 25649\n",
      "False Non-Suicide: 1079\n"
     ]
    }
   ],
   "source": [
    "from sklearn.metrics import confusion_matrix\n",
    "tn_nb_tfidf, fp_nb_tfidf, fn_nb_tfidf, tp_nb_tfidf = confusion_matrix(y_test3, y_pred3).ravel()\n",
    "print(f'True Suicide: {tp_nb_tfidf}')\n",
    "print(f'False Suicide: {fp_nb_tfidf}')\n",
    "print(f'True Non-Suicide: {tn_nb_tfidf}')\n",
    "print(f'False Non-Suicide: {fn_nb_tfidf}')"
   ]
  },
  {
   "cell_type": "code",
   "execution_count": 41,
   "id": "0ad3d922",
   "metadata": {},
   "outputs": [
    {
     "data": {
      "text/html": [
       "<div>\n",
       "<style scoped>\n",
       "    .dataframe tbody tr th:only-of-type {\n",
       "        vertical-align: middle;\n",
       "    }\n",
       "\n",
       "    .dataframe tbody tr th {\n",
       "        vertical-align: top;\n",
       "    }\n",
       "\n",
       "    .dataframe thead th {\n",
       "        text-align: right;\n",
       "    }\n",
       "</style>\n",
       "<table border=\"1\" class=\"dataframe\">\n",
       "  <thead>\n",
       "    <tr style=\"text-align: right;\">\n",
       "      <th></th>\n",
       "      <th>Predicted Non-Suicide</th>\n",
       "      <th>Predicted Suicide</th>\n",
       "    </tr>\n",
       "  </thead>\n",
       "  <tbody>\n",
       "    <tr>\n",
       "      <th>Actual Non-Suicide</th>\n",
       "      <td>25649</td>\n",
       "      <td>3397</td>\n",
       "    </tr>\n",
       "    <tr>\n",
       "      <th>Actual Suicide</th>\n",
       "      <td>1079</td>\n",
       "      <td>27888</td>\n",
       "    </tr>\n",
       "  </tbody>\n",
       "</table>\n",
       "</div>"
      ],
      "text/plain": [
       "                    Predicted Non-Suicide  Predicted Suicide\n",
       "Actual Non-Suicide                  25649               3397\n",
       "Actual Suicide                       1079              27888"
      ]
     },
     "execution_count": 41,
     "metadata": {},
     "output_type": "execute_result"
    }
   ],
   "source": [
    "pd.DataFrame(confusion_matrix(y_test3, y_pred3), columns=['Predicted Non-Suicide', \"Predicted Suicide\"], index=['Actual Non-Suicide', 'Actual Suicide'])"
   ]
  },
  {
   "cell_type": "code",
   "execution_count": 42,
   "id": "f8012c02",
   "metadata": {},
   "outputs": [
    {
     "data": {
      "image/png": "[encoded data removed]",
      "text/plain": [
       "<Figure size 576x432 with 1 Axes>"
      ]
     },
     "metadata": {
      "needs_background": "light"
     },
     "output_type": "display_data"
    }
   ],
   "source": [
    "y_pred_proba3 = nb_tfidf.predict_proba(X_test3)[::,1]\n",
    "fpr3, tpr3, _ = metrics.roc_curve(y_test3,  y_pred_proba3)\n",
    "plt.rcParams.update({'figure.figsize': (8, 6.0)})\n",
    "#create ROC curve\n",
    "plt.plot(fpr3,tpr3)\n",
    "plt.plot([0, 1], [0, 1],'r--')\n",
    "plt.title(\"ROC_AUC CURVE Naive Bayes with TF-IDF Vectorizer - Text Only\")\n",
    "plt.ylabel('True Positive Rate')\n",
    "plt.xlabel('False Positive Rate')\n",
    "plt.tight_layout()\n",
    "plt.savefig('ROC_AUC Curve Naive Bayes with TF-IDF Vectoizer_Text_Only.png')"
   ]
  },
  {
   "cell_type": "markdown",
   "id": "5a1d493b",
   "metadata": {},
   "source": [
    "# Step 4d:  Naive Bayes - TF-IDF - All Features"
   ]
  },
  {
   "cell_type": "code",
   "execution_count": 43,
   "id": "15ecb9bb",
   "metadata": {},
   "outputs": [
    {
     "name": "stderr",
     "output_type": "stream",
     "text": [
      "C:\\Users\\betha\\anaconda3\\lib\\site-packages\\sklearn\\feature_extraction\\text.py:396: UserWarning: Your stop_words may be inconsistent with your preprocessing. Tokenizing the stop words generated tokens ['ll', 've'] not in stop_words.\n",
      "  warnings.warn(\n",
      "C:\\Users\\betha\\AppData\\Local\\Temp\\ipykernel_15788\\1915412182.py:7: FutureWarning: Support for multi-dimensional indexing (e.g. `obj[:, None]`) is deprecated and will be removed in a future version.  Convert to a numpy array before indexing instead.\n",
      "  reading_level = scaled_features_df['flesch_kincaid'][:, None]\n",
      "C:\\Users\\betha\\AppData\\Local\\Temp\\ipykernel_15788\\1915412182.py:8: FutureWarning: Support for multi-dimensional indexing (e.g. `obj[:, None]`) is deprecated and will be removed in a future version.  Convert to a numpy array before indexing instead.\n",
      "  repetition = scaled_features_df['repetition'][:, None]\n"
     ]
    }
   ],
   "source": [
    "from sklearn.feature_extraction.text import TfidfVectorizer\n",
    "vectorizor_tfid = TfidfVectorizer(min_df=3, ngram_range = (1,2), stop_words = STOP_WORDS)\n",
    "text_matrix1 = vectorizor_tfid.fit_transform(df['text'])\n",
    "text_matrix1 = text_matrix1.tocsc() \n",
    "length = scaled_features_df['length'].values[:, None]\n",
    "sentiment = scaled_features_df['sentiment'].values[:, None]\n",
    "reading_level = scaled_features_df['flesch_kincaid'][:, None]\n",
    "repetition = scaled_features_df['repetition'][:, None]\n",
    "first = hstack((text_matrix1, length))\n",
    "second = hstack((first, sentiment))\n",
    "third = hstack((second, reading_level))\n",
    "X_tfid11 = hstack((third, sentiment))\n",
    "\n",
    "y_tfid11 = df['class']"
   ]
  },
  {
   "cell_type": "code",
   "execution_count": 44,
   "id": "58612fca",
   "metadata": {},
   "outputs": [],
   "source": [
    "X_train4, X_test4, y_train4, y_test4 = train_test_split(X_tfid11, y_tfid11, test_size=0.25, random_state=12)"
   ]
  },
  {
   "cell_type": "code",
   "execution_count": 45,
   "id": "7a8e4a9d",
   "metadata": {},
   "outputs": [
    {
     "data": {
      "text/plain": [
       "GridSearchCV(cv=5, estimator=MultinomialNB(),\n",
       "             param_grid={'alpha': [0.025, 0.05, 0.1, 0.2, 0.4, 0.5, 0.75, 1, 2,\n",
       "                                   5, 8]})"
      ]
     },
     "execution_count": 45,
     "metadata": {},
     "output_type": "execute_result"
    }
   ],
   "source": [
    "n_est = [0.025, 0.05, 0.1, 0.2, 0.4, 0.5, 0.75, 1, 2, 5, 8]\n",
    "#n_est = [int(n) for n in np.logspace(start=0, stop=3, num=30)]\n",
    "param_grid = {'alpha':n_est}\n",
    "nb_tfidf = MultinomialNB()\n",
    "nb_tfidf_cv= GridSearchCV(nb_tfidf,param_grid,cv=5)\n",
    "nb_tfidf_cv.fit(X_train4, y_train4)"
   ]
  },
  {
   "cell_type": "code",
   "execution_count": 46,
   "id": "f495ded0",
   "metadata": {},
   "outputs": [
    {
     "name": "stdout",
     "output_type": "stream",
     "text": [
      "Best Score:0.9244639137163603\n",
      "Best Parameters: {'alpha': 0.2}\n"
     ]
    }
   ],
   "source": [
    "print(\"Best Score:\" + str(nb_tfidf_cv.best_score_))\n",
    "print(\"Best Parameters: \" + str(nb_tfidf_cv.best_params_))"
   ]
  },
  {
   "cell_type": "code",
   "execution_count": 47,
   "id": "3abf1478",
   "metadata": {},
   "outputs": [
    {
     "data": {
      "text/plain": [
       "MultinomialNB(alpha=0.2)"
      ]
     },
     "execution_count": 47,
     "metadata": {},
     "output_type": "execute_result"
    }
   ],
   "source": [
    "nb_tfidf = MultinomialNB(alpha = 0.2)\n",
    "nb_tfidf.fit(X_train4, y_train4)"
   ]
  },
  {
   "cell_type": "code",
   "execution_count": 48,
   "id": "c98ca412",
   "metadata": {},
   "outputs": [],
   "source": [
    "y_train_pred4 = nb_tfidf.predict(X_train4)\n",
    "y_pred4 = nb_tfidf.predict(X_test4)"
   ]
  },
  {
   "cell_type": "code",
   "execution_count": 49,
   "id": "45ec6559",
   "metadata": {},
   "outputs": [
    {
     "name": "stdout",
     "output_type": "stream",
     "text": [
      "Accuracy: 0.926344095288987\n",
      "Balanced accuracy: 0.9263839809632104\n",
      "Precision score 0.9025495565988524\n",
      "Recall score 0.9556736976559533\n",
      "F1 score 0.9283522527205352\n",
      "ROC_AUC Score 0.9263839809632105\n"
     ]
    }
   ],
   "source": [
    "accuracy_nb_tfidfi = metrics.accuracy_score(y_test4,y_pred4)\n",
    "balanced_accuracy_nb_tfidfi = metrics.balanced_accuracy_score(y_test4,y_pred4)\n",
    "precision_nb_tfidfi = metrics.precision_score(y_test4,y_pred4, pos_label = 1)\n",
    "recall_nb_tfidfi = metrics.recall_score(y_test4,y_pred4, pos_label = 1)\n",
    "f1_nb_tfidfi = metrics.f1_score(y_test4, y_pred4, pos_label = 1)\n",
    "roc_auc_nb_tfidfi = metrics.roc_auc_score(y_test4, y_pred4)\n",
    "print(\"Accuracy:\", accuracy_nb_tfidfi)\n",
    "print(\"Balanced accuracy:\", balanced_accuracy_nb_tfidfi)\n",
    "print('Precision score' , precision_nb_tfidfi)\n",
    "print('Recall score' , recall_nb_tfidfi)\n",
    "print('F1 score' , f1_nb_tfidfi)\n",
    "print('ROC_AUC Score' , roc_auc_nb_tfidfi)"
   ]
  },
  {
   "cell_type": "code",
   "execution_count": 50,
   "id": "d712cccf",
   "metadata": {},
   "outputs": [
    {
     "name": "stdout",
     "output_type": "stream",
     "text": [
      "True Suicide: 27683\n",
      "False Suicide: 2989\n",
      "True Non-Suicide: 26057\n",
      "False Non-Suicide: 1284\n"
     ]
    }
   ],
   "source": [
    "from sklearn.metrics import confusion_matrix\n",
    "tn_nb_tfidfi, fp_nb_tfidfi, fn_nb_tfidfi, tp_nb_tfidfi = confusion_matrix(y_test4, y_pred4).ravel()\n",
    "print(f'True Suicide: {tp_nb_tfidfi}')\n",
    "print(f'False Suicide: {fp_nb_tfidfi}')\n",
    "print(f'True Non-Suicide: {tn_nb_tfidfi}')\n",
    "print(f'False Non-Suicide: {fn_nb_tfidfi}')"
   ]
  },
  {
   "cell_type": "code",
   "execution_count": 51,
   "id": "9dd2db13",
   "metadata": {},
   "outputs": [
    {
     "data": {
      "text/html": [
       "<div>\n",
       "<style scoped>\n",
       "    .dataframe tbody tr th:only-of-type {\n",
       "        vertical-align: middle;\n",
       "    }\n",
       "\n",
       "    .dataframe tbody tr th {\n",
       "        vertical-align: top;\n",
       "    }\n",
       "\n",
       "    .dataframe thead th {\n",
       "        text-align: right;\n",
       "    }\n",
       "</style>\n",
       "<table border=\"1\" class=\"dataframe\">\n",
       "  <thead>\n",
       "    <tr style=\"text-align: right;\">\n",
       "      <th></th>\n",
       "      <th>Predicted Non-Suicide</th>\n",
       "      <th>Predicted Suicide</th>\n",
       "    </tr>\n",
       "  </thead>\n",
       "  <tbody>\n",
       "    <tr>\n",
       "      <th>Actual Non-Suicide</th>\n",
       "      <td>26057</td>\n",
       "      <td>2989</td>\n",
       "    </tr>\n",
       "    <tr>\n",
       "      <th>Actual Suicide</th>\n",
       "      <td>1284</td>\n",
       "      <td>27683</td>\n",
       "    </tr>\n",
       "  </tbody>\n",
       "</table>\n",
       "</div>"
      ],
      "text/plain": [
       "                    Predicted Non-Suicide  Predicted Suicide\n",
       "Actual Non-Suicide                  26057               2989\n",
       "Actual Suicide                       1284              27683"
      ]
     },
     "execution_count": 51,
     "metadata": {},
     "output_type": "execute_result"
    }
   ],
   "source": [
    "pd.DataFrame(confusion_matrix(y_test4, y_pred4), columns=['Predicted Non-Suicide', \"Predicted Suicide\"], index=['Actual Non-Suicide', 'Actual Suicide'])"
   ]
  },
  {
   "cell_type": "code",
   "execution_count": 52,
   "id": "a8ecf968",
   "metadata": {},
   "outputs": [
    {
     "data": {
      "image/png": "[encoded data removed]",
      "text/plain": [
       "<Figure size 576x432 with 1 Axes>"
      ]
     },
     "metadata": {
      "needs_background": "light"
     },
     "output_type": "display_data"
    }
   ],
   "source": [
    "y_pred_proba4 = nb_tfidf.predict_proba(X_test4)[::,1]\n",
    "fpr4, tpr4, _ = metrics.roc_curve(y_test4,  y_pred_proba4)\n",
    "plt.rcParams.update({'figure.figsize': (8, 6.0)})\n",
    "#create ROC curve\n",
    "plt.plot(fpr4,tpr4)\n",
    "plt.plot([0, 1], [0, 1],'r--')\n",
    "plt.title(\"ROC_AUC CURVE Naive Bayes with TF-IDF Vectorizer - All Features\")\n",
    "plt.ylabel('True Positive Rate')\n",
    "plt.xlabel('False Positive Rate')\n",
    "plt.tight_layout()\n",
    "plt.savefig('ROC_AUC Curve Naive Bayes with TF-IDF Vectorizer_All_Features.png')"
   ]
  },
  {
   "cell_type": "markdown",
   "id": "eb9ec198",
   "metadata": {},
   "source": [
    "# Step 4e:  Random Forest with Count Vectorizor - Text Only"
   ]
  },
  {
   "cell_type": "code",
   "execution_count": 53,
   "id": "2aae9ef4",
   "metadata": {},
   "outputs": [],
   "source": [
    "from sklearn.ensemble import RandomForestClassifier\n"
   ]
  },
  {
   "cell_type": "code",
   "execution_count": 54,
   "id": "493efe05",
   "metadata": {},
   "outputs": [
    {
     "name": "stderr",
     "output_type": "stream",
     "text": [
      "C:\\Users\\betha\\anaconda3\\lib\\site-packages\\sklearn\\feature_extraction\\text.py:396: UserWarning: Your stop_words may be inconsistent with your preprocessing. Tokenizing the stop words generated tokens ['ll', 've'] not in stop_words.\n",
      "  warnings.warn(\n"
     ]
    }
   ],
   "source": [
    "vectorizer = CountVectorizer(min_df=3, ngram_range = (1,2), stop_words = STOP_WORDS)\n",
    "X = vectorizer.fit_transform(df['clean_text'].head(1000))\n",
    "X = X.tocsc() \n",
    "y = df['class'].head(1000)"
   ]
  },
  {
   "cell_type": "code",
   "execution_count": 55,
   "id": "8f5beab5",
   "metadata": {},
   "outputs": [],
   "source": [
    "X_train5, X_test5, y_train5, y_test5 = train_test_split(X, y, test_size=0.25, random_state=12)"
   ]
  },
  {
   "cell_type": "code",
   "execution_count": 56,
   "id": "e471cbb7",
   "metadata": {},
   "outputs": [
    {
     "data": {
      "text/plain": [
       "[31, 94, 281, 841, 2511]"
      ]
     },
     "execution_count": 56,
     "metadata": {},
     "output_type": "execute_result"
    }
   ],
   "source": [
    "n_est = [int(n) for n in np.logspace(start=1.5, stop=3.4, num=5)]\n",
    "n_est"
   ]
  },
  {
   "cell_type": "code",
   "execution_count": 57,
   "id": "c79b2b5a",
   "metadata": {},
   "outputs": [
    {
     "data": {
      "text/plain": [
       "GridSearchCV(cv=5, estimator=RandomForestClassifier(random_state=1519),\n",
       "             param_grid={'max_depth': [10, 28, 46, 64, 82, 100],\n",
       "                         'n_estimators': [31, 94, 281, 841, 2511]})"
      ]
     },
     "execution_count": 57,
     "metadata": {},
     "output_type": "execute_result"
    }
   ],
   "source": [
    "\n",
    "n_est = [int(n) for n in np.logspace(start=1.5, stop=3.4, num=5)]\n",
    "depth = [int(x) for x in np.linspace(10, 100, num = 6)]\n",
    "param_grid = {'n_estimators': n_est, 'max_depth' : depth}\n",
    "rf1 = RandomForestClassifier(random_state = 1519)\n",
    "rf_cv = GridSearchCV(rf1, param_grid, cv = 5)\n",
    "rf_cv.fit(X_train5, y_train5)\n"
   ]
  },
  {
   "cell_type": "code",
   "execution_count": 58,
   "id": "1c47ec26",
   "metadata": {},
   "outputs": [
    {
     "name": "stdout",
     "output_type": "stream",
     "text": [
      "Best Score:0.8480000000000001\n",
      "Best Parameters: {'max_depth': 28, 'n_estimators': 841}\n"
     ]
    }
   ],
   "source": [
    "print(\"Best Score:\" + str(rf_cv.best_score_))\n",
    "print(\"Best Parameters: \" + str(rf_cv.best_params_))"
   ]
  },
  {
   "cell_type": "code",
   "execution_count": 59,
   "id": "3c9411ce",
   "metadata": {},
   "outputs": [
    {
     "name": "stderr",
     "output_type": "stream",
     "text": [
      "C:\\Users\\betha\\anaconda3\\lib\\site-packages\\sklearn\\feature_extraction\\text.py:396: UserWarning: Your stop_words may be inconsistent with your preprocessing. Tokenizing the stop words generated tokens ['ll', 've'] not in stop_words.\n",
      "  warnings.warn(\n"
     ]
    }
   ],
   "source": [
    "vectorizer = CountVectorizer(min_df=3, ngram_range = (1,2), stop_words = STOP_WORDS)\n",
    "X = vectorizer.fit_transform(df['clean_text'])\n",
    "X = X.tocsc() \n",
    "y = df['class']"
   ]
  },
  {
   "cell_type": "code",
   "execution_count": 60,
   "id": "97d72362",
   "metadata": {},
   "outputs": [],
   "source": [
    "X_train5, X_test5, y_train5, y_test5 = train_test_split(X, y, test_size=0.25, random_state=12)"
   ]
  },
  {
   "cell_type": "code",
   "execution_count": 61,
   "id": "590f3f3b",
   "metadata": {},
   "outputs": [
    {
     "data": {
      "text/plain": [
       "RandomForestClassifier(max_depth=841, n_estimators=28)"
      ]
     },
     "execution_count": 61,
     "metadata": {},
     "output_type": "execute_result"
    }
   ],
   "source": [
    "rfcv = RandomForestClassifier(n_estimators = 28 , max_depth = 841)\n",
    "rfcv.fit(X_train5, y_train5)"
   ]
  },
  {
   "cell_type": "code",
   "execution_count": 62,
   "id": "89f5e3c1",
   "metadata": {},
   "outputs": [],
   "source": [
    "y_train_pred_rfcv = rfcv.predict(X_train5)\n",
    "y_pred5 = rfcv.predict(X_test5)"
   ]
  },
  {
   "cell_type": "code",
   "execution_count": 63,
   "id": "dcfa817d",
   "metadata": {},
   "outputs": [
    {
     "name": "stdout",
     "output_type": "stream",
     "text": [
      "Accuracy: 0.8964542430144967\n",
      "Balanced accuracy: 0.8964657173121666\n",
      "Precision score 0.8896280206353516\n",
      "Recall score 0.9048917733973142\n",
      "F1 score 0.8971949821156577\n",
      "ROC_AUC Score 0.8964657173121666\n"
     ]
    }
   ],
   "source": [
    "from sklearn import tree, metrics\n",
    "accuracy_rfcv = metrics.accuracy_score(y_test5,y_pred5)\n",
    "balanced_accuracy_rfcv = metrics.balanced_accuracy_score(y_test5,y_pred5)\n",
    "precision_rfcv = metrics.precision_score(y_test5,y_pred5, pos_label = 1)\n",
    "recall_rfcv = metrics.recall_score(y_test5,y_pred5, pos_label = 1)\n",
    "f1_rfcv = metrics.f1_score(y_test5, y_pred5, pos_label = 1)\n",
    "roc_auc_rfcv = metrics.roc_auc_score(y_test5, y_pred5)\n",
    "print(\"Accuracy:\", accuracy_rfcv)\n",
    "print(\"Balanced accuracy:\", balanced_accuracy_rfcv)\n",
    "print('Precision score' , precision_rfcv)\n",
    "print('Recall score' , recall_rfcv)\n",
    "print('F1 score' , f1_rfcv)\n",
    "print('ROC_AUC Score' , roc_auc_rfcv)\n"
   ]
  },
  {
   "cell_type": "code",
   "execution_count": 64,
   "id": "0c7d9ead",
   "metadata": {},
   "outputs": [
    {
     "name": "stdout",
     "output_type": "stream",
     "text": [
      "True Suicide: 26212\n",
      "False Suicide: 3252\n",
      "True Non-Suicide: 25794\n",
      "False Non-Suicide: 2755\n"
     ]
    }
   ],
   "source": [
    "from sklearn.metrics import confusion_matrix\n",
    "tn_rfcv, fp_rfcv, fn_rfcv, tp_rfcv = confusion_matrix(y_test5, y_pred5).ravel()\n",
    "print(f'True Suicide: {tp_rfcv}')\n",
    "print(f'False Suicide: {fp_rfcv}')\n",
    "print(f'True Non-Suicide: {tn_rfcv}')\n",
    "print(f'False Non-Suicide: {fn_rfcv}')"
   ]
  },
  {
   "cell_type": "code",
   "execution_count": 65,
   "id": "eeeb1941",
   "metadata": {},
   "outputs": [
    {
     "data": {
      "text/html": [
       "<div>\n",
       "<style scoped>\n",
       "    .dataframe tbody tr th:only-of-type {\n",
       "        vertical-align: middle;\n",
       "    }\n",
       "\n",
       "    .dataframe tbody tr th {\n",
       "        vertical-align: top;\n",
       "    }\n",
       "\n",
       "    .dataframe thead th {\n",
       "        text-align: right;\n",
       "    }\n",
       "</style>\n",
       "<table border=\"1\" class=\"dataframe\">\n",
       "  <thead>\n",
       "    <tr style=\"text-align: right;\">\n",
       "      <th></th>\n",
       "      <th>Predicted Non-Suicide</th>\n",
       "      <th>Predicted Suicide</th>\n",
       "    </tr>\n",
       "  </thead>\n",
       "  <tbody>\n",
       "    <tr>\n",
       "      <th>Actual Non-Suicide</th>\n",
       "      <td>25794</td>\n",
       "      <td>3252</td>\n",
       "    </tr>\n",
       "    <tr>\n",
       "      <th>Actual Suicide</th>\n",
       "      <td>2755</td>\n",
       "      <td>26212</td>\n",
       "    </tr>\n",
       "  </tbody>\n",
       "</table>\n",
       "</div>"
      ],
      "text/plain": [
       "                    Predicted Non-Suicide  Predicted Suicide\n",
       "Actual Non-Suicide                  25794               3252\n",
       "Actual Suicide                       2755              26212"
      ]
     },
     "execution_count": 65,
     "metadata": {},
     "output_type": "execute_result"
    }
   ],
   "source": [
    "pd.DataFrame(confusion_matrix(y_test5, y_pred5), columns=['Predicted Non-Suicide', \"Predicted Suicide\"], index=['Actual Non-Suicide', 'Actual Suicide'])"
   ]
  },
  {
   "cell_type": "code",
   "execution_count": 66,
   "id": "ae23da07",
   "metadata": {},
   "outputs": [
    {
     "data": {
      "image/png": "[encoded data removed]",
      "text/plain": [
       "<Figure size 576x432 with 1 Axes>"
      ]
     },
     "metadata": {
      "needs_background": "light"
     },
     "output_type": "display_data"
    }
   ],
   "source": [
    "y_pred_proba5 = rfcv.predict_proba(X_test5)[::,1]\n",
    "fpr5, tpr5, _ = metrics.roc_curve(y_test5,  y_pred_proba5)\n",
    "plt.rcParams.update({'figure.figsize': (8, 6.0)})\n",
    "#create ROC curve\n",
    "plt.plot(fpr5,tpr5)\n",
    "plt.plot([0, 1], [0, 1],'r--')\n",
    "plt.title(\"ROC_AUC CURVE Random Forest with Count Vectorizer - Text Only\")\n",
    "plt.ylabel('True Positive Rate')\n",
    "plt.xlabel('False Positive Rate')\n",
    "plt.tight_layout()\n",
    "plt.savefig('ROC_AUC Curve Random Forest with Count Vectorizer TextOnly.png')"
   ]
  },
  {
   "cell_type": "markdown",
   "id": "e25101fe",
   "metadata": {},
   "source": [
    "# Step 4f:  Random Forest with Count Vectorizer - All Features"
   ]
  },
  {
   "cell_type": "code",
   "execution_count": 67,
   "id": "47bbd4f7",
   "metadata": {},
   "outputs": [
    {
     "name": "stderr",
     "output_type": "stream",
     "text": [
      "C:\\Users\\betha\\anaconda3\\lib\\site-packages\\sklearn\\feature_extraction\\text.py:396: UserWarning: Your stop_words may be inconsistent with your preprocessing. Tokenizing the stop words generated tokens ['ll', 've'] not in stop_words.\n",
      "  warnings.warn(\n",
      "C:\\Users\\betha\\AppData\\Local\\Temp\\ipykernel_15788\\2403083902.py:7: FutureWarning: Support for multi-dimensional indexing (e.g. `obj[:, None]`) is deprecated and will be removed in a future version.  Convert to a numpy array before indexing instead.\n",
      "  reading_level = scaled_features_df['flesch_kincaid'][:, None]\n",
      "C:\\Users\\betha\\AppData\\Local\\Temp\\ipykernel_15788\\2403083902.py:8: FutureWarning: Support for multi-dimensional indexing (e.g. `obj[:, None]`) is deprecated and will be removed in a future version.  Convert to a numpy array before indexing instead.\n",
      "  repetition = scaled_features_df['repetition'][:, None]\n"
     ]
    }
   ],
   "source": [
    "from scipy.sparse import hstack\n",
    "vectorizer = CountVectorizer(min_df=3, ngram_range = (1,2), stop_words = STOP_WORDS)\n",
    "text_matrix = vectorizer.fit_transform(df['clean_text'])\n",
    "text_matrix = text_matrix.tocsc() \n",
    "length = scaled_features_df['length'].values[:, None]\n",
    "sentiment = scaled_features_df['sentiment'].values[:, None]\n",
    "reading_level = scaled_features_df['flesch_kincaid'][:, None]\n",
    "repetition = scaled_features_df['repetition'][:, None]\n",
    "first = hstack((text_matrix, length))\n",
    "second = hstack((first, sentiment))\n",
    "third = hstack((second, reading_level))\n",
    "X = hstack((third, sentiment))\n",
    "\n",
    "y = df['class']"
   ]
  },
  {
   "cell_type": "code",
   "execution_count": 68,
   "id": "227717da",
   "metadata": {},
   "outputs": [],
   "source": [
    "X_train6, X_test6, y_train6, y_test6 = train_test_split(X, y, test_size=0.25, random_state=12)"
   ]
  },
  {
   "cell_type": "code",
   "execution_count": 69,
   "id": "9b9666cc",
   "metadata": {},
   "outputs": [
    {
     "name": "stderr",
     "output_type": "stream",
     "text": [
      "C:\\Users\\betha\\AppData\\Local\\Temp\\ipykernel_15788\\171635267.py:7: FutureWarning: Support for multi-dimensional indexing (e.g. `obj[:, None]`) is deprecated and will be removed in a future version.  Convert to a numpy array before indexing instead.\n",
      "  reading_level = scaled_features_df['flesch_kincaid'].head(1000)[:, None]\n",
      "C:\\Users\\betha\\AppData\\Local\\Temp\\ipykernel_15788\\171635267.py:8: FutureWarning: Support for multi-dimensional indexing (e.g. `obj[:, None]`) is deprecated and will be removed in a future version.  Convert to a numpy array before indexing instead.\n",
      "  repetition = scaled_features_df['repetition'].head(1000)[:, None]\n"
     ]
    }
   ],
   "source": [
    "from scipy.sparse import hstack\n",
    "vectorizer = CountVectorizer(min_df=3, ngram_range = (1,2), stop_words = STOP_WORDS)\n",
    "text_matrix = vectorizer.fit_transform(df['clean_text'].head(1000))\n",
    "text_matrix = text_matrix.tocsc() \n",
    "length = scaled_features_df['length'].head(1000).values[:, None]\n",
    "sentiment = scaled_features_df['sentiment'].head(1000).values[:, None]\n",
    "reading_level = scaled_features_df['flesch_kincaid'].head(1000)[:, None]\n",
    "repetition = scaled_features_df['repetition'].head(1000)[:, None]\n",
    "first = hstack((text_matrix, length))\n",
    "second = hstack((first, sentiment))\n",
    "third = hstack((second, reading_level))\n",
    "X_param = hstack((third, sentiment))\n",
    "\n",
    "y_param = df['class'].head(1000)"
   ]
  },
  {
   "cell_type": "code",
   "execution_count": 70,
   "id": "dc01e95f",
   "metadata": {},
   "outputs": [],
   "source": [
    "X_train_param, X_test_param, y_train_param, y_test_param = train_test_split(X_param, y_param, test_size=0.25, random_state=12)"
   ]
  },
  {
   "cell_type": "code",
   "execution_count": 71,
   "id": "1f965326",
   "metadata": {},
   "outputs": [
    {
     "data": {
      "text/plain": [
       "GridSearchCV(cv=5, estimator=RandomForestClassifier(random_state=1519),\n",
       "             param_grid={'max_depth': [10, 20, 30, 40, 50, 60, 70, 80, 90, 100],\n",
       "                         'n_estimators': [316, 749, 1778, 4216, 10000]})"
      ]
     },
     "execution_count": 71,
     "metadata": {},
     "output_type": "execute_result"
    }
   ],
   "source": [
    "\n",
    "n_est = [int(n) for n in np.logspace(start=2.5, stop=4, num=5)]\n",
    "depth = [int(x) for x in np.linspace(10, 100, num = 10)]\n",
    "param_grid = {'n_estimators': n_est, 'max_depth' : depth}\n",
    "rf1 = RandomForestClassifier(random_state = 1519)\n",
    "rf_cv = GridSearchCV(rf1, param_grid, cv = 5)\n",
    "rf_cv.fit(X_train_param, y_train_param)\n"
   ]
  },
  {
   "cell_type": "code",
   "execution_count": 72,
   "id": "7da298cf",
   "metadata": {},
   "outputs": [
    {
     "name": "stdout",
     "output_type": "stream",
     "text": [
      "Best Score:0.8373333333333335\n",
      "Best Parameters: {'max_depth': 40, 'n_estimators': 749}\n"
     ]
    }
   ],
   "source": [
    "print(\"Best Score:\" + str(rf_cv.best_score_))\n",
    "print(\"Best Parameters: \" + str(rf_cv.best_params_))"
   ]
  },
  {
   "cell_type": "code",
   "execution_count": 73,
   "id": "f7e4562a",
   "metadata": {},
   "outputs": [
    {
     "data": {
      "text/plain": [
       "RandomForestClassifier(max_depth=40, n_estimators=749)"
      ]
     },
     "execution_count": 73,
     "metadata": {},
     "output_type": "execute_result"
    }
   ],
   "source": [
    "rfcvi = RandomForestClassifier(n_estimators = 749 , max_depth = 40)\n",
    "rfcvi.fit(X_train6, y_train6)"
   ]
  },
  {
   "cell_type": "code",
   "execution_count": 74,
   "id": "368c7a7e",
   "metadata": {},
   "outputs": [],
   "source": [
    "y_train_pred_rfcvi = rfcvi.predict(X_train6)\n",
    "y_pred6 = rfcvi.predict(X_test6)"
   ]
  },
  {
   "cell_type": "code",
   "execution_count": 75,
   "id": "e2253275",
   "metadata": {},
   "outputs": [
    {
     "name": "stdout",
     "output_type": "stream",
     "text": [
      "Accuracy: 0.8320204092186234\n",
      "Balanced accuracy: 0.8319180116066183\n",
      "Precision score 0.8904053944268422\n",
      "Recall score 0.7567231677426036\n",
      "F1 score 0.8181394046841466\n",
      "ROC_AUC Score 0.8319180116066183\n"
     ]
    }
   ],
   "source": [
    "from sklearn import tree, metrics\n",
    "accuracy_rfcvi = metrics.accuracy_score(y_test6,y_pred6)\n",
    "balanced_accuracy_rfcvi = metrics.balanced_accuracy_score(y_test6,y_pred6)\n",
    "precision_rfcvi = metrics.precision_score(y_test6,y_pred6, pos_label = 1)\n",
    "recall_rfcvi = metrics.recall_score(y_test6,y_pred6, pos_label = 1)\n",
    "f1_rfcvi = metrics.f1_score(y_test6, y_pred6, pos_label = 1)\n",
    "roc_auc_rfcvi = metrics.roc_auc_score(y_test6, y_pred6)\n",
    "print(\"Accuracy:\", accuracy_rfcvi)\n",
    "print(\"Balanced accuracy:\", balanced_accuracy_rfcvi)\n",
    "print('Precision score' , precision_rfcvi)\n",
    "print('Recall score' , recall_rfcvi)\n",
    "print('F1 score' , f1_rfcvi)\n",
    "print('ROC_AUC Score' , roc_auc_rfcvi)\n"
   ]
  },
  {
   "cell_type": "code",
   "execution_count": 76,
   "id": "91d4b90b",
   "metadata": {},
   "outputs": [
    {
     "name": "stdout",
     "output_type": "stream",
     "text": [
      "True Suicide: 21920\n",
      "False Suicide: 2698\n",
      "True Non-Suicide: 26348\n",
      "False Non-Suicide: 7047\n"
     ]
    }
   ],
   "source": [
    "from sklearn.metrics import confusion_matrix\n",
    "tn_rfcvi, fp_rfcvi, fn_rfcvi, tp_rfcvi = confusion_matrix(y_test6, y_pred6).ravel()\n",
    "print(f'True Suicide: {tp_rfcvi}')\n",
    "print(f'False Suicide: {fp_rfcvi}')\n",
    "print(f'True Non-Suicide: {tn_rfcvi}')\n",
    "print(f'False Non-Suicide: {fn_rfcvi}')"
   ]
  },
  {
   "cell_type": "code",
   "execution_count": 77,
   "id": "ad656952",
   "metadata": {},
   "outputs": [
    {
     "data": {
      "text/html": [
       "<div>\n",
       "<style scoped>\n",
       "    .dataframe tbody tr th:only-of-type {\n",
       "        vertical-align: middle;\n",
       "    }\n",
       "\n",
       "    .dataframe tbody tr th {\n",
       "        vertical-align: top;\n",
       "    }\n",
       "\n",
       "    .dataframe thead th {\n",
       "        text-align: right;\n",
       "    }\n",
       "</style>\n",
       "<table border=\"1\" class=\"dataframe\">\n",
       "  <thead>\n",
       "    <tr style=\"text-align: right;\">\n",
       "      <th></th>\n",
       "      <th>Predicted Non-Suicide</th>\n",
       "      <th>Predicted Suicide</th>\n",
       "    </tr>\n",
       "  </thead>\n",
       "  <tbody>\n",
       "    <tr>\n",
       "      <th>Actual Non-Suicide</th>\n",
       "      <td>26348</td>\n",
       "      <td>2698</td>\n",
       "    </tr>\n",
       "    <tr>\n",
       "      <th>Actual Suicide</th>\n",
       "      <td>7047</td>\n",
       "      <td>21920</td>\n",
       "    </tr>\n",
       "  </tbody>\n",
       "</table>\n",
       "</div>"
      ],
      "text/plain": [
       "                    Predicted Non-Suicide  Predicted Suicide\n",
       "Actual Non-Suicide                  26348               2698\n",
       "Actual Suicide                       7047              21920"
      ]
     },
     "execution_count": 77,
     "metadata": {},
     "output_type": "execute_result"
    }
   ],
   "source": [
    "pd.DataFrame(confusion_matrix(y_test6, y_pred6), columns=['Predicted Non-Suicide', \"Predicted Suicide\"], index=['Actual Non-Suicide', 'Actual Suicide'])"
   ]
  },
  {
   "cell_type": "code",
   "execution_count": 78,
   "id": "32a606e4",
   "metadata": {},
   "outputs": [
    {
     "data": {
      "image/png": "[encoded data removed]",
      "text/plain": [
       "<Figure size 576x432 with 1 Axes>"
      ]
     },
     "metadata": {
      "needs_background": "light"
     },
     "output_type": "display_data"
    }
   ],
   "source": [
    "y_pred_proba6 = rfcvi.predict_proba(X_test6)[::,1]\n",
    "fpr6, tpr6, _ = metrics.roc_curve(y_test6,  y_pred_proba6)\n",
    "plt.rcParams.update({'figure.figsize': (8, 6.0)})\n",
    "#create ROC curve\n",
    "plt.plot(fpr6,tpr6)\n",
    "plt.plot([0, 1], [0, 1],'r--')\n",
    "plt.title(\"ROC_AUC CURVE Random Forest with Count Vectorizer - All Features\")\n",
    "plt.ylabel('True Positive Rate')\n",
    "plt.xlabel('False Positive Rate')\n",
    "plt.tight_layout()\n",
    "plt.savefig('ROC_AUC Curve Random Forest with Count Vectorizer All Features.png')"
   ]
  },
  {
   "cell_type": "code",
   "execution_count": null,
   "id": "209d76f1",
   "metadata": {},
   "outputs": [],
   "source": []
  },
  {
   "cell_type": "markdown",
   "id": "528477c1",
   "metadata": {},
   "source": [
    "# Step 4g:  Random Forest with TF-IDF - Text Only"
   ]
  },
  {
   "cell_type": "code",
   "execution_count": 79,
   "id": "f7c456b7",
   "metadata": {},
   "outputs": [
    {
     "name": "stderr",
     "output_type": "stream",
     "text": [
      "C:\\Users\\betha\\anaconda3\\lib\\site-packages\\sklearn\\feature_extraction\\text.py:396: UserWarning: Your stop_words may be inconsistent with your preprocessing. Tokenizing the stop words generated tokens ['ll', 've'] not in stop_words.\n",
      "  warnings.warn(\n"
     ]
    }
   ],
   "source": [
    "from sklearn.feature_extraction.text import TfidfVectorizer\n",
    "vectorizor_tfid = TfidfVectorizer(min_df=3, ngram_range = (1,2), stop_words = STOP_WORDS)\n",
    "X_tfid1 = vectorizor_tfid.fit_transform(df['text'])\n",
    "X_tfid1 = X_tfid1.tocsc() \n",
    "y_tfid1 = df['class']"
   ]
  },
  {
   "cell_type": "code",
   "execution_count": 80,
   "id": "1963e581",
   "metadata": {},
   "outputs": [],
   "source": [
    "X_train7, X_test7, y_train7, y_test7 = train_test_split(X_tfid1, y_tfid1, test_size=0.25, random_state=12)"
   ]
  },
  {
   "cell_type": "code",
   "execution_count": 81,
   "id": "e2809cc6",
   "metadata": {},
   "outputs": [],
   "source": [
    "from sklearn.feature_extraction.text import TfidfVectorizer\n",
    "vectorizor_tfid = TfidfVectorizer(min_df=3, ngram_range = (1,2), stop_words = STOP_WORDS)\n",
    "X_params = vectorizor_tfid.fit_transform(df['text'].head(1000))\n",
    "X_params = X_params.tocsc() \n",
    "y_params = df['class'].head(1000)"
   ]
  },
  {
   "cell_type": "code",
   "execution_count": 82,
   "id": "14e59f0a",
   "metadata": {},
   "outputs": [],
   "source": [
    "X_train_params7, X_test_params7, y_train_params7, y_test_params7 = train_test_split(X_params, y_params, test_size=0.25, random_state=12)"
   ]
  },
  {
   "cell_type": "code",
   "execution_count": 83,
   "id": "7497b5b1",
   "metadata": {},
   "outputs": [
    {
     "data": {
      "text/plain": [
       "GridSearchCV(cv=5, estimator=RandomForestClassifier(random_state=1519),\n",
       "             param_grid={'max_depth': [20, 40, 60, 80, 100],\n",
       "                         'n_estimators': [31, 56, 100, 177, 316]})"
      ]
     },
     "execution_count": 83,
     "metadata": {},
     "output_type": "execute_result"
    }
   ],
   "source": [
    "\n",
    "n_est = [int(n) for n in np.logspace(start=1.5, stop=2.5, num=5)]\n",
    "depth = [int(x) for x in np.linspace(20, 100, num = 5)]\n",
    "param_grid = {'n_estimators': n_est, 'max_depth' : depth}\n",
    "rf1 = RandomForestClassifier(random_state = 1519)\n",
    "rf_cv = GridSearchCV(rf1, param_grid, cv = 5)\n",
    "rf_cv.fit(X_train_params7, y_train_params7)\n"
   ]
  },
  {
   "cell_type": "code",
   "execution_count": 84,
   "id": "1774c169",
   "metadata": {},
   "outputs": [
    {
     "name": "stdout",
     "output_type": "stream",
     "text": [
      "Best Score:0.852\n",
      "Best Parameters: {'max_depth': 40, 'n_estimators': 100}\n"
     ]
    }
   ],
   "source": [
    "print(\"Best Score:\" + str(rf_cv.best_score_))\n",
    "print(\"Best Parameters: \" + str(rf_cv.best_params_))"
   ]
  },
  {
   "cell_type": "code",
   "execution_count": 85,
   "id": "1a48733c",
   "metadata": {},
   "outputs": [
    {
     "data": {
      "text/plain": [
       "RandomForestClassifier(max_depth=40)"
      ]
     },
     "execution_count": 85,
     "metadata": {},
     "output_type": "execute_result"
    }
   ],
   "source": [
    "rf_tfidf = RandomForestClassifier(max_depth = 40 , n_estimators = 100)\n",
    "rf_tfidf.fit(X_train7, y_train7)\n"
   ]
  },
  {
   "cell_type": "code",
   "execution_count": 86,
   "id": "103bb89c",
   "metadata": {},
   "outputs": [],
   "source": [
    "y_train_pred7 = rf_tfidf.predict(X_train7)\n",
    "y_pred7 = rf_tfidf.predict(X_test7)"
   ]
  },
  {
   "cell_type": "code",
   "execution_count": 87,
   "id": "9bf23193",
   "metadata": {},
   "outputs": [
    {
     "name": "stdout",
     "output_type": "stream",
     "text": [
      "Accuracy: 0.8372261389688518\n",
      "Balanced accuracy: 0.8371224834431295\n",
      "Precision score 0.8974108451392281\n",
      "Recall score 0.7610039009907826\n",
      "F1 score 0.8235975416114028\n",
      "ROC_AUC Score 0.8371224834431293\n"
     ]
    }
   ],
   "source": [
    "from sklearn import tree, metrics\n",
    "\n",
    "accuracy_rf_tfidf = metrics.accuracy_score(y_test7,y_pred7)\n",
    "balanced_accuracy_rf_tfidf = metrics.balanced_accuracy_score(y_test7,y_pred7)\n",
    "precision_rf_tfidf = metrics.precision_score(y_test7,y_pred7, pos_label = 1)\n",
    "recall_rf_tfidf = metrics.recall_score(y_test7,y_pred7, pos_label = 1)\n",
    "f1_rf_tfidf = metrics.f1_score(y_test7, y_pred7, pos_label = 1)\n",
    "roc_auc_rf_tfidf = metrics.roc_auc_score(y_test7, y_pred7)\n",
    "print(\"Accuracy:\", accuracy_rf_tfidf)\n",
    "print(\"Balanced accuracy:\", balanced_accuracy_rf_tfidf)\n",
    "print('Precision score' , precision_rf_tfidf)\n",
    "print('Recall score' , recall_rf_tfidf)\n",
    "print('F1 score' , f1_rf_tfidf)\n",
    "print('ROC_AUC Score' , roc_auc_rf_tfidf)\n",
    "\n"
   ]
  },
  {
   "cell_type": "code",
   "execution_count": 88,
   "id": "2b432992",
   "metadata": {},
   "outputs": [
    {
     "name": "stdout",
     "output_type": "stream",
     "text": [
      "True Suicide: 22044\n",
      "False Suicide: 2520\n",
      "True Non-Suicide: 26526\n",
      "False Non-Suicide: 6923\n"
     ]
    }
   ],
   "source": [
    "from sklearn.metrics import confusion_matrix\n",
    "tn_rf_tfid, fp_rf_tfid, fn_rf_tfid, tp_rf_tfid = confusion_matrix(y_test7, y_pred7).ravel()\n",
    "print(f'True Suicide: {tp_rf_tfid}')\n",
    "print(f'False Suicide: {fp_rf_tfid}')\n",
    "print(f'True Non-Suicide: {tn_rf_tfid}')\n",
    "print(f'False Non-Suicide: {fn_rf_tfid}')"
   ]
  },
  {
   "cell_type": "code",
   "execution_count": 89,
   "id": "46815406",
   "metadata": {},
   "outputs": [
    {
     "data": {
      "text/html": [
       "<div>\n",
       "<style scoped>\n",
       "    .dataframe tbody tr th:only-of-type {\n",
       "        vertical-align: middle;\n",
       "    }\n",
       "\n",
       "    .dataframe tbody tr th {\n",
       "        vertical-align: top;\n",
       "    }\n",
       "\n",
       "    .dataframe thead th {\n",
       "        text-align: right;\n",
       "    }\n",
       "</style>\n",
       "<table border=\"1\" class=\"dataframe\">\n",
       "  <thead>\n",
       "    <tr style=\"text-align: right;\">\n",
       "      <th></th>\n",
       "      <th>Predicted Non-Suicide</th>\n",
       "      <th>Predicted Suicide</th>\n",
       "    </tr>\n",
       "  </thead>\n",
       "  <tbody>\n",
       "    <tr>\n",
       "      <th>Actual Non-Suicide</th>\n",
       "      <td>26526</td>\n",
       "      <td>2520</td>\n",
       "    </tr>\n",
       "    <tr>\n",
       "      <th>Actual Suicide</th>\n",
       "      <td>6923</td>\n",
       "      <td>22044</td>\n",
       "    </tr>\n",
       "  </tbody>\n",
       "</table>\n",
       "</div>"
      ],
      "text/plain": [
       "                    Predicted Non-Suicide  Predicted Suicide\n",
       "Actual Non-Suicide                  26526               2520\n",
       "Actual Suicide                       6923              22044"
      ]
     },
     "execution_count": 89,
     "metadata": {},
     "output_type": "execute_result"
    }
   ],
   "source": [
    "pd.DataFrame(confusion_matrix(y_test7, y_pred7), columns=['Predicted Non-Suicide', \"Predicted Suicide\"], index=['Actual Non-Suicide', 'Actual Suicide'])"
   ]
  },
  {
   "cell_type": "code",
   "execution_count": 90,
   "id": "0275c94b",
   "metadata": {},
   "outputs": [
    {
     "data": {
      "image/png": "[encoded data removed]",
      "text/plain": [
       "<Figure size 576x432 with 1 Axes>"
      ]
     },
     "metadata": {
      "needs_background": "light"
     },
     "output_type": "display_data"
    }
   ],
   "source": [
    "y_pred_proba7 = rf_tfidf.predict_proba(X_test7)[::,1]\n",
    "fpr7, tpr7, _ = metrics.roc_curve(y_test7,  y_pred_proba7)\n",
    "plt.rcParams.update({'figure.figsize': (8, 6.0)})\n",
    "#create ROC curve\n",
    "plt.plot(fpr7,tpr7)\n",
    "plt.plot([0, 1], [0, 1],'r--')\n",
    "plt.title(\"ROC_AUC CURVE Random Forest with TF-IDF Vectorizer - Text Only\")\n",
    "plt.ylabel('True Positive Rate')\n",
    "plt.xlabel('False Positive Rate')\n",
    "plt.tight_layout()\n",
    "plt.savefig('ROC_AUC Curve Random Forest with TF-IDF_text_only.png')"
   ]
  },
  {
   "cell_type": "markdown",
   "id": "72cc602e",
   "metadata": {},
   "source": [
    "# Step 4h:  Random Forest with TF-IDF - All Features"
   ]
  },
  {
   "cell_type": "code",
   "execution_count": 91,
   "id": "f3fd3aae",
   "metadata": {},
   "outputs": [
    {
     "name": "stderr",
     "output_type": "stream",
     "text": [
      "C:\\Users\\betha\\anaconda3\\lib\\site-packages\\sklearn\\feature_extraction\\text.py:396: UserWarning: Your stop_words may be inconsistent with your preprocessing. Tokenizing the stop words generated tokens ['ll', 've'] not in stop_words.\n",
      "  warnings.warn(\n",
      "C:\\Users\\betha\\AppData\\Local\\Temp\\ipykernel_15788\\2780035948.py:7: FutureWarning: Support for multi-dimensional indexing (e.g. `obj[:, None]`) is deprecated and will be removed in a future version.  Convert to a numpy array before indexing instead.\n",
      "  reading_level = scaled_features_df['flesch_kincaid'][:, None]\n",
      "C:\\Users\\betha\\AppData\\Local\\Temp\\ipykernel_15788\\2780035948.py:8: FutureWarning: Support for multi-dimensional indexing (e.g. `obj[:, None]`) is deprecated and will be removed in a future version.  Convert to a numpy array before indexing instead.\n",
      "  repetition = scaled_features_df['repetition'][:, None]\n"
     ]
    }
   ],
   "source": [
    "from sklearn.feature_extraction.text import TfidfVectorizer\n",
    "vectorizor_tfid = TfidfVectorizer(min_df=3, ngram_range = (1,2), stop_words = STOP_WORDS)\n",
    "text_matrix8 = vectorizor_tfid.fit_transform(df['text'])\n",
    "text_matrix8 = text_matrix8.tocsc() \n",
    "length = scaled_features_df['length'].values[:, None]\n",
    "sentiment = scaled_features_df['sentiment'].values[:, None]\n",
    "reading_level = scaled_features_df['flesch_kincaid'][:, None]\n",
    "repetition = scaled_features_df['repetition'][:, None]\n",
    "first = hstack((text_matrix8, length))\n",
    "second = hstack((first, sentiment))\n",
    "third = hstack((second, reading_level))\n",
    "X_tfid8 = hstack((third, sentiment))\n",
    "\n",
    "y_tfid8 = df['class']"
   ]
  },
  {
   "cell_type": "code",
   "execution_count": 92,
   "id": "fefb4d3f",
   "metadata": {},
   "outputs": [],
   "source": [
    "X_train8, X_test8, y_train8, y_test8 = train_test_split(X_tfid8, y_tfid8, test_size=0.25, random_state=12)"
   ]
  },
  {
   "cell_type": "code",
   "execution_count": 93,
   "id": "931081fd",
   "metadata": {},
   "outputs": [
    {
     "name": "stderr",
     "output_type": "stream",
     "text": [
      "C:\\Users\\betha\\AppData\\Local\\Temp\\ipykernel_15788\\1331152607.py:7: FutureWarning: Support for multi-dimensional indexing (e.g. `obj[:, None]`) is deprecated and will be removed in a future version.  Convert to a numpy array before indexing instead.\n",
      "  reading_level = scaled_features_df['flesch_kincaid'].head(1000)[:, None]\n",
      "C:\\Users\\betha\\AppData\\Local\\Temp\\ipykernel_15788\\1331152607.py:8: FutureWarning: Support for multi-dimensional indexing (e.g. `obj[:, None]`) is deprecated and will be removed in a future version.  Convert to a numpy array before indexing instead.\n",
      "  repetition = scaled_features_df['repetition'].head(1000)[:, None]\n"
     ]
    }
   ],
   "source": [
    "from sklearn.feature_extraction.text import TfidfVectorizer\n",
    "vectorizor_tfid = TfidfVectorizer(min_df=3, ngram_range = (1,2), stop_words = STOP_WORDS)\n",
    "text_matrix8 = vectorizor_tfid.fit_transform(df['text'].head(1000))\n",
    "text_matrix8 = text_matrix8.tocsc() \n",
    "length = scaled_features_df['length'].head(1000).values[:, None]\n",
    "sentiment = scaled_features_df['sentiment'].head(1000).values[:, None]\n",
    "reading_level = scaled_features_df['flesch_kincaid'].head(1000)[:, None]\n",
    "repetition = scaled_features_df['repetition'].head(1000)[:, None]\n",
    "first = hstack((text_matrix8, length))\n",
    "second = hstack((first, sentiment))\n",
    "third = hstack((second, reading_level))\n",
    "X_param8 = hstack((third, sentiment))\n",
    "\n",
    "y_param8 = df['class'].head(1000)\n"
   ]
  },
  {
   "cell_type": "code",
   "execution_count": 94,
   "id": "c4cdfdb2",
   "metadata": {},
   "outputs": [],
   "source": [
    "X_train_param8, X_test_param8, y_train_param8, y_test_param8 = train_test_split(X_param8, y_param8, test_size=0.25, random_state=12)"
   ]
  },
  {
   "cell_type": "code",
   "execution_count": 95,
   "id": "3935d1f0",
   "metadata": {},
   "outputs": [
    {
     "data": {
      "text/plain": [
       "[39, 199, 1000, 5011, 25118]"
      ]
     },
     "execution_count": 95,
     "metadata": {},
     "output_type": "execute_result"
    }
   ],
   "source": [
    "n_est = [int(n) for n in np.logspace(start=1.6, stop=4.4, num=5)]\n",
    "n_est"
   ]
  },
  {
   "cell_type": "code",
   "execution_count": 96,
   "id": "22500ef9",
   "metadata": {},
   "outputs": [
    {
     "data": {
      "text/plain": [
       "GridSearchCV(cv=5, estimator=RandomForestClassifier(random_state=1519),\n",
       "             param_grid={'max_depth': [10, 28, 46, 64, 82, 100],\n",
       "                         'n_estimators': [39, 199, 1000, 5011, 25118]})"
      ]
     },
     "execution_count": 96,
     "metadata": {},
     "output_type": "execute_result"
    }
   ],
   "source": [
    "\n",
    "n_est = [int(n) for n in np.logspace(start=1.6, stop=4.4, num=5)]\n",
    "depth = [int(x) for x in np.linspace(10, 100, num = 6)]\n",
    "param_grid = {'n_estimators': n_est, 'max_depth' : depth}\n",
    "rf1 = RandomForestClassifier(random_state = 1519)\n",
    "rf_cv = GridSearchCV(rf1, param_grid, cv = 5)\n",
    "rf_cv.fit(X_train_param8, y_train_param8)\n"
   ]
  },
  {
   "cell_type": "code",
   "execution_count": 97,
   "id": "706681f9",
   "metadata": {},
   "outputs": [
    {
     "name": "stdout",
     "output_type": "stream",
     "text": [
      "Best Score:0.8466666666666667\n",
      "Best Parameters: {'max_depth': 28, 'n_estimators': 5011}\n"
     ]
    }
   ],
   "source": [
    "\n",
    "print(\"Best Score:\" + str(rf_cv.best_score_))\n",
    "print(\"Best Parameters: \" + str(rf_cv.best_params_))\n"
   ]
  },
  {
   "cell_type": "code",
   "execution_count": 98,
   "id": "8a64094e",
   "metadata": {},
   "outputs": [
    {
     "data": {
      "text/plain": [
       "RandomForestClassifier(max_depth=28, n_estimators=5011)"
      ]
     },
     "execution_count": 98,
     "metadata": {},
     "output_type": "execute_result"
    }
   ],
   "source": [
    "rf_tfidfi = RandomForestClassifier(max_depth = 28, n_estimators = 5011)\n",
    "rf_tfidfi.fit(X_train8, y_train8)"
   ]
  },
  {
   "cell_type": "code",
   "execution_count": 99,
   "id": "2c8c65d0",
   "metadata": {},
   "outputs": [],
   "source": [
    "y_train_pred8 = rf_tfidfi.predict(X_train8)\n",
    "y_pred8 = rf_tfidfi.predict(X_test8)"
   ]
  },
  {
   "cell_type": "code",
   "execution_count": 100,
   "id": "4a315107",
   "metadata": {},
   "outputs": [
    {
     "name": "stdout",
     "output_type": "stream",
     "text": [
      "Accuracy: 0.8212469618878527\n",
      "Balanced accuracy: 0.8211224088177078\n",
      "Precision score 0.8927560718057023\n",
      "Recall score 0.729657886560569\n",
      "F1 score 0.8030090042171651\n",
      "ROC_AUC Score 0.8211224088177079\n"
     ]
    }
   ],
   "source": [
    "\n",
    "accuracy_rf_tfidfi = metrics.accuracy_score(y_test8,y_pred8)\n",
    "balanced_accuracy_rf_tfidfi = metrics.balanced_accuracy_score(y_test8,y_pred8)\n",
    "precision_rf_tfidfi = metrics.precision_score(y_test8,y_pred8, pos_label = 1)\n",
    "recall_rf_tfidfi = metrics.recall_score(y_test8,y_pred8, pos_label = 1)\n",
    "f1_rf_tfidfi = metrics.f1_score(y_test8, y_pred8, pos_label = 1)\n",
    "roc_auc_rf_tfidfi = metrics.roc_auc_score(y_test8, y_pred8)\n",
    "print(\"Accuracy:\", accuracy_rf_tfidfi)\n",
    "print(\"Balanced accuracy:\", balanced_accuracy_rf_tfidfi)\n",
    "print('Precision score' , precision_rf_tfidfi)\n",
    "print('Recall score' , recall_rf_tfidfi)\n",
    "print('F1 score' , f1_rf_tfidfi)\n",
    "print('ROC_AUC Score' , roc_auc_rf_tfidfi)\n"
   ]
  },
  {
   "cell_type": "code",
   "execution_count": 101,
   "id": "690555d7",
   "metadata": {},
   "outputs": [
    {
     "name": "stdout",
     "output_type": "stream",
     "text": [
      "True Suicide: 21136\n",
      "False Suicide: 2539\n",
      "True Non-Suicide: 26507\n",
      "False Non-Suicide: 7831\n"
     ]
    }
   ],
   "source": [
    "from sklearn.metrics import confusion_matrix\n",
    "tn_rf_tfidi, fp_rf_tfidi, fn_rf_tfidi, tp_rf_tfidi = confusion_matrix(y_test8, y_pred8).ravel()\n",
    "print(f'True Suicide: {tp_rf_tfidi}')\n",
    "print(f'False Suicide: {fp_rf_tfidi}')\n",
    "print(f'True Non-Suicide: {tn_rf_tfidi}')\n",
    "print(f'False Non-Suicide: {fn_rf_tfidi}')"
   ]
  },
  {
   "cell_type": "code",
   "execution_count": 102,
   "id": "ff2ced81",
   "metadata": {},
   "outputs": [
    {
     "data": {
      "text/html": [
       "<div>\n",
       "<style scoped>\n",
       "    .dataframe tbody tr th:only-of-type {\n",
       "        vertical-align: middle;\n",
       "    }\n",
       "\n",
       "    .dataframe tbody tr th {\n",
       "        vertical-align: top;\n",
       "    }\n",
       "\n",
       "    .dataframe thead th {\n",
       "        text-align: right;\n",
       "    }\n",
       "</style>\n",
       "<table border=\"1\" class=\"dataframe\">\n",
       "  <thead>\n",
       "    <tr style=\"text-align: right;\">\n",
       "      <th></th>\n",
       "      <th>Predicted Non-Suicide</th>\n",
       "      <th>Predicted Suicide</th>\n",
       "    </tr>\n",
       "  </thead>\n",
       "  <tbody>\n",
       "    <tr>\n",
       "      <th>Actual Non-Suicide</th>\n",
       "      <td>26507</td>\n",
       "      <td>2539</td>\n",
       "    </tr>\n",
       "    <tr>\n",
       "      <th>Actual Suicide</th>\n",
       "      <td>7831</td>\n",
       "      <td>21136</td>\n",
       "    </tr>\n",
       "  </tbody>\n",
       "</table>\n",
       "</div>"
      ],
      "text/plain": [
       "                    Predicted Non-Suicide  Predicted Suicide\n",
       "Actual Non-Suicide                  26507               2539\n",
       "Actual Suicide                       7831              21136"
      ]
     },
     "execution_count": 102,
     "metadata": {},
     "output_type": "execute_result"
    }
   ],
   "source": [
    "pd.DataFrame(confusion_matrix(y_test8, y_pred8), columns=['Predicted Non-Suicide', \"Predicted Suicide\"], index=['Actual Non-Suicide', 'Actual Suicide'])"
   ]
  },
  {
   "cell_type": "code",
   "execution_count": 103,
   "id": "2ce134fc",
   "metadata": {},
   "outputs": [
    {
     "data": {
      "image/png": "[encoded data removed]",
      "text/plain": [
       "<Figure size 576x432 with 1 Axes>"
      ]
     },
     "metadata": {
      "needs_background": "light"
     },
     "output_type": "display_data"
    }
   ],
   "source": [
    "y_pred_proba8 = rf_tfidfi.predict_proba(X_test8)[::,1]\n",
    "fpr8, tpr8, _ = metrics.roc_curve(y_test8,  y_pred_proba8)\n",
    "plt.rcParams.update({'figure.figsize': (8, 6.0)})\n",
    "#create ROC curve\n",
    "plt.plot(fpr8,tpr8)\n",
    "plt.plot([0, 1], [0, 1],'r--')\n",
    "plt.title(\"ROC_AUC CURVE Random Forest with TF-IDF Vectorizer All Features\")\n",
    "plt.ylabel('True Positive Rate')\n",
    "plt.xlabel('False Positive Rate')\n",
    "plt.tight_layout()\n",
    "plt.savefig('ROC_AUC Curve Random Forest with TF-IDF.ALL_Features.png')"
   ]
  },
  {
   "cell_type": "markdown",
   "id": "34bb8c5f",
   "metadata": {},
   "source": [
    "# Step 4i:  Logistic Regression with Count Vectorizer - Text Only"
   ]
  },
  {
   "cell_type": "code",
   "execution_count": 104,
   "id": "0ea0582a",
   "metadata": {},
   "outputs": [
    {
     "name": "stderr",
     "output_type": "stream",
     "text": [
      "C:\\Users\\betha\\anaconda3\\lib\\site-packages\\sklearn\\feature_extraction\\text.py:396: UserWarning: Your stop_words may be inconsistent with your preprocessing. Tokenizing the stop words generated tokens ['ll', 've'] not in stop_words.\n",
      "  warnings.warn(\n"
     ]
    }
   ],
   "source": [
    "vectorizer = CountVectorizer(min_df=3, ngram_range = (1,2), stop_words = STOP_WORDS)\n",
    "X = vectorizer.fit_transform(df['clean_text'])\n",
    "X = X.tocsc() \n",
    "y = df['class']"
   ]
  },
  {
   "cell_type": "code",
   "execution_count": 105,
   "id": "6c50986e",
   "metadata": {},
   "outputs": [],
   "source": [
    "X_train9, X_test9, y_train9, y_test9 = train_test_split(X, y, test_size=0.25, random_state=12)"
   ]
  },
  {
   "cell_type": "code",
   "execution_count": 106,
   "id": "7d919c19",
   "metadata": {},
   "outputs": [
    {
     "name": "stderr",
     "output_type": "stream",
     "text": [
      "C:\\Users\\betha\\anaconda3\\lib\\site-packages\\sklearn\\linear_model\\_logistic.py:814: ConvergenceWarning: lbfgs failed to converge (status=1):\n",
      "STOP: TOTAL NO. of ITERATIONS REACHED LIMIT.\n",
      "\n",
      "Increase the number of iterations (max_iter) or scale the data as shown in:\n",
      "    https://scikit-learn.org/stable/modules/preprocessing.html\n",
      "Please also refer to the documentation for alternative solver options:\n",
      "    https://scikit-learn.org/stable/modules/linear_model.html#logistic-regression\n",
      "  n_iter_i = _check_optimize_result(\n"
     ]
    },
    {
     "data": {
      "text/plain": [
       "LogisticRegression()"
      ]
     },
     "execution_count": 106,
     "metadata": {},
     "output_type": "execute_result"
    }
   ],
   "source": [
    "from sklearn.linear_model import LogisticRegression\n",
    "lr = LogisticRegression()\n",
    "lr.fit(X_train9, y_train9)"
   ]
  },
  {
   "cell_type": "code",
   "execution_count": 107,
   "id": "f869cfc6",
   "metadata": {},
   "outputs": [
    {
     "name": "stderr",
     "output_type": "stream",
     "text": [
      "C:\\Users\\betha\\anaconda3\\lib\\site-packages\\sklearn\\linear_model\\_logistic.py:814: ConvergenceWarning: lbfgs failed to converge (status=1):\n",
      "STOP: TOTAL NO. of ITERATIONS REACHED LIMIT.\n",
      "\n",
      "Increase the number of iterations (max_iter) or scale the data as shown in:\n",
      "    https://scikit-learn.org/stable/modules/preprocessing.html\n",
      "Please also refer to the documentation for alternative solver options:\n",
      "    https://scikit-learn.org/stable/modules/linear_model.html#logistic-regression\n",
      "  n_iter_i = _check_optimize_result(\n",
      "C:\\Users\\betha\\anaconda3\\lib\\site-packages\\sklearn\\linear_model\\_logistic.py:814: ConvergenceWarning: lbfgs failed to converge (status=1):\n",
      "STOP: TOTAL NO. of ITERATIONS REACHED LIMIT.\n",
      "\n",
      "Increase the number of iterations (max_iter) or scale the data as shown in:\n",
      "    https://scikit-learn.org/stable/modules/preprocessing.html\n",
      "Please also refer to the documentation for alternative solver options:\n",
      "    https://scikit-learn.org/stable/modules/linear_model.html#logistic-regression\n",
      "  n_iter_i = _check_optimize_result(\n",
      "C:\\Users\\betha\\anaconda3\\lib\\site-packages\\sklearn\\linear_model\\_logistic.py:814: ConvergenceWarning: lbfgs failed to converge (status=1):\n",
      "STOP: TOTAL NO. of ITERATIONS REACHED LIMIT.\n",
      "\n",
      "Increase the number of iterations (max_iter) or scale the data as shown in:\n",
      "    https://scikit-learn.org/stable/modules/preprocessing.html\n",
      "Please also refer to the documentation for alternative solver options:\n",
      "    https://scikit-learn.org/stable/modules/linear_model.html#logistic-regression\n",
      "  n_iter_i = _check_optimize_result(\n",
      "C:\\Users\\betha\\anaconda3\\lib\\site-packages\\sklearn\\linear_model\\_logistic.py:814: ConvergenceWarning: lbfgs failed to converge (status=1):\n",
      "STOP: TOTAL NO. of ITERATIONS REACHED LIMIT.\n",
      "\n",
      "Increase the number of iterations (max_iter) or scale the data as shown in:\n",
      "    https://scikit-learn.org/stable/modules/preprocessing.html\n",
      "Please also refer to the documentation for alternative solver options:\n",
      "    https://scikit-learn.org/stable/modules/linear_model.html#logistic-regression\n",
      "  n_iter_i = _check_optimize_result(\n",
      "C:\\Users\\betha\\anaconda3\\lib\\site-packages\\sklearn\\linear_model\\_logistic.py:814: ConvergenceWarning: lbfgs failed to converge (status=1):\n",
      "STOP: TOTAL NO. of ITERATIONS REACHED LIMIT.\n",
      "\n",
      "Increase the number of iterations (max_iter) or scale the data as shown in:\n",
      "    https://scikit-learn.org/stable/modules/preprocessing.html\n",
      "Please also refer to the documentation for alternative solver options:\n",
      "    https://scikit-learn.org/stable/modules/linear_model.html#logistic-regression\n",
      "  n_iter_i = _check_optimize_result(\n",
      "C:\\Users\\betha\\anaconda3\\lib\\site-packages\\sklearn\\linear_model\\_logistic.py:814: ConvergenceWarning: lbfgs failed to converge (status=1):\n",
      "STOP: TOTAL NO. of ITERATIONS REACHED LIMIT.\n",
      "\n",
      "Increase the number of iterations (max_iter) or scale the data as shown in:\n",
      "    https://scikit-learn.org/stable/modules/preprocessing.html\n",
      "Please also refer to the documentation for alternative solver options:\n",
      "    https://scikit-learn.org/stable/modules/linear_model.html#logistic-regression\n",
      "  n_iter_i = _check_optimize_result(\n",
      "C:\\Users\\betha\\anaconda3\\lib\\site-packages\\sklearn\\linear_model\\_logistic.py:814: ConvergenceWarning: lbfgs failed to converge (status=1):\n",
      "STOP: TOTAL NO. of ITERATIONS REACHED LIMIT.\n",
      "\n",
      "Increase the number of iterations (max_iter) or scale the data as shown in:\n",
      "    https://scikit-learn.org/stable/modules/preprocessing.html\n",
      "Please also refer to the documentation for alternative solver options:\n",
      "    https://scikit-learn.org/stable/modules/linear_model.html#logistic-regression\n",
      "  n_iter_i = _check_optimize_result(\n",
      "C:\\Users\\betha\\anaconda3\\lib\\site-packages\\sklearn\\linear_model\\_logistic.py:814: ConvergenceWarning: lbfgs failed to converge (status=1):\n",
      "STOP: TOTAL NO. of ITERATIONS REACHED LIMIT.\n",
      "\n",
      "Increase the number of iterations (max_iter) or scale the data as shown in:\n",
      "    https://scikit-learn.org/stable/modules/preprocessing.html\n",
      "Please also refer to the documentation for alternative solver options:\n",
      "    https://scikit-learn.org/stable/modules/linear_model.html#logistic-regression\n",
      "  n_iter_i = _check_optimize_result(\n",
      "C:\\Users\\betha\\anaconda3\\lib\\site-packages\\sklearn\\linear_model\\_logistic.py:814: ConvergenceWarning: lbfgs failed to converge (status=1):\n",
      "STOP: TOTAL NO. of ITERATIONS REACHED LIMIT.\n",
      "\n",
      "Increase the number of iterations (max_iter) or scale the data as shown in:\n",
      "    https://scikit-learn.org/stable/modules/preprocessing.html\n",
      "Please also refer to the documentation for alternative solver options:\n",
      "    https://scikit-learn.org/stable/modules/linear_model.html#logistic-regression\n",
      "  n_iter_i = _check_optimize_result(\n",
      "C:\\Users\\betha\\anaconda3\\lib\\site-packages\\sklearn\\linear_model\\_logistic.py:814: ConvergenceWarning: lbfgs failed to converge (status=1):\n",
      "STOP: TOTAL NO. of ITERATIONS REACHED LIMIT.\n",
      "\n",
      "Increase the number of iterations (max_iter) or scale the data as shown in:\n",
      "    https://scikit-learn.org/stable/modules/preprocessing.html\n",
      "Please also refer to the documentation for alternative solver options:\n",
      "    https://scikit-learn.org/stable/modules/linear_model.html#logistic-regression\n",
      "  n_iter_i = _check_optimize_result(\n",
      "C:\\Users\\betha\\anaconda3\\lib\\site-packages\\sklearn\\linear_model\\_logistic.py:814: ConvergenceWarning: lbfgs failed to converge (status=1):\n",
      "STOP: TOTAL NO. of ITERATIONS REACHED LIMIT.\n",
      "\n",
      "Increase the number of iterations (max_iter) or scale the data as shown in:\n",
      "    https://scikit-learn.org/stable/modules/preprocessing.html\n",
      "Please also refer to the documentation for alternative solver options:\n",
      "    https://scikit-learn.org/stable/modules/linear_model.html#logistic-regression\n",
      "  n_iter_i = _check_optimize_result(\n",
      "C:\\Users\\betha\\anaconda3\\lib\\site-packages\\sklearn\\linear_model\\_logistic.py:814: ConvergenceWarning: lbfgs failed to converge (status=1):\n",
      "STOP: TOTAL NO. of ITERATIONS REACHED LIMIT.\n",
      "\n",
      "Increase the number of iterations (max_iter) or scale the data as shown in:\n",
      "    https://scikit-learn.org/stable/modules/preprocessing.html\n",
      "Please also refer to the documentation for alternative solver options:\n",
      "    https://scikit-learn.org/stable/modules/linear_model.html#logistic-regression\n",
      "  n_iter_i = _check_optimize_result(\n",
      "C:\\Users\\betha\\anaconda3\\lib\\site-packages\\sklearn\\linear_model\\_logistic.py:814: ConvergenceWarning: lbfgs failed to converge (status=1):\n",
      "STOP: TOTAL NO. of ITERATIONS REACHED LIMIT.\n",
      "\n",
      "Increase the number of iterations (max_iter) or scale the data as shown in:\n",
      "    https://scikit-learn.org/stable/modules/preprocessing.html\n",
      "Please also refer to the documentation for alternative solver options:\n",
      "    https://scikit-learn.org/stable/modules/linear_model.html#logistic-regression\n",
      "  n_iter_i = _check_optimize_result(\n",
      "C:\\Users\\betha\\anaconda3\\lib\\site-packages\\sklearn\\linear_model\\_logistic.py:814: ConvergenceWarning: lbfgs failed to converge (status=1):\n",
      "STOP: TOTAL NO. of ITERATIONS REACHED LIMIT.\n",
      "\n",
      "Increase the number of iterations (max_iter) or scale the data as shown in:\n",
      "    https://scikit-learn.org/stable/modules/preprocessing.html\n",
      "Please also refer to the documentation for alternative solver options:\n",
      "    https://scikit-learn.org/stable/modules/linear_model.html#logistic-regression\n",
      "  n_iter_i = _check_optimize_result(\n",
      "C:\\Users\\betha\\anaconda3\\lib\\site-packages\\sklearn\\linear_model\\_logistic.py:814: ConvergenceWarning: lbfgs failed to converge (status=1):\n",
      "STOP: TOTAL NO. of ITERATIONS REACHED LIMIT.\n",
      "\n",
      "Increase the number of iterations (max_iter) or scale the data as shown in:\n",
      "    https://scikit-learn.org/stable/modules/preprocessing.html\n",
      "Please also refer to the documentation for alternative solver options:\n",
      "    https://scikit-learn.org/stable/modules/linear_model.html#logistic-regression\n",
      "  n_iter_i = _check_optimize_result(\n",
      "C:\\Users\\betha\\anaconda3\\lib\\site-packages\\sklearn\\linear_model\\_logistic.py:814: ConvergenceWarning: lbfgs failed to converge (status=1):\n",
      "STOP: TOTAL NO. of ITERATIONS REACHED LIMIT.\n",
      "\n",
      "Increase the number of iterations (max_iter) or scale the data as shown in:\n",
      "    https://scikit-learn.org/stable/modules/preprocessing.html\n",
      "Please also refer to the documentation for alternative solver options:\n",
      "    https://scikit-learn.org/stable/modules/linear_model.html#logistic-regression\n",
      "  n_iter_i = _check_optimize_result(\n"
     ]
    },
    {
     "name": "stderr",
     "output_type": "stream",
     "text": [
      "C:\\Users\\betha\\anaconda3\\lib\\site-packages\\sklearn\\linear_model\\_logistic.py:814: ConvergenceWarning: lbfgs failed to converge (status=1):\n",
      "STOP: TOTAL NO. of ITERATIONS REACHED LIMIT.\n",
      "\n",
      "Increase the number of iterations (max_iter) or scale the data as shown in:\n",
      "    https://scikit-learn.org/stable/modules/preprocessing.html\n",
      "Please also refer to the documentation for alternative solver options:\n",
      "    https://scikit-learn.org/stable/modules/linear_model.html#logistic-regression\n",
      "  n_iter_i = _check_optimize_result(\n",
      "C:\\Users\\betha\\anaconda3\\lib\\site-packages\\sklearn\\linear_model\\_logistic.py:814: ConvergenceWarning: lbfgs failed to converge (status=1):\n",
      "STOP: TOTAL NO. of ITERATIONS REACHED LIMIT.\n",
      "\n",
      "Increase the number of iterations (max_iter) or scale the data as shown in:\n",
      "    https://scikit-learn.org/stable/modules/preprocessing.html\n",
      "Please also refer to the documentation for alternative solver options:\n",
      "    https://scikit-learn.org/stable/modules/linear_model.html#logistic-regression\n",
      "  n_iter_i = _check_optimize_result(\n",
      "C:\\Users\\betha\\anaconda3\\lib\\site-packages\\sklearn\\linear_model\\_logistic.py:814: ConvergenceWarning: lbfgs failed to converge (status=1):\n",
      "STOP: TOTAL NO. of ITERATIONS REACHED LIMIT.\n",
      "\n",
      "Increase the number of iterations (max_iter) or scale the data as shown in:\n",
      "    https://scikit-learn.org/stable/modules/preprocessing.html\n",
      "Please also refer to the documentation for alternative solver options:\n",
      "    https://scikit-learn.org/stable/modules/linear_model.html#logistic-regression\n",
      "  n_iter_i = _check_optimize_result(\n",
      "C:\\Users\\betha\\anaconda3\\lib\\site-packages\\sklearn\\linear_model\\_logistic.py:814: ConvergenceWarning: lbfgs failed to converge (status=1):\n",
      "STOP: TOTAL NO. of ITERATIONS REACHED LIMIT.\n",
      "\n",
      "Increase the number of iterations (max_iter) or scale the data as shown in:\n",
      "    https://scikit-learn.org/stable/modules/preprocessing.html\n",
      "Please also refer to the documentation for alternative solver options:\n",
      "    https://scikit-learn.org/stable/modules/linear_model.html#logistic-regression\n",
      "  n_iter_i = _check_optimize_result(\n",
      "C:\\Users\\betha\\anaconda3\\lib\\site-packages\\sklearn\\linear_model\\_logistic.py:814: ConvergenceWarning: lbfgs failed to converge (status=1):\n",
      "STOP: TOTAL NO. of ITERATIONS REACHED LIMIT.\n",
      "\n",
      "Increase the number of iterations (max_iter) or scale the data as shown in:\n",
      "    https://scikit-learn.org/stable/modules/preprocessing.html\n",
      "Please also refer to the documentation for alternative solver options:\n",
      "    https://scikit-learn.org/stable/modules/linear_model.html#logistic-regression\n",
      "  n_iter_i = _check_optimize_result(\n"
     ]
    },
    {
     "data": {
      "text/plain": [
       "GridSearchCV(cv=5, estimator=LogisticRegression(random_state=0),\n",
       "             param_grid={'C': [100, 10, 1.0, 0.1, 0.01]})"
      ]
     },
     "execution_count": 107,
     "metadata": {},
     "output_type": "execute_result"
    }
   ],
   "source": [
    "#penalty = ['none', 'l1', 'l2', 'elasticnet']\n",
    "c_values = [100, 10, 1.0, 0.1, 0.01]\n",
    "param_grid = {'C' : c_values}\n",
    "lr = LogisticRegression(random_state = 0)\n",
    "lr_cv = GridSearchCV(lr, param_grid, cv = 5)\n",
    "lr_cv.fit(X_train9, y_train9)"
   ]
  },
  {
   "cell_type": "code",
   "execution_count": 108,
   "id": "55ebe8eb",
   "metadata": {},
   "outputs": [
    {
     "name": "stdout",
     "output_type": "stream",
     "text": [
      "Best Score:0.9322094344294982\n",
      "Best Parameters: {'C': 1.0}\n"
     ]
    }
   ],
   "source": [
    "print(\"Best Score:\" + str(lr_cv.best_score_))\n",
    "print(\"Best Parameters: \" + str(lr_cv.best_params_))"
   ]
  },
  {
   "cell_type": "code",
   "execution_count": 109,
   "id": "35a82a1f",
   "metadata": {},
   "outputs": [
    {
     "name": "stderr",
     "output_type": "stream",
     "text": [
      "C:\\Users\\betha\\anaconda3\\lib\\site-packages\\sklearn\\linear_model\\_logistic.py:814: ConvergenceWarning: lbfgs failed to converge (status=1):\n",
      "STOP: TOTAL NO. of ITERATIONS REACHED LIMIT.\n",
      "\n",
      "Increase the number of iterations (max_iter) or scale the data as shown in:\n",
      "    https://scikit-learn.org/stable/modules/preprocessing.html\n",
      "Please also refer to the documentation for alternative solver options:\n",
      "    https://scikit-learn.org/stable/modules/linear_model.html#logistic-regression\n",
      "  n_iter_i = _check_optimize_result(\n"
     ]
    },
    {
     "data": {
      "text/plain": [
       "LogisticRegression()"
      ]
     },
     "execution_count": 109,
     "metadata": {},
     "output_type": "execute_result"
    }
   ],
   "source": [
    "lr = LogisticRegression(C = 1.0)\n",
    "lr.fit(X_train9, y_train9)"
   ]
  },
  {
   "cell_type": "code",
   "execution_count": 110,
   "id": "0bbdd4ce",
   "metadata": {},
   "outputs": [],
   "source": [
    "y_train_pred = lr.predict(X_train9)\n",
    "y_pred9 = lr.predict(X_test9)"
   ]
  },
  {
   "cell_type": "code",
   "execution_count": 111,
   "id": "b56fe089",
   "metadata": {},
   "outputs": [
    {
     "name": "stdout",
     "output_type": "stream",
     "text": [
      "Accuracy: 0.9347904779963112\n",
      "Balanced accuracy: 0.9347704750445771\n",
      "Precision score 0.9477951635846372\n",
      "Recall score 0.9200814720198847\n",
      "F1 score 0.9337327237374534\n",
      "ROC_AUC Score 0.934770475044577\n"
     ]
    }
   ],
   "source": [
    "from sklearn import tree, metrics\n",
    "\n",
    "accuracy_lrcv = metrics.accuracy_score(y_test9,y_pred9)\n",
    "balanced_accuracy_lrcv = metrics.balanced_accuracy_score(y_test9,y_pred9)\n",
    "precision_lrcv = metrics.precision_score(y_test9,y_pred9, pos_label = 1)\n",
    "recall_lrcv = metrics.recall_score(y_test9,y_pred9, pos_label = 1)\n",
    "f1_lrcv = metrics.f1_score(y_test9, y_pred9, pos_label = 1)\n",
    "roc_auc_lrcv = metrics.roc_auc_score(y_test9, y_pred9)\n",
    "print(\"Accuracy:\", accuracy_lrcv)\n",
    "print(\"Balanced accuracy:\", balanced_accuracy_lrcv)\n",
    "print('Precision score' , precision_lrcv)\n",
    "print('Recall score' , recall_lrcv)\n",
    "print('F1 score' , f1_lrcv)\n",
    "print('ROC_AUC Score' , roc_auc_lrcv)\n"
   ]
  },
  {
   "cell_type": "code",
   "execution_count": 112,
   "id": "a0a146b6",
   "metadata": {},
   "outputs": [
    {
     "name": "stdout",
     "output_type": "stream",
     "text": [
      "True Suicide: 26652\n",
      "False Suicide: 1468\n",
      "True Non-Suicide: 27578\n",
      "False Non-Suicide: 2315\n"
     ]
    }
   ],
   "source": [
    "from sklearn.metrics import confusion_matrix\n",
    "tn_lrcv, fp_lrcv, fn_lrcv, tp_lrcv = confusion_matrix(y_test9, y_pred9).ravel()\n",
    "print(f'True Suicide: {tp_lrcv}')\n",
    "print(f'False Suicide: {fp_lrcv}')\n",
    "print(f'True Non-Suicide: {tn_lrcv}')\n",
    "print(f'False Non-Suicide: {fn_lrcv}')"
   ]
  },
  {
   "cell_type": "code",
   "execution_count": 113,
   "id": "3e0d37c3",
   "metadata": {},
   "outputs": [
    {
     "data": {
      "text/html": [
       "<div>\n",
       "<style scoped>\n",
       "    .dataframe tbody tr th:only-of-type {\n",
       "        vertical-align: middle;\n",
       "    }\n",
       "\n",
       "    .dataframe tbody tr th {\n",
       "        vertical-align: top;\n",
       "    }\n",
       "\n",
       "    .dataframe thead th {\n",
       "        text-align: right;\n",
       "    }\n",
       "</style>\n",
       "<table border=\"1\" class=\"dataframe\">\n",
       "  <thead>\n",
       "    <tr style=\"text-align: right;\">\n",
       "      <th></th>\n",
       "      <th>Predicted Non-Suicide</th>\n",
       "      <th>Predicted Suicide</th>\n",
       "    </tr>\n",
       "  </thead>\n",
       "  <tbody>\n",
       "    <tr>\n",
       "      <th>Actual Non-Suicide</th>\n",
       "      <td>27578</td>\n",
       "      <td>1468</td>\n",
       "    </tr>\n",
       "    <tr>\n",
       "      <th>Actual Suicide</th>\n",
       "      <td>2315</td>\n",
       "      <td>26652</td>\n",
       "    </tr>\n",
       "  </tbody>\n",
       "</table>\n",
       "</div>"
      ],
      "text/plain": [
       "                    Predicted Non-Suicide  Predicted Suicide\n",
       "Actual Non-Suicide                  27578               1468\n",
       "Actual Suicide                       2315              26652"
      ]
     },
     "execution_count": 113,
     "metadata": {},
     "output_type": "execute_result"
    }
   ],
   "source": [
    "pd.DataFrame(confusion_matrix(y_test9, y_pred9), columns=['Predicted Non-Suicide', \"Predicted Suicide\"], index=['Actual Non-Suicide', 'Actual Suicide'])"
   ]
  },
  {
   "cell_type": "code",
   "execution_count": 114,
   "id": "ef1f15a3",
   "metadata": {},
   "outputs": [
    {
     "data": {
      "image/png": "[encoded data removed]",
      "text/plain": [
       "<Figure size 576x432 with 1 Axes>"
      ]
     },
     "metadata": {
      "needs_background": "light"
     },
     "output_type": "display_data"
    }
   ],
   "source": [
    "y_pred_proba9 = lr.predict_proba(X_test9)[::,1]\n",
    "fpr9, tpr9, _ = metrics.roc_curve(y_test9,  y_pred_proba9)\n",
    "plt.rcParams.update({'figure.figsize': (8, 6.0)})\n",
    "#create ROC curve\n",
    "plt.plot(fpr9,tpr9)\n",
    "plt.plot([0, 1], [0, 1],'r--')\n",
    "plt.title(\"ROC_AUC CURVE Logistic Regression with Count Vectorizer - Text Only\")\n",
    "plt.ylabel('True Positive Rate')\n",
    "plt.xlabel('False Positive Rate')\n",
    "plt.tight_layout()\n",
    "plt.savefig('ROC_AUC CURVE Logistic Regression with Count Vectorizer_TextOnly.png')"
   ]
  },
  {
   "cell_type": "markdown",
   "id": "714301c0",
   "metadata": {},
   "source": [
    "# Step 4j:  Logistic Regression with Count Vectorizer - All Features"
   ]
  },
  {
   "cell_type": "code",
   "execution_count": 115,
   "id": "bb4340b5",
   "metadata": {},
   "outputs": [
    {
     "name": "stderr",
     "output_type": "stream",
     "text": [
      "C:\\Users\\betha\\anaconda3\\lib\\site-packages\\sklearn\\feature_extraction\\text.py:396: UserWarning: Your stop_words may be inconsistent with your preprocessing. Tokenizing the stop words generated tokens ['ll', 've'] not in stop_words.\n",
      "  warnings.warn(\n",
      "C:\\Users\\betha\\AppData\\Local\\Temp\\ipykernel_15788\\2403083902.py:7: FutureWarning: Support for multi-dimensional indexing (e.g. `obj[:, None]`) is deprecated and will be removed in a future version.  Convert to a numpy array before indexing instead.\n",
      "  reading_level = scaled_features_df['flesch_kincaid'][:, None]\n",
      "C:\\Users\\betha\\AppData\\Local\\Temp\\ipykernel_15788\\2403083902.py:8: FutureWarning: Support for multi-dimensional indexing (e.g. `obj[:, None]`) is deprecated and will be removed in a future version.  Convert to a numpy array before indexing instead.\n",
      "  repetition = scaled_features_df['repetition'][:, None]\n"
     ]
    }
   ],
   "source": [
    "from scipy.sparse import hstack\n",
    "vectorizer = CountVectorizer(min_df=3, ngram_range = (1,2), stop_words = STOP_WORDS)\n",
    "text_matrix = vectorizer.fit_transform(df['clean_text'])\n",
    "text_matrix = text_matrix.tocsc() \n",
    "length = scaled_features_df['length'].values[:, None]\n",
    "sentiment = scaled_features_df['sentiment'].values[:, None]\n",
    "reading_level = scaled_features_df['flesch_kincaid'][:, None]\n",
    "repetition = scaled_features_df['repetition'][:, None]\n",
    "first = hstack((text_matrix, length))\n",
    "second = hstack((first, sentiment))\n",
    "third = hstack((second, reading_level))\n",
    "X = hstack((third, sentiment))\n",
    "\n",
    "y = df['class']"
   ]
  },
  {
   "cell_type": "code",
   "execution_count": 116,
   "id": "e98d0aeb",
   "metadata": {},
   "outputs": [],
   "source": [
    "X_train10, X_test10, y_train10, y_test10 = train_test_split(X, y, test_size=0.25, random_state=12)"
   ]
  },
  {
   "cell_type": "code",
   "execution_count": 117,
   "id": "1ea446b3",
   "metadata": {},
   "outputs": [
    {
     "name": "stderr",
     "output_type": "stream",
     "text": [
      "C:\\Users\\betha\\anaconda3\\lib\\site-packages\\sklearn\\linear_model\\_logistic.py:814: ConvergenceWarning: lbfgs failed to converge (status=1):\n",
      "STOP: TOTAL NO. of ITERATIONS REACHED LIMIT.\n",
      "\n",
      "Increase the number of iterations (max_iter) or scale the data as shown in:\n",
      "    https://scikit-learn.org/stable/modules/preprocessing.html\n",
      "Please also refer to the documentation for alternative solver options:\n",
      "    https://scikit-learn.org/stable/modules/linear_model.html#logistic-regression\n",
      "  n_iter_i = _check_optimize_result(\n",
      "C:\\Users\\betha\\anaconda3\\lib\\site-packages\\sklearn\\linear_model\\_logistic.py:814: ConvergenceWarning: lbfgs failed to converge (status=1):\n",
      "STOP: TOTAL NO. of ITERATIONS REACHED LIMIT.\n",
      "\n",
      "Increase the number of iterations (max_iter) or scale the data as shown in:\n",
      "    https://scikit-learn.org/stable/modules/preprocessing.html\n",
      "Please also refer to the documentation for alternative solver options:\n",
      "    https://scikit-learn.org/stable/modules/linear_model.html#logistic-regression\n",
      "  n_iter_i = _check_optimize_result(\n",
      "C:\\Users\\betha\\anaconda3\\lib\\site-packages\\sklearn\\linear_model\\_logistic.py:814: ConvergenceWarning: lbfgs failed to converge (status=1):\n",
      "STOP: TOTAL NO. of ITERATIONS REACHED LIMIT.\n",
      "\n",
      "Increase the number of iterations (max_iter) or scale the data as shown in:\n",
      "    https://scikit-learn.org/stable/modules/preprocessing.html\n",
      "Please also refer to the documentation for alternative solver options:\n",
      "    https://scikit-learn.org/stable/modules/linear_model.html#logistic-regression\n",
      "  n_iter_i = _check_optimize_result(\n",
      "C:\\Users\\betha\\anaconda3\\lib\\site-packages\\sklearn\\linear_model\\_logistic.py:814: ConvergenceWarning: lbfgs failed to converge (status=1):\n",
      "STOP: TOTAL NO. of ITERATIONS REACHED LIMIT.\n",
      "\n",
      "Increase the number of iterations (max_iter) or scale the data as shown in:\n",
      "    https://scikit-learn.org/stable/modules/preprocessing.html\n",
      "Please also refer to the documentation for alternative solver options:\n",
      "    https://scikit-learn.org/stable/modules/linear_model.html#logistic-regression\n",
      "  n_iter_i = _check_optimize_result(\n",
      "C:\\Users\\betha\\anaconda3\\lib\\site-packages\\sklearn\\linear_model\\_logistic.py:814: ConvergenceWarning: lbfgs failed to converge (status=1):\n",
      "STOP: TOTAL NO. of ITERATIONS REACHED LIMIT.\n",
      "\n",
      "Increase the number of iterations (max_iter) or scale the data as shown in:\n",
      "    https://scikit-learn.org/stable/modules/preprocessing.html\n",
      "Please also refer to the documentation for alternative solver options:\n",
      "    https://scikit-learn.org/stable/modules/linear_model.html#logistic-regression\n",
      "  n_iter_i = _check_optimize_result(\n",
      "C:\\Users\\betha\\anaconda3\\lib\\site-packages\\sklearn\\linear_model\\_logistic.py:814: ConvergenceWarning: lbfgs failed to converge (status=1):\n",
      "STOP: TOTAL NO. of ITERATIONS REACHED LIMIT.\n",
      "\n",
      "Increase the number of iterations (max_iter) or scale the data as shown in:\n",
      "    https://scikit-learn.org/stable/modules/preprocessing.html\n",
      "Please also refer to the documentation for alternative solver options:\n",
      "    https://scikit-learn.org/stable/modules/linear_model.html#logistic-regression\n",
      "  n_iter_i = _check_optimize_result(\n",
      "C:\\Users\\betha\\anaconda3\\lib\\site-packages\\sklearn\\linear_model\\_logistic.py:814: ConvergenceWarning: lbfgs failed to converge (status=1):\n",
      "STOP: TOTAL NO. of ITERATIONS REACHED LIMIT.\n",
      "\n",
      "Increase the number of iterations (max_iter) or scale the data as shown in:\n",
      "    https://scikit-learn.org/stable/modules/preprocessing.html\n",
      "Please also refer to the documentation for alternative solver options:\n",
      "    https://scikit-learn.org/stable/modules/linear_model.html#logistic-regression\n",
      "  n_iter_i = _check_optimize_result(\n",
      "C:\\Users\\betha\\anaconda3\\lib\\site-packages\\sklearn\\linear_model\\_logistic.py:814: ConvergenceWarning: lbfgs failed to converge (status=1):\n",
      "STOP: TOTAL NO. of ITERATIONS REACHED LIMIT.\n",
      "\n",
      "Increase the number of iterations (max_iter) or scale the data as shown in:\n",
      "    https://scikit-learn.org/stable/modules/preprocessing.html\n",
      "Please also refer to the documentation for alternative solver options:\n",
      "    https://scikit-learn.org/stable/modules/linear_model.html#logistic-regression\n",
      "  n_iter_i = _check_optimize_result(\n",
      "C:\\Users\\betha\\anaconda3\\lib\\site-packages\\sklearn\\linear_model\\_logistic.py:814: ConvergenceWarning: lbfgs failed to converge (status=1):\n",
      "STOP: TOTAL NO. of ITERATIONS REACHED LIMIT.\n",
      "\n",
      "Increase the number of iterations (max_iter) or scale the data as shown in:\n",
      "    https://scikit-learn.org/stable/modules/preprocessing.html\n",
      "Please also refer to the documentation for alternative solver options:\n",
      "    https://scikit-learn.org/stable/modules/linear_model.html#logistic-regression\n",
      "  n_iter_i = _check_optimize_result(\n",
      "C:\\Users\\betha\\anaconda3\\lib\\site-packages\\sklearn\\linear_model\\_logistic.py:814: ConvergenceWarning: lbfgs failed to converge (status=1):\n",
      "STOP: TOTAL NO. of ITERATIONS REACHED LIMIT.\n",
      "\n",
      "Increase the number of iterations (max_iter) or scale the data as shown in:\n",
      "    https://scikit-learn.org/stable/modules/preprocessing.html\n",
      "Please also refer to the documentation for alternative solver options:\n",
      "    https://scikit-learn.org/stable/modules/linear_model.html#logistic-regression\n",
      "  n_iter_i = _check_optimize_result(\n",
      "C:\\Users\\betha\\anaconda3\\lib\\site-packages\\sklearn\\linear_model\\_logistic.py:814: ConvergenceWarning: lbfgs failed to converge (status=1):\n",
      "STOP: TOTAL NO. of ITERATIONS REACHED LIMIT.\n",
      "\n",
      "Increase the number of iterations (max_iter) or scale the data as shown in:\n",
      "    https://scikit-learn.org/stable/modules/preprocessing.html\n",
      "Please also refer to the documentation for alternative solver options:\n",
      "    https://scikit-learn.org/stable/modules/linear_model.html#logistic-regression\n",
      "  n_iter_i = _check_optimize_result(\n",
      "C:\\Users\\betha\\anaconda3\\lib\\site-packages\\sklearn\\linear_model\\_logistic.py:814: ConvergenceWarning: lbfgs failed to converge (status=1):\n",
      "STOP: TOTAL NO. of ITERATIONS REACHED LIMIT.\n",
      "\n",
      "Increase the number of iterations (max_iter) or scale the data as shown in:\n",
      "    https://scikit-learn.org/stable/modules/preprocessing.html\n",
      "Please also refer to the documentation for alternative solver options:\n",
      "    https://scikit-learn.org/stable/modules/linear_model.html#logistic-regression\n",
      "  n_iter_i = _check_optimize_result(\n",
      "C:\\Users\\betha\\anaconda3\\lib\\site-packages\\sklearn\\linear_model\\_logistic.py:814: ConvergenceWarning: lbfgs failed to converge (status=1):\n",
      "STOP: TOTAL NO. of ITERATIONS REACHED LIMIT.\n",
      "\n",
      "Increase the number of iterations (max_iter) or scale the data as shown in:\n",
      "    https://scikit-learn.org/stable/modules/preprocessing.html\n",
      "Please also refer to the documentation for alternative solver options:\n",
      "    https://scikit-learn.org/stable/modules/linear_model.html#logistic-regression\n",
      "  n_iter_i = _check_optimize_result(\n",
      "C:\\Users\\betha\\anaconda3\\lib\\site-packages\\sklearn\\linear_model\\_logistic.py:814: ConvergenceWarning: lbfgs failed to converge (status=1):\n",
      "STOP: TOTAL NO. of ITERATIONS REACHED LIMIT.\n",
      "\n",
      "Increase the number of iterations (max_iter) or scale the data as shown in:\n",
      "    https://scikit-learn.org/stable/modules/preprocessing.html\n",
      "Please also refer to the documentation for alternative solver options:\n",
      "    https://scikit-learn.org/stable/modules/linear_model.html#logistic-regression\n",
      "  n_iter_i = _check_optimize_result(\n",
      "C:\\Users\\betha\\anaconda3\\lib\\site-packages\\sklearn\\linear_model\\_logistic.py:814: ConvergenceWarning: lbfgs failed to converge (status=1):\n",
      "STOP: TOTAL NO. of ITERATIONS REACHED LIMIT.\n",
      "\n",
      "Increase the number of iterations (max_iter) or scale the data as shown in:\n",
      "    https://scikit-learn.org/stable/modules/preprocessing.html\n",
      "Please also refer to the documentation for alternative solver options:\n",
      "    https://scikit-learn.org/stable/modules/linear_model.html#logistic-regression\n",
      "  n_iter_i = _check_optimize_result(\n",
      "C:\\Users\\betha\\anaconda3\\lib\\site-packages\\sklearn\\linear_model\\_logistic.py:814: ConvergenceWarning: lbfgs failed to converge (status=1):\n",
      "STOP: TOTAL NO. of ITERATIONS REACHED LIMIT.\n",
      "\n",
      "Increase the number of iterations (max_iter) or scale the data as shown in:\n",
      "    https://scikit-learn.org/stable/modules/preprocessing.html\n",
      "Please also refer to the documentation for alternative solver options:\n",
      "    https://scikit-learn.org/stable/modules/linear_model.html#logistic-regression\n",
      "  n_iter_i = _check_optimize_result(\n"
     ]
    },
    {
     "name": "stderr",
     "output_type": "stream",
     "text": [
      "C:\\Users\\betha\\anaconda3\\lib\\site-packages\\sklearn\\linear_model\\_logistic.py:814: ConvergenceWarning: lbfgs failed to converge (status=1):\n",
      "STOP: TOTAL NO. of ITERATIONS REACHED LIMIT.\n",
      "\n",
      "Increase the number of iterations (max_iter) or scale the data as shown in:\n",
      "    https://scikit-learn.org/stable/modules/preprocessing.html\n",
      "Please also refer to the documentation for alternative solver options:\n",
      "    https://scikit-learn.org/stable/modules/linear_model.html#logistic-regression\n",
      "  n_iter_i = _check_optimize_result(\n",
      "C:\\Users\\betha\\anaconda3\\lib\\site-packages\\sklearn\\linear_model\\_logistic.py:814: ConvergenceWarning: lbfgs failed to converge (status=1):\n",
      "STOP: TOTAL NO. of ITERATIONS REACHED LIMIT.\n",
      "\n",
      "Increase the number of iterations (max_iter) or scale the data as shown in:\n",
      "    https://scikit-learn.org/stable/modules/preprocessing.html\n",
      "Please also refer to the documentation for alternative solver options:\n",
      "    https://scikit-learn.org/stable/modules/linear_model.html#logistic-regression\n",
      "  n_iter_i = _check_optimize_result(\n",
      "C:\\Users\\betha\\anaconda3\\lib\\site-packages\\sklearn\\linear_model\\_logistic.py:814: ConvergenceWarning: lbfgs failed to converge (status=1):\n",
      "STOP: TOTAL NO. of ITERATIONS REACHED LIMIT.\n",
      "\n",
      "Increase the number of iterations (max_iter) or scale the data as shown in:\n",
      "    https://scikit-learn.org/stable/modules/preprocessing.html\n",
      "Please also refer to the documentation for alternative solver options:\n",
      "    https://scikit-learn.org/stable/modules/linear_model.html#logistic-regression\n",
      "  n_iter_i = _check_optimize_result(\n",
      "C:\\Users\\betha\\anaconda3\\lib\\site-packages\\sklearn\\linear_model\\_logistic.py:814: ConvergenceWarning: lbfgs failed to converge (status=1):\n",
      "STOP: TOTAL NO. of ITERATIONS REACHED LIMIT.\n",
      "\n",
      "Increase the number of iterations (max_iter) or scale the data as shown in:\n",
      "    https://scikit-learn.org/stable/modules/preprocessing.html\n",
      "Please also refer to the documentation for alternative solver options:\n",
      "    https://scikit-learn.org/stable/modules/linear_model.html#logistic-regression\n",
      "  n_iter_i = _check_optimize_result(\n",
      "C:\\Users\\betha\\anaconda3\\lib\\site-packages\\sklearn\\linear_model\\_logistic.py:814: ConvergenceWarning: lbfgs failed to converge (status=1):\n",
      "STOP: TOTAL NO. of ITERATIONS REACHED LIMIT.\n",
      "\n",
      "Increase the number of iterations (max_iter) or scale the data as shown in:\n",
      "    https://scikit-learn.org/stable/modules/preprocessing.html\n",
      "Please also refer to the documentation for alternative solver options:\n",
      "    https://scikit-learn.org/stable/modules/linear_model.html#logistic-regression\n",
      "  n_iter_i = _check_optimize_result(\n"
     ]
    },
    {
     "data": {
      "text/plain": [
       "GridSearchCV(cv=5, estimator=LogisticRegression(random_state=0),\n",
       "             param_grid={'C': [100, 10, 1.0, 0.1, 0.01]})"
      ]
     },
     "execution_count": 117,
     "metadata": {},
     "output_type": "execute_result"
    }
   ],
   "source": [
    "#penalty = ['none', 'l1', 'l2', 'elasticnet']\n",
    "c_values = [100, 10, 1.0, 0.1, 0.01]\n",
    "param_grid = {'C' : c_values}\n",
    "lr = LogisticRegression(random_state = 0)\n",
    "lr_cv = GridSearchCV(lr, param_grid, cv = 5)\n",
    "lr_cv.fit(X_train10, y_train10)"
   ]
  },
  {
   "cell_type": "code",
   "execution_count": 118,
   "id": "cb72ebe8",
   "metadata": {},
   "outputs": [
    {
     "name": "stdout",
     "output_type": "stream",
     "text": [
      "Best Score:0.9321864521977072\n",
      "Best Parameters: {'C': 1.0}\n"
     ]
    }
   ],
   "source": [
    "print(\"Best Score:\" + str(lr_cv.best_score_))\n",
    "print(\"Best Parameters: \" + str(lr_cv.best_params_))"
   ]
  },
  {
   "cell_type": "code",
   "execution_count": 119,
   "id": "7cbb28b3",
   "metadata": {},
   "outputs": [
    {
     "name": "stderr",
     "output_type": "stream",
     "text": [
      "C:\\Users\\betha\\anaconda3\\lib\\site-packages\\sklearn\\linear_model\\_logistic.py:814: ConvergenceWarning: lbfgs failed to converge (status=1):\n",
      "STOP: TOTAL NO. of ITERATIONS REACHED LIMIT.\n",
      "\n",
      "Increase the number of iterations (max_iter) or scale the data as shown in:\n",
      "    https://scikit-learn.org/stable/modules/preprocessing.html\n",
      "Please also refer to the documentation for alternative solver options:\n",
      "    https://scikit-learn.org/stable/modules/linear_model.html#logistic-regression\n",
      "  n_iter_i = _check_optimize_result(\n"
     ]
    },
    {
     "data": {
      "text/plain": [
       "LogisticRegression()"
      ]
     },
     "execution_count": 119,
     "metadata": {},
     "output_type": "execute_result"
    }
   ],
   "source": [
    "lrcvi = LogisticRegression(C = 1.0)\n",
    "lrcvi.fit(X_train10, y_train10)"
   ]
  },
  {
   "cell_type": "code",
   "execution_count": 120,
   "id": "0a2920e2",
   "metadata": {},
   "outputs": [],
   "source": [
    "y_train_pred10 = lrcvi.predict(X_train10)\n",
    "y_pred10 = lrcvi.predict(X_test10)"
   ]
  },
  {
   "cell_type": "code",
   "execution_count": 121,
   "id": "0ca02904",
   "metadata": {},
   "outputs": [
    {
     "name": "stdout",
     "output_type": "stream",
     "text": [
      "Accuracy: 0.935445503594022\n",
      "Balanced accuracy: 0.9354256426977747\n",
      "Precision score 0.9483751688828842\n",
      "Recall score 0.9208409569510132\n",
      "F1 score 0.9344052685968509\n",
      "ROC_AUC Score 0.9354256426977747\n"
     ]
    }
   ],
   "source": [
    "accuracy_lrcvi = metrics.accuracy_score(y_test10,y_pred10)\n",
    "balanced_accuracy_lrcvi = metrics.balanced_accuracy_score(y_test10,y_pred10)\n",
    "precision_lrcvi = metrics.precision_score(y_test10,y_pred10, pos_label = 1)\n",
    "recall_lrcvi = metrics.recall_score(y_test10,y_pred10, pos_label = 1)\n",
    "f1_lrcvi = metrics.f1_score(y_test10, y_pred10, pos_label = 1)\n",
    "roc_auc_lrcvi = metrics.roc_auc_score(y_test10, y_pred10)\n",
    "print(\"Accuracy:\", accuracy_lrcvi)\n",
    "print(\"Balanced accuracy:\", balanced_accuracy_lrcvi)\n",
    "print('Precision score' , precision_lrcvi)\n",
    "print('Recall score' , recall_lrcvi)\n",
    "print('F1 score' , f1_lrcvi)\n",
    "print('ROC_AUC Score' , roc_auc_lrcvi)\n"
   ]
  },
  {
   "cell_type": "code",
   "execution_count": 122,
   "id": "2a8348da",
   "metadata": {},
   "outputs": [
    {
     "name": "stdout",
     "output_type": "stream",
     "text": [
      "True Suicide: 26674\n",
      "False Suicide: 1452\n",
      "True Non-Suicide: 27594\n",
      "False Non-Suicide: 2293\n"
     ]
    }
   ],
   "source": [
    "from sklearn.metrics import confusion_matrix\n",
    "tn_lrcvi, fp_lrcvi, fn_lrcvi, tp_lrcvi = confusion_matrix(y_test10, y_pred10).ravel()\n",
    "print(f'True Suicide: {tp_lrcvi}')\n",
    "print(f'False Suicide: {fp_lrcvi}')\n",
    "print(f'True Non-Suicide: {tn_lrcvi}')\n",
    "print(f'False Non-Suicide: {fn_lrcvi}')"
   ]
  },
  {
   "cell_type": "code",
   "execution_count": 123,
   "id": "03e8edc9",
   "metadata": {},
   "outputs": [
    {
     "data": {
      "text/html": [
       "<div>\n",
       "<style scoped>\n",
       "    .dataframe tbody tr th:only-of-type {\n",
       "        vertical-align: middle;\n",
       "    }\n",
       "\n",
       "    .dataframe tbody tr th {\n",
       "        vertical-align: top;\n",
       "    }\n",
       "\n",
       "    .dataframe thead th {\n",
       "        text-align: right;\n",
       "    }\n",
       "</style>\n",
       "<table border=\"1\" class=\"dataframe\">\n",
       "  <thead>\n",
       "    <tr style=\"text-align: right;\">\n",
       "      <th></th>\n",
       "      <th>Predicted Non-Suicide</th>\n",
       "      <th>Predicted Suicide</th>\n",
       "    </tr>\n",
       "  </thead>\n",
       "  <tbody>\n",
       "    <tr>\n",
       "      <th>Actual Non-Suicide</th>\n",
       "      <td>27594</td>\n",
       "      <td>1452</td>\n",
       "    </tr>\n",
       "    <tr>\n",
       "      <th>Actual Suicide</th>\n",
       "      <td>2293</td>\n",
       "      <td>26674</td>\n",
       "    </tr>\n",
       "  </tbody>\n",
       "</table>\n",
       "</div>"
      ],
      "text/plain": [
       "                    Predicted Non-Suicide  Predicted Suicide\n",
       "Actual Non-Suicide                  27594               1452\n",
       "Actual Suicide                       2293              26674"
      ]
     },
     "execution_count": 123,
     "metadata": {},
     "output_type": "execute_result"
    }
   ],
   "source": [
    "pd.DataFrame(confusion_matrix(y_test10, y_pred10), columns=['Predicted Non-Suicide', \"Predicted Suicide\"], index=['Actual Non-Suicide', 'Actual Suicide'])"
   ]
  },
  {
   "cell_type": "code",
   "execution_count": 124,
   "id": "3bc5af9a",
   "metadata": {},
   "outputs": [
    {
     "data": {
      "image/png": "[encoded data removed]",
      "text/plain": [
       "<Figure size 576x432 with 1 Axes>"
      ]
     },
     "metadata": {
      "needs_background": "light"
     },
     "output_type": "display_data"
    }
   ],
   "source": [
    "y_pred_proba10 = lrcvi.predict_proba(X_test10)[::,1]\n",
    "fpr10, tpr10, _ = metrics.roc_curve(y_test10,  y_pred_proba10)\n",
    "plt.rcParams.update({'figure.figsize': (8, 6.0)})\n",
    "#create ROC curve\n",
    "plt.plot(fpr10,tpr10)\n",
    "plt.plot([0, 1], [0, 1],'r--')\n",
    "plt.title(\"ROC_AUC CURVE Logistic Regression with Count Vectorizer - All Features\")\n",
    "plt.ylabel('True Positive Rate')\n",
    "plt.xlabel('False Positive Rate')\n",
    "plt.tight_layout()\n",
    "plt.savefig('ROC_AUC CURVE Logistic Regression with Count Vectorizer All Features.png')"
   ]
  },
  {
   "cell_type": "code",
   "execution_count": null,
   "id": "4ffa96c9",
   "metadata": {},
   "outputs": [],
   "source": []
  },
  {
   "cell_type": "markdown",
   "id": "348e6d94",
   "metadata": {},
   "source": [
    "# Step 4k:  Logistic Regression with TF-IDF - Text Only"
   ]
  },
  {
   "cell_type": "code",
   "execution_count": 125,
   "id": "a29d45f4",
   "metadata": {},
   "outputs": [
    {
     "name": "stderr",
     "output_type": "stream",
     "text": [
      "C:\\Users\\betha\\anaconda3\\lib\\site-packages\\sklearn\\feature_extraction\\text.py:396: UserWarning: Your stop_words may be inconsistent with your preprocessing. Tokenizing the stop words generated tokens ['ll', 've'] not in stop_words.\n",
      "  warnings.warn(\n"
     ]
    }
   ],
   "source": [
    "vectorizor_tfid = TfidfVectorizer(min_df=3, ngram_range = (1,2), stop_words = STOP_WORDS)\n",
    "X = vectorizor_tfid.fit_transform(df['text'])\n",
    "X_tfid11 = X.tocsc() \n",
    "\n",
    "y_tfid11 = df['class']"
   ]
  },
  {
   "cell_type": "code",
   "execution_count": 126,
   "id": "1d24cd89",
   "metadata": {},
   "outputs": [],
   "source": [
    "X_train11, X_test11, y_train11, y_test11 = train_test_split(X_tfid11, y_tfid11, test_size=0.25, random_state=12)"
   ]
  },
  {
   "cell_type": "code",
   "execution_count": 127,
   "id": "bd04d3ac",
   "metadata": {},
   "outputs": [
    {
     "name": "stderr",
     "output_type": "stream",
     "text": [
      "C:\\Users\\betha\\anaconda3\\lib\\site-packages\\sklearn\\linear_model\\_logistic.py:814: ConvergenceWarning: lbfgs failed to converge (status=1):\n",
      "STOP: TOTAL NO. of ITERATIONS REACHED LIMIT.\n",
      "\n",
      "Increase the number of iterations (max_iter) or scale the data as shown in:\n",
      "    https://scikit-learn.org/stable/modules/preprocessing.html\n",
      "Please also refer to the documentation for alternative solver options:\n",
      "    https://scikit-learn.org/stable/modules/linear_model.html#logistic-regression\n",
      "  n_iter_i = _check_optimize_result(\n",
      "C:\\Users\\betha\\anaconda3\\lib\\site-packages\\sklearn\\linear_model\\_logistic.py:814: ConvergenceWarning: lbfgs failed to converge (status=1):\n",
      "STOP: TOTAL NO. of ITERATIONS REACHED LIMIT.\n",
      "\n",
      "Increase the number of iterations (max_iter) or scale the data as shown in:\n",
      "    https://scikit-learn.org/stable/modules/preprocessing.html\n",
      "Please also refer to the documentation for alternative solver options:\n",
      "    https://scikit-learn.org/stable/modules/linear_model.html#logistic-regression\n",
      "  n_iter_i = _check_optimize_result(\n",
      "C:\\Users\\betha\\anaconda3\\lib\\site-packages\\sklearn\\linear_model\\_logistic.py:814: ConvergenceWarning: lbfgs failed to converge (status=1):\n",
      "STOP: TOTAL NO. of ITERATIONS REACHED LIMIT.\n",
      "\n",
      "Increase the number of iterations (max_iter) or scale the data as shown in:\n",
      "    https://scikit-learn.org/stable/modules/preprocessing.html\n",
      "Please also refer to the documentation for alternative solver options:\n",
      "    https://scikit-learn.org/stable/modules/linear_model.html#logistic-regression\n",
      "  n_iter_i = _check_optimize_result(\n",
      "C:\\Users\\betha\\anaconda3\\lib\\site-packages\\sklearn\\linear_model\\_logistic.py:814: ConvergenceWarning: lbfgs failed to converge (status=1):\n",
      "STOP: TOTAL NO. of ITERATIONS REACHED LIMIT.\n",
      "\n",
      "Increase the number of iterations (max_iter) or scale the data as shown in:\n",
      "    https://scikit-learn.org/stable/modules/preprocessing.html\n",
      "Please also refer to the documentation for alternative solver options:\n",
      "    https://scikit-learn.org/stable/modules/linear_model.html#logistic-regression\n",
      "  n_iter_i = _check_optimize_result(\n",
      "C:\\Users\\betha\\anaconda3\\lib\\site-packages\\sklearn\\linear_model\\_logistic.py:814: ConvergenceWarning: lbfgs failed to converge (status=1):\n",
      "STOP: TOTAL NO. of ITERATIONS REACHED LIMIT.\n",
      "\n",
      "Increase the number of iterations (max_iter) or scale the data as shown in:\n",
      "    https://scikit-learn.org/stable/modules/preprocessing.html\n",
      "Please also refer to the documentation for alternative solver options:\n",
      "    https://scikit-learn.org/stable/modules/linear_model.html#logistic-regression\n",
      "  n_iter_i = _check_optimize_result(\n",
      "C:\\Users\\betha\\anaconda3\\lib\\site-packages\\sklearn\\linear_model\\_logistic.py:814: ConvergenceWarning: lbfgs failed to converge (status=1):\n",
      "STOP: TOTAL NO. of ITERATIONS REACHED LIMIT.\n",
      "\n",
      "Increase the number of iterations (max_iter) or scale the data as shown in:\n",
      "    https://scikit-learn.org/stable/modules/preprocessing.html\n",
      "Please also refer to the documentation for alternative solver options:\n",
      "    https://scikit-learn.org/stable/modules/linear_model.html#logistic-regression\n",
      "  n_iter_i = _check_optimize_result(\n",
      "C:\\Users\\betha\\anaconda3\\lib\\site-packages\\sklearn\\linear_model\\_logistic.py:814: ConvergenceWarning: lbfgs failed to converge (status=1):\n",
      "STOP: TOTAL NO. of ITERATIONS REACHED LIMIT.\n",
      "\n",
      "Increase the number of iterations (max_iter) or scale the data as shown in:\n",
      "    https://scikit-learn.org/stable/modules/preprocessing.html\n",
      "Please also refer to the documentation for alternative solver options:\n",
      "    https://scikit-learn.org/stable/modules/linear_model.html#logistic-regression\n",
      "  n_iter_i = _check_optimize_result(\n",
      "C:\\Users\\betha\\anaconda3\\lib\\site-packages\\sklearn\\linear_model\\_logistic.py:814: ConvergenceWarning: lbfgs failed to converge (status=1):\n",
      "STOP: TOTAL NO. of ITERATIONS REACHED LIMIT.\n",
      "\n",
      "Increase the number of iterations (max_iter) or scale the data as shown in:\n",
      "    https://scikit-learn.org/stable/modules/preprocessing.html\n",
      "Please also refer to the documentation for alternative solver options:\n",
      "    https://scikit-learn.org/stable/modules/linear_model.html#logistic-regression\n",
      "  n_iter_i = _check_optimize_result(\n",
      "C:\\Users\\betha\\anaconda3\\lib\\site-packages\\sklearn\\linear_model\\_logistic.py:814: ConvergenceWarning: lbfgs failed to converge (status=1):\n",
      "STOP: TOTAL NO. of ITERATIONS REACHED LIMIT.\n",
      "\n",
      "Increase the number of iterations (max_iter) or scale the data as shown in:\n",
      "    https://scikit-learn.org/stable/modules/preprocessing.html\n",
      "Please also refer to the documentation for alternative solver options:\n",
      "    https://scikit-learn.org/stable/modules/linear_model.html#logistic-regression\n",
      "  n_iter_i = _check_optimize_result(\n",
      "C:\\Users\\betha\\anaconda3\\lib\\site-packages\\sklearn\\linear_model\\_logistic.py:814: ConvergenceWarning: lbfgs failed to converge (status=1):\n",
      "STOP: TOTAL NO. of ITERATIONS REACHED LIMIT.\n",
      "\n",
      "Increase the number of iterations (max_iter) or scale the data as shown in:\n",
      "    https://scikit-learn.org/stable/modules/preprocessing.html\n",
      "Please also refer to the documentation for alternative solver options:\n",
      "    https://scikit-learn.org/stable/modules/linear_model.html#logistic-regression\n",
      "  n_iter_i = _check_optimize_result(\n",
      "C:\\Users\\betha\\anaconda3\\lib\\site-packages\\sklearn\\linear_model\\_logistic.py:814: ConvergenceWarning: lbfgs failed to converge (status=1):\n",
      "STOP: TOTAL NO. of ITERATIONS REACHED LIMIT.\n",
      "\n",
      "Increase the number of iterations (max_iter) or scale the data as shown in:\n",
      "    https://scikit-learn.org/stable/modules/preprocessing.html\n",
      "Please also refer to the documentation for alternative solver options:\n",
      "    https://scikit-learn.org/stable/modules/linear_model.html#logistic-regression\n",
      "  n_iter_i = _check_optimize_result(\n",
      "C:\\Users\\betha\\anaconda3\\lib\\site-packages\\sklearn\\linear_model\\_logistic.py:814: ConvergenceWarning: lbfgs failed to converge (status=1):\n",
      "STOP: TOTAL NO. of ITERATIONS REACHED LIMIT.\n",
      "\n",
      "Increase the number of iterations (max_iter) or scale the data as shown in:\n",
      "    https://scikit-learn.org/stable/modules/preprocessing.html\n",
      "Please also refer to the documentation for alternative solver options:\n",
      "    https://scikit-learn.org/stable/modules/linear_model.html#logistic-regression\n",
      "  n_iter_i = _check_optimize_result(\n",
      "C:\\Users\\betha\\anaconda3\\lib\\site-packages\\sklearn\\linear_model\\_logistic.py:814: ConvergenceWarning: lbfgs failed to converge (status=1):\n",
      "STOP: TOTAL NO. of ITERATIONS REACHED LIMIT.\n",
      "\n",
      "Increase the number of iterations (max_iter) or scale the data as shown in:\n",
      "    https://scikit-learn.org/stable/modules/preprocessing.html\n",
      "Please also refer to the documentation for alternative solver options:\n",
      "    https://scikit-learn.org/stable/modules/linear_model.html#logistic-regression\n",
      "  n_iter_i = _check_optimize_result(\n",
      "C:\\Users\\betha\\anaconda3\\lib\\site-packages\\sklearn\\linear_model\\_logistic.py:814: ConvergenceWarning: lbfgs failed to converge (status=1):\n",
      "STOP: TOTAL NO. of ITERATIONS REACHED LIMIT.\n",
      "\n",
      "Increase the number of iterations (max_iter) or scale the data as shown in:\n",
      "    https://scikit-learn.org/stable/modules/preprocessing.html\n",
      "Please also refer to the documentation for alternative solver options:\n",
      "    https://scikit-learn.org/stable/modules/linear_model.html#logistic-regression\n",
      "  n_iter_i = _check_optimize_result(\n",
      "C:\\Users\\betha\\anaconda3\\lib\\site-packages\\sklearn\\linear_model\\_logistic.py:814: ConvergenceWarning: lbfgs failed to converge (status=1):\n",
      "STOP: TOTAL NO. of ITERATIONS REACHED LIMIT.\n",
      "\n",
      "Increase the number of iterations (max_iter) or scale the data as shown in:\n",
      "    https://scikit-learn.org/stable/modules/preprocessing.html\n",
      "Please also refer to the documentation for alternative solver options:\n",
      "    https://scikit-learn.org/stable/modules/linear_model.html#logistic-regression\n",
      "  n_iter_i = _check_optimize_result(\n",
      "C:\\Users\\betha\\anaconda3\\lib\\site-packages\\sklearn\\linear_model\\_logistic.py:814: ConvergenceWarning: lbfgs failed to converge (status=1):\n",
      "STOP: TOTAL NO. of ITERATIONS REACHED LIMIT.\n",
      "\n",
      "Increase the number of iterations (max_iter) or scale the data as shown in:\n",
      "    https://scikit-learn.org/stable/modules/preprocessing.html\n",
      "Please also refer to the documentation for alternative solver options:\n",
      "    https://scikit-learn.org/stable/modules/linear_model.html#logistic-regression\n",
      "  n_iter_i = _check_optimize_result(\n"
     ]
    },
    {
     "data": {
      "text/plain": [
       "GridSearchCV(cv=5, estimator=LogisticRegression(random_state=0),\n",
       "             param_grid={'C': [100, 10, 1.0, 0.1, 0.01]})"
      ]
     },
     "execution_count": 127,
     "metadata": {},
     "output_type": "execute_result"
    }
   ],
   "source": [
    "#penalty = ['none', 'l1', 'l2', 'elasticnet']\n",
    "c_values = [100, 10, 1.0, 0.1, 0.01]\n",
    "param_grid = {'C' : c_values}\n",
    "lr_tfid = LogisticRegression(random_state = 0)\n",
    "lr_tfid_cv = GridSearchCV(lr_tfid, param_grid, cv = 5)\n",
    "lr_tfid_cv.fit(X_train11, y_train11)"
   ]
  },
  {
   "cell_type": "code",
   "execution_count": 128,
   "id": "472310ce",
   "metadata": {},
   "outputs": [
    {
     "name": "stdout",
     "output_type": "stream",
     "text": [
      "Best Score:0.9378749253269779\n",
      "Best Parameters: {'C': 10}\n"
     ]
    }
   ],
   "source": [
    "print(\"Best Score:\" + str(lr_tfid_cv.best_score_))\n",
    "print(\"Best Parameters: \" + str(lr_tfid_cv.best_params_))"
   ]
  },
  {
   "cell_type": "code",
   "execution_count": 129,
   "id": "fc61ef89",
   "metadata": {},
   "outputs": [
    {
     "name": "stderr",
     "output_type": "stream",
     "text": [
      "C:\\Users\\betha\\anaconda3\\lib\\site-packages\\sklearn\\linear_model\\_logistic.py:814: ConvergenceWarning: lbfgs failed to converge (status=1):\n",
      "STOP: TOTAL NO. of ITERATIONS REACHED LIMIT.\n",
      "\n",
      "Increase the number of iterations (max_iter) or scale the data as shown in:\n",
      "    https://scikit-learn.org/stable/modules/preprocessing.html\n",
      "Please also refer to the documentation for alternative solver options:\n",
      "    https://scikit-learn.org/stable/modules/linear_model.html#logistic-regression\n",
      "  n_iter_i = _check_optimize_result(\n"
     ]
    },
    {
     "data": {
      "text/plain": [
       "LogisticRegression(C=10)"
      ]
     },
     "execution_count": 129,
     "metadata": {},
     "output_type": "execute_result"
    }
   ],
   "source": [
    "lr_tfid = LogisticRegression(C = 10)\n",
    "lr_tfid.fit(X_test11, y_test11)"
   ]
  },
  {
   "cell_type": "code",
   "execution_count": 130,
   "id": "07a83434",
   "metadata": {},
   "outputs": [],
   "source": [
    "y_train_pred11 = lr_tfid.predict(X_train11)\n",
    "y_pred11 = lr_tfid.predict(X_test11)"
   ]
  },
  {
   "cell_type": "code",
   "execution_count": 131,
   "id": "037dd0d9",
   "metadata": {},
   "outputs": [
    {
     "name": "stdout",
     "output_type": "stream",
     "text": [
      "Accuracy: 0.9954320583317532\n",
      "Balanced accuracy: 0.9954333878485896\n",
      "Precision score 0.9944528665931642\n",
      "Recall score 0.9964097075983015\n",
      "F1 score 0.9954303253953198\n",
      "ROC_AUC Score 0.9954333878485897\n"
     ]
    }
   ],
   "source": [
    "accuracy_lr_tfidf = metrics.accuracy_score(y_test11,y_pred11)\n",
    "balanced_accuracy_lr_tfidf = metrics.balanced_accuracy_score(y_test11,y_pred11)\n",
    "precision_lr_tfidf = metrics.precision_score(y_test11,y_pred11, pos_label = 1)\n",
    "recall_lr_tfidf = metrics.recall_score(y_test11,y_pred11, pos_label = 1)\n",
    "f1_lr_tfidf = metrics.f1_score(y_test11, y_pred11, pos_label = 1)\n",
    "roc_auc_lr_tfidf = metrics.roc_auc_score(y_test11, y_pred11)\n",
    "print(\"Accuracy:\", accuracy_lr_tfidf)\n",
    "print(\"Balanced accuracy:\", balanced_accuracy_lr_tfidf)\n",
    "print('Precision score' , precision_lr_tfidf)\n",
    "print('Recall score' , recall_lr_tfidf)\n",
    "print('F1 score' , f1_lr_tfidf)\n",
    "print('ROC_AUC Score' , roc_auc_lr_tfidf)\n",
    "\n"
   ]
  },
  {
   "cell_type": "code",
   "execution_count": 132,
   "id": "cae01620",
   "metadata": {},
   "outputs": [
    {
     "name": "stdout",
     "output_type": "stream",
     "text": [
      "True Suicide: 28863\n",
      "False Suicide: 161\n",
      "True Non-Suicide: 28885\n",
      "False Non-Suicide: 104\n"
     ]
    }
   ],
   "source": [
    "from sklearn.metrics import confusion_matrix\n",
    "tn_lr_tfid, fp_lr_tfid, fn_lr_tfid, tp_lr_tfid = confusion_matrix(y_test11, y_pred11).ravel()\n",
    "print(f'True Suicide: {tp_lr_tfid}')\n",
    "print(f'False Suicide: {fp_lr_tfid}')\n",
    "print(f'True Non-Suicide: {tn_lr_tfid}')\n",
    "print(f'False Non-Suicide: {fn_lr_tfid}')"
   ]
  },
  {
   "cell_type": "code",
   "execution_count": 133,
   "id": "3179a477",
   "metadata": {},
   "outputs": [
    {
     "data": {
      "text/html": [
       "<div>\n",
       "<style scoped>\n",
       "    .dataframe tbody tr th:only-of-type {\n",
       "        vertical-align: middle;\n",
       "    }\n",
       "\n",
       "    .dataframe tbody tr th {\n",
       "        vertical-align: top;\n",
       "    }\n",
       "\n",
       "    .dataframe thead th {\n",
       "        text-align: right;\n",
       "    }\n",
       "</style>\n",
       "<table border=\"1\" class=\"dataframe\">\n",
       "  <thead>\n",
       "    <tr style=\"text-align: right;\">\n",
       "      <th></th>\n",
       "      <th>Predicted Non-Suicide</th>\n",
       "      <th>Predicted Suicide</th>\n",
       "    </tr>\n",
       "  </thead>\n",
       "  <tbody>\n",
       "    <tr>\n",
       "      <th>Actual Non-Suicide</th>\n",
       "      <td>28885</td>\n",
       "      <td>161</td>\n",
       "    </tr>\n",
       "    <tr>\n",
       "      <th>Actual Suicide</th>\n",
       "      <td>104</td>\n",
       "      <td>28863</td>\n",
       "    </tr>\n",
       "  </tbody>\n",
       "</table>\n",
       "</div>"
      ],
      "text/plain": [
       "                    Predicted Non-Suicide  Predicted Suicide\n",
       "Actual Non-Suicide                  28885                161\n",
       "Actual Suicide                        104              28863"
      ]
     },
     "execution_count": 133,
     "metadata": {},
     "output_type": "execute_result"
    }
   ],
   "source": [
    "pd.DataFrame(confusion_matrix(y_test11, y_pred11), columns=['Predicted Non-Suicide', \"Predicted Suicide\"], index=['Actual Non-Suicide', 'Actual Suicide'])"
   ]
  },
  {
   "cell_type": "code",
   "execution_count": 134,
   "id": "40820e75",
   "metadata": {},
   "outputs": [
    {
     "data": {
      "image/png": "[encoded data removed]",
      "text/plain": [
       "<Figure size 576x432 with 1 Axes>"
      ]
     },
     "metadata": {
      "needs_background": "light"
     },
     "output_type": "display_data"
    }
   ],
   "source": [
    "y_pred_proba11 = lr_tfid.predict_proba(X_test11)[::,1]\n",
    "fpr11, tpr11, _ = metrics.roc_curve(y_test11,  y_pred_proba11)\n",
    "plt.rcParams.update({'figure.figsize': (8, 6.0)})\n",
    "#create ROC curve\n",
    "plt.plot(fpr11,tpr11)\n",
    "plt.plot([0, 1], [0, 1],'r--')\n",
    "plt.title(\"ROC_AUC CURVE Logistic Regression with TF-IDF Vectorizer - Text Only\")\n",
    "plt.ylabel('True Positive Rate')\n",
    "plt.xlabel('False Positive Rate')\n",
    "plt.tight_layout()\n",
    "plt.savefig('ROC_AUC CURVE Logistic Regression with TF-IDF Vectorizer_Text_Only.png')"
   ]
  },
  {
   "cell_type": "markdown",
   "id": "d779f5f9",
   "metadata": {},
   "source": [
    "# Step 4l:  Logistic Regression with TF-IDF - All Features"
   ]
  },
  {
   "cell_type": "code",
   "execution_count": 135,
   "id": "1f44d8ea",
   "metadata": {},
   "outputs": [
    {
     "name": "stderr",
     "output_type": "stream",
     "text": [
      "C:\\Users\\betha\\anaconda3\\lib\\site-packages\\sklearn\\feature_extraction\\text.py:396: UserWarning: Your stop_words may be inconsistent with your preprocessing. Tokenizing the stop words generated tokens ['ll', 've'] not in stop_words.\n",
      "  warnings.warn(\n",
      "C:\\Users\\betha\\AppData\\Local\\Temp\\ipykernel_15788\\710736219.py:7: FutureWarning: Support for multi-dimensional indexing (e.g. `obj[:, None]`) is deprecated and will be removed in a future version.  Convert to a numpy array before indexing instead.\n",
      "  reading_level = scaled_features_df['flesch_kincaid'][:, None]\n",
      "C:\\Users\\betha\\AppData\\Local\\Temp\\ipykernel_15788\\710736219.py:8: FutureWarning: Support for multi-dimensional indexing (e.g. `obj[:, None]`) is deprecated and will be removed in a future version.  Convert to a numpy array before indexing instead.\n",
      "  repetition = scaled_features_df['repetition'][:, None]\n"
     ]
    }
   ],
   "source": [
    "from sklearn.feature_extraction.text import TfidfVectorizer\n",
    "vectorizor_tfid = TfidfVectorizer(min_df=3, ngram_range = (1,2), stop_words = STOP_WORDS)\n",
    "text_matrix12 = vectorizor_tfid.fit_transform(df['text'])\n",
    "text_matrix12 = text_matrix12.tocsc() \n",
    "length = scaled_features_df['length'].values[:, None]\n",
    "sentiment = scaled_features_df['sentiment'].values[:, None]\n",
    "reading_level = scaled_features_df['flesch_kincaid'][:, None]\n",
    "repetition = scaled_features_df['repetition'][:, None]\n",
    "first = hstack((text_matrix12, length))\n",
    "second = hstack((first, sentiment))\n",
    "third = hstack((second, reading_level))\n",
    "X_tfid12 = hstack((third, sentiment))\n",
    "\n",
    "y_tfid12 = df['class']"
   ]
  },
  {
   "cell_type": "code",
   "execution_count": 136,
   "id": "959e51a3",
   "metadata": {},
   "outputs": [],
   "source": [
    "X_train12, X_test12, y_train12, y_test12 = train_test_split(X_tfid12, y_tfid12, test_size=0.25, random_state=12)"
   ]
  },
  {
   "cell_type": "code",
   "execution_count": 137,
   "id": "2cc6654d",
   "metadata": {},
   "outputs": [
    {
     "name": "stderr",
     "output_type": "stream",
     "text": [
      "C:\\Users\\betha\\anaconda3\\lib\\site-packages\\sklearn\\linear_model\\_logistic.py:814: ConvergenceWarning: lbfgs failed to converge (status=1):\n",
      "STOP: TOTAL NO. of ITERATIONS REACHED LIMIT.\n",
      "\n",
      "Increase the number of iterations (max_iter) or scale the data as shown in:\n",
      "    https://scikit-learn.org/stable/modules/preprocessing.html\n",
      "Please also refer to the documentation for alternative solver options:\n",
      "    https://scikit-learn.org/stable/modules/linear_model.html#logistic-regression\n",
      "  n_iter_i = _check_optimize_result(\n",
      "C:\\Users\\betha\\anaconda3\\lib\\site-packages\\sklearn\\linear_model\\_logistic.py:814: ConvergenceWarning: lbfgs failed to converge (status=1):\n",
      "STOP: TOTAL NO. of ITERATIONS REACHED LIMIT.\n",
      "\n",
      "Increase the number of iterations (max_iter) or scale the data as shown in:\n",
      "    https://scikit-learn.org/stable/modules/preprocessing.html\n",
      "Please also refer to the documentation for alternative solver options:\n",
      "    https://scikit-learn.org/stable/modules/linear_model.html#logistic-regression\n",
      "  n_iter_i = _check_optimize_result(\n",
      "C:\\Users\\betha\\anaconda3\\lib\\site-packages\\sklearn\\linear_model\\_logistic.py:814: ConvergenceWarning: lbfgs failed to converge (status=1):\n",
      "STOP: TOTAL NO. of ITERATIONS REACHED LIMIT.\n",
      "\n",
      "Increase the number of iterations (max_iter) or scale the data as shown in:\n",
      "    https://scikit-learn.org/stable/modules/preprocessing.html\n",
      "Please also refer to the documentation for alternative solver options:\n",
      "    https://scikit-learn.org/stable/modules/linear_model.html#logistic-regression\n",
      "  n_iter_i = _check_optimize_result(\n",
      "C:\\Users\\betha\\anaconda3\\lib\\site-packages\\sklearn\\linear_model\\_logistic.py:814: ConvergenceWarning: lbfgs failed to converge (status=1):\n",
      "STOP: TOTAL NO. of ITERATIONS REACHED LIMIT.\n",
      "\n",
      "Increase the number of iterations (max_iter) or scale the data as shown in:\n",
      "    https://scikit-learn.org/stable/modules/preprocessing.html\n",
      "Please also refer to the documentation for alternative solver options:\n",
      "    https://scikit-learn.org/stable/modules/linear_model.html#logistic-regression\n",
      "  n_iter_i = _check_optimize_result(\n",
      "C:\\Users\\betha\\anaconda3\\lib\\site-packages\\sklearn\\linear_model\\_logistic.py:814: ConvergenceWarning: lbfgs failed to converge (status=1):\n",
      "STOP: TOTAL NO. of ITERATIONS REACHED LIMIT.\n",
      "\n",
      "Increase the number of iterations (max_iter) or scale the data as shown in:\n",
      "    https://scikit-learn.org/stable/modules/preprocessing.html\n",
      "Please also refer to the documentation for alternative solver options:\n",
      "    https://scikit-learn.org/stable/modules/linear_model.html#logistic-regression\n",
      "  n_iter_i = _check_optimize_result(\n",
      "C:\\Users\\betha\\anaconda3\\lib\\site-packages\\sklearn\\linear_model\\_logistic.py:814: ConvergenceWarning: lbfgs failed to converge (status=1):\n",
      "STOP: TOTAL NO. of ITERATIONS REACHED LIMIT.\n",
      "\n",
      "Increase the number of iterations (max_iter) or scale the data as shown in:\n",
      "    https://scikit-learn.org/stable/modules/preprocessing.html\n",
      "Please also refer to the documentation for alternative solver options:\n",
      "    https://scikit-learn.org/stable/modules/linear_model.html#logistic-regression\n",
      "  n_iter_i = _check_optimize_result(\n",
      "C:\\Users\\betha\\anaconda3\\lib\\site-packages\\sklearn\\linear_model\\_logistic.py:814: ConvergenceWarning: lbfgs failed to converge (status=1):\n",
      "STOP: TOTAL NO. of ITERATIONS REACHED LIMIT.\n",
      "\n",
      "Increase the number of iterations (max_iter) or scale the data as shown in:\n",
      "    https://scikit-learn.org/stable/modules/preprocessing.html\n",
      "Please also refer to the documentation for alternative solver options:\n",
      "    https://scikit-learn.org/stable/modules/linear_model.html#logistic-regression\n",
      "  n_iter_i = _check_optimize_result(\n",
      "C:\\Users\\betha\\anaconda3\\lib\\site-packages\\sklearn\\linear_model\\_logistic.py:814: ConvergenceWarning: lbfgs failed to converge (status=1):\n",
      "STOP: TOTAL NO. of ITERATIONS REACHED LIMIT.\n",
      "\n",
      "Increase the number of iterations (max_iter) or scale the data as shown in:\n",
      "    https://scikit-learn.org/stable/modules/preprocessing.html\n",
      "Please also refer to the documentation for alternative solver options:\n",
      "    https://scikit-learn.org/stable/modules/linear_model.html#logistic-regression\n",
      "  n_iter_i = _check_optimize_result(\n",
      "C:\\Users\\betha\\anaconda3\\lib\\site-packages\\sklearn\\linear_model\\_logistic.py:814: ConvergenceWarning: lbfgs failed to converge (status=1):\n",
      "STOP: TOTAL NO. of ITERATIONS REACHED LIMIT.\n",
      "\n",
      "Increase the number of iterations (max_iter) or scale the data as shown in:\n",
      "    https://scikit-learn.org/stable/modules/preprocessing.html\n",
      "Please also refer to the documentation for alternative solver options:\n",
      "    https://scikit-learn.org/stable/modules/linear_model.html#logistic-regression\n",
      "  n_iter_i = _check_optimize_result(\n",
      "C:\\Users\\betha\\anaconda3\\lib\\site-packages\\sklearn\\linear_model\\_logistic.py:814: ConvergenceWarning: lbfgs failed to converge (status=1):\n",
      "STOP: TOTAL NO. of ITERATIONS REACHED LIMIT.\n",
      "\n",
      "Increase the number of iterations (max_iter) or scale the data as shown in:\n",
      "    https://scikit-learn.org/stable/modules/preprocessing.html\n",
      "Please also refer to the documentation for alternative solver options:\n",
      "    https://scikit-learn.org/stable/modules/linear_model.html#logistic-regression\n",
      "  n_iter_i = _check_optimize_result(\n",
      "C:\\Users\\betha\\anaconda3\\lib\\site-packages\\sklearn\\linear_model\\_logistic.py:814: ConvergenceWarning: lbfgs failed to converge (status=1):\n",
      "STOP: TOTAL NO. of ITERATIONS REACHED LIMIT.\n",
      "\n",
      "Increase the number of iterations (max_iter) or scale the data as shown in:\n",
      "    https://scikit-learn.org/stable/modules/preprocessing.html\n",
      "Please also refer to the documentation for alternative solver options:\n",
      "    https://scikit-learn.org/stable/modules/linear_model.html#logistic-regression\n",
      "  n_iter_i = _check_optimize_result(\n",
      "C:\\Users\\betha\\anaconda3\\lib\\site-packages\\sklearn\\linear_model\\_logistic.py:814: ConvergenceWarning: lbfgs failed to converge (status=1):\n",
      "STOP: TOTAL NO. of ITERATIONS REACHED LIMIT.\n",
      "\n",
      "Increase the number of iterations (max_iter) or scale the data as shown in:\n",
      "    https://scikit-learn.org/stable/modules/preprocessing.html\n",
      "Please also refer to the documentation for alternative solver options:\n",
      "    https://scikit-learn.org/stable/modules/linear_model.html#logistic-regression\n",
      "  n_iter_i = _check_optimize_result(\n",
      "C:\\Users\\betha\\anaconda3\\lib\\site-packages\\sklearn\\linear_model\\_logistic.py:814: ConvergenceWarning: lbfgs failed to converge (status=1):\n",
      "STOP: TOTAL NO. of ITERATIONS REACHED LIMIT.\n",
      "\n",
      "Increase the number of iterations (max_iter) or scale the data as shown in:\n",
      "    https://scikit-learn.org/stable/modules/preprocessing.html\n",
      "Please also refer to the documentation for alternative solver options:\n",
      "    https://scikit-learn.org/stable/modules/linear_model.html#logistic-regression\n",
      "  n_iter_i = _check_optimize_result(\n",
      "C:\\Users\\betha\\anaconda3\\lib\\site-packages\\sklearn\\linear_model\\_logistic.py:814: ConvergenceWarning: lbfgs failed to converge (status=1):\n",
      "STOP: TOTAL NO. of ITERATIONS REACHED LIMIT.\n",
      "\n",
      "Increase the number of iterations (max_iter) or scale the data as shown in:\n",
      "    https://scikit-learn.org/stable/modules/preprocessing.html\n",
      "Please also refer to the documentation for alternative solver options:\n",
      "    https://scikit-learn.org/stable/modules/linear_model.html#logistic-regression\n",
      "  n_iter_i = _check_optimize_result(\n"
     ]
    },
    {
     "data": {
      "text/plain": [
       "GridSearchCV(cv=5, estimator=LogisticRegression(random_state=0),\n",
       "             param_grid={'C': [100, 10, 1.0, 0.1, 0.01]})"
      ]
     },
     "execution_count": 137,
     "metadata": {},
     "output_type": "execute_result"
    }
   ],
   "source": [
    "#penalty = ['none', 'l1', 'l2', 'elasticnet']\n",
    "c_values = [100, 10, 1.0, 0.1, 0.01]\n",
    "param_grid = {'C' : c_values}\n",
    "lr_tfid = LogisticRegression(random_state = 0)\n",
    "lr_tfid_cvi = GridSearchCV(lr_tfid, param_grid, cv = 5)\n",
    "lr_tfid_cvi.fit(X_train12, y_train12)"
   ]
  },
  {
   "cell_type": "code",
   "execution_count": 138,
   "id": "49327245",
   "metadata": {},
   "outputs": [
    {
     "name": "stdout",
     "output_type": "stream",
     "text": [
      "Best Score:0.9380473085730244\n",
      "Best Parameters: {'C': 10}\n"
     ]
    }
   ],
   "source": [
    "print(\"Best Score:\" + str(lr_tfid_cvi.best_score_))\n",
    "print(\"Best Parameters: \" + str(lr_tfid_cvi.best_params_))"
   ]
  },
  {
   "cell_type": "code",
   "execution_count": 139,
   "id": "53213664",
   "metadata": {},
   "outputs": [
    {
     "name": "stderr",
     "output_type": "stream",
     "text": [
      "C:\\Users\\betha\\anaconda3\\lib\\site-packages\\sklearn\\linear_model\\_logistic.py:814: ConvergenceWarning: lbfgs failed to converge (status=1):\n",
      "STOP: TOTAL NO. of ITERATIONS REACHED LIMIT.\n",
      "\n",
      "Increase the number of iterations (max_iter) or scale the data as shown in:\n",
      "    https://scikit-learn.org/stable/modules/preprocessing.html\n",
      "Please also refer to the documentation for alternative solver options:\n",
      "    https://scikit-learn.org/stable/modules/linear_model.html#logistic-regression\n",
      "  n_iter_i = _check_optimize_result(\n"
     ]
    },
    {
     "data": {
      "text/plain": [
       "LogisticRegression(C=10)"
      ]
     },
     "execution_count": 139,
     "metadata": {},
     "output_type": "execute_result"
    }
   ],
   "source": [
    "lr_tfidi = LogisticRegression(C = 10)\n",
    "lr_tfidi.fit(X_test12, y_test12)"
   ]
  },
  {
   "cell_type": "code",
   "execution_count": 140,
   "id": "a92a3fd0",
   "metadata": {},
   "outputs": [],
   "source": [
    "y_train_pred12 = lr_tfidi.predict(X_train12)\n",
    "y_pred12 = lr_tfidi.predict(X_test12)"
   ]
  },
  {
   "cell_type": "code",
   "execution_count": 141,
   "id": "1b64398c",
   "metadata": {},
   "outputs": [
    {
     "name": "stdout",
     "output_type": "stream",
     "text": [
      "Accuracy: 0.9955699584575871\n",
      "Balanced accuracy: 0.9955711473893412\n",
      "Precision score 0.9946929492039424\n",
      "Recall score 0.9964442296406255\n",
      "F1 score 0.9955678192636027\n",
      "ROC_AUC Score 0.9955711473893413\n"
     ]
    }
   ],
   "source": [
    "accuracy_lr_tfidfi = metrics.accuracy_score(y_test12,y_pred12)\n",
    "balanced_accuracy_lr_tfidfi = metrics.balanced_accuracy_score(y_test12,y_pred12)\n",
    "precision_lr_tfidfi = metrics.precision_score(y_test12,y_pred12, pos_label = 1)\n",
    "recall_lr_tfidfi = metrics.recall_score(y_test12,y_pred12, pos_label = 1)\n",
    "f1_lr_tfidfi = metrics.f1_score(y_test12, y_pred12, pos_label = 1)\n",
    "roc_auc_lr_tfidfi = metrics.roc_auc_score(y_test12, y_pred12)\n",
    "print(\"Accuracy:\", accuracy_lr_tfidfi)\n",
    "print(\"Balanced accuracy:\", balanced_accuracy_lr_tfidfi)\n",
    "print('Precision score' , precision_lr_tfidfi)\n",
    "print('Recall score' , recall_lr_tfidfi)\n",
    "print('F1 score' , f1_lr_tfidfi)\n",
    "print('ROC_AUC Score' , roc_auc_lr_tfidfi)\n"
   ]
  },
  {
   "cell_type": "code",
   "execution_count": 142,
   "id": "403962f2",
   "metadata": {},
   "outputs": [
    {
     "name": "stdout",
     "output_type": "stream",
     "text": [
      "True Suicide: 28864\n",
      "False Suicide: 154\n",
      "True Non-Suicide: 28892\n",
      "False Non-Suicide: 103\n"
     ]
    }
   ],
   "source": [
    "from sklearn.metrics import confusion_matrix\n",
    "tn_lr_tfidi, fp_lr_tfidi, fn_lr_tfidi, tp_lr_tfidi = confusion_matrix(y_test12, y_pred12).ravel()\n",
    "print(f'True Suicide: {tp_lr_tfidi}')\n",
    "print(f'False Suicide: {fp_lr_tfidi}')\n",
    "print(f'True Non-Suicide: {tn_lr_tfidi}')\n",
    "print(f'False Non-Suicide: {fn_lr_tfidi}')"
   ]
  },
  {
   "cell_type": "code",
   "execution_count": 143,
   "id": "e2afdde0",
   "metadata": {},
   "outputs": [
    {
     "data": {
      "text/html": [
       "<div>\n",
       "<style scoped>\n",
       "    .dataframe tbody tr th:only-of-type {\n",
       "        vertical-align: middle;\n",
       "    }\n",
       "\n",
       "    .dataframe tbody tr th {\n",
       "        vertical-align: top;\n",
       "    }\n",
       "\n",
       "    .dataframe thead th {\n",
       "        text-align: right;\n",
       "    }\n",
       "</style>\n",
       "<table border=\"1\" class=\"dataframe\">\n",
       "  <thead>\n",
       "    <tr style=\"text-align: right;\">\n",
       "      <th></th>\n",
       "      <th>Predicted Non-Suicide</th>\n",
       "      <th>Predicted Suicide</th>\n",
       "    </tr>\n",
       "  </thead>\n",
       "  <tbody>\n",
       "    <tr>\n",
       "      <th>Actual Non-Suicide</th>\n",
       "      <td>28892</td>\n",
       "      <td>154</td>\n",
       "    </tr>\n",
       "    <tr>\n",
       "      <th>Actual Suicide</th>\n",
       "      <td>103</td>\n",
       "      <td>28864</td>\n",
       "    </tr>\n",
       "  </tbody>\n",
       "</table>\n",
       "</div>"
      ],
      "text/plain": [
       "                    Predicted Non-Suicide  Predicted Suicide\n",
       "Actual Non-Suicide                  28892                154\n",
       "Actual Suicide                        103              28864"
      ]
     },
     "execution_count": 143,
     "metadata": {},
     "output_type": "execute_result"
    }
   ],
   "source": [
    "pd.DataFrame(confusion_matrix(y_test12, y_pred12), columns=['Predicted Non-Suicide', \"Predicted Suicide\"], index=['Actual Non-Suicide', 'Actual Suicide'])"
   ]
  },
  {
   "cell_type": "code",
   "execution_count": 144,
   "id": "fc88d849",
   "metadata": {},
   "outputs": [
    {
     "data": {
      "image/png": "[encoded data removed]",
      "text/plain": [
       "<Figure size 576x432 with 1 Axes>"
      ]
     },
     "metadata": {
      "needs_background": "light"
     },
     "output_type": "display_data"
    }
   ],
   "source": [
    "y_pred_proba12 = lr_tfidi.predict_proba(X_test12)[::,1]\n",
    "fpr12, tpr12, _ = metrics.roc_curve(y_test12,  y_pred_proba12)\n",
    "plt.rcParams.update({'figure.figsize': (8, 6.0)})\n",
    "#create ROC curve\n",
    "plt.plot(fpr12,tpr12)\n",
    "plt.plot([0, 1], [0, 1],'r--')\n",
    "plt.title(\"ROC_AUC CURVE Logistic Regression with TF-IDF Vectorizer - All Features\")\n",
    "plt.ylabel('True Positive Rate')\n",
    "plt.xlabel('False Positive Rate')\n",
    "plt.tight_layout()\n",
    "plt.savefig('ROC_AUC CURVE Logistic Regression with TF-IDF Vectorizer_All_Features.png')"
   ]
  },
  {
   "cell_type": "markdown",
   "id": "9b8c8e25",
   "metadata": {},
   "source": [
    "# Step 5:  Compare the models"
   ]
  },
  {
   "cell_type": "code",
   "execution_count": 145,
   "id": "4bb510d3",
   "metadata": {},
   "outputs": [
    {
     "name": "stdout",
     "output_type": "stream",
     "text": [
      " \n",
      " \n",
      "   Model                                               Accuracy    Precision    Recall    F1     ROC_AUC\n",
      "-----------------------------------------------------  ----------  -----------  --------  -----  ---------\n",
      "Naive Bayes (Count Vectorizer - Text Only)             0.919       0.89         0.956     0.922  0.919\n",
      "Naive Bayes (Count Vectorizer - All Features)          0.923       0.903        0.947     0.924  0.923\n",
      "Naive Bayes (TF-IDF - Text Only)                       0.923       0.891        0.963     0.926  0.923\n",
      "Naive Bayes (TF-IDF - All Features)                    0.926       0.903        0.956     0.928  0.926\n",
      "\n",
      "Random Forest (Count Vectorizer - Text Only)           0.896       0.89         0.905     0.897  0.896\n",
      "Random Forest (Count Vectorizer - All Features)        0.832       0.89         0.757     0.818  0.832\n",
      "Random Forest (TF-IDF - Text Only)                     0.837       0.897        0.761     0.824  0.837\n",
      "Random Forest (TF-IDF - All Features)                  0.821       0.893        0.73      0.803  0.821\n",
      "\n",
      "Logistic Regression (Count Vectorizer - Text Only)     0.935       0.948        0.92      0.934  0.935\n",
      "Logistic Regression (Count Vectorizer - All Features)  0.935       0.948        0.921     0.934  0.935\n",
      "Logistic Regression (TF-IDF - Text Only)               0.995       0.994        0.996     0.995  0.995\n",
      "Logistic Regression (TF-IDF - All Features)            0.996       0.995        0.996     0.996  0.996\n",
      "\n"
     ]
    }
   ],
   "source": [
    "from tabulate import tabulate\n",
    "d = [ [\"Naive Bayes (Count Vectorizer - Text Only)\",round(accuracy_nbcv, 3), round(precision_nbcv, 3), round(recall_nbcv, 3), round(f1_nbcv, 3), round(roc_auc_nbcv, 3)], \n",
    "     [\"Naive Bayes (Count Vectorizer - All Features)\",round(accuracy_nbcvi, 3), round(precision_nbcvi, 3), round(recall_nbcvi, 3), round(f1_nbcvi, 3), round(roc_auc_nbcvi, 3)], \n",
    "     \n",
    "     [\"Naive Bayes (TF-IDF - Text Only)\",round(accuracy_nb_tfidf, 3), round(precision_nb_tfidf, 3), round(recall_nb_tfidf, 3), round(f1_nb_tfidf, 3), round(roc_auc_nb_tfidf, 3)],\n",
    "    [\"Naive Bayes (TF-IDF - All Features)\",round(accuracy_nb_tfidfi, 3), round(precision_nb_tfidfi, 3), round(recall_nb_tfidfi, 3), round(f1_nb_tfidfi, 3), round(roc_auc_nb_tfidfi, 3)], [\"\", \"\", \"\" ,\"\", \"\", \"\"],\n",
    "    [\"Random Forest (Count Vectorizer - Text Only)\",round(accuracy_rfcv, 3), round(precision_rfcv, 3), round(recall_rfcv, 3), round(f1_rfcv, 3), round(roc_auc_rfcv, 3)], \n",
    "    [\"Random Forest (Count Vectorizer - All Features)\",round(accuracy_rfcvi, 3), round(precision_rfcvi, 3), round(recall_rfcvi, 3), round(f1_rfcvi, 3), round(roc_auc_rfcvi, 3)], \n",
    "    [\"Random Forest (TF-IDF - Text Only)\",round(accuracy_rf_tfidf, 3), round(precision_rf_tfidf, 3), round(recall_rf_tfidf, 3), round(f1_rf_tfidf, 3), round(roc_auc_rf_tfidf, 3)], \n",
    "    [\"Random Forest (TF-IDF - All Features)\",round(accuracy_rf_tfidfi, 3), round(precision_rf_tfidfi, 3), round(recall_rf_tfidfi, 3), round(f1_rf_tfidfi, 3), round(roc_auc_rf_tfidfi, 3)], [\"\", \"\", \"\" ,\"\", \"\", \"\"],\n",
    "    [\"Logistic Regression (Count Vectorizer - Text Only)\",round(accuracy_lrcv, 3), round(precision_lrcv, 3), round(recall_lrcv, 3), round(f1_lrcv, 3), round(roc_auc_lrcv, 3)], \n",
    "    [\"Logistic Regression (Count Vectorizer - All Features)\",round(accuracy_lrcvi, 3), round(precision_lrcvi, 3), round(recall_lrcvi, 3), round(f1_lrcvi, 3), round(roc_auc_lrcvi, 3)], \n",
    "    [\"Logistic Regression (TF-IDF - Text Only)\",round(accuracy_lr_tfidf, 3), round(precision_lr_tfidf, 3), round(recall_lr_tfidf, 3), round(f1_lr_tfidf, 3), round(roc_auc_lr_tfidf, 3)], \n",
    "    [\"Logistic Regression (TF-IDF - All Features)\",round(accuracy_lr_tfidfi, 3), round(precision_lr_tfidfi, 3), round(recall_lr_tfidfi, 3), round(f1_lr_tfidfi, 3), round(roc_auc_lr_tfidfi, 3)], [\"\", \"\", \"\" ,\"\", \"\", \"\"]]\n",
    "print(\" \")\n",
    "print(\" \")\n",
    "datalist2 = tabulate(d, headers=[\"   Model  \", \"Accuracy\", \"Precision\", \"Recall\", \"F1\", \"ROC_AUC\"])\n",
    "print(datalist2)"
   ]
  },
  {
   "cell_type": "code",
   "execution_count": 146,
   "id": "fe3b30b9",
   "metadata": {},
   "outputs": [
    {
     "data": {
      "image/png": "[encoded data removed]",
      "text/plain": [
       "<Figure size 864x576 with 1 Axes>"
      ]
     },
     "metadata": {
      "needs_background": "light"
     },
     "output_type": "display_data"
    }
   ],
   "source": [
    "plt.figure(figsize=(12,8))\n",
    "\n",
    "plt.plot(fpr1, tpr1, lw=2, label='ROC - Naive Bayes (Count Vectorizer - Text Only)' + ' (area = %0.2f)' % roc_auc_nbcv)\n",
    "plt.plot(fpr2, tpr2, lw=2, label='ROC - Naive Bayes (Count Vectorizer - All Features)' + ' (area = %0.2f)' % roc_auc_nbcvi)\n",
    "plt.plot(fpr3, tpr3, lw=2, label='ROC - Naive Bayes (TF-IDF - Text Only)' + ' (area = %0.2f)' % roc_auc_nb_tfidf)\n",
    "plt.plot(fpr4, tpr4, lw=2, label='ROC - Naive Bayes (TF-IDF - All Features)' + ' (area = %0.2f)' % roc_auc_nb_tfidfi)\n",
    "plt.plot(fpr5, tpr5, lw=2, label='ROC - Random Forest (Count Vectorizer - Text Only)' + ' (area = %0.2f)' % roc_auc_rfcv)\n",
    "plt.plot(fpr6, tpr6, lw=2, label='ROC - Random Forest (Count Vectorizer - All Features)' + ' (area = %0.2f)' % roc_auc_rfcvi)\n",
    "plt.plot(fpr7, tpr7, lw=2, label='ROC - Random Forest (TF-IDF - Text Only)' + ' (area = %0.2f)' % roc_auc_rf_tfidf)\n",
    "plt.plot(fpr8, tpr8, lw=2, label='ROC - Random Forest (TF-IDF - All Features)' + ' (area = %0.2f)' % roc_auc_rf_tfidfi)\n",
    "plt.plot(fpr9, tpr9, lw=2, label='ROC - Logistic Regression (Count Vectorizer - Text Only)' + ' (area = %0.2f)' % roc_auc_lrcv)\n",
    "plt.plot(fpr10, tpr10, lw=2, label='ROC - Logistic Regression (Count Vectorizer - All Features)' + ' (area = %0.2f)' % roc_auc_lrcvi)\n",
    "plt.plot(fpr11, tpr11, lw=2, label='ROC - Logistic Regression (TF-IDF - Text Only)' + ' (area = %0.2f)' % roc_auc_lr_tfidf)\n",
    "plt.plot(fpr12, tpr12, lw=2, label='ROC - Logistic Regression (TF-IDF - All Features)' + ' (area = %0.2f)' % roc_auc_lr_tfidfi)\n",
    "plt.plot([0, 1], [0, 1],'r--')\n",
    "plt.title(\"ROC_AUC CURVE Comparison of Various Models\")\n",
    "plt.ylabel('True Positive Rate')\n",
    "plt.xlabel('False Positive Rate')\n",
    "plt.legend(loc=\"lower right\")\n",
    "plt.tight_layout()\n",
    "plt.savefig('ROC_AUC CURVE Model Comparison.png')"
   ]
  },
  {
   "cell_type": "code",
   "execution_count": 147,
   "id": "8056b8b2",
   "metadata": {},
   "outputs": [
    {
     "name": "stdout",
     "output_type": "stream",
     "text": [
      " \n",
      " \n",
      "   Model                                               True Positive    False Positive    True Negative    False Negative\n",
      "-----------------------------------------------------  ---------------  ----------------  ---------------  ----------------\n",
      "Naive Bayes (Count Vectorizer - Text Only)             27685            3409              25637            1282\n",
      "Naive Bayes (Count Vectorizer - All Features)          27437            2960              26086            1530\n",
      "Naive Bayes (TF-IDF - Text Only)                       27888            3397              25649            1079\n",
      "Naive Bayes (TF-IDF - All Features)                    27683            2989              26057            1284\n",
      "\n",
      "Random Forest (Count Vectorizer - Text Only)           26212            3252              25794            2755\n",
      "Random Forest (Count Vectorizer - All Features)        21920            2698              26348            7047\n",
      "Random Forest (TF-IDF - Text Only)                     22044            2520              26526            6923\n",
      "Random Forest (TF-IDF - All Features)                  21136            2539              26507            7831\n",
      "\n",
      "Logistic Regression (Count Vectorizer - Text Only)     26652            1468              27578            2315\n",
      "Logistic Regression (Count Vectorizer - All Features)  26674            1452              27594            2293\n",
      "Logistic Regression (TF-IDF - Text Only)               28863            161               28885            104\n",
      "Logistic Regression (TF-IDF - All Features)            28864            154               28892            103\n",
      "\n"
     ]
    }
   ],
   "source": [
    "d1 = [ [\"Naive Bayes (Count Vectorizer - Text Only)\",tp_nbcv, fp_nbcv, tn_nbcv, fn_nbcv], \n",
    "     [\"Naive Bayes (Count Vectorizer - All Features)\",tp_nbcvi, fp_nbcvi, tn_nbcvi, fn_nbcvi],      \n",
    "     [\"Naive Bayes (TF-IDF - Text Only)\",tp_nb_tfidf, fp_nb_tfidf, tn_nb_tfidf, fn_nb_tfidf],\n",
    "    [\"Naive Bayes (TF-IDF - All Features)\",tp_nb_tfidfi, fp_nb_tfidfi, tn_nb_tfidfi, fn_nb_tfidfi], [\"\", \"\", \"\" ,\"\", \"\", \"\"],\n",
    "    [\"Random Forest (Count Vectorizer - Text Only)\",tp_rfcv, fp_rfcv, tn_rfcv, fn_rfcv], \n",
    "    [\"Random Forest (Count Vectorizer - All Features)\",tp_rfcvi, fp_rfcvi, tn_rfcvi, fn_rfcvi], \n",
    "    [\"Random Forest (TF-IDF - Text Only)\",tp_rf_tfid, fp_rf_tfid, tn_rf_tfid, fn_rf_tfid], \n",
    "    [\"Random Forest (TF-IDF - All Features)\",tp_rf_tfidi, fp_rf_tfidi, tn_rf_tfidi, fn_rf_tfidi], [\"\", \"\", \"\" ,\"\", \"\", \"\"],\n",
    "    [\"Logistic Regression (Count Vectorizer - Text Only)\",tp_lrcv, fp_lrcv, tn_lrcv, fn_lrcv], \n",
    "    [\"Logistic Regression (Count Vectorizer - All Features)\",tp_lrcvi, fp_lrcvi, tn_lrcvi, fn_lrcvi], \n",
    "    [\"Logistic Regression (TF-IDF - Text Only)\",tp_lr_tfid, fp_lr_tfid, tn_lr_tfid, fn_lr_tfid], \n",
    "    [\"Logistic Regression (TF-IDF - All Features)\",tp_lr_tfidi, fp_lr_tfidi, tn_lr_tfidi, fn_lr_tfidi], [\"\", \"\", \"\" ,\"\", \"\", \"\"]]\n",
    "print(\" \")\n",
    "print(\" \")\n",
    "datalist3 = tabulate(d1, headers=[\"   Model  \", \"True Positive\", \"False Positive\", \"True Negative\", \"False Negative\"])\n",
    "print(datalist3)"
   ]
  },
  {
   "cell_type": "markdown",
   "id": "7bfbabd1",
   "metadata": {},
   "source": [
    "# Step 6:  Select and review the top performing model"
   ]
  },
  {
   "cell_type": "markdown",
   "id": "ee621b34",
   "metadata": {},
   "source": [
    "Two of the twelve models analyzed utilzed a logistic regression with a TF-IDF vectorizer.  These two models performed the best of all of the models.  They were very similar in terms of their Precision, Recall, and F-1 scores.  \n",
    "\n",
    "When analyzing their confusion matrices, these two models produced similar numbers of True Positive and False Negative results. The model incorporating all features produced one more true positve and seven more true negative predictions.   Given that this model performs slightly better and is simpler, it was selected as the best model."
   ]
  },
  {
   "cell_type": "code",
   "execution_count": 148,
   "id": "82c3ac94",
   "metadata": {},
   "outputs": [
    {
     "name": "stdout",
     "output_type": "stream",
     "text": [
      "Accuracy: 0.996\n",
      "Balanced accuracy: 0.996\n",
      "Precision score 0.995\n",
      "Recall score 0.996\n",
      "F1 score 0.996\n",
      "ROC_AUC Score 0.996\n"
     ]
    }
   ],
   "source": [
    "print(\"Accuracy:\", round(accuracy_lr_tfidfi, 3))\n",
    "print(\"Balanced accuracy:\", round(balanced_accuracy_lr_tfidfi, 3))\n",
    "print('Precision score' , round(precision_lr_tfidfi, 3))\n",
    "print('Recall score' , round(recall_lr_tfidfi, 3))\n",
    "print('F1 score' , round(f1_lr_tfidfi, 3))\n",
    "print('ROC_AUC Score' , round(roc_auc_lr_tfidfi, 3))"
   ]
  },
  {
   "cell_type": "code",
   "execution_count": 149,
   "id": "529bd918",
   "metadata": {},
   "outputs": [
    {
     "name": "stdout",
     "output_type": "stream",
     "text": [
      "True Suicide: 28864\n",
      "False Suicide: 154\n",
      "True Non-Suicide: 28892\n",
      "False Non-Suicide: 103\n"
     ]
    }
   ],
   "source": [
    "tn_lr_tfid, fp_lr_tfid, fn_lr_tfid, tp_lr_tfid = confusion_matrix(y_test11, y_pred11).ravel()\n",
    "print(f'True Suicide: {tp_lr_tfidi}')\n",
    "print(f'False Suicide: {fp_lr_tfidi}')\n",
    "print(f'True Non-Suicide: {tn_lr_tfidi}')\n",
    "print(f'False Non-Suicide: {fn_lr_tfidi}')"
   ]
  },
  {
   "cell_type": "code",
   "execution_count": 150,
   "id": "d2d8b822",
   "metadata": {},
   "outputs": [
    {
     "data": {
      "text/html": [
       "<div>\n",
       "<style scoped>\n",
       "    .dataframe tbody tr th:only-of-type {\n",
       "        vertical-align: middle;\n",
       "    }\n",
       "\n",
       "    .dataframe tbody tr th {\n",
       "        vertical-align: top;\n",
       "    }\n",
       "\n",
       "    .dataframe thead th {\n",
       "        text-align: right;\n",
       "    }\n",
       "</style>\n",
       "<table border=\"1\" class=\"dataframe\">\n",
       "  <thead>\n",
       "    <tr style=\"text-align: right;\">\n",
       "      <th></th>\n",
       "      <th>Predicted Non-Suicide</th>\n",
       "      <th>Predicted Suicide</th>\n",
       "    </tr>\n",
       "  </thead>\n",
       "  <tbody>\n",
       "    <tr>\n",
       "      <th>Actual Non-Suicide</th>\n",
       "      <td>28892</td>\n",
       "      <td>154</td>\n",
       "    </tr>\n",
       "    <tr>\n",
       "      <th>Actual Suicide</th>\n",
       "      <td>103</td>\n",
       "      <td>28864</td>\n",
       "    </tr>\n",
       "  </tbody>\n",
       "</table>\n",
       "</div>"
      ],
      "text/plain": [
       "                    Predicted Non-Suicide  Predicted Suicide\n",
       "Actual Non-Suicide                  28892                154\n",
       "Actual Suicide                        103              28864"
      ]
     },
     "execution_count": 150,
     "metadata": {},
     "output_type": "execute_result"
    }
   ],
   "source": [
    "pd.DataFrame(confusion_matrix(y_test12, y_pred12), columns=['Predicted Non-Suicide', \"Predicted Suicide\"], index=['Actual Non-Suicide', 'Actual Suicide'])"
   ]
  },
  {
   "cell_type": "code",
   "execution_count": 151,
   "id": "60f443f4",
   "metadata": {},
   "outputs": [
    {
     "name": "stdout",
     "output_type": "stream",
     "text": [
      "              precision    recall  f1-score   support\n",
      "\n",
      " Non-Suicide       1.00      0.99      1.00     29046\n",
      "     Suicide       0.99      1.00      1.00     28967\n",
      "\n",
      "    accuracy                           1.00     58013\n",
      "   macro avg       1.00      1.00      1.00     58013\n",
      "weighted avg       1.00      1.00      1.00     58013\n",
      "\n"
     ]
    }
   ],
   "source": [
    "print(metrics.classification_report(y_test12, y_pred12, target_names=['Non-Suicide', 'Suicide']))"
   ]
  },
  {
   "cell_type": "code",
   "execution_count": null,
   "id": "60d27380",
   "metadata": {},
   "outputs": [],
   "source": []
  },
  {
   "cell_type": "code",
   "execution_count": 152,
   "id": "6c4f7641",
   "metadata": {},
   "outputs": [
    {
     "data": {
      "image/png": "[encoded data removed]",
      "text/plain": [
       "<Figure size 576x432 with 1 Axes>"
      ]
     },
     "metadata": {
      "needs_background": "light"
     },
     "output_type": "display_data"
    }
   ],
   "source": [
    "y_pred_proba12 = lr_tfidi.predict_proba(X_test12)[::,1]\n",
    "fpr11, tpr11, _ = metrics.roc_curve(y_test12,  y_pred_proba12)\n",
    "plt.rcParams.update({'figure.figsize': (8, 6.0)})\n",
    "#create ROC curve\n",
    "plt.plot(fpr12,tpr12)\n",
    "plt.plot([0, 1], [0, 1],'r--')\n",
    "plt.title(\"ROC_AUC CURVE Logistic Regression with TF-IDF Vectorizer - Text Only\")\n",
    "plt.ylabel('True Positive Rate')\n",
    "plt.xlabel('False Positive Rate')\n",
    "plt.tight_layout()\n",
    "plt.savefig('ROC_AUC CURVE Logistic Regression with TF-IDF Vectorizer_Text_Only.png')"
   ]
  },
  {
   "cell_type": "markdown",
   "id": "9e9573c2",
   "metadata": {},
   "source": [
    "# Step 7:  Look at Mis-Labeled Examples"
   ]
  },
  {
   "cell_type": "code",
   "execution_count": 153,
   "id": "08f7fce0",
   "metadata": {},
   "outputs": [
    {
     "name": "stderr",
     "output_type": "stream",
     "text": [
      "C:\\Users\\betha\\anaconda3\\lib\\site-packages\\sklearn\\linear_model\\_logistic.py:814: ConvergenceWarning: lbfgs failed to converge (status=1):\n",
      "STOP: TOTAL NO. of ITERATIONS REACHED LIMIT.\n",
      "\n",
      "Increase the number of iterations (max_iter) or scale the data as shown in:\n",
      "    https://scikit-learn.org/stable/modules/preprocessing.html\n",
      "Please also refer to the documentation for alternative solver options:\n",
      "    https://scikit-learn.org/stable/modules/linear_model.html#logistic-regression\n",
      "  n_iter_i = _check_optimize_result(\n"
     ]
    },
    {
     "data": {
      "text/plain": [
       "LogisticRegression(C=10)"
      ]
     },
     "execution_count": 153,
     "metadata": {},
     "output_type": "execute_result"
    }
   ],
   "source": [
    "lr_tfidi = LogisticRegression(C = 10)\n",
    "lr_tfidi.fit(X_test12, y_test12)"
   ]
  },
  {
   "cell_type": "code",
   "execution_count": 154,
   "id": "5e257eda",
   "metadata": {},
   "outputs": [],
   "source": [
    "dict1 = {'predict_proba':lr_tfidi.predict_proba(X_test12)[:, 1], 'prediction' : lr_tfidi.predict(X_test12), 'actual' :y_test12}"
   ]
  },
  {
   "cell_type": "code",
   "execution_count": 155,
   "id": "5bcffde4",
   "metadata": {},
   "outputs": [],
   "source": [
    "df_preds = pd.DataFrame(dict1)"
   ]
  },
  {
   "cell_type": "code",
   "execution_count": 156,
   "id": "1be4f2c7",
   "metadata": {},
   "outputs": [],
   "source": [
    "df_preds['sum'] = df_preds['prediction'] + df_preds['actual']\n",
    "mixed = df_preds[df_preds['sum'] == 1].reset_index()\n"
   ]
  },
  {
   "cell_type": "code",
   "execution_count": 157,
   "id": "57b63233",
   "metadata": {},
   "outputs": [],
   "source": [
    "mixed['string'] = ''"
   ]
  },
  {
   "cell_type": "code",
   "execution_count": 158,
   "id": "2be97f3c",
   "metadata": {},
   "outputs": [
    {
     "name": "stderr",
     "output_type": "stream",
     "text": [
      "C:\\Users\\betha\\AppData\\Local\\Temp\\ipykernel_15788\\420232312.py:2: SettingWithCopyWarning: \n",
      "A value is trying to be set on a copy of a slice from a DataFrame\n",
      "\n",
      "See the caveats in the documentation: https://pandas.pydata.org/pandas-docs/stable/user_guide/indexing.html#returning-a-view-versus-a-copy\n",
      "  mixed['string'].iloc[i] = df['text'].iloc[mixed['index'].iloc[i]]\n"
     ]
    }
   ],
   "source": [
    "for i in range(len(mixed)):\n",
    "    mixed['string'].iloc[i] = df['text'].iloc[mixed['index'].iloc[i]]"
   ]
  },
  {
   "cell_type": "code",
   "execution_count": 159,
   "id": "9ae44456",
   "metadata": {},
   "outputs": [
    {
     "data": {
      "text/html": [
       "<div>\n",
       "<style scoped>\n",
       "    .dataframe tbody tr th:only-of-type {\n",
       "        vertical-align: middle;\n",
       "    }\n",
       "\n",
       "    .dataframe tbody tr th {\n",
       "        vertical-align: top;\n",
       "    }\n",
       "\n",
       "    .dataframe thead th {\n",
       "        text-align: right;\n",
       "    }\n",
       "</style>\n",
       "<table border=\"1\" class=\"dataframe\">\n",
       "  <thead>\n",
       "    <tr style=\"text-align: right;\">\n",
       "      <th></th>\n",
       "      <th>index</th>\n",
       "      <th>predict_proba</th>\n",
       "      <th>prediction</th>\n",
       "      <th>actual</th>\n",
       "      <th>sum</th>\n",
       "      <th>string</th>\n",
       "    </tr>\n",
       "  </thead>\n",
       "  <tbody>\n",
       "    <tr>\n",
       "      <th>0</th>\n",
       "      <td>52828</td>\n",
       "      <td>0.640240</td>\n",
       "      <td>1</td>\n",
       "      <td>0</td>\n",
       "      <td>1</td>\n",
       "      <td>with my birthday coming up i am reminiscing a ...</td>\n",
       "    </tr>\n",
       "    <tr>\n",
       "      <th>1</th>\n",
       "      <td>17450</td>\n",
       "      <td>0.848403</td>\n",
       "      <td>1</td>\n",
       "      <td>0</td>\n",
       "      <td>1</td>\n",
       "      <td>just a thought for suicidal people i do not kn...</td>\n",
       "    </tr>\n",
       "    <tr>\n",
       "      <th>2</th>\n",
       "      <td>101855</td>\n",
       "      <td>0.591574</td>\n",
       "      <td>1</td>\n",
       "      <td>0</td>\n",
       "      <td>1</td>\n",
       "      <td>the worst joke to tell to a suicidal person wh...</td>\n",
       "    </tr>\n",
       "    <tr>\n",
       "      <th>3</th>\n",
       "      <td>172283</td>\n",
       "      <td>0.473381</td>\n",
       "      <td>0</td>\n",
       "      <td>1</td>\n",
       "      <td>1</td>\n",
       "      <td>she does notlove me and it hurts like hell</td>\n",
       "    </tr>\n",
       "  </tbody>\n",
       "</table>\n",
       "</div>"
      ],
      "text/plain": [
       "    index  predict_proba  prediction  actual  sum  \\\n",
       "0   52828       0.640240           1       0    1   \n",
       "1   17450       0.848403           1       0    1   \n",
       "2  101855       0.591574           1       0    1   \n",
       "3  172283       0.473381           0       1    1   \n",
       "\n",
       "                                              string  \n",
       "0  with my birthday coming up i am reminiscing a ...  \n",
       "1  just a thought for suicidal people i do not kn...  \n",
       "2  the worst joke to tell to a suicidal person wh...  \n",
       "3         she does notlove me and it hurts like hell  "
      ]
     },
     "execution_count": 159,
     "metadata": {},
     "output_type": "execute_result"
    }
   ],
   "source": [
    "mixed.head(4)"
   ]
  },
  {
   "cell_type": "code",
   "execution_count": 160,
   "id": "d72ec1b8",
   "metadata": {},
   "outputs": [],
   "source": [
    "false_positive = mixed[mixed['prediction'] == 1]\n",
    "false_negative = mixed[mixed['prediction'] == 0]"
   ]
  },
  {
   "cell_type": "markdown",
   "id": "df160345",
   "metadata": {},
   "source": [
    "### False Positive Cases:  Predicted Suicide but Actually Teenager"
   ]
  },
  {
   "cell_type": "code",
   "execution_count": 161,
   "id": "b7af2c5c",
   "metadata": {},
   "outputs": [],
   "source": [
    "top_false_positive = false_positive.sort_values(by = 'predict_proba', ascending = False).head()"
   ]
  },
  {
   "cell_type": "code",
   "execution_count": 162,
   "id": "ccb91f9d",
   "metadata": {},
   "outputs": [
    {
     "name": "stdout",
     "output_type": "stream",
     "text": [
      "iteration   0   i do not want to be her why\n",
      "\n",
      "iteration   1   how to talk to someone about mental health and wellbeing from someone with mental illnesses tw depression anxiety self-harm suicide\n",
      "\n",
      "this is my opinion and experience it differs with every person this is not the gospel what works for me might not work for others this is what i have noticed tends to work best with the most amount of people\n",
      "\n",
      "a few weeks ago i made a post_link_to_site_ about general mental teenage health that garnered a lot of attention and support if people are interested i am gong to write more about the topic and things i think all people should know whether or not you suffer so without further ado i present\n",
      "\n",
      "how to talk to someone with mental illness about mental health from someone with mental illnesses\n",
      "\n",
      "the most important thing to understand first imo is that mental illness is not a choice the science is complex and super fucking interesting but the tldr is that ther are lots of chemicals governing your emotions in your brain happiness hormones sadness joy and mental illnesses are usually caused by an imbalance of them this is measurable medically treatable and a fact mental illness is as much a choice as your height gender race or sexuality is this tips-which i follow on a daily basis is not only for people with diagnosed depression or anxiety it is how to talk to someone who needs support mental illness is a lonely fight and having someone in your corner supporting you can be literally life-changing part of the shittiness of mental illness is that it is very individual what works for some people will not work for others but this is what i have noticed usually helps me and others i talk to i use the term ‘mental illness’ instead of depression anxiety ptsd or any other of the dsm the dictionary of mental illnesses terms mental illness is not a clean-cut diagnosis for instance i have diagnosed depression and anxiety but take medication that helps people with bipolar type  symptoms and actions across the definitons cross over plenty and trying to box in someone is struggles especially if you are not a psychiatrist is pointless\n",
      "\n",
      "some things to avoid \\~\n",
      "\n",
      " minimize their issues a friend of mine is fond of saying “god only gives us the battles we can fight” despite the fact i am a staunch atheist i do think that the challenges we face are over-comeable but just because someone has it ‘wors’ or ‘better’ does not necessarily mean they are struggling more or less\n",
      " tell them to snap out of it mental illness is a long and difficult slog and it is impossible just to ‘decide to be happy’ it is as impossible as deciding not to have a cold or deciding not to have a broken arm\n",
      " make it about you i try to avoid advice or things of that nature when talking to a friend in need when i am in a depressive episode or panic attack i do not actually hear or listen to what you are saying i hear your tone body language and expression\n",
      " shit on normal treatment methods even though something like therapy might not work for you it might work for others do not blow off medication psychiatry or other treatments\n",
      "\n",
      "good phrases actions \\~\n",
      "\n",
      " i am her for you\n",
      " come talk to me if you need me\n",
      " just a hug\n",
      " spontaneous textsmemes\n",
      " how are you dong\n",
      " i love you\n",
      " listen do not talk\n",
      " open-ended questions are best  \n",
      "\n",
      "    not just yesno\n",
      "    urge them to open up but do not push\n",
      " focus on breathing  \n",
      "\n",
      "    i use the ----_link_to_site_ coping mechanism during attacks wher you list five things you can see four things you can touch three you can year two you can smell and one you can taste\n",
      "\n",
      "links _link_to_site_ _link_to_site_ _link_to_site_ _link_to_site_\n",
      "\n",
      "everything boils down to one core idea\\~\\~\\~\\~\\~ support do not guide \\~\\~\\~\\~\\~\n",
      "\n",
      "unless someone explicitly asks for advice on something it usually either just ‘bounces off’ or even makes someone feel unheard or unlistened to having support while fighting mental illness is an important tool but at the end of the day it is a solo fight when it comes down to it it does not truly matter how supportive and loving my friends are it is just me and the great powerful beast of my depression anxiety and bipolar tendencies in the darkness of my mind during those fights none of my friends can help me they can not stop the intrusive thoughts or the urge to self-harm but i know i can call them or talk to them i know they can listen while i wrestle with it be a shoulder to cry on sometimes just being told i am loved having that affirmation in my mind is enough to pull me out into the light you have to fight alone but you do not need to be alone\n",
      "\n",
      "a note about self-harm and suicide \\~\n",
      "\n",
      "in my opinion self-harm and suicide are some of the most difficult conversations to have with someone especially when talking about yourself to be honest i still do not know the right thing to do when a friend tells me they are self-harming or thinking about it however her are some things to know\n",
      "\n",
      " scars demanding to see them or calling attention to them is embarrassing as someone with visible scars it makes me super uncomfortable when someone asks about them especially if you know that the person in question is not actively self-harming anymore calling it out especially publicly is pointless and harmful if anything active wounds are a different issue see below\n",
      " contact if someone you know is threatening or is actively self-harming gong to a professional or adult parent administrator family member anyone trustworthy can be a solid bet they are happy to keep you anonymous i have had to step forward to parents several times in the past and while it is a difficult conversation to have it is vital\n",
      " threatening people according to my therapist who actively threaten suicide will not actually go through with it however if someone you know is threatening it please sit down with them and have a conversation to find out if they are planning on hurting themselves if they are get help some signs_link_to_site_\n",
      " why honestly i do not know i still do not know asking usually gets no useful or real answer why is not important the next steps are\n",
      "\n",
      "final words \\~\n",
      "\n",
      "just because your friend or someone you know is struggling that does not mean to forget about yourself sometimes people try to ‘offload’ their issues trying to share the burden it does not work and only harms both parties if you need space from someone take it i have had to leave behind friends who were using me as their personal therapist because it began to affect my mental health it is not selfish to put yourself first help others if you are able but set aside the time you need for yourself if talking and supporting your friend is mental health is hurting yours take a step back with them\n",
      "\n",
      "in this post i use mental illness and mental health interchangeably however they are pretty different things but related this is a clarification that i am speaking about emotional mental illnesses such as depression anxiety bipolar disorder and ocd mental illness also covers autism attention disorders aspergers and more\n",
      "\n",
      "thanks for reading and hopefully someone finds this useful please let me know if ther is anything inaccurate or something i should add—i am happy to edit it after the fact the posts keep dying in new but hopefully this one gets some attention\n",
      "\n",
      "if people like this one too ther are a few ideas i have for future posts anxietypanic attacks more on self-harm good practices for self-care good things to readconsume places to find help\n",
      "\n",
      "you are not alone we love you you are worth it\n",
      "\n",
      "iteration   2   how are you how do you feel\n",
      "\n",
      "iteration   3   my incomplete guide to avoiding suicide hey guys every time i pop in her i see quite a few posts about feeling suicidal i am  now but when i was  i attempted suicide and i spent the rest of my teens wishing i had died i thought that it might help someone to share some of the things i did that kept me alive in additon to seeking professional help \n",
      "\n",
      "\n",
      " make it inconvenient as hell for you to actually go through with it i set rules for myself i have to get rid of all my stuff first i have to write a series of notes to people who matter to me etc depression is exhausting and i am lazy at the best of times so i never got around to dong those things when all else failed this is the single thing that is saved my life countless times\n",
      "\n",
      " imagine how people would feel if they cared about you i often felt like it would not matter to anyone or even make their life better if i killed myself ask yourself what would happen to them if you were wrong\n",
      "\n",
      " do anything besides drugs that will turn take up your conscious attention often i exclude drugs because i personally felt wors when i got high no matter what the drug was i felt like i was paying to have fun and had just thrown my money out the window and then i got to feel physically and mentally shitty the next day what worked better for me was to go for long drives wher i intentionally got lost and found my way home insert your distraction of choice her you do not always have to be productive \n",
      "\n",
      " let yourself imagine a positve future without worrying about getting ther everyone i know who is really cool and interesting tried a bunch of things before they found something that works for them and none of them did things as expected of them everything i have ever done has been a learning experience even if it sucked as a teenager ther is a ton of pressure on you to get ready for college and to know exactly what you want to do with your life fuck that i think it is a great idea to go to college because it makes it a lot easier to get a job but the fact is most graduates do not end up with a job in their field instead of struggling to make a plan while you are suicidal just think about things you would still like to do sometime you can get ther\n",
      "\n",
      " challenge your thinking i grew up in a family of mentally ill andor toxic people i learned to look at how they handled problems as a roadmap of what not to do this is gong to sound like some new age bullshit but change the story you tell yourself it is hard to go against habit but try tackling a problem in a new way for example i had a nasty habit of lashing out at people to drive them away because i thought they did not care about me this should not be surprising but it did not fucking help even a little i started taking breaks from people instead of lashing out and they in turn were better able to support me when i needed them\n",
      "\n",
      " try to remember that you will feel better sometime this one is hardest i think it took me a really long time to find joy in things again but i do not want that to put you off my life is better now because i was suicidal i have more empathy i am more passionate about what i do with my time and i love my wife with everything i have it is slow but ther will come a time when things just gradually get easier problems do not change necessarily but they become easier to deal with they do not weigh on you as much you can just live without your head buzzing all the time \n",
      "\n",
      "\n",
      "i hope this helps somebody you guys get a lot of shit but as a generation you are smart as hell effective activists and general badasses i can not wait for you to be free in the world\n",
      "\n",
      "iteration   4   i do not even know i have tried keeping my thoughts in because i do not want to burden people but i have got an essay due tomorrow that i have barely started and i can barely focus so i just need to get my thoughts out\n",
      "\n",
      "i wanna die but i do not want to kill myself i just wish i had some bad accident and suddenly died i do not have the guts to jump off or cut deeper which is why i wish i would just accidentally get hit by a truck or something living is such a pain i just hate being alive and a majority of the things that come attached to it waking up gong to school playing games watching yt it is all stuff i used to enjoy and look forward to but nowadays i dread the thought of it i just want to sleep forever not to mention i am an asshole to basically all my friends i can think of a select group of people who might be upset if i were gone but i would imagine they would get over it eventually not to mention eventually i will die eventually and my whole life would have been pointless from start to finish ultimately i would just be speeding of the process of life by offing myself yet i still can not fucking do it i will go to the pipe stare down yet i can not jump i just do not have the guts to do it it would be so easy and the moment i make the choice i would not have to worry about anything anymore i would be in peace i just want to die but it is so difficult i am easily replaceable in life and i am not a very significant person so why is it so goddamn difficult especially considering how easy it would be to off myself and how good the payoff for me would be i do not know why i can not do it it feels like i am stuck sometimes weird thing about it is i can not even cry about the thought of who i would be leaving behind granted i would feel bad for causing them trouble i do not want to cause anybody trouble i just want to disappear from this earth without a trace of me left physically and mentally in a way wher nobody remembers me and everything i did it had would just disappear with me that would be nice that way nobody would be upset i do not even know wher i am gong in life whenever i try to picture a future for myself my mind goes blank i can not foresee having a future i mean it is not like i am dong much with my life considering a decent chunk of my time is spent asleep in bed i just do not fucking know \n",
      "\n",
      "tldr i wanna die but i do not want to kill myself because that is scary\n",
      "\n",
      "i am sorry this is probably super disjointed but it did help me clear my mind a little bit hopefully i will get the essay done before tomorrow goodbye \n",
      "\n",
      "ps sorry for dumping my thoughts\n",
      "\n"
     ]
    }
   ],
   "source": [
    "for i in range(0, 5):\n",
    "    print('iteration  ' , i , ' ', top_false_positive['string'].iloc[i])\n",
    "    print('')"
   ]
  },
  {
   "cell_type": "markdown",
   "id": "8f42e9c1",
   "metadata": {},
   "source": [
    "When looking at mislabeled false positives, it seems that the content of four of the five posts most predicted to be about suicide actually are about suicide.  Based on a review of these posts, it seems that most of them are about suicide or suicide prevention even though they are posted in the 'teenager' forum."
   ]
  },
  {
   "cell_type": "markdown",
   "id": "cce78391",
   "metadata": {},
   "source": [
    "### False Negative Cases:  Predicted Teenager but Actually in the Suicide Forum"
   ]
  },
  {
   "cell_type": "code",
   "execution_count": 163,
   "id": "6f49e560",
   "metadata": {},
   "outputs": [],
   "source": [
    "top_false_negative = false_negative.sort_values(by = 'predict_proba', ascending = True).head()"
   ]
  },
  {
   "cell_type": "code",
   "execution_count": 164,
   "id": "1045bcd0",
   "metadata": {},
   "outputs": [
    {
     "name": "stdout",
     "output_type": "stream",
     "text": [
      "iteration   0   advice maybedeleted\n",
      "\n",
      "iteration   1   i am doneclick this _link_to_site_\n",
      "\n",
      "iteration   2   ---     - --  -- -  -   --  - -  -- - - - -- -      -- -- -   --- -  - --  --   - - -  -  - -        - -  --- - - -    --- - - --- -    -- - - - --- -  -  -     -- - - - --- -  -    - - - -- --  -   -  -- ---   - -  - --- - ---  -- ---   --- - -  - --  --  - -  - - - - --  -    -   - - --  -  -- ---    --  -  - - --  -  -- ---   --   --   - - --  -  -- ---    - -  - --  - - --  -  -- ---  - - --   - - --  -  -- ---  -  --   - - --  -  -- ---   --- - -  -  - -  --   --  -   -  -    -    - -\n",
      "\n",
      "iteration   3   -        -                             -          - \n",
      "\n",
      "                    -        \n",
      "\n",
      " -\n",
      "\n",
      "iteration   4   over itᗰ ᔕo ᖇeᗩᗪy to eᑎᗪ it ím ѕσ ѕtrєѕѕєd σut wíth mч kídѕ thєч dσnt líѕtєn tσ mє thєч tєll mє thєч hαtє mє thєч dσnt lσvє mє thєч lσvє thєír dαd mσrє thєч wíѕh í wαѕ dєαd thє líѕt gσєѕ σn\n",
      "\n"
     ]
    }
   ],
   "source": [
    "for i in range(0, 5):\n",
    "    print('iteration  ' , i , ' ', top_false_negative['string'].iloc[i])\n",
    "    print('')"
   ]
  },
  {
   "cell_type": "markdown",
   "id": "faae1126",
   "metadata": {},
   "source": [
    "Looking at the posts in the False Negative section.  In my mind I would classify at least one of these as potentially suicidal. however the key part of this post has misspellings / words with unexpected spelling and so it may not be interpreted properly because of how it was typed into the forum.  Four of the five do not seem to be about suicide at all as two just have dashes and  do not contain any words.  "
   ]
  },
  {
   "cell_type": "markdown",
   "id": "852d9b24",
   "metadata": {},
   "source": [
    "# Step 8:  Thresholding"
   ]
  },
  {
   "cell_type": "code",
   "execution_count": 165,
   "id": "02d36e80",
   "metadata": {},
   "outputs": [],
   "source": [
    "# What do we care about?  \n",
    "# Definitions:  1) True Positive:  Predicted as Suicide and Actually were suicide\n",
    "#               2) True Negative:  Predicted as Non-Suicide and were non-suicide\n",
    "#               3)  False Positive:  Predicted as Suicide and were not suicie\n",
    "#               4)  False Negative:  Predicted as non-suicide and WERE ACTUALLY SUICIDE\n",
    "\n",
    "#    precision = tp/(tp+fp)\n",
    "#    recall =  tp/(tp+fn)\n",
    "\n",
    "# F1 = Harmonic mean of precision and recall\n",
    "# Fbeta adjusts the weighting of precision and recall F2 increases importance of recall F0.5 increases weighting of precision\n",
    "\n",
    "#  Ultimately if we are predicting who is suicidal and we predict :\n",
    "#  False Positive...perhaps attention is paid to an individual who is not really suicidal\n",
    "#  False Negative...someone who is really suicidal is ignored\n",
    "\n",
    "#  THEREFORE  we care more about False Negative \n",
    "#  any Fbeta score should weigh RECALL more than precision  "
   ]
  },
  {
   "cell_type": "code",
   "execution_count": 166,
   "id": "f031f601",
   "metadata": {},
   "outputs": [
    {
     "name": "stderr",
     "output_type": "stream",
     "text": [
      "C:\\Users\\betha\\anaconda3\\lib\\site-packages\\sklearn\\metrics\\_classification.py:1318: UndefinedMetricWarning: Precision is ill-defined and being set to 0.0 due to no predicted samples. Use `zero_division` parameter to control this behavior.\n",
      "  _warn_prf(average, modifier, msg_start, len(result))\n"
     ]
    }
   ],
   "source": [
    "from sklearn import tree, metrics\n",
    "from sklearn.metrics import fbeta_score\n",
    "d = []\n",
    "for i in [0, 0.05, 0.1, 0.15, 0.2, 0.25, 0.3, 0.35, 0.4, 0.45, 0.5, 0.55, 0.6, 0.65, 0.7, 0.75, 0.8, 0.85, 0.9, 0.95, 1 ]:\n",
    "    y_pred = (lr_tfidi.predict_proba(X_test12)[:,1] >= i).astype(bool)\n",
    "    precision = metrics.precision_score(y_test12,y_pred, pos_label = 1)\n",
    "    recall = metrics.recall_score(y_test12, y_pred, pos_label = 1)\n",
    "    f_beta = fbeta_score(y_test12, y_pred, beta=2)\n",
    "    tn_lr_tfidi, fp_lr_tfidi, fn_lr_tfidi, tp_lr_tfidi = confusion_matrix(y_test12, y_pred).ravel()\n",
    "    d.append((i, precision, recall, f_beta, tp_lr_tfidi, fp_lr_tfidi, tn_lr_tfidi, fn_lr_tfidi))"
   ]
  },
  {
   "cell_type": "code",
   "execution_count": 167,
   "id": "38eb605f",
   "metadata": {},
   "outputs": [],
   "source": [
    "df_threshold = pd.DataFrame(d, columns = ('Threshold', 'Precision', 'Recall', 'F-2 Score', 'True Positive', 'False Positive', 'True_Negative', 'False Negative'))\n"
   ]
  },
  {
   "cell_type": "code",
   "execution_count": 168,
   "id": "2f5f72ef",
   "metadata": {},
   "outputs": [
    {
     "data": {
      "text/html": [
       "<div>\n",
       "<style scoped>\n",
       "    .dataframe tbody tr th:only-of-type {\n",
       "        vertical-align: middle;\n",
       "    }\n",
       "\n",
       "    .dataframe tbody tr th {\n",
       "        vertical-align: top;\n",
       "    }\n",
       "\n",
       "    .dataframe thead th {\n",
       "        text-align: right;\n",
       "    }\n",
       "</style>\n",
       "<table border=\"1\" class=\"dataframe\">\n",
       "  <thead>\n",
       "    <tr style=\"text-align: right;\">\n",
       "      <th></th>\n",
       "      <th>Threshold</th>\n",
       "      <th>Precision</th>\n",
       "      <th>Recall</th>\n",
       "      <th>F-2 Score</th>\n",
       "      <th>True Positive</th>\n",
       "      <th>False Positive</th>\n",
       "      <th>True_Negative</th>\n",
       "      <th>False Negative</th>\n",
       "      <th>FPR</th>\n",
       "      <th>TPR</th>\n",
       "      <th>TPR - (1-FPR)</th>\n",
       "    </tr>\n",
       "  </thead>\n",
       "  <tbody>\n",
       "    <tr>\n",
       "      <th>20</th>\n",
       "      <td>1.00</td>\n",
       "      <td>0.000000</td>\n",
       "      <td>0.000000</td>\n",
       "      <td>0.000000</td>\n",
       "      <td>0</td>\n",
       "      <td>0</td>\n",
       "      <td>29046</td>\n",
       "      <td>28967</td>\n",
       "      <td>0.000000</td>\n",
       "      <td>0.000000</td>\n",
       "      <td>-1.000000</td>\n",
       "    </tr>\n",
       "    <tr>\n",
       "      <th>19</th>\n",
       "      <td>0.95</td>\n",
       "      <td>0.999753</td>\n",
       "      <td>0.699313</td>\n",
       "      <td>0.744031</td>\n",
       "      <td>20257</td>\n",
       "      <td>5</td>\n",
       "      <td>29041</td>\n",
       "      <td>8710</td>\n",
       "      <td>0.000172</td>\n",
       "      <td>0.699313</td>\n",
       "      <td>-0.300515</td>\n",
       "    </tr>\n",
       "    <tr>\n",
       "      <th>18</th>\n",
       "      <td>0.90</td>\n",
       "      <td>0.999621</td>\n",
       "      <td>0.819933</td>\n",
       "      <td>0.850510</td>\n",
       "      <td>23751</td>\n",
       "      <td>9</td>\n",
       "      <td>29037</td>\n",
       "      <td>5216</td>\n",
       "      <td>0.000310</td>\n",
       "      <td>0.819933</td>\n",
       "      <td>-0.179757</td>\n",
       "    </tr>\n",
       "    <tr>\n",
       "      <th>17</th>\n",
       "      <td>0.85</td>\n",
       "      <td>0.999572</td>\n",
       "      <td>0.887424</td>\n",
       "      <td>0.907794</td>\n",
       "      <td>25706</td>\n",
       "      <td>11</td>\n",
       "      <td>29035</td>\n",
       "      <td>3261</td>\n",
       "      <td>0.000379</td>\n",
       "      <td>0.887424</td>\n",
       "      <td>-0.112198</td>\n",
       "    </tr>\n",
       "    <tr>\n",
       "      <th>16</th>\n",
       "      <td>0.80</td>\n",
       "      <td>0.999370</td>\n",
       "      <td>0.931059</td>\n",
       "      <td>0.943964</td>\n",
       "      <td>26970</td>\n",
       "      <td>17</td>\n",
       "      <td>29029</td>\n",
       "      <td>1997</td>\n",
       "      <td>0.000585</td>\n",
       "      <td>0.931059</td>\n",
       "      <td>-0.068355</td>\n",
       "    </tr>\n",
       "  </tbody>\n",
       "</table>\n",
       "</div>"
      ],
      "text/plain": [
       "    Threshold  Precision    Recall  F-2 Score  True Positive  False Positive  \\\n",
       "20       1.00   0.000000  0.000000   0.000000              0               0   \n",
       "19       0.95   0.999753  0.699313   0.744031          20257               5   \n",
       "18       0.90   0.999621  0.819933   0.850510          23751               9   \n",
       "17       0.85   0.999572  0.887424   0.907794          25706              11   \n",
       "16       0.80   0.999370  0.931059   0.943964          26970              17   \n",
       "\n",
       "    True_Negative  False Negative       FPR       TPR  TPR - (1-FPR)  \n",
       "20          29046           28967  0.000000  0.000000      -1.000000  \n",
       "19          29041            8710  0.000172  0.699313      -0.300515  \n",
       "18          29037            5216  0.000310  0.819933      -0.179757  \n",
       "17          29035            3261  0.000379  0.887424      -0.112198  \n",
       "16          29029            1997  0.000585  0.931059      -0.068355  "
      ]
     },
     "execution_count": 168,
     "metadata": {},
     "output_type": "execute_result"
    }
   ],
   "source": [
    "df_threshold['FPR'] = df_threshold['False Positive'] / (df_threshold['True_Negative'] + df_threshold['False Positive'])\n",
    "df_threshold['TPR'] = df_threshold['True Positive'] / (df_threshold['True Positive'] + df_threshold['False Negative'])\n",
    "df_threshold['TPR - (1-FPR)'] = df_threshold['TPR'] - (1 - df_threshold['FPR'])\n",
    "df_threshold.sort_values(by = ['TPR - (1-FPR)'], ascending = True).head()"
   ]
  },
  {
   "cell_type": "code",
   "execution_count": 169,
   "id": "e6e4ef01",
   "metadata": {},
   "outputs": [],
   "source": [
    "x = df_threshold['Threshold']\n",
    "y1 = df_threshold['Precision']"
   ]
  },
  {
   "cell_type": "code",
   "execution_count": 170,
   "id": "3fd8aa73",
   "metadata": {},
   "outputs": [
    {
     "data": {
      "text/html": [
       "<div>\n",
       "<style scoped>\n",
       "    .dataframe tbody tr th:only-of-type {\n",
       "        vertical-align: middle;\n",
       "    }\n",
       "\n",
       "    .dataframe tbody tr th {\n",
       "        vertical-align: top;\n",
       "    }\n",
       "\n",
       "    .dataframe thead th {\n",
       "        text-align: right;\n",
       "    }\n",
       "</style>\n",
       "<table border=\"1\" class=\"dataframe\">\n",
       "  <thead>\n",
       "    <tr style=\"text-align: right;\">\n",
       "      <th></th>\n",
       "      <th>Precision</th>\n",
       "      <th>Recall</th>\n",
       "      <th>F-2 Score</th>\n",
       "      <th>True Positive</th>\n",
       "      <th>False Positive</th>\n",
       "      <th>True_Negative</th>\n",
       "      <th>False Negative</th>\n",
       "      <th>FPR</th>\n",
       "      <th>TPR</th>\n",
       "      <th>TPR - (1-FPR)</th>\n",
       "    </tr>\n",
       "    <tr>\n",
       "      <th>Threshold</th>\n",
       "      <th></th>\n",
       "      <th></th>\n",
       "      <th></th>\n",
       "      <th></th>\n",
       "      <th></th>\n",
       "      <th></th>\n",
       "      <th></th>\n",
       "      <th></th>\n",
       "      <th></th>\n",
       "      <th></th>\n",
       "    </tr>\n",
       "  </thead>\n",
       "  <tbody>\n",
       "    <tr>\n",
       "      <th>0.00</th>\n",
       "      <td>0.499319</td>\n",
       "      <td>1.000000</td>\n",
       "      <td>0.832955</td>\n",
       "      <td>28967</td>\n",
       "      <td>29046</td>\n",
       "      <td>0</td>\n",
       "      <td>0</td>\n",
       "      <td>1.000000</td>\n",
       "      <td>1.000000</td>\n",
       "      <td>1.000000</td>\n",
       "    </tr>\n",
       "    <tr>\n",
       "      <th>0.05</th>\n",
       "      <td>0.764490</td>\n",
       "      <td>0.999931</td>\n",
       "      <td>0.941914</td>\n",
       "      <td>28965</td>\n",
       "      <td>8923</td>\n",
       "      <td>20123</td>\n",
       "      <td>2</td>\n",
       "      <td>0.307202</td>\n",
       "      <td>0.999931</td>\n",
       "      <td>0.307133</td>\n",
       "    </tr>\n",
       "    <tr>\n",
       "      <th>0.10</th>\n",
       "      <td>0.872659</td>\n",
       "      <td>0.999068</td>\n",
       "      <td>0.970939</td>\n",
       "      <td>28940</td>\n",
       "      <td>4223</td>\n",
       "      <td>24823</td>\n",
       "      <td>27</td>\n",
       "      <td>0.145390</td>\n",
       "      <td>0.999068</td>\n",
       "      <td>0.144458</td>\n",
       "    </tr>\n",
       "    <tr>\n",
       "      <th>0.15</th>\n",
       "      <td>0.923185</td>\n",
       "      <td>0.999068</td>\n",
       "      <td>0.982909</td>\n",
       "      <td>28940</td>\n",
       "      <td>2408</td>\n",
       "      <td>26638</td>\n",
       "      <td>27</td>\n",
       "      <td>0.082903</td>\n",
       "      <td>0.999068</td>\n",
       "      <td>0.081971</td>\n",
       "    </tr>\n",
       "    <tr>\n",
       "      <th>0.20</th>\n",
       "      <td>0.951687</td>\n",
       "      <td>0.998964</td>\n",
       "      <td>0.989137</td>\n",
       "      <td>28937</td>\n",
       "      <td>1469</td>\n",
       "      <td>27577</td>\n",
       "      <td>30</td>\n",
       "      <td>0.050575</td>\n",
       "      <td>0.998964</td>\n",
       "      <td>0.049539</td>\n",
       "    </tr>\n",
       "    <tr>\n",
       "      <th>0.25</th>\n",
       "      <td>0.967111</td>\n",
       "      <td>0.998895</td>\n",
       "      <td>0.992372</td>\n",
       "      <td>28935</td>\n",
       "      <td>984</td>\n",
       "      <td>28062</td>\n",
       "      <td>32</td>\n",
       "      <td>0.033877</td>\n",
       "      <td>0.998895</td>\n",
       "      <td>0.032773</td>\n",
       "    </tr>\n",
       "    <tr>\n",
       "      <th>0.30</th>\n",
       "      <td>0.977927</td>\n",
       "      <td>0.998723</td>\n",
       "      <td>0.994493</td>\n",
       "      <td>28930</td>\n",
       "      <td>653</td>\n",
       "      <td>28393</td>\n",
       "      <td>37</td>\n",
       "      <td>0.022482</td>\n",
       "      <td>0.998723</td>\n",
       "      <td>0.021204</td>\n",
       "    </tr>\n",
       "    <tr>\n",
       "      <th>0.35</th>\n",
       "      <td>0.985452</td>\n",
       "      <td>0.998550</td>\n",
       "      <td>0.995903</td>\n",
       "      <td>28925</td>\n",
       "      <td>427</td>\n",
       "      <td>28619</td>\n",
       "      <td>42</td>\n",
       "      <td>0.014701</td>\n",
       "      <td>0.998550</td>\n",
       "      <td>0.013251</td>\n",
       "    </tr>\n",
       "    <tr>\n",
       "      <th>0.40</th>\n",
       "      <td>0.990105</td>\n",
       "      <td>0.998274</td>\n",
       "      <td>0.996629</td>\n",
       "      <td>28917</td>\n",
       "      <td>289</td>\n",
       "      <td>28757</td>\n",
       "      <td>50</td>\n",
       "      <td>0.009950</td>\n",
       "      <td>0.998274</td>\n",
       "      <td>0.008224</td>\n",
       "    </tr>\n",
       "    <tr>\n",
       "      <th>0.45</th>\n",
       "      <td>0.992785</td>\n",
       "      <td>0.997514</td>\n",
       "      <td>0.996565</td>\n",
       "      <td>28895</td>\n",
       "      <td>210</td>\n",
       "      <td>28836</td>\n",
       "      <td>72</td>\n",
       "      <td>0.007230</td>\n",
       "      <td>0.997514</td>\n",
       "      <td>0.004744</td>\n",
       "    </tr>\n",
       "    <tr>\n",
       "      <th>0.50</th>\n",
       "      <td>0.994693</td>\n",
       "      <td>0.996444</td>\n",
       "      <td>0.996093</td>\n",
       "      <td>28864</td>\n",
       "      <td>154</td>\n",
       "      <td>28892</td>\n",
       "      <td>103</td>\n",
       "      <td>0.005302</td>\n",
       "      <td>0.996444</td>\n",
       "      <td>0.001746</td>\n",
       "    </tr>\n",
       "    <tr>\n",
       "      <th>0.55</th>\n",
       "      <td>0.996576</td>\n",
       "      <td>0.994718</td>\n",
       "      <td>0.995089</td>\n",
       "      <td>28814</td>\n",
       "      <td>99</td>\n",
       "      <td>28947</td>\n",
       "      <td>153</td>\n",
       "      <td>0.003408</td>\n",
       "      <td>0.994718</td>\n",
       "      <td>-0.001873</td>\n",
       "    </tr>\n",
       "    <tr>\n",
       "      <th>0.60</th>\n",
       "      <td>0.997603</td>\n",
       "      <td>0.991197</td>\n",
       "      <td>0.992471</td>\n",
       "      <td>28712</td>\n",
       "      <td>69</td>\n",
       "      <td>28977</td>\n",
       "      <td>255</td>\n",
       "      <td>0.002376</td>\n",
       "      <td>0.991197</td>\n",
       "      <td>-0.006428</td>\n",
       "    </tr>\n",
       "    <tr>\n",
       "      <th>0.65</th>\n",
       "      <td>0.998459</td>\n",
       "      <td>0.984154</td>\n",
       "      <td>0.986982</td>\n",
       "      <td>28508</td>\n",
       "      <td>44</td>\n",
       "      <td>29002</td>\n",
       "      <td>459</td>\n",
       "      <td>0.001515</td>\n",
       "      <td>0.984154</td>\n",
       "      <td>-0.014331</td>\n",
       "    </tr>\n",
       "    <tr>\n",
       "      <th>0.70</th>\n",
       "      <td>0.998868</td>\n",
       "      <td>0.975179</td>\n",
       "      <td>0.979826</td>\n",
       "      <td>28248</td>\n",
       "      <td>32</td>\n",
       "      <td>29014</td>\n",
       "      <td>719</td>\n",
       "      <td>0.001102</td>\n",
       "      <td>0.975179</td>\n",
       "      <td>-0.023720</td>\n",
       "    </tr>\n",
       "    <tr>\n",
       "      <th>0.75</th>\n",
       "      <td>0.999136</td>\n",
       "      <td>0.958470</td>\n",
       "      <td>0.966336</td>\n",
       "      <td>27764</td>\n",
       "      <td>24</td>\n",
       "      <td>29022</td>\n",
       "      <td>1203</td>\n",
       "      <td>0.000826</td>\n",
       "      <td>0.958470</td>\n",
       "      <td>-0.040704</td>\n",
       "    </tr>\n",
       "    <tr>\n",
       "      <th>0.80</th>\n",
       "      <td>0.999370</td>\n",
       "      <td>0.931059</td>\n",
       "      <td>0.943964</td>\n",
       "      <td>26970</td>\n",
       "      <td>17</td>\n",
       "      <td>29029</td>\n",
       "      <td>1997</td>\n",
       "      <td>0.000585</td>\n",
       "      <td>0.931059</td>\n",
       "      <td>-0.068355</td>\n",
       "    </tr>\n",
       "    <tr>\n",
       "      <th>0.85</th>\n",
       "      <td>0.999572</td>\n",
       "      <td>0.887424</td>\n",
       "      <td>0.907794</td>\n",
       "      <td>25706</td>\n",
       "      <td>11</td>\n",
       "      <td>29035</td>\n",
       "      <td>3261</td>\n",
       "      <td>0.000379</td>\n",
       "      <td>0.887424</td>\n",
       "      <td>-0.112198</td>\n",
       "    </tr>\n",
       "    <tr>\n",
       "      <th>0.90</th>\n",
       "      <td>0.999621</td>\n",
       "      <td>0.819933</td>\n",
       "      <td>0.850510</td>\n",
       "      <td>23751</td>\n",
       "      <td>9</td>\n",
       "      <td>29037</td>\n",
       "      <td>5216</td>\n",
       "      <td>0.000310</td>\n",
       "      <td>0.819933</td>\n",
       "      <td>-0.179757</td>\n",
       "    </tr>\n",
       "    <tr>\n",
       "      <th>0.95</th>\n",
       "      <td>0.999753</td>\n",
       "      <td>0.699313</td>\n",
       "      <td>0.744031</td>\n",
       "      <td>20257</td>\n",
       "      <td>5</td>\n",
       "      <td>29041</td>\n",
       "      <td>8710</td>\n",
       "      <td>0.000172</td>\n",
       "      <td>0.699313</td>\n",
       "      <td>-0.300515</td>\n",
       "    </tr>\n",
       "    <tr>\n",
       "      <th>1.00</th>\n",
       "      <td>0.000000</td>\n",
       "      <td>0.000000</td>\n",
       "      <td>0.000000</td>\n",
       "      <td>0</td>\n",
       "      <td>0</td>\n",
       "      <td>29046</td>\n",
       "      <td>28967</td>\n",
       "      <td>0.000000</td>\n",
       "      <td>0.000000</td>\n",
       "      <td>-1.000000</td>\n",
       "    </tr>\n",
       "  </tbody>\n",
       "</table>\n",
       "</div>"
      ],
      "text/plain": [
       "           Precision    Recall  F-2 Score  True Positive  False Positive  \\\n",
       "Threshold                                                                  \n",
       "0.00        0.499319  1.000000   0.832955          28967           29046   \n",
       "0.05        0.764490  0.999931   0.941914          28965            8923   \n",
       "0.10        0.872659  0.999068   0.970939          28940            4223   \n",
       "0.15        0.923185  0.999068   0.982909          28940            2408   \n",
       "0.20        0.951687  0.998964   0.989137          28937            1469   \n",
       "0.25        0.967111  0.998895   0.992372          28935             984   \n",
       "0.30        0.977927  0.998723   0.994493          28930             653   \n",
       "0.35        0.985452  0.998550   0.995903          28925             427   \n",
       "0.40        0.990105  0.998274   0.996629          28917             289   \n",
       "0.45        0.992785  0.997514   0.996565          28895             210   \n",
       "0.50        0.994693  0.996444   0.996093          28864             154   \n",
       "0.55        0.996576  0.994718   0.995089          28814              99   \n",
       "0.60        0.997603  0.991197   0.992471          28712              69   \n",
       "0.65        0.998459  0.984154   0.986982          28508              44   \n",
       "0.70        0.998868  0.975179   0.979826          28248              32   \n",
       "0.75        0.999136  0.958470   0.966336          27764              24   \n",
       "0.80        0.999370  0.931059   0.943964          26970              17   \n",
       "0.85        0.999572  0.887424   0.907794          25706              11   \n",
       "0.90        0.999621  0.819933   0.850510          23751               9   \n",
       "0.95        0.999753  0.699313   0.744031          20257               5   \n",
       "1.00        0.000000  0.000000   0.000000              0               0   \n",
       "\n",
       "           True_Negative  False Negative       FPR       TPR  TPR - (1-FPR)  \n",
       "Threshold                                                                    \n",
       "0.00                   0               0  1.000000  1.000000       1.000000  \n",
       "0.05               20123               2  0.307202  0.999931       0.307133  \n",
       "0.10               24823              27  0.145390  0.999068       0.144458  \n",
       "0.15               26638              27  0.082903  0.999068       0.081971  \n",
       "0.20               27577              30  0.050575  0.998964       0.049539  \n",
       "0.25               28062              32  0.033877  0.998895       0.032773  \n",
       "0.30               28393              37  0.022482  0.998723       0.021204  \n",
       "0.35               28619              42  0.014701  0.998550       0.013251  \n",
       "0.40               28757              50  0.009950  0.998274       0.008224  \n",
       "0.45               28836              72  0.007230  0.997514       0.004744  \n",
       "0.50               28892             103  0.005302  0.996444       0.001746  \n",
       "0.55               28947             153  0.003408  0.994718      -0.001873  \n",
       "0.60               28977             255  0.002376  0.991197      -0.006428  \n",
       "0.65               29002             459  0.001515  0.984154      -0.014331  \n",
       "0.70               29014             719  0.001102  0.975179      -0.023720  \n",
       "0.75               29022            1203  0.000826  0.958470      -0.040704  \n",
       "0.80               29029            1997  0.000585  0.931059      -0.068355  \n",
       "0.85               29035            3261  0.000379  0.887424      -0.112198  \n",
       "0.90               29037            5216  0.000310  0.819933      -0.179757  \n",
       "0.95               29041            8710  0.000172  0.699313      -0.300515  \n",
       "1.00               29046           28967  0.000000  0.000000      -1.000000  "
      ]
     },
     "execution_count": 170,
     "metadata": {},
     "output_type": "execute_result"
    }
   ],
   "source": [
    "df_threshold.set_index('Threshold')"
   ]
  },
  {
   "cell_type": "code",
   "execution_count": 171,
   "id": "d0e944a0",
   "metadata": {},
   "outputs": [
    {
     "data": {
      "text/html": [
       "<div>\n",
       "<style scoped>\n",
       "    .dataframe tbody tr th:only-of-type {\n",
       "        vertical-align: middle;\n",
       "    }\n",
       "\n",
       "    .dataframe tbody tr th {\n",
       "        vertical-align: top;\n",
       "    }\n",
       "\n",
       "    .dataframe thead th {\n",
       "        text-align: right;\n",
       "    }\n",
       "</style>\n",
       "<table border=\"1\" class=\"dataframe\">\n",
       "  <thead>\n",
       "    <tr style=\"text-align: right;\">\n",
       "      <th></th>\n",
       "      <th>Threshold</th>\n",
       "      <th>Precision</th>\n",
       "      <th>Recall</th>\n",
       "      <th>F-2 Score</th>\n",
       "      <th>True Positive</th>\n",
       "      <th>False Positive</th>\n",
       "      <th>True_Negative</th>\n",
       "      <th>False Negative</th>\n",
       "      <th>FPR</th>\n",
       "      <th>TPR</th>\n",
       "      <th>TPR - (1-FPR)</th>\n",
       "    </tr>\n",
       "  </thead>\n",
       "  <tbody>\n",
       "    <tr>\n",
       "      <th>10</th>\n",
       "      <td>0.5</td>\n",
       "      <td>0.994693</td>\n",
       "      <td>0.996444</td>\n",
       "      <td>0.996093</td>\n",
       "      <td>28864</td>\n",
       "      <td>154</td>\n",
       "      <td>28892</td>\n",
       "      <td>103</td>\n",
       "      <td>0.005302</td>\n",
       "      <td>0.996444</td>\n",
       "      <td>0.001746</td>\n",
       "    </tr>\n",
       "  </tbody>\n",
       "</table>\n",
       "</div>"
      ],
      "text/plain": [
       "    Threshold  Precision    Recall  F-2 Score  True Positive  False Positive  \\\n",
       "10        0.5   0.994693  0.996444   0.996093          28864             154   \n",
       "\n",
       "    True_Negative  False Negative       FPR       TPR  TPR - (1-FPR)  \n",
       "10          28892             103  0.005302  0.996444       0.001746  "
      ]
     },
     "execution_count": 171,
     "metadata": {},
     "output_type": "execute_result"
    }
   ],
   "source": [
    "df_threshold[df_threshold['TPR - (1-FPR)'] == abs(df_threshold['TPR - (1-FPR)']).min()]"
   ]
  },
  {
   "cell_type": "code",
   "execution_count": 172,
   "id": "29cae84a",
   "metadata": {},
   "outputs": [
    {
     "data": {
      "image/png": "[encoded data removed]",
      "text/plain": [
       "<Figure size 576x432 with 1 Axes>"
      ]
     },
     "metadata": {
      "needs_background": "light"
     },
     "output_type": "display_data"
    }
   ],
   "source": [
    "plt.plot(x, df_threshold['Precision'])\n",
    "plt.plot(x, df_threshold['Recall'])\n",
    "plt.plot(x, df_threshold['F-2 Score'])\n",
    "plt.xticks(df_threshold['Threshold'], df_threshold['Threshold'].values)\n",
    "plt.axvline(0.85, color='black', alpha=0.3)\n",
    "plt.text(.5,.5,'',rotation=90, alpha=0.8, fontsize=16)\n",
    "plt.axvline(0.5, color='black', alpha=0.3)\n",
    "plt.text(.5,.0,'Default and Optimal Threshold',rotation=90, alpha=0.8, fontsize=16)\n",
    "plt.xlabel('Threshold')\n",
    "plt.legend(df_threshold[['Precision', 'Recall', 'F-2 Score']].columns)\n",
    "plt.title('Precision, Recall and F-2 vs Threshold')\n",
    "plt.xlim(0, 1)\n",
    "\n",
    "plt.tight_layout()\n",
    "plt.savefig('Thresholding: Precision, Recall and F-2 vs Threshold.png')"
   ]
  },
  {
   "cell_type": "markdown",
   "id": "ffd9330a",
   "metadata": {},
   "source": [
    "In the above exercise, the Default and optimal thresholds turned out to be the same.  So, lets go ahead and look at a different model to see illustrate how thresholding will help our analysis."
   ]
  },
  {
   "cell_type": "markdown",
   "id": "5e1b8af8",
   "metadata": {},
   "source": [
    "Thresholding exercise with model: Logistic Regression - Count Vectorizer - Text Only"
   ]
  },
  {
   "cell_type": "code",
   "execution_count": 173,
   "id": "a847612f",
   "metadata": {},
   "outputs": [
    {
     "name": "stderr",
     "output_type": "stream",
     "text": [
      "C:\\Users\\betha\\anaconda3\\lib\\site-packages\\sklearn\\linear_model\\_logistic.py:814: ConvergenceWarning: lbfgs failed to converge (status=1):\n",
      "STOP: TOTAL NO. of ITERATIONS REACHED LIMIT.\n",
      "\n",
      "Increase the number of iterations (max_iter) or scale the data as shown in:\n",
      "    https://scikit-learn.org/stable/modules/preprocessing.html\n",
      "Please also refer to the documentation for alternative solver options:\n",
      "    https://scikit-learn.org/stable/modules/linear_model.html#logistic-regression\n",
      "  n_iter_i = _check_optimize_result(\n"
     ]
    },
    {
     "data": {
      "text/plain": [
       "LogisticRegression()"
      ]
     },
     "execution_count": 173,
     "metadata": {},
     "output_type": "execute_result"
    }
   ],
   "source": [
    "lr = LogisticRegression(C = 1.0)\n",
    "lr.fit(X_train9, y_train9)"
   ]
  },
  {
   "cell_type": "code",
   "execution_count": 174,
   "id": "546a4c26",
   "metadata": {},
   "outputs": [],
   "source": [
    "d3 = []\n",
    "for i in [0, 0.05, 0.1, 0.15, 0.2, 0.25, 0.3, 0.35, 0.4, 0.45, 0.5, 0.55, 0.6, 0.65, 0.7, 0.75, 0.8, 0.85, 0.9, 0.95, 1 ]:\n",
    "    y_pred_lr = (lr.predict_proba(X_test9)[:,1] >= i).astype(bool)\n",
    "    precision_lr = metrics.precision_score(y_test9,y_pred_lr, pos_label = 1)\n",
    "    recall_lr = metrics.recall_score(y_test9, y_pred_lr, pos_label = 1)\n",
    "    f_beta_lr = fbeta_score(y_test9, y_pred_lr, beta=2)\n",
    "    tn_lr, fp_lr, fn_lr, tp_lr = confusion_matrix(y_test9, y_pred_lr).ravel()\n",
    "    d3.append((i, precision_lr, recall_lr, f_beta_lr, tp_lr, fp_lr, tn_lr, fn_lr))"
   ]
  },
  {
   "cell_type": "code",
   "execution_count": 175,
   "id": "af06afd5",
   "metadata": {},
   "outputs": [],
   "source": [
    "df_threshold_lr = pd.DataFrame(d3, columns = ('Threshold', 'Precision', 'Recall', 'F-2 Score', 'True Positive', 'False Positive', 'True_Negative', 'False Negative'))\n"
   ]
  },
  {
   "cell_type": "code",
   "execution_count": 176,
   "id": "2ef8a4a2",
   "metadata": {},
   "outputs": [
    {
     "data": {
      "text/html": [
       "<div>\n",
       "<style scoped>\n",
       "    .dataframe tbody tr th:only-of-type {\n",
       "        vertical-align: middle;\n",
       "    }\n",
       "\n",
       "    .dataframe tbody tr th {\n",
       "        vertical-align: top;\n",
       "    }\n",
       "\n",
       "    .dataframe thead th {\n",
       "        text-align: right;\n",
       "    }\n",
       "</style>\n",
       "<table border=\"1\" class=\"dataframe\">\n",
       "  <thead>\n",
       "    <tr style=\"text-align: right;\">\n",
       "      <th></th>\n",
       "      <th>Threshold</th>\n",
       "      <th>Precision</th>\n",
       "      <th>Recall</th>\n",
       "      <th>F-2 Score</th>\n",
       "      <th>True Positive</th>\n",
       "      <th>False Positive</th>\n",
       "      <th>True_Negative</th>\n",
       "      <th>False Negative</th>\n",
       "      <th>FPR</th>\n",
       "      <th>TPR</th>\n",
       "      <th>TPR - (1-FPR)</th>\n",
       "    </tr>\n",
       "  </thead>\n",
       "  <tbody>\n",
       "    <tr>\n",
       "      <th>20</th>\n",
       "      <td>1.00</td>\n",
       "      <td>0.997831</td>\n",
       "      <td>0.047640</td>\n",
       "      <td>0.058848</td>\n",
       "      <td>1380</td>\n",
       "      <td>3</td>\n",
       "      <td>29043</td>\n",
       "      <td>27587</td>\n",
       "      <td>0.000103</td>\n",
       "      <td>0.047640</td>\n",
       "      <td>-0.952256</td>\n",
       "    </tr>\n",
       "    <tr>\n",
       "      <th>19</th>\n",
       "      <td>0.95</td>\n",
       "      <td>0.979856</td>\n",
       "      <td>0.784203</td>\n",
       "      <td>0.816823</td>\n",
       "      <td>22716</td>\n",
       "      <td>467</td>\n",
       "      <td>28579</td>\n",
       "      <td>6251</td>\n",
       "      <td>0.016078</td>\n",
       "      <td>0.784203</td>\n",
       "      <td>-0.199719</td>\n",
       "    </tr>\n",
       "    <tr>\n",
       "      <th>18</th>\n",
       "      <td>0.90</td>\n",
       "      <td>0.975657</td>\n",
       "      <td>0.823247</td>\n",
       "      <td>0.849797</td>\n",
       "      <td>23847</td>\n",
       "      <td>595</td>\n",
       "      <td>28451</td>\n",
       "      <td>5120</td>\n",
       "      <td>0.020485</td>\n",
       "      <td>0.823247</td>\n",
       "      <td>-0.156268</td>\n",
       "    </tr>\n",
       "    <tr>\n",
       "      <th>17</th>\n",
       "      <td>0.85</td>\n",
       "      <td>0.971813</td>\n",
       "      <td>0.846239</td>\n",
       "      <td>0.868689</td>\n",
       "      <td>24513</td>\n",
       "      <td>711</td>\n",
       "      <td>28335</td>\n",
       "      <td>4454</td>\n",
       "      <td>0.024478</td>\n",
       "      <td>0.846239</td>\n",
       "      <td>-0.129283</td>\n",
       "    </tr>\n",
       "    <tr>\n",
       "      <th>16</th>\n",
       "      <td>0.80</td>\n",
       "      <td>0.968645</td>\n",
       "      <td>0.863845</td>\n",
       "      <td>0.882951</td>\n",
       "      <td>25023</td>\n",
       "      <td>810</td>\n",
       "      <td>28236</td>\n",
       "      <td>3944</td>\n",
       "      <td>0.027887</td>\n",
       "      <td>0.863845</td>\n",
       "      <td>-0.108268</td>\n",
       "    </tr>\n",
       "    <tr>\n",
       "      <th>15</th>\n",
       "      <td>0.75</td>\n",
       "      <td>0.965431</td>\n",
       "      <td>0.877343</td>\n",
       "      <td>0.893651</td>\n",
       "      <td>25414</td>\n",
       "      <td>910</td>\n",
       "      <td>28136</td>\n",
       "      <td>3553</td>\n",
       "      <td>0.031330</td>\n",
       "      <td>0.877343</td>\n",
       "      <td>-0.091327</td>\n",
       "    </tr>\n",
       "    <tr>\n",
       "      <th>14</th>\n",
       "      <td>0.70</td>\n",
       "      <td>0.962507</td>\n",
       "      <td>0.888010</td>\n",
       "      <td>0.901973</td>\n",
       "      <td>25723</td>\n",
       "      <td>1002</td>\n",
       "      <td>28044</td>\n",
       "      <td>3244</td>\n",
       "      <td>0.034497</td>\n",
       "      <td>0.888010</td>\n",
       "      <td>-0.077493</td>\n",
       "    </tr>\n",
       "    <tr>\n",
       "      <th>13</th>\n",
       "      <td>0.65</td>\n",
       "      <td>0.959253</td>\n",
       "      <td>0.897228</td>\n",
       "      <td>0.908983</td>\n",
       "      <td>25990</td>\n",
       "      <td>1104</td>\n",
       "      <td>27942</td>\n",
       "      <td>2977</td>\n",
       "      <td>0.038009</td>\n",
       "      <td>0.897228</td>\n",
       "      <td>-0.064763</td>\n",
       "    </tr>\n",
       "    <tr>\n",
       "      <th>12</th>\n",
       "      <td>0.60</td>\n",
       "      <td>0.955730</td>\n",
       "      <td>0.905513</td>\n",
       "      <td>0.915130</td>\n",
       "      <td>26230</td>\n",
       "      <td>1215</td>\n",
       "      <td>27831</td>\n",
       "      <td>2737</td>\n",
       "      <td>0.041830</td>\n",
       "      <td>0.905513</td>\n",
       "      <td>-0.052657</td>\n",
       "    </tr>\n",
       "    <tr>\n",
       "      <th>11</th>\n",
       "      <td>0.55</td>\n",
       "      <td>0.952448</td>\n",
       "      <td>0.912728</td>\n",
       "      <td>0.920405</td>\n",
       "      <td>26439</td>\n",
       "      <td>1320</td>\n",
       "      <td>27726</td>\n",
       "      <td>2528</td>\n",
       "      <td>0.045445</td>\n",
       "      <td>0.912728</td>\n",
       "      <td>-0.041827</td>\n",
       "    </tr>\n",
       "    <tr>\n",
       "      <th>10</th>\n",
       "      <td>0.50</td>\n",
       "      <td>0.947795</td>\n",
       "      <td>0.920081</td>\n",
       "      <td>0.925494</td>\n",
       "      <td>26652</td>\n",
       "      <td>1468</td>\n",
       "      <td>27578</td>\n",
       "      <td>2315</td>\n",
       "      <td>0.050541</td>\n",
       "      <td>0.920081</td>\n",
       "      <td>-0.029378</td>\n",
       "    </tr>\n",
       "    <tr>\n",
       "      <th>9</th>\n",
       "      <td>0.45</td>\n",
       "      <td>0.942758</td>\n",
       "      <td>0.927331</td>\n",
       "      <td>0.930376</td>\n",
       "      <td>26862</td>\n",
       "      <td>1631</td>\n",
       "      <td>27415</td>\n",
       "      <td>2105</td>\n",
       "      <td>0.056152</td>\n",
       "      <td>0.927331</td>\n",
       "      <td>-0.016517</td>\n",
       "    </tr>\n",
       "    <tr>\n",
       "      <th>8</th>\n",
       "      <td>0.40</td>\n",
       "      <td>0.936404</td>\n",
       "      <td>0.934788</td>\n",
       "      <td>0.935111</td>\n",
       "      <td>27078</td>\n",
       "      <td>1839</td>\n",
       "      <td>27207</td>\n",
       "      <td>1889</td>\n",
       "      <td>0.063313</td>\n",
       "      <td>0.934788</td>\n",
       "      <td>-0.001899</td>\n",
       "    </tr>\n",
       "    <tr>\n",
       "      <th>7</th>\n",
       "      <td>0.35</td>\n",
       "      <td>0.929214</td>\n",
       "      <td>0.941692</td>\n",
       "      <td>0.939170</td>\n",
       "      <td>27278</td>\n",
       "      <td>2078</td>\n",
       "      <td>26968</td>\n",
       "      <td>1689</td>\n",
       "      <td>0.071542</td>\n",
       "      <td>0.941692</td>\n",
       "      <td>0.013234</td>\n",
       "    </tr>\n",
       "    <tr>\n",
       "      <th>6</th>\n",
       "      <td>0.30</td>\n",
       "      <td>0.919316</td>\n",
       "      <td>0.948355</td>\n",
       "      <td>0.942401</td>\n",
       "      <td>27471</td>\n",
       "      <td>2411</td>\n",
       "      <td>26635</td>\n",
       "      <td>1496</td>\n",
       "      <td>0.083006</td>\n",
       "      <td>0.948355</td>\n",
       "      <td>0.031361</td>\n",
       "    </tr>\n",
       "    <tr>\n",
       "      <th>5</th>\n",
       "      <td>0.25</td>\n",
       "      <td>0.907710</td>\n",
       "      <td>0.955121</td>\n",
       "      <td>0.945247</td>\n",
       "      <td>27667</td>\n",
       "      <td>2813</td>\n",
       "      <td>26233</td>\n",
       "      <td>1300</td>\n",
       "      <td>0.096846</td>\n",
       "      <td>0.955121</td>\n",
       "      <td>0.051968</td>\n",
       "    </tr>\n",
       "    <tr>\n",
       "      <th>4</th>\n",
       "      <td>0.20</td>\n",
       "      <td>0.891166</td>\n",
       "      <td>0.962233</td>\n",
       "      <td>0.947127</td>\n",
       "      <td>27873</td>\n",
       "      <td>3404</td>\n",
       "      <td>25642</td>\n",
       "      <td>1094</td>\n",
       "      <td>0.117193</td>\n",
       "      <td>0.962233</td>\n",
       "      <td>0.079426</td>\n",
       "    </tr>\n",
       "    <tr>\n",
       "      <th>3</th>\n",
       "      <td>0.15</td>\n",
       "      <td>0.863089</td>\n",
       "      <td>0.970622</td>\n",
       "      <td>0.947024</td>\n",
       "      <td>28116</td>\n",
       "      <td>4460</td>\n",
       "      <td>24586</td>\n",
       "      <td>851</td>\n",
       "      <td>0.153550</td>\n",
       "      <td>0.970622</td>\n",
       "      <td>0.124171</td>\n",
       "    </tr>\n",
       "    <tr>\n",
       "      <th>2</th>\n",
       "      <td>0.10</td>\n",
       "      <td>0.825674</td>\n",
       "      <td>0.977457</td>\n",
       "      <td>0.942794</td>\n",
       "      <td>28314</td>\n",
       "      <td>5978</td>\n",
       "      <td>23068</td>\n",
       "      <td>653</td>\n",
       "      <td>0.205811</td>\n",
       "      <td>0.977457</td>\n",
       "      <td>0.183269</td>\n",
       "    </tr>\n",
       "    <tr>\n",
       "      <th>1</th>\n",
       "      <td>0.05</td>\n",
       "      <td>0.762908</td>\n",
       "      <td>0.984983</td>\n",
       "      <td>0.930794</td>\n",
       "      <td>28532</td>\n",
       "      <td>8867</td>\n",
       "      <td>20179</td>\n",
       "      <td>435</td>\n",
       "      <td>0.305274</td>\n",
       "      <td>0.984983</td>\n",
       "      <td>0.290257</td>\n",
       "    </tr>\n",
       "    <tr>\n",
       "      <th>0</th>\n",
       "      <td>0.00</td>\n",
       "      <td>0.499319</td>\n",
       "      <td>1.000000</td>\n",
       "      <td>0.832955</td>\n",
       "      <td>28967</td>\n",
       "      <td>29046</td>\n",
       "      <td>0</td>\n",
       "      <td>0</td>\n",
       "      <td>1.000000</td>\n",
       "      <td>1.000000</td>\n",
       "      <td>1.000000</td>\n",
       "    </tr>\n",
       "  </tbody>\n",
       "</table>\n",
       "</div>"
      ],
      "text/plain": [
       "    Threshold  Precision    Recall  F-2 Score  True Positive  False Positive  \\\n",
       "20       1.00   0.997831  0.047640   0.058848           1380               3   \n",
       "19       0.95   0.979856  0.784203   0.816823          22716             467   \n",
       "18       0.90   0.975657  0.823247   0.849797          23847             595   \n",
       "17       0.85   0.971813  0.846239   0.868689          24513             711   \n",
       "16       0.80   0.968645  0.863845   0.882951          25023             810   \n",
       "15       0.75   0.965431  0.877343   0.893651          25414             910   \n",
       "14       0.70   0.962507  0.888010   0.901973          25723            1002   \n",
       "13       0.65   0.959253  0.897228   0.908983          25990            1104   \n",
       "12       0.60   0.955730  0.905513   0.915130          26230            1215   \n",
       "11       0.55   0.952448  0.912728   0.920405          26439            1320   \n",
       "10       0.50   0.947795  0.920081   0.925494          26652            1468   \n",
       "9        0.45   0.942758  0.927331   0.930376          26862            1631   \n",
       "8        0.40   0.936404  0.934788   0.935111          27078            1839   \n",
       "7        0.35   0.929214  0.941692   0.939170          27278            2078   \n",
       "6        0.30   0.919316  0.948355   0.942401          27471            2411   \n",
       "5        0.25   0.907710  0.955121   0.945247          27667            2813   \n",
       "4        0.20   0.891166  0.962233   0.947127          27873            3404   \n",
       "3        0.15   0.863089  0.970622   0.947024          28116            4460   \n",
       "2        0.10   0.825674  0.977457   0.942794          28314            5978   \n",
       "1        0.05   0.762908  0.984983   0.930794          28532            8867   \n",
       "0        0.00   0.499319  1.000000   0.832955          28967           29046   \n",
       "\n",
       "    True_Negative  False Negative       FPR       TPR  TPR - (1-FPR)  \n",
       "20          29043           27587  0.000103  0.047640      -0.952256  \n",
       "19          28579            6251  0.016078  0.784203      -0.199719  \n",
       "18          28451            5120  0.020485  0.823247      -0.156268  \n",
       "17          28335            4454  0.024478  0.846239      -0.129283  \n",
       "16          28236            3944  0.027887  0.863845      -0.108268  \n",
       "15          28136            3553  0.031330  0.877343      -0.091327  \n",
       "14          28044            3244  0.034497  0.888010      -0.077493  \n",
       "13          27942            2977  0.038009  0.897228      -0.064763  \n",
       "12          27831            2737  0.041830  0.905513      -0.052657  \n",
       "11          27726            2528  0.045445  0.912728      -0.041827  \n",
       "10          27578            2315  0.050541  0.920081      -0.029378  \n",
       "9           27415            2105  0.056152  0.927331      -0.016517  \n",
       "8           27207            1889  0.063313  0.934788      -0.001899  \n",
       "7           26968            1689  0.071542  0.941692       0.013234  \n",
       "6           26635            1496  0.083006  0.948355       0.031361  \n",
       "5           26233            1300  0.096846  0.955121       0.051968  \n",
       "4           25642            1094  0.117193  0.962233       0.079426  \n",
       "3           24586             851  0.153550  0.970622       0.124171  \n",
       "2           23068             653  0.205811  0.977457       0.183269  \n",
       "1           20179             435  0.305274  0.984983       0.290257  \n",
       "0               0               0  1.000000  1.000000       1.000000  "
      ]
     },
     "execution_count": 176,
     "metadata": {},
     "output_type": "execute_result"
    }
   ],
   "source": [
    "df_threshold_lr['FPR'] = df_threshold_lr['False Positive'] / (df_threshold_lr['True_Negative'] + df_threshold_lr['False Positive'])\n",
    "df_threshold_lr['TPR'] = df_threshold_lr['True Positive'] / (df_threshold_lr['True Positive'] + df_threshold_lr['False Negative'])\n",
    "df_threshold_lr['TPR - (1-FPR)'] = df_threshold_lr['TPR'] - (1 - df_threshold_lr['FPR'])\n",
    "df_threshold_lr.sort_values(by = ['TPR - (1-FPR)'], ascending = True).head(21)"
   ]
  },
  {
   "cell_type": "code",
   "execution_count": 177,
   "id": "0a3553e3",
   "metadata": {},
   "outputs": [
    {
     "data": {
      "text/html": [
       "<div>\n",
       "<style scoped>\n",
       "    .dataframe tbody tr th:only-of-type {\n",
       "        vertical-align: middle;\n",
       "    }\n",
       "\n",
       "    .dataframe tbody tr th {\n",
       "        vertical-align: top;\n",
       "    }\n",
       "\n",
       "    .dataframe thead th {\n",
       "        text-align: right;\n",
       "    }\n",
       "</style>\n",
       "<table border=\"1\" class=\"dataframe\">\n",
       "  <thead>\n",
       "    <tr style=\"text-align: right;\">\n",
       "      <th></th>\n",
       "      <th>Threshold</th>\n",
       "      <th>Precision</th>\n",
       "      <th>Recall</th>\n",
       "      <th>F-2 Score</th>\n",
       "      <th>True Positive</th>\n",
       "      <th>False Positive</th>\n",
       "      <th>True_Negative</th>\n",
       "      <th>False Negative</th>\n",
       "      <th>FPR</th>\n",
       "      <th>TPR</th>\n",
       "      <th>TPR - (1-FPR)</th>\n",
       "    </tr>\n",
       "  </thead>\n",
       "  <tbody>\n",
       "  </tbody>\n",
       "</table>\n",
       "</div>"
      ],
      "text/plain": [
       "Empty DataFrame\n",
       "Columns: [Threshold, Precision, Recall, F-2 Score, True Positive, False Positive, True_Negative, False Negative, FPR, TPR, TPR - (1-FPR)]\n",
       "Index: []"
      ]
     },
     "execution_count": 177,
     "metadata": {},
     "output_type": "execute_result"
    }
   ],
   "source": [
    "df_threshold_lr[df_threshold_lr['TPR - (1-FPR)'] == np.min(abs(df_threshold_lr['TPR - (1-FPR)']))]"
   ]
  },
  {
   "cell_type": "code",
   "execution_count": 178,
   "id": "55e26348",
   "metadata": {},
   "outputs": [
    {
     "data": {
      "text/plain": [
       "0.0018987729428511235"
      ]
     },
     "execution_count": 178,
     "metadata": {},
     "output_type": "execute_result"
    }
   ],
   "source": [
    "near_zero = np.min(abs(df_threshold_lr['TPR - (1-FPR)']))\n",
    "near_zero"
   ]
  },
  {
   "cell_type": "code",
   "execution_count": 179,
   "id": "c10d2b0d",
   "metadata": {},
   "outputs": [
    {
     "data": {
      "image/png": "[encoded data removed]",
      "text/plain": [
       "<Figure size 576x432 with 1 Axes>"
      ]
     },
     "metadata": {
      "needs_background": "light"
     },
     "output_type": "display_data"
    }
   ],
   "source": [
    "plt.plot(x, df_threshold_lr['Precision'])\n",
    "plt.plot(x, df_threshold_lr['Recall'])\n",
    "plt.plot(x, df_threshold_lr['F-2 Score'])\n",
    "plt.xticks(df_threshold_lr['Threshold'], df_threshold_lr['Threshold'].values)\n",
    "plt.axvline(0.4, color='black', alpha=0.3)\n",
    "plt.text(.4,.5,'Optimal Threshold',rotation=90, alpha=0.8, fontsize=16)\n",
    "plt.axvline(0.5, color='black', alpha=0.3)\n",
    "plt.text(.5,.5,'DefaultThreshold',rotation=90, alpha=0.8, fontsize=16)\n",
    "plt.xlabel('Threshold')\n",
    "plt.legend(df_threshold_lr[['Precision', 'Recall', 'F-2 Score']].columns)\n",
    "plt.title('Precision, Recall and F-2 vs Threshold')\n",
    "plt.xlim(0, 1)\n",
    "plt.rcParams.update({'figure.figsize': (8, 6.0)})\n",
    "\n",
    "plt.tight_layout()\n",
    "plt.savefig('Thresholding Second Model: Precision, Recall and F-2 vs Threshold.png')"
   ]
  },
  {
   "cell_type": "code",
   "execution_count": 180,
   "id": "5525701c",
   "metadata": {},
   "outputs": [
    {
     "data": {
      "text/html": [
       "<div>\n",
       "<style scoped>\n",
       "    .dataframe tbody tr th:only-of-type {\n",
       "        vertical-align: middle;\n",
       "    }\n",
       "\n",
       "    .dataframe tbody tr th {\n",
       "        vertical-align: top;\n",
       "    }\n",
       "\n",
       "    .dataframe thead th {\n",
       "        text-align: right;\n",
       "    }\n",
       "</style>\n",
       "<table border=\"1\" class=\"dataframe\">\n",
       "  <thead>\n",
       "    <tr style=\"text-align: right;\">\n",
       "      <th></th>\n",
       "      <th>Threshold</th>\n",
       "      <th>Precision</th>\n",
       "      <th>Recall</th>\n",
       "      <th>F-2 Score</th>\n",
       "      <th>True Positive</th>\n",
       "      <th>False Positive</th>\n",
       "      <th>True_Negative</th>\n",
       "      <th>False Negative</th>\n",
       "      <th>FPR</th>\n",
       "      <th>TPR</th>\n",
       "      <th>TPR - (1-FPR)</th>\n",
       "    </tr>\n",
       "  </thead>\n",
       "  <tbody>\n",
       "    <tr>\n",
       "      <th>8</th>\n",
       "      <td>0.4</td>\n",
       "      <td>0.936404</td>\n",
       "      <td>0.934788</td>\n",
       "      <td>0.935111</td>\n",
       "      <td>27078</td>\n",
       "      <td>1839</td>\n",
       "      <td>27207</td>\n",
       "      <td>1889</td>\n",
       "      <td>0.063313</td>\n",
       "      <td>0.934788</td>\n",
       "      <td>-0.001899</td>\n",
       "    </tr>\n",
       "    <tr>\n",
       "      <th>10</th>\n",
       "      <td>0.5</td>\n",
       "      <td>0.947795</td>\n",
       "      <td>0.920081</td>\n",
       "      <td>0.925494</td>\n",
       "      <td>26652</td>\n",
       "      <td>1468</td>\n",
       "      <td>27578</td>\n",
       "      <td>2315</td>\n",
       "      <td>0.050541</td>\n",
       "      <td>0.920081</td>\n",
       "      <td>-0.029378</td>\n",
       "    </tr>\n",
       "  </tbody>\n",
       "</table>\n",
       "</div>"
      ],
      "text/plain": [
       "    Threshold  Precision    Recall  F-2 Score  True Positive  False Positive  \\\n",
       "8         0.4   0.936404  0.934788   0.935111          27078            1839   \n",
       "10        0.5   0.947795  0.920081   0.925494          26652            1468   \n",
       "\n",
       "    True_Negative  False Negative       FPR       TPR  TPR - (1-FPR)  \n",
       "8           27207            1889  0.063313  0.934788      -0.001899  \n",
       "10          27578            2315  0.050541  0.920081      -0.029378  "
      ]
     },
     "execution_count": 180,
     "metadata": {},
     "output_type": "execute_result"
    }
   ],
   "source": [
    "df_threshold_lr[df_threshold_lr['Threshold'].isin([0.4, 0.5])]"
   ]
  },
  {
   "cell_type": "markdown",
   "id": "11da0dc3",
   "metadata": {},
   "source": [
    "When we set the threshold to the optimal threshold of 0.4, our precision decreases slightly but the recall and f-score increase.  We observe that the instances of false negative predictions decreases which is exactly what we would expect when setting the beta to 2."
   ]
  },
  {
   "cell_type": "markdown",
   "id": "e58e7556",
   "metadata": {},
   "source": [
    "# Step 9:  Evaluate Model with Text From a Different Source - Songs"
   ]
  },
  {
   "cell_type": "markdown",
   "id": "1f6a92e2",
   "metadata": {},
   "source": [
    "The model predicts the source of the text very well, however it would be interesting to see how well the model predicts outside of the context of a social media posting.  Therefore, I decided to apply the model to lyrics of songs.  A quick search online identified some songs about suicide and some that were not about suicide.  The top performing model was applied to see how well the model performed with this new material from a different medium.\n"
   ]
  },
  {
   "cell_type": "code",
   "execution_count": 181,
   "id": "e55746c1",
   "metadata": {},
   "outputs": [],
   "source": [
    "teen_spirit = 'load up on guns bring your friends it is fun to lose and to pretend she is over bored and self assured oh no i know a dirty word hello hello hello how low hello hello hello how low hello hello hello how low hello hello hello with the lights out it is less dangerous here we are now entertain us i feel stupid and contagious here we are now entertain us a mulatto an albino a mosquito my libido yeah hey yay i am worse at what i do best and for this gift i feel blessed our little group has always been and always will until the end hello hello hello how low hello hello hello how low hello hello hello how low hello hello hello with the lights out it is less dangerous here we are now entertain us i feel stupid and contagious here we are now entertain us a mulatto an albino a mosquito my libido yeah hey yay and i forget just why i taste oh yeah i guess it makes me smile i found it hard was hard to find oh well whatever never mind hello hello hello how low hello hello hello how low hello hello hello how low hello hello hello with the lights out it is less dangerous here we are now entertain us i feel stupid and contagious here we are now entertain us a mulatto an albino a mosquito my libido a denial a denial a denial a denial a denial a denial a denial a denial a denial'\n",
    "save_myself ='i gave all my oxygen to people that could breathe i gave away my money and now we do not even speak i drove miles and miles but would you do the same for me oh honestly offered off my shoulder just for you to cry upon gave you constant shelter and a bed to keep you warm they gave me the heartache and in return i gave a song it goes on and on life can get you down so i just numb the way it feelsi drown it with a drink and out of date prescription pills and all the ones that love me they just left me on the shelf my farewell so before i save someone else i have got to save myself i gave you all my energy and i took away your pain because human beings are destined to radiate or dream what line do we stand upon because from here looks the same and only scars remain life can get you down so i just numb the way it feels i drown it with a drink and out of date prescription pills and all the ones that love me they just left me on the shelf my farewell so before i save someone else i have got to save myself but if do not then i will go back to where i am rescuing a stranger just because they needed saving just like that oh i am here again between the devil and the danger but i guess it is just my nature my dad was wrong because i am not like my mum because she would just smile and i am complaining in a song but it helps so before i save someone else i have got to save myself life can get you down so i just numb the way it feels i drown it with a drink and out of date prescription pills and all the ones that love me they just left me on the shelf my farewell so before i save someone else  i have got to save myself '\n",
    "everybody_hurts ='when your day is long and the night the night is yours alone when you are sure you have had enough of this life well hang on do not let yourself go because everybody cries everybody hurts sometimes ometimes everything is wrong now its time to sing along when your day is night alone hold on hold on if you feel like letting go hold on if you think you have had too much of this life well hang on because everybody hurts take comfort in your friends everybody hurts do not throw your hand oh no do not throw your hand if you feel like you are alone no no no you are not alone if you are on your own in this life the days and nights are long when you think you have had too much of this life to hang on well everybody hurts sometimes everybody cries everybody hurts sometimes and everybody hurts sometimes so hold on hold on hold on hold on hold on hold on hold on hold on everybody hurts'\n",
    "happy_know_it = 'if you are happy and you know it clap your hands if you are happy and you know it then your face will surely show it if you are happy and you know if clap your hands'\n",
    "wonderful_world = 'i see trees of green red roses too i see them bloom for me and you and i think to myself what a wonderful world i see skies of blue and clouds of white the bright blessed day the dark sacred night and i think to myself what a wonderful world the colors of the rainbow so pretty in the sky are also on the faces of people going by i see friends shaking hands saying how do you do they are really saying i love you i hear babies crying i watch them grow they willl learn much more than i will ever know and i think to myself what a wonderful world yes i think to myself what a wonderful world ooh yes'\n",
    "r_roll = 'we are no strangers to love you know the rules and so do i a full commitment is what i am thinking of you would not get this from any other guy i just wanna tell you how i am feeling gotta make you understand never gonna give you up never gonna let you down never gonna run around and desert you never gonna make you cry never gonna say goodbye never gonna tell a lie and hurt you we have known each other for so long your heart has been aching but you are too shy to say it inside we both know what has been going on we know the game and we are gonna play it and if you ask me how i am feeling do not tell me you are too blind to see never gonna give you up never gonna let you down  never gonna run around and desert you never gonna make you cry never gonna say goodbye  never gonna tell a lie and hurt you never gonna give you up never gonna let you down never gonna run around and desert you never gonna make you cry never gonna say goodbye never gonna tell a lie and hurt you we have known each other for so long your heart has been aching but you are too shy to say it inside we both know what has been going on we know the game and we are gonna play it i just wanna tell you how i am feeling gotta make you understand never gonna give you up never gonna let you down never gonna run around and desert you never gonna make you cry never gonna say goodbye never gonna tell a lie and hurt you never gonna give you up never gonna let you down never gonna run around and desert you never gonna make you cry never gonna say goodbye never gonna tell a lie and hurt you never gonna give you up never gonna let you down never gonna run around and desert you never gonna make you cry never gonna say goodbye never gonna tell a lie and hurt you '\n",
    "adams_song = 'i never thought i would die alone i laughed the loudest who wouldd have known i trace the cord back to the wall no wonder it was never plugged in at all i took my time i hurried up the choice was mine i did not think enough i am too depressed to go on you will be sorry when i am gone i never conquered rarely came sixteen just held such better days days when i still felt alive we could not wait to get outside the world was wide too late to try the tour was over we had survived i could not wait until i got home to pass the time in my room alone i never thought i would die alone another six months i will be unknown give all my things to all my friends you will never step foot in my room again you will close it off board it up remember the time that i spilled the cup of apple juice in the hall please tell mom this is not her fault i never conquered rarely came sixteen just held such better days days when i still felt alive we could not wait to get outside the world was wide too late to try the tour was over we had survived i could not wait till i got home to pass the time in my room alone i never conquered rarely came tomorrow holds such better days days when i can still feel alive when i ca not wait to get outside the world is wide the time goes by the tour is over i have survived i can not wait until i get home to pass the time in my room alone'\n",
    "cemetary_drive = 'this night walk the dead in a solitary style and crash the cemetery gates in the dress your husband hates way down mark the grave where the search lights find us drinking by the mausoleum door and they found you on the bathroom floor i miss you i miss you so far and the collision of your kiss that made it so hard back home off the run singing songs that make you slit your wrists it is not that much fun staring down a loaded gun so, i will not stop dying will not stop lying if you want i will keep on crying did you get what you deserve is this what you always want me for i miss you i miss you so far and the collision of your kiss that made it so hard way down way down way down, way down i miss you i miss you so far and the collision of your kiss that made it so hard when will i miss you when will i miss you so far and the collision of your kiss that made it so hard made it so hard way down way down '\n",
    "walking_sunshine = 'oh ohhhh yeeeh i used to think maybe you loved me now baby i am sure  and i just cannot wait until the day when you knock on my door now everytime i go for the mailbox gotta hold myself down because i just cannot wait until you write me you are coming around i am walking on sunshine wooah i am walking on sunshine woooah i am walking on sunshine woooah and does it not feel good  hey alright now and dont it feel good hey yeah i used to think maybe you loved me now i know that it is true and i do not want to spend my whole life just waiting for you now i do not want you back for the weekend not back for a day no no no i said baby i just want you back and i want you to stay woah yeah i am walking on sunshine wooah i am walking on sunshine woooah i am walking on sunshine woooah and does it not feel good hey alright now and does it not feel good yeah oh yeah and does it feel good walking on sunshine walking on sunshine i feel alive i feel the love i feel the love that is really real i feel alive i feel the love i feel the love that is really real i am on sunshine baby oh oh yeah i am on sunshine baby oh i am walking on sunshine wooah i am walking on sunshine wooah i am walking on sunshine woooah and does it not feel good hey alright now and does it feel good i will say it say it say it again now and dooes it feel good ohhhh yeahhhh and does it feel good now does it does it does it does it does it does it feel good i will say it say it say it again now and does it feel good now does it does it does it does it does it does it feel good tell me tell me tell me again now and does it feel good oh yeah and does it feel good oh does it feel good does it feel good '\n",
    "haunted = 'louder louder the voices in my head whispers taunting all the things you said faster the days go by and i am still stuck in this moment of wanting you here time in the blink of an eye you held my hand you held me tight now you are gone and i am still crying shocked broken i am dying inside where are you i need you do not leave me here on my own speak to me be near me i can not survive unless i know you are with me shadows linger only to my eye i see you i feel you do not leave my side it is not fair just when i found my world they took you they broke you they tore out your heart i miss you you hurt me you left with a smile mistaken your sadness was hiding inside now all that is left are the pieces to find the mystery you kept the soul behind a guise where are you i need you do not leave me here on my own speak to me be near me i can not survive unless i know you are with me why did you go all these questions run through my mind i wish i could not feel at all let me be numb i am starting to fall where are you i need you do not leave me here on my own speak to me be near me i can not survive unless i know you are with me where are you where are you you were smiling'"
   ]
  },
  {
   "cell_type": "code",
   "execution_count": 182,
   "id": "dcd17ec3",
   "metadata": {},
   "outputs": [],
   "source": [
    "dict1 = {'title':['Smells Like Teen Spirit', 'Walking on Sunshine', 'Everybody Hurts', 'Happy and You Know It', 'Wonderful World', 'Never Gonna Give You Up', 'Save Myself', 'Adams Song', 'Cemetary Drive', 'Haunted'],\n",
    "        'song':[teen_spirit, walking_sunshine, everybody_hurts, happy_know_it, wonderful_world, r_roll, save_myself, adams_song, cemetary_drive, haunted],\n",
    "        'length':[len(teen_spirit), len(walking_sunshine), len(everybody_hurts), len(happy_know_it), len(wonderful_world), len(r_roll), len(save_myself), len(adams_song), len(cemetary_drive), len(haunted)], \n",
    "         'class': [0, 0, 1 ,0, 0, 0, 1, 1, 1, 1]\n",
    "       }"
   ]
  },
  {
   "cell_type": "code",
   "execution_count": 183,
   "id": "8c9f306f",
   "metadata": {},
   "outputs": [],
   "source": [
    "df_song = pd.DataFrame(dict1)"
   ]
  },
  {
   "cell_type": "code",
   "execution_count": 184,
   "id": "a801b7ac",
   "metadata": {},
   "outputs": [
    {
     "data": {
      "text/html": [
       "<div>\n",
       "<style scoped>\n",
       "    .dataframe tbody tr th:only-of-type {\n",
       "        vertical-align: middle;\n",
       "    }\n",
       "\n",
       "    .dataframe tbody tr th {\n",
       "        vertical-align: top;\n",
       "    }\n",
       "\n",
       "    .dataframe thead th {\n",
       "        text-align: right;\n",
       "    }\n",
       "</style>\n",
       "<table border=\"1\" class=\"dataframe\">\n",
       "  <thead>\n",
       "    <tr style=\"text-align: right;\">\n",
       "      <th></th>\n",
       "      <th>title</th>\n",
       "      <th>song</th>\n",
       "      <th>length</th>\n",
       "      <th>class</th>\n",
       "    </tr>\n",
       "  </thead>\n",
       "  <tbody>\n",
       "    <tr>\n",
       "      <th>0</th>\n",
       "      <td>Smells Like Teen Spirit</td>\n",
       "      <td>load up on guns bring your friends it is fun t...</td>\n",
       "      <td>1280</td>\n",
       "      <td>0</td>\n",
       "    </tr>\n",
       "    <tr>\n",
       "      <th>1</th>\n",
       "      <td>Walking on Sunshine</td>\n",
       "      <td>oh ohhhh yeeeh i used to think maybe you loved...</td>\n",
       "      <td>1679</td>\n",
       "      <td>0</td>\n",
       "    </tr>\n",
       "    <tr>\n",
       "      <th>2</th>\n",
       "      <td>Everybody Hurts</td>\n",
       "      <td>when your day is long and the night the night ...</td>\n",
       "      <td>886</td>\n",
       "      <td>1</td>\n",
       "    </tr>\n",
       "    <tr>\n",
       "      <th>3</th>\n",
       "      <td>Happy and You Know It</td>\n",
       "      <td>if you are happy and you know it clap your han...</td>\n",
       "      <td>165</td>\n",
       "      <td>0</td>\n",
       "    </tr>\n",
       "    <tr>\n",
       "      <th>4</th>\n",
       "      <td>Wonderful World</td>\n",
       "      <td>i see trees of green red roses too i see them ...</td>\n",
       "      <td>598</td>\n",
       "      <td>0</td>\n",
       "    </tr>\n",
       "  </tbody>\n",
       "</table>\n",
       "</div>"
      ],
      "text/plain": [
       "                     title                                               song  \\\n",
       "0  Smells Like Teen Spirit  load up on guns bring your friends it is fun t...   \n",
       "1      Walking on Sunshine  oh ohhhh yeeeh i used to think maybe you loved...   \n",
       "2          Everybody Hurts  when your day is long and the night the night ...   \n",
       "3    Happy and You Know It  if you are happy and you know it clap your han...   \n",
       "4          Wonderful World  i see trees of green red roses too i see them ...   \n",
       "\n",
       "   length  class  \n",
       "0    1280      0  \n",
       "1    1679      0  \n",
       "2     886      1  \n",
       "3     165      0  \n",
       "4     598      0  "
      ]
     },
     "execution_count": 184,
     "metadata": {},
     "output_type": "execute_result"
    }
   ],
   "source": [
    "df_song.head()"
   ]
  },
  {
   "cell_type": "code",
   "execution_count": 185,
   "id": "ec3a2459",
   "metadata": {},
   "outputs": [],
   "source": [
    "df_song['repetition'] = ''"
   ]
  },
  {
   "cell_type": "code",
   "execution_count": 186,
   "id": "05a7f93a",
   "metadata": {},
   "outputs": [
    {
     "data": {
      "text/html": [
       "<div>\n",
       "<style scoped>\n",
       "    .dataframe tbody tr th:only-of-type {\n",
       "        vertical-align: middle;\n",
       "    }\n",
       "\n",
       "    .dataframe tbody tr th {\n",
       "        vertical-align: top;\n",
       "    }\n",
       "\n",
       "    .dataframe thead th {\n",
       "        text-align: right;\n",
       "    }\n",
       "</style>\n",
       "<table border=\"1\" class=\"dataframe\">\n",
       "  <thead>\n",
       "    <tr style=\"text-align: right;\">\n",
       "      <th></th>\n",
       "      <th>title</th>\n",
       "      <th>song</th>\n",
       "      <th>length</th>\n",
       "      <th>class</th>\n",
       "      <th>repetition</th>\n",
       "    </tr>\n",
       "  </thead>\n",
       "  <tbody>\n",
       "    <tr>\n",
       "      <th>0</th>\n",
       "      <td>Smells Like Teen Spirit</td>\n",
       "      <td>load up on guns bring your friends it is fun t...</td>\n",
       "      <td>1280</td>\n",
       "      <td>0</td>\n",
       "      <td></td>\n",
       "    </tr>\n",
       "    <tr>\n",
       "      <th>1</th>\n",
       "      <td>Walking on Sunshine</td>\n",
       "      <td>oh ohhhh yeeeh i used to think maybe you loved...</td>\n",
       "      <td>1679</td>\n",
       "      <td>0</td>\n",
       "      <td></td>\n",
       "    </tr>\n",
       "    <tr>\n",
       "      <th>2</th>\n",
       "      <td>Everybody Hurts</td>\n",
       "      <td>when your day is long and the night the night ...</td>\n",
       "      <td>886</td>\n",
       "      <td>1</td>\n",
       "      <td></td>\n",
       "    </tr>\n",
       "    <tr>\n",
       "      <th>3</th>\n",
       "      <td>Happy and You Know It</td>\n",
       "      <td>if you are happy and you know it clap your han...</td>\n",
       "      <td>165</td>\n",
       "      <td>0</td>\n",
       "      <td></td>\n",
       "    </tr>\n",
       "    <tr>\n",
       "      <th>4</th>\n",
       "      <td>Wonderful World</td>\n",
       "      <td>i see trees of green red roses too i see them ...</td>\n",
       "      <td>598</td>\n",
       "      <td>0</td>\n",
       "      <td></td>\n",
       "    </tr>\n",
       "  </tbody>\n",
       "</table>\n",
       "</div>"
      ],
      "text/plain": [
       "                     title                                               song  \\\n",
       "0  Smells Like Teen Spirit  load up on guns bring your friends it is fun t...   \n",
       "1      Walking on Sunshine  oh ohhhh yeeeh i used to think maybe you loved...   \n",
       "2          Everybody Hurts  when your day is long and the night the night ...   \n",
       "3    Happy and You Know It  if you are happy and you know it clap your han...   \n",
       "4          Wonderful World  i see trees of green red roses too i see them ...   \n",
       "\n",
       "   length  class repetition  \n",
       "0    1280      0             \n",
       "1    1679      0             \n",
       "2     886      1             \n",
       "3     165      0             \n",
       "4     598      0             "
      ]
     },
     "execution_count": 186,
     "metadata": {},
     "output_type": "execute_result"
    }
   ],
   "source": [
    "df_song.head()"
   ]
  },
  {
   "cell_type": "code",
   "execution_count": 187,
   "id": "99edee17",
   "metadata": {},
   "outputs": [
    {
     "name": "stderr",
     "output_type": "stream",
     "text": [
      "C:\\Users\\betha\\AppData\\Local\\Temp\\ipykernel_15788\\2241903655.py:8: SettingWithCopyWarning: \n",
      "A value is trying to be set on a copy of a slice from a DataFrame\n",
      "\n",
      "See the caveats in the documentation: https://pandas.pydata.org/pandas-docs/stable/user_guide/indexing.html#returning-a-view-versus-a-copy\n",
      "  df_song['repetition'].iloc[j] = count\n"
     ]
    }
   ],
   "source": [
    "for j in range(len(df_song)):\n",
    "    words = df_song['song'].iloc[j].split(\" \")  \n",
    "    count = 0; \n",
    "    for i in range(len(words)-1):  \n",
    "        if words[i] == words[i+1]:\n",
    "            count = count + 1\n",
    "\n",
    "        df_song['repetition'].iloc[j] = count"
   ]
  },
  {
   "cell_type": "code",
   "execution_count": 188,
   "id": "2f388ea0",
   "metadata": {},
   "outputs": [
    {
     "data": {
      "text/html": [
       "<div>\n",
       "<style scoped>\n",
       "    .dataframe tbody tr th:only-of-type {\n",
       "        vertical-align: middle;\n",
       "    }\n",
       "\n",
       "    .dataframe tbody tr th {\n",
       "        vertical-align: top;\n",
       "    }\n",
       "\n",
       "    .dataframe thead th {\n",
       "        text-align: right;\n",
       "    }\n",
       "</style>\n",
       "<table border=\"1\" class=\"dataframe\">\n",
       "  <thead>\n",
       "    <tr style=\"text-align: right;\">\n",
       "      <th></th>\n",
       "      <th>title</th>\n",
       "      <th>song</th>\n",
       "      <th>length</th>\n",
       "      <th>class</th>\n",
       "      <th>repetition</th>\n",
       "    </tr>\n",
       "  </thead>\n",
       "  <tbody>\n",
       "    <tr>\n",
       "      <th>0</th>\n",
       "      <td>Smells Like Teen Spirit</td>\n",
       "      <td>load up on guns bring your friends it is fun t...</td>\n",
       "      <td>1280</td>\n",
       "      <td>0</td>\n",
       "      <td>24</td>\n",
       "    </tr>\n",
       "    <tr>\n",
       "      <th>1</th>\n",
       "      <td>Walking on Sunshine</td>\n",
       "      <td>oh ohhhh yeeeh i used to think maybe you loved...</td>\n",
       "      <td>1679</td>\n",
       "      <td>0</td>\n",
       "      <td>3</td>\n",
       "    </tr>\n",
       "    <tr>\n",
       "      <th>2</th>\n",
       "      <td>Everybody Hurts</td>\n",
       "      <td>when your day is long and the night the night ...</td>\n",
       "      <td>886</td>\n",
       "      <td>1</td>\n",
       "      <td>2</td>\n",
       "    </tr>\n",
       "    <tr>\n",
       "      <th>3</th>\n",
       "      <td>Happy and You Know It</td>\n",
       "      <td>if you are happy and you know it clap your han...</td>\n",
       "      <td>165</td>\n",
       "      <td>0</td>\n",
       "      <td>0</td>\n",
       "    </tr>\n",
       "    <tr>\n",
       "      <th>4</th>\n",
       "      <td>Wonderful World</td>\n",
       "      <td>i see trees of green red roses too i see them ...</td>\n",
       "      <td>598</td>\n",
       "      <td>0</td>\n",
       "      <td>0</td>\n",
       "    </tr>\n",
       "  </tbody>\n",
       "</table>\n",
       "</div>"
      ],
      "text/plain": [
       "                     title                                               song  \\\n",
       "0  Smells Like Teen Spirit  load up on guns bring your friends it is fun t...   \n",
       "1      Walking on Sunshine  oh ohhhh yeeeh i used to think maybe you loved...   \n",
       "2          Everybody Hurts  when your day is long and the night the night ...   \n",
       "3    Happy and You Know It  if you are happy and you know it clap your han...   \n",
       "4          Wonderful World  i see trees of green red roses too i see them ...   \n",
       "\n",
       "   length  class repetition  \n",
       "0    1280      0         24  \n",
       "1    1679      0          3  \n",
       "2     886      1          2  \n",
       "3     165      0          0  \n",
       "4     598      0          0  "
      ]
     },
     "execution_count": 188,
     "metadata": {},
     "output_type": "execute_result"
    }
   ],
   "source": [
    "df_song.head()"
   ]
  },
  {
   "cell_type": "code",
   "execution_count": 189,
   "id": "ae0a9824",
   "metadata": {},
   "outputs": [],
   "source": [
    "df_song['sentiment'] = ''\n",
    "df_song['length'] = ''\n",
    "df_song['flesch_kincaid'] = ''"
   ]
  },
  {
   "cell_type": "code",
   "execution_count": 190,
   "id": "5fbabd50",
   "metadata": {},
   "outputs": [
    {
     "name": "stderr",
     "output_type": "stream",
     "text": [
      "C:\\Users\\betha\\AppData\\Local\\Temp\\ipykernel_15788\\898464162.py:4: SettingWithCopyWarning: \n",
      "A value is trying to be set on a copy of a slice from a DataFrame\n",
      "\n",
      "See the caveats in the documentation: https://pandas.pydata.org/pandas-docs/stable/user_guide/indexing.html#returning-a-view-versus-a-copy\n",
      "  df_song['length'].iloc[i] = len(df_song['song'].iloc[i])\n",
      "C:\\Users\\betha\\AppData\\Local\\Temp\\ipykernel_15788\\898464162.py:5: SettingWithCopyWarning: \n",
      "A value is trying to be set on a copy of a slice from a DataFrame\n",
      "\n",
      "See the caveats in the documentation: https://pandas.pydata.org/pandas-docs/stable/user_guide/indexing.html#returning-a-view-versus-a-copy\n",
      "  df_song['sentiment'].iloc[i] = TextBlob(df_song['song'].iloc[i]).polarity\n",
      "C:\\Users\\betha\\AppData\\Local\\Temp\\ipykernel_15788\\898464162.py:6: SettingWithCopyWarning: \n",
      "A value is trying to be set on a copy of a slice from a DataFrame\n",
      "\n",
      "See the caveats in the documentation: https://pandas.pydata.org/pandas-docs/stable/user_guide/indexing.html#returning-a-view-versus-a-copy\n",
      "  df_song['flesch_kincaid'].iloc[i] = textstat.flesch_kincaid_grade(df_song['song'].iloc[i])\n"
     ]
    }
   ],
   "source": [
    "from textblob import TextBlob\n",
    "import textstat\n",
    "for i in range(len(df_song)):\n",
    "    df_song['length'].iloc[i] = len(df_song['song'].iloc[i])\n",
    "    df_song['sentiment'].iloc[i] = TextBlob(df_song['song'].iloc[i]).polarity\n",
    "    df_song['flesch_kincaid'].iloc[i] = textstat.flesch_kincaid_grade(df_song['song'].iloc[i])"
   ]
  },
  {
   "cell_type": "code",
   "execution_count": 191,
   "id": "0bd1cb84",
   "metadata": {},
   "outputs": [
    {
     "data": {
      "text/html": [
       "<div>\n",
       "<style scoped>\n",
       "    .dataframe tbody tr th:only-of-type {\n",
       "        vertical-align: middle;\n",
       "    }\n",
       "\n",
       "    .dataframe tbody tr th {\n",
       "        vertical-align: top;\n",
       "    }\n",
       "\n",
       "    .dataframe thead th {\n",
       "        text-align: right;\n",
       "    }\n",
       "</style>\n",
       "<table border=\"1\" class=\"dataframe\">\n",
       "  <thead>\n",
       "    <tr style=\"text-align: right;\">\n",
       "      <th></th>\n",
       "      <th>title</th>\n",
       "      <th>song</th>\n",
       "      <th>length</th>\n",
       "      <th>class</th>\n",
       "      <th>repetition</th>\n",
       "      <th>sentiment</th>\n",
       "      <th>flesch_kincaid</th>\n",
       "    </tr>\n",
       "  </thead>\n",
       "  <tbody>\n",
       "    <tr>\n",
       "      <th>0</th>\n",
       "      <td>Smells Like Teen Spirit</td>\n",
       "      <td>load up on guns bring your friends it is fun t...</td>\n",
       "      <td>1280</td>\n",
       "      <td>0</td>\n",
       "      <td>24</td>\n",
       "      <td>-0.19892</td>\n",
       "      <td>102.7</td>\n",
       "    </tr>\n",
       "    <tr>\n",
       "      <th>1</th>\n",
       "      <td>Walking on Sunshine</td>\n",
       "      <td>oh ohhhh yeeeh i used to think maybe you loved...</td>\n",
       "      <td>1679</td>\n",
       "      <td>0</td>\n",
       "      <td>3</td>\n",
       "      <td>0.48771</td>\n",
       "      <td>141.7</td>\n",
       "    </tr>\n",
       "    <tr>\n",
       "      <th>2</th>\n",
       "      <td>Everybody Hurts</td>\n",
       "      <td>when your day is long and the night the night ...</td>\n",
       "      <td>886</td>\n",
       "      <td>1</td>\n",
       "      <td>2</td>\n",
       "      <td>0.1125</td>\n",
       "      <td>67.6</td>\n",
       "    </tr>\n",
       "    <tr>\n",
       "      <th>3</th>\n",
       "      <td>Happy and You Know It</td>\n",
       "      <td>if you are happy and you know it clap your han...</td>\n",
       "      <td>165</td>\n",
       "      <td>0</td>\n",
       "      <td>0</td>\n",
       "      <td>0.725</td>\n",
       "      <td>11.8</td>\n",
       "    </tr>\n",
       "    <tr>\n",
       "      <th>4</th>\n",
       "      <td>Wonderful World</td>\n",
       "      <td>i see trees of green red roses too i see them ...</td>\n",
       "      <td>598</td>\n",
       "      <td>0</td>\n",
       "      <td>0</td>\n",
       "      <td>0.373333</td>\n",
       "      <td>47.3</td>\n",
       "    </tr>\n",
       "    <tr>\n",
       "      <th>5</th>\n",
       "      <td>Never Gonna Give You Up</td>\n",
       "      <td>we are no strangers to love you know the rules...</td>\n",
       "      <td>1741</td>\n",
       "      <td>0</td>\n",
       "      <td>0</td>\n",
       "      <td>-0.158796</td>\n",
       "      <td>139.4</td>\n",
       "    </tr>\n",
       "    <tr>\n",
       "      <th>6</th>\n",
       "      <td>Save Myself</td>\n",
       "      <td>i gave all my oxygen to people that could brea...</td>\n",
       "      <td>1632</td>\n",
       "      <td>1</td>\n",
       "      <td>0</td>\n",
       "      <td>0.010606</td>\n",
       "      <td>135.5</td>\n",
       "    </tr>\n",
       "    <tr>\n",
       "      <th>7</th>\n",
       "      <td>Adams Song</td>\n",
       "      <td>i never thought i would die alone i laughed th...</td>\n",
       "      <td>1364</td>\n",
       "      <td>1</td>\n",
       "      <td>3</td>\n",
       "      <td>0.076</td>\n",
       "      <td>110.5</td>\n",
       "    </tr>\n",
       "    <tr>\n",
       "      <th>8</th>\n",
       "      <td>Cemetary Drive</td>\n",
       "      <td>this night walk the dead in a solitary style a...</td>\n",
       "      <td>911</td>\n",
       "      <td>1</td>\n",
       "      <td>0</td>\n",
       "      <td>-0.114418</td>\n",
       "      <td>73.8</td>\n",
       "    </tr>\n",
       "    <tr>\n",
       "      <th>9</th>\n",
       "      <td>Haunted</td>\n",
       "      <td>louder louder the voices in my head whispers t...</td>\n",
       "      <td>1181</td>\n",
       "      <td>1</td>\n",
       "      <td>3</td>\n",
       "      <td>-0.02381</td>\n",
       "      <td>100.7</td>\n",
       "    </tr>\n",
       "  </tbody>\n",
       "</table>\n",
       "</div>"
      ],
      "text/plain": [
       "                     title                                               song  \\\n",
       "0  Smells Like Teen Spirit  load up on guns bring your friends it is fun t...   \n",
       "1      Walking on Sunshine  oh ohhhh yeeeh i used to think maybe you loved...   \n",
       "2          Everybody Hurts  when your day is long and the night the night ...   \n",
       "3    Happy and You Know It  if you are happy and you know it clap your han...   \n",
       "4          Wonderful World  i see trees of green red roses too i see them ...   \n",
       "5  Never Gonna Give You Up  we are no strangers to love you know the rules...   \n",
       "6              Save Myself  i gave all my oxygen to people that could brea...   \n",
       "7               Adams Song  i never thought i would die alone i laughed th...   \n",
       "8           Cemetary Drive  this night walk the dead in a solitary style a...   \n",
       "9                  Haunted  louder louder the voices in my head whispers t...   \n",
       "\n",
       "  length  class repetition sentiment flesch_kincaid  \n",
       "0   1280      0         24  -0.19892          102.7  \n",
       "1   1679      0          3   0.48771          141.7  \n",
       "2    886      1          2    0.1125           67.6  \n",
       "3    165      0          0     0.725           11.8  \n",
       "4    598      0          0  0.373333           47.3  \n",
       "5   1741      0          0 -0.158796          139.4  \n",
       "6   1632      1          0  0.010606          135.5  \n",
       "7   1364      1          3     0.076          110.5  \n",
       "8    911      1          0 -0.114418           73.8  \n",
       "9   1181      1          3  -0.02381          100.7  "
      ]
     },
     "execution_count": 191,
     "metadata": {},
     "output_type": "execute_result"
    }
   ],
   "source": [
    "df_song"
   ]
  },
  {
   "cell_type": "code",
   "execution_count": 192,
   "id": "fe16bbc7",
   "metadata": {},
   "outputs": [],
   "source": [
    "df2 = df_song[['sentiment', 'flesch_kincaid', 'repetition', 'length']]"
   ]
  },
  {
   "cell_type": "code",
   "execution_count": 193,
   "id": "0ddacf4b",
   "metadata": {},
   "outputs": [],
   "source": [
    "from sklearn.preprocessing import StandardScaler, MinMaxScaler, RobustScaler, MaxAbsScaler\n",
    "scaler = MinMaxScaler()\n",
    "scaler.fit(df2)\n",
    "df_scaled = scaler.transform(df2)\n",
    "scaled_features_df = pd.DataFrame(df_scaled, index=df2.index, columns=df2.columns)"
   ]
  },
  {
   "cell_type": "code",
   "execution_count": 194,
   "id": "13c6af9d",
   "metadata": {},
   "outputs": [
    {
     "name": "stderr",
     "output_type": "stream",
     "text": [
      "C:\\Users\\betha\\AppData\\Local\\Temp\\ipykernel_15788\\3515326528.py:5: FutureWarning: Support for multi-dimensional indexing (e.g. `obj[:, None]`) is deprecated and will be removed in a future version.  Convert to a numpy array before indexing instead.\n",
      "  reading_level = scaled_features_df['flesch_kincaid'][:, None]\n",
      "C:\\Users\\betha\\AppData\\Local\\Temp\\ipykernel_15788\\3515326528.py:6: FutureWarning: Support for multi-dimensional indexing (e.g. `obj[:, None]`) is deprecated and will be removed in a future version.  Convert to a numpy array before indexing instead.\n",
      "  repetition = scaled_features_df['repetition'][:, None]\n"
     ]
    }
   ],
   "source": [
    "text_matrix = vectorizor_tfid.transform(df_song['song'])\n",
    "text_matrix = text_matrix.tocsc() \n",
    "length = scaled_features_df['length'].values[:, None]\n",
    "sentiment = scaled_features_df['sentiment'].values[:, None]\n",
    "reading_level = scaled_features_df['flesch_kincaid'][:, None]\n",
    "repetition = scaled_features_df['repetition'][:, None]\n",
    "first = hstack((text_matrix, length))\n",
    "second = hstack((first, sentiment))\n",
    "third = hstack((second, reading_level))\n",
    "X_song = hstack((third, sentiment))\n",
    "\n",
    "y_song = df_song['class']"
   ]
  },
  {
   "cell_type": "code",
   "execution_count": 195,
   "id": "35c85580",
   "metadata": {},
   "outputs": [
    {
     "data": {
      "text/plain": [
       "array([0, 0, 1, 0, 0, 0, 1, 1, 1, 1])"
      ]
     },
     "execution_count": 195,
     "metadata": {},
     "output_type": "execute_result"
    }
   ],
   "source": [
    "lr_tfidi.predict(X_song)"
   ]
  },
  {
   "cell_type": "code",
   "execution_count": 196,
   "id": "786c03a1",
   "metadata": {},
   "outputs": [],
   "source": [
    "song_pred = lr_tfidi.predict(X_song)"
   ]
  },
  {
   "cell_type": "code",
   "execution_count": 197,
   "id": "c9453c6b",
   "metadata": {},
   "outputs": [
    {
     "name": "stdout",
     "output_type": "stream",
     "text": [
      "Accuracy: 1.0\n",
      "Balanced accuracy: 1.0\n",
      "Precision score 1.0\n",
      "Recall score 1.0\n",
      "F1 score 1.0\n",
      "ROC_AUC Score 1.0\n"
     ]
    }
   ],
   "source": [
    "accuracy_song = metrics.accuracy_score(y_song,song_pred)\n",
    "balanced_accuracy_song = metrics.balanced_accuracy_score(y_song,song_pred)\n",
    "precision_song = metrics.precision_score(y_song,song_pred, pos_label = 1)\n",
    "recall_song = metrics.recall_score(y_song,song_pred, pos_label = 1)\n",
    "f1_song = metrics.f1_score(y_song,song_pred, pos_label = 1)\n",
    "roc_auc_song = metrics.roc_auc_score(y_song,song_pred)\n",
    "print(\"Accuracy:\", accuracy_song)\n",
    "print(\"Balanced accuracy:\", balanced_accuracy_song)\n",
    "print('Precision score' , precision_song)\n",
    "print('Recall score' , recall_song)\n",
    "print('F1 score' , f1_song)\n",
    "print('ROC_AUC Score' , roc_auc_song)"
   ]
  },
  {
   "cell_type": "code",
   "execution_count": 198,
   "id": "5b274eb7",
   "metadata": {},
   "outputs": [
    {
     "data": {
      "text/html": [
       "<div>\n",
       "<style scoped>\n",
       "    .dataframe tbody tr th:only-of-type {\n",
       "        vertical-align: middle;\n",
       "    }\n",
       "\n",
       "    .dataframe tbody tr th {\n",
       "        vertical-align: top;\n",
       "    }\n",
       "\n",
       "    .dataframe thead th {\n",
       "        text-align: right;\n",
       "    }\n",
       "</style>\n",
       "<table border=\"1\" class=\"dataframe\">\n",
       "  <thead>\n",
       "    <tr style=\"text-align: right;\">\n",
       "      <th></th>\n",
       "      <th>Predicted Non-Suicide</th>\n",
       "      <th>Predicted Suicide</th>\n",
       "    </tr>\n",
       "  </thead>\n",
       "  <tbody>\n",
       "    <tr>\n",
       "      <th>Actual Non-Suicide</th>\n",
       "      <td>5</td>\n",
       "      <td>0</td>\n",
       "    </tr>\n",
       "    <tr>\n",
       "      <th>Actual Suicide</th>\n",
       "      <td>0</td>\n",
       "      <td>5</td>\n",
       "    </tr>\n",
       "  </tbody>\n",
       "</table>\n",
       "</div>"
      ],
      "text/plain": [
       "                    Predicted Non-Suicide  Predicted Suicide\n",
       "Actual Non-Suicide                      5                  0\n",
       "Actual Suicide                          0                  5"
      ]
     },
     "execution_count": 198,
     "metadata": {},
     "output_type": "execute_result"
    }
   ],
   "source": [
    "pd.DataFrame(confusion_matrix(y_song, song_pred), columns=['Predicted Non-Suicide', \"Predicted Suicide\"], index=['Actual Non-Suicide', 'Actual Suicide'])"
   ]
  },
  {
   "cell_type": "markdown",
   "id": "42706a94",
   "metadata": {},
   "source": [
    "# Step 10:  Summary"
   ]
  },
  {
   "cell_type": "markdown",
   "id": "a08f30f3",
   "metadata": {},
   "source": [
    "The goal of this project was to build a model that would use natural language processing to determine whether social media postings were from a suicide forum or from a teenager forum.  The idea was to develop a tool that would be able to detect suicidal tendencies in the person posting on social media.  In the end, the tuned model was able to predict the source of posted text very well.  The ROC-AUC score of our final model was 0.995.  \n",
    "\n",
    "This seems accurate enough to be useful although further conversations with potential stakeholders could shed light on their needs for improved accuracy.\n",
    "\n",
    "Such stakeholders may include:\n",
    "\n",
    "* Schools or parents who wish to monitor children's social media activities.\n",
    "\n",
    "* Social media companies who may want to monitor social media postings for suicial tendencies in order to appear socially responsible.\n",
    "\n",
    "*  Firearms manufacturers or mental health councillors who may want to target their advertisements to suicical customers."
   ]
  },
  {
   "cell_type": "markdown",
   "id": "eee59086",
   "metadata": {},
   "source": [
    "#  Step 11:  Next Steps"
   ]
  },
  {
   "cell_type": "markdown",
   "id": "c630203a",
   "metadata": {},
   "source": [
    "The model did a very good job of predicting the source of the text.  However, the language used in the teenager forum was markedly different from the language used in the suicide forum.  The differences in the group were fairly obvious.  It may be beneficial to conduct a similar analysis between to more similar groups ie depressed group and suicidal group in order to see how well this model or another model performs in the case of more subtle differences in the language between groups.  \n",
    "\n",
    "In addition, while a few features were engineered such as length of the posting, grade level, sentiment, and repetition, in the end the inclusion of these engineered features did not improve the performance of the model.  Conversations with potential stakeholders or experts in the field may yield additional feature engineering that could be performed to improve the performance of the model. \n",
    "\n",
    "Finally, a significant amount of time was spent optimizing the hyperparameters and each of our models included either one or two hyperparameters to tune. However, it is likely that including additional parameters in a future analysis could result in a more robust model."
   ]
  }
 ],
 "metadata": {
  "kernelspec": {
   "display_name": "Python 3 (ipykernel)",
   "language": "python",
   "name": "python3"
  },
  "language_info": {
   "codemirror_mode": {
    "name": "ipython",
    "version": 3
   },
   "file_extension": ".py",
   "mimetype": "text/x-python",
   "name": "python",
   "nbconvert_exporter": "python",
   "pygments_lexer": "ipython3",
   "version": "3.9.12"
  }
 },
 "nbformat": 4,
 "nbformat_minor": 5
}
