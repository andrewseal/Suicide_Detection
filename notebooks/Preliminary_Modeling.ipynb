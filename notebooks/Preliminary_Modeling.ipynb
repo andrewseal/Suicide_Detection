{
 "cells": [
  {
   "cell_type": "markdown",
   "id": "5e708ec4",
   "metadata": {},
   "source": [
    "# Step 1:  Imports"
   ]
  },
  {
   "cell_type": "code",
   "execution_count": 1,
   "id": "cf4295c5",
   "metadata": {},
   "outputs": [],
   "source": [
    "import pandas as pd\n",
    "\n",
    "from sklearn.model_selection import train_test_split, cross_validate, GridSearchCV, learning_curve\n",
    "import numpy as np\n",
    "import matplotlib.pyplot as plt\n",
    "from sklearn.naive_bayes import MultinomialNB\n",
    "from sklearn.ensemble import RandomForestClassifier\n",
    "from sklearn.linear_model import LogisticRegression\n",
    "\n",
    "from sklearn import tree, metrics\n",
    "\n",
    "from sklearn.pipeline import Pipeline, FeatureUnion\n",
    "from spacy.lang.en.stop_words import STOP_WORDS\n",
    "\n",
    "from sklearn.feature_extraction.text import TfidfVectorizer\n",
    "from sklearn.feature_extraction.text import CountVectorizer\n",
    "\n",
    "#import warnings\n",
    "#warnings.filterwarnings(\"ignore\")"
   ]
  },
  {
   "cell_type": "markdown",
   "id": "e3cb716c",
   "metadata": {},
   "source": [
    "# Step 2:  Load the Data"
   ]
  },
  {
   "cell_type": "code",
   "execution_count": 2,
   "id": "8b995b8c",
   "metadata": {},
   "outputs": [],
   "source": [
    "df = pd.read_csv('Suicide_Detection_Cleaned.csv')"
   ]
  },
  {
   "cell_type": "code",
   "execution_count": 3,
   "id": "05664333",
   "metadata": {},
   "outputs": [
    {
     "data": {
      "text/html": [
       "<div>\n",
       "<style scoped>\n",
       "    .dataframe tbody tr th:only-of-type {\n",
       "        vertical-align: middle;\n",
       "    }\n",
       "\n",
       "    .dataframe tbody tr th {\n",
       "        vertical-align: top;\n",
       "    }\n",
       "\n",
       "    .dataframe thead th {\n",
       "        text-align: right;\n",
       "    }\n",
       "</style>\n",
       "<table border=\"1\" class=\"dataframe\">\n",
       "  <thead>\n",
       "    <tr style=\"text-align: right;\">\n",
       "      <th></th>\n",
       "      <th>Unnamed: 0.2</th>\n",
       "      <th>Unnamed: 0</th>\n",
       "      <th>Unnamed: 0.1</th>\n",
       "      <th>text</th>\n",
       "      <th>class</th>\n",
       "      <th>clean</th>\n",
       "      <th>word</th>\n",
       "      <th>clean_text</th>\n",
       "      <th>length</th>\n",
       "      <th>sentiment</th>\n",
       "      <th>flesch_kincaid</th>\n",
       "      <th>repetition</th>\n",
       "    </tr>\n",
       "  </thead>\n",
       "  <tbody>\n",
       "    <tr>\n",
       "      <th>0</th>\n",
       "      <td>0</td>\n",
       "      <td>0</td>\n",
       "      <td>2</td>\n",
       "      <td>Ex Wife Threatening SuicideRecently I left my ...</td>\n",
       "      <td>suicide</td>\n",
       "      <td>ex wife threatening suiciderecently i left my ...</td>\n",
       "      <td>['ex', 'wife', 'threatening', 'suiciderecently...</td>\n",
       "      <td>ex wife threatening suiciderecently left wife ...</td>\n",
       "      <td>345</td>\n",
       "      <td>0.100000</td>\n",
       "      <td>24.4</td>\n",
       "      <td>0</td>\n",
       "    </tr>\n",
       "    <tr>\n",
       "      <th>1</th>\n",
       "      <td>1</td>\n",
       "      <td>1</td>\n",
       "      <td>3</td>\n",
       "      <td>Am I weird I don't get affected by compliments...</td>\n",
       "      <td>non-suicide</td>\n",
       "      <td>am i weird i do not get affected by compliment...</td>\n",
       "      <td>['weird', 'affected', 'compliment', 'coming', ...</td>\n",
       "      <td>weird affected compliment coming know irl feel...</td>\n",
       "      <td>69</td>\n",
       "      <td>0.100000</td>\n",
       "      <td>8.4</td>\n",
       "      <td>0</td>\n",
       "    </tr>\n",
       "    <tr>\n",
       "      <th>2</th>\n",
       "      <td>2</td>\n",
       "      <td>2</td>\n",
       "      <td>4</td>\n",
       "      <td>Finally 2020 is almost over... So I can never ...</td>\n",
       "      <td>non-suicide</td>\n",
       "      <td>finally  is almost over so i can never hear  h...</td>\n",
       "      <td>['finally', 'hear', 'bad', 'year', 'swear', 'f...</td>\n",
       "      <td>finally hear bad year swear fucking god annoying</td>\n",
       "      <td>48</td>\n",
       "      <td>-0.525000</td>\n",
       "      <td>6.4</td>\n",
       "      <td>0</td>\n",
       "    </tr>\n",
       "    <tr>\n",
       "      <th>3</th>\n",
       "      <td>3</td>\n",
       "      <td>3</td>\n",
       "      <td>8</td>\n",
       "      <td>i need helpjust help me im crying so hard</td>\n",
       "      <td>suicide</td>\n",
       "      <td>i need helpjust help me im crying so hard</td>\n",
       "      <td>['need', 'helpjust', 'help', 'im', 'cry', 'hard']</td>\n",
       "      <td>need helpjust help im cry hard</td>\n",
       "      <td>30</td>\n",
       "      <td>-0.291667</td>\n",
       "      <td>-1.5</td>\n",
       "      <td>0</td>\n",
       "    </tr>\n",
       "    <tr>\n",
       "      <th>4</th>\n",
       "      <td>4</td>\n",
       "      <td>4</td>\n",
       "      <td>9</td>\n",
       "      <td>I’m so lostHello, my name is Adam (16) and I’v...</td>\n",
       "      <td>suicide</td>\n",
       "      <td>i am so losthello my name is adam  and i have ...</td>\n",
       "      <td>['losthello', 'adam', 'struggling', 'year', 'a...</td>\n",
       "      <td>losthello adam struggling year afraid past yea...</td>\n",
       "      <td>1281</td>\n",
       "      <td>-0.228461</td>\n",
       "      <td>74.7</td>\n",
       "      <td>2</td>\n",
       "    </tr>\n",
       "  </tbody>\n",
       "</table>\n",
       "</div>"
      ],
      "text/plain": [
       "   Unnamed: 0.2  Unnamed: 0  Unnamed: 0.1  \\\n",
       "0             0           0             2   \n",
       "1             1           1             3   \n",
       "2             2           2             4   \n",
       "3             3           3             8   \n",
       "4             4           4             9   \n",
       "\n",
       "                                                text        class  \\\n",
       "0  Ex Wife Threatening SuicideRecently I left my ...      suicide   \n",
       "1  Am I weird I don't get affected by compliments...  non-suicide   \n",
       "2  Finally 2020 is almost over... So I can never ...  non-suicide   \n",
       "3          i need helpjust help me im crying so hard      suicide   \n",
       "4  I’m so lostHello, my name is Adam (16) and I’v...      suicide   \n",
       "\n",
       "                                               clean  \\\n",
       "0  ex wife threatening suiciderecently i left my ...   \n",
       "1  am i weird i do not get affected by compliment...   \n",
       "2  finally  is almost over so i can never hear  h...   \n",
       "3          i need helpjust help me im crying so hard   \n",
       "4  i am so losthello my name is adam  and i have ...   \n",
       "\n",
       "                                                word  \\\n",
       "0  ['ex', 'wife', 'threatening', 'suiciderecently...   \n",
       "1  ['weird', 'affected', 'compliment', 'coming', ...   \n",
       "2  ['finally', 'hear', 'bad', 'year', 'swear', 'f...   \n",
       "3  ['need', 'helpjust', 'help', 'im', 'cry', 'hard']   \n",
       "4  ['losthello', 'adam', 'struggling', 'year', 'a...   \n",
       "\n",
       "                                          clean_text  length  sentiment  \\\n",
       "0  ex wife threatening suiciderecently left wife ...     345   0.100000   \n",
       "1  weird affected compliment coming know irl feel...      69   0.100000   \n",
       "2   finally hear bad year swear fucking god annoying      48  -0.525000   \n",
       "3                     need helpjust help im cry hard      30  -0.291667   \n",
       "4  losthello adam struggling year afraid past yea...    1281  -0.228461   \n",
       "\n",
       "   flesch_kincaid  repetition  \n",
       "0            24.4           0  \n",
       "1             8.4           0  \n",
       "2             6.4           0  \n",
       "3            -1.5           0  \n",
       "4            74.7           2  "
      ]
     },
     "execution_count": 3,
     "metadata": {},
     "output_type": "execute_result"
    }
   ],
   "source": [
    "df.head(5)"
   ]
  },
  {
   "cell_type": "code",
   "execution_count": 4,
   "id": "43c0f537",
   "metadata": {},
   "outputs": [],
   "source": [
    "df = df.dropna()"
   ]
  },
  {
   "cell_type": "code",
   "execution_count": 5,
   "id": "5d830114",
   "metadata": {
    "scrolled": true
   },
   "outputs": [
    {
     "name": "stderr",
     "output_type": "stream",
     "text": [
      "C:\\Users\\betha\\AppData\\Local\\Temp\\ipykernel_10488\\3149362354.py:1: SettingWithCopyWarning: \n",
      "A value is trying to be set on a copy of a slice from a DataFrame\n",
      "\n",
      "See the caveats in the documentation: https://pandas.pydata.org/pandas-docs/stable/user_guide/indexing.html#returning-a-view-versus-a-copy\n",
      "  df['class'][df['class'] == 'suicide'] = 1\n",
      "C:\\Users\\betha\\AppData\\Local\\Temp\\ipykernel_10488\\3149362354.py:2: SettingWithCopyWarning: \n",
      "A value is trying to be set on a copy of a slice from a DataFrame\n",
      "\n",
      "See the caveats in the documentation: https://pandas.pydata.org/pandas-docs/stable/user_guide/indexing.html#returning-a-view-versus-a-copy\n",
      "  df['class'][df['class'] == 'non-suicide'] = 0\n"
     ]
    }
   ],
   "source": [
    "df['class'][df['class'] == 'suicide'] = 1\n",
    "df['class'][df['class'] == 'non-suicide'] = 0"
   ]
  },
  {
   "cell_type": "code",
   "execution_count": 6,
   "id": "de416d23",
   "metadata": {},
   "outputs": [],
   "source": [
    "df['class'] = df['class'].astype(int)"
   ]
  },
  {
   "cell_type": "code",
   "execution_count": 7,
   "id": "6e099278",
   "metadata": {},
   "outputs": [
    {
     "name": "stdout",
     "output_type": "stream",
     "text": [
      "<class 'pandas.core.frame.DataFrame'>\n",
      "RangeIndex: 232049 entries, 0 to 232048\n",
      "Data columns (total 12 columns):\n",
      " #   Column          Non-Null Count   Dtype  \n",
      "---  ------          --------------   -----  \n",
      " 0   Unnamed: 0.2    232049 non-null  int64  \n",
      " 1   Unnamed: 0      232049 non-null  int64  \n",
      " 2   Unnamed: 0.1    232049 non-null  int64  \n",
      " 3   text            232049 non-null  object \n",
      " 4   class           232049 non-null  int32  \n",
      " 5   clean           232049 non-null  object \n",
      " 6   word            232049 non-null  object \n",
      " 7   clean_text      232049 non-null  object \n",
      " 8   length          232049 non-null  int64  \n",
      " 9   sentiment       232049 non-null  float64\n",
      " 10  flesch_kincaid  232049 non-null  float64\n",
      " 11  repetition      232049 non-null  int64  \n",
      "dtypes: float64(2), int32(1), int64(5), object(4)\n",
      "memory usage: 20.4+ MB\n"
     ]
    }
   ],
   "source": [
    "df.info()"
   ]
  },
  {
   "cell_type": "markdown",
   "id": "0608e71d",
   "metadata": {},
   "source": [
    "It looks like we have 232,052 rows of data and no columns are null.  With that we have no data to impute. "
   ]
  },
  {
   "cell_type": "markdown",
   "id": "41fb25dd",
   "metadata": {},
   "source": [
    "# Step 3: Look at correlations"
   ]
  },
  {
   "cell_type": "markdown",
   "id": "b6d10e87",
   "metadata": {},
   "source": [
    "In the previous step we created variables for reading level, length, repetition and sentiment.  Are they measuring the same thing?"
   ]
  },
  {
   "cell_type": "code",
   "execution_count": 8,
   "id": "2ab62ea9",
   "metadata": {},
   "outputs": [
    {
     "data": {
      "text/html": [
       "<div>\n",
       "<style scoped>\n",
       "    .dataframe tbody tr th:only-of-type {\n",
       "        vertical-align: middle;\n",
       "    }\n",
       "\n",
       "    .dataframe tbody tr th {\n",
       "        vertical-align: top;\n",
       "    }\n",
       "\n",
       "    .dataframe thead th {\n",
       "        text-align: right;\n",
       "    }\n",
       "</style>\n",
       "<table border=\"1\" class=\"dataframe\">\n",
       "  <thead>\n",
       "    <tr style=\"text-align: right;\">\n",
       "      <th></th>\n",
       "      <th>length</th>\n",
       "      <th>sentiment</th>\n",
       "      <th>flesch_kincaid</th>\n",
       "      <th>repetition</th>\n",
       "      <th>class</th>\n",
       "    </tr>\n",
       "  </thead>\n",
       "  <tbody>\n",
       "    <tr>\n",
       "      <th>0</th>\n",
       "      <td>345</td>\n",
       "      <td>0.100000</td>\n",
       "      <td>24.4</td>\n",
       "      <td>0</td>\n",
       "      <td>1</td>\n",
       "    </tr>\n",
       "    <tr>\n",
       "      <th>1</th>\n",
       "      <td>69</td>\n",
       "      <td>0.100000</td>\n",
       "      <td>8.4</td>\n",
       "      <td>0</td>\n",
       "      <td>0</td>\n",
       "    </tr>\n",
       "    <tr>\n",
       "      <th>2</th>\n",
       "      <td>48</td>\n",
       "      <td>-0.525000</td>\n",
       "      <td>6.4</td>\n",
       "      <td>0</td>\n",
       "      <td>0</td>\n",
       "    </tr>\n",
       "    <tr>\n",
       "      <th>3</th>\n",
       "      <td>30</td>\n",
       "      <td>-0.291667</td>\n",
       "      <td>-1.5</td>\n",
       "      <td>0</td>\n",
       "      <td>1</td>\n",
       "    </tr>\n",
       "    <tr>\n",
       "      <th>4</th>\n",
       "      <td>1281</td>\n",
       "      <td>-0.228461</td>\n",
       "      <td>74.7</td>\n",
       "      <td>2</td>\n",
       "      <td>1</td>\n",
       "    </tr>\n",
       "  </tbody>\n",
       "</table>\n",
       "</div>"
      ],
      "text/plain": [
       "   length  sentiment  flesch_kincaid  repetition  class\n",
       "0     345   0.100000            24.4           0      1\n",
       "1      69   0.100000             8.4           0      0\n",
       "2      48  -0.525000             6.4           0      0\n",
       "3      30  -0.291667            -1.5           0      1\n",
       "4    1281  -0.228461            74.7           2      1"
      ]
     },
     "execution_count": 8,
     "metadata": {},
     "output_type": "execute_result"
    }
   ],
   "source": [
    "df1 = df[['length', 'sentiment', 'flesch_kincaid', 'repetition', 'class']]\n",
    "df1.head()"
   ]
  },
  {
   "cell_type": "code",
   "execution_count": 9,
   "id": "b859dc5e",
   "metadata": {},
   "outputs": [
    {
     "data": {
      "text/html": [
       "<div>\n",
       "<style scoped>\n",
       "    .dataframe tbody tr th:only-of-type {\n",
       "        vertical-align: middle;\n",
       "    }\n",
       "\n",
       "    .dataframe tbody tr th {\n",
       "        vertical-align: top;\n",
       "    }\n",
       "\n",
       "    .dataframe thead th {\n",
       "        text-align: right;\n",
       "    }\n",
       "</style>\n",
       "<table border=\"1\" class=\"dataframe\">\n",
       "  <thead>\n",
       "    <tr style=\"text-align: right;\">\n",
       "      <th></th>\n",
       "      <th>length</th>\n",
       "      <th>sentiment</th>\n",
       "      <th>flesch_kincaid</th>\n",
       "      <th>repetition</th>\n",
       "      <th>class</th>\n",
       "    </tr>\n",
       "  </thead>\n",
       "  <tbody>\n",
       "    <tr>\n",
       "      <th>length</th>\n",
       "      <td>1.000000</td>\n",
       "      <td>-0.002195</td>\n",
       "      <td>0.885668</td>\n",
       "      <td>0.090969</td>\n",
       "      <td>0.093813</td>\n",
       "    </tr>\n",
       "    <tr>\n",
       "      <th>sentiment</th>\n",
       "      <td>-0.002195</td>\n",
       "      <td>1.000000</td>\n",
       "      <td>-0.000907</td>\n",
       "      <td>-0.000690</td>\n",
       "      <td>-0.098727</td>\n",
       "    </tr>\n",
       "    <tr>\n",
       "      <th>flesch_kincaid</th>\n",
       "      <td>0.885668</td>\n",
       "      <td>-0.000907</td>\n",
       "      <td>1.000000</td>\n",
       "      <td>0.022114</td>\n",
       "      <td>0.008996</td>\n",
       "    </tr>\n",
       "    <tr>\n",
       "      <th>repetition</th>\n",
       "      <td>0.090969</td>\n",
       "      <td>-0.000690</td>\n",
       "      <td>0.022114</td>\n",
       "      <td>1.000000</td>\n",
       "      <td>-0.013508</td>\n",
       "    </tr>\n",
       "    <tr>\n",
       "      <th>class</th>\n",
       "      <td>0.093813</td>\n",
       "      <td>-0.098727</td>\n",
       "      <td>0.008996</td>\n",
       "      <td>-0.013508</td>\n",
       "      <td>1.000000</td>\n",
       "    </tr>\n",
       "  </tbody>\n",
       "</table>\n",
       "</div>"
      ],
      "text/plain": [
       "                  length  sentiment  flesch_kincaid  repetition     class\n",
       "length          1.000000  -0.002195        0.885668    0.090969  0.093813\n",
       "sentiment      -0.002195   1.000000       -0.000907   -0.000690 -0.098727\n",
       "flesch_kincaid  0.885668  -0.000907        1.000000    0.022114  0.008996\n",
       "repetition      0.090969  -0.000690        0.022114    1.000000 -0.013508\n",
       "class           0.093813  -0.098727        0.008996   -0.013508  1.000000"
      ]
     },
     "execution_count": 9,
     "metadata": {},
     "output_type": "execute_result"
    }
   ],
   "source": [
    "df1.corr()"
   ]
  },
  {
   "cell_type": "markdown",
   "id": "4eb2846b",
   "metadata": {},
   "source": [
    "\n",
    "We can see that reading level and length of post are highly correlated.  However since the correlation is less than 0.95, I think we can keep both variables.\n"
   ]
  },
  {
   "cell_type": "markdown",
   "id": "cb563bb6",
   "metadata": {},
   "source": [
    "# Naive Bayes with Count Vectorizer - Text Only"
   ]
  },
  {
   "cell_type": "code",
   "execution_count": 10,
   "id": "a24ce348",
   "metadata": {},
   "outputs": [
    {
     "name": "stderr",
     "output_type": "stream",
     "text": [
      "C:\\Users\\betha\\anaconda3\\lib\\site-packages\\sklearn\\feature_extraction\\text.py:396: UserWarning: Your stop_words may be inconsistent with your preprocessing. Tokenizing the stop words generated tokens ['ll', 've'] not in stop_words.\n",
      "  warnings.warn(\n"
     ]
    }
   ],
   "source": [
    "vectorizer = CountVectorizer(min_df=3, ngram_range = (1,2), stop_words = STOP_WORDS)\n",
    "X = vectorizer.fit_transform(df['clean_text'])\n",
    "X = X.tocsc() \n",
    "y = df['class']"
   ]
  },
  {
   "cell_type": "code",
   "execution_count": 11,
   "id": "44f23f45",
   "metadata": {},
   "outputs": [],
   "source": [
    "X_train1, X_test1, y_train1, y_test1 = train_test_split(X, y, test_size=0.25, random_state=12)"
   ]
  },
  {
   "cell_type": "code",
   "execution_count": 12,
   "id": "804e0df4",
   "metadata": {},
   "outputs": [
    {
     "data": {
      "text/plain": [
       "GridSearchCV(cv=5, estimator=MultinomialNB(),\n",
       "             param_grid={'alpha': [0.025, 0.05, 0.1, 0.2, 0.4, 0.5, 0.75, 1, 2,\n",
       "                                   5, 8]})"
      ]
     },
     "execution_count": 12,
     "metadata": {},
     "output_type": "execute_result"
    }
   ],
   "source": [
    "n_est = [0.025, 0.05, 0.1, 0.2, 0.4, 0.5, 0.75, 1, 2, 5, 8]\n",
    "#n_est = [int(n) for n in np.logspace(start=0, stop=3, num=30)]\n",
    "param_grid = {'alpha':n_est}\n",
    "nbcv = MultinomialNB()\n",
    "nbcv_cv= GridSearchCV(nbcv,param_grid,cv=5)\n",
    "nbcv_cv.fit(X_train1, y_train1)"
   ]
  },
  {
   "cell_type": "code",
   "execution_count": 13,
   "id": "8c548ac4",
   "metadata": {},
   "outputs": [
    {
     "name": "stdout",
     "output_type": "stream",
     "text": [
      "Best Score:0.9178273499842916\n",
      "Best Parameters: {'alpha': 0.4}\n"
     ]
    }
   ],
   "source": [
    "print(\"Best Score:\" + str(nbcv_cv.best_score_))\n",
    "print(\"Best Parameters: \" + str(nbcv_cv.best_params_))"
   ]
  },
  {
   "cell_type": "code",
   "execution_count": 14,
   "id": "c513534e",
   "metadata": {
    "scrolled": true
   },
   "outputs": [
    {
     "data": {
      "text/plain": [
       "MultinomialNB(alpha=0.4)"
      ]
     },
     "execution_count": 14,
     "metadata": {},
     "output_type": "execute_result"
    }
   ],
   "source": [
    "nbcv = MultinomialNB(alpha = 0.4)\n",
    "nbcv.fit(X_train1, y_train1)"
   ]
  },
  {
   "cell_type": "code",
   "execution_count": 15,
   "id": "34d286c0",
   "metadata": {},
   "outputs": [],
   "source": [
    "y_train_pred1 = nbcv.predict(X_train1)\n",
    "y_pred1 = nbcv.predict(X_test1)"
   ]
  },
  {
   "cell_type": "code",
   "execution_count": 16,
   "id": "9b6cf406",
   "metadata": {},
   "outputs": [],
   "source": [
    "training_accuracy_nbcv = nbcv.score(X_train1, y_train1)\n",
    "test_accuracy_nbcv = nbcv.score(X_test1, y_test1)"
   ]
  },
  {
   "cell_type": "code",
   "execution_count": 17,
   "id": "239a1d14",
   "metadata": {},
   "outputs": [
    {
     "name": "stdout",
     "output_type": "stream",
     "text": [
      "Accuracy on training data: 0.949200\n",
      "Accuracy on test data:     0.919139\n"
     ]
    }
   ],
   "source": [
    "print(\"Accuracy on training data: {:2f}\".format(training_accuracy_nbcv))\n",
    "print(\"Accuracy on test data:     {:2f}\".format(test_accuracy_nbcv))"
   ]
  },
  {
   "cell_type": "code",
   "execution_count": 18,
   "id": "988ac373",
   "metadata": {},
   "outputs": [
    {
     "name": "stdout",
     "output_type": "stream",
     "text": [
      "Accuracy: 0.9191388137141675\n",
      "Balanced accuracy: 0.9191885918301574\n",
      "Precision score 0.8903647005853219\n",
      "Recall score 0.9557427417406014\n",
      "F1 score 0.9218960723264681\n",
      "ROC_AUC Score 0.9191885918301573\n"
     ]
    }
   ],
   "source": [
    "from sklearn import tree, metrics\n",
    "accuracy_nbcv = metrics.accuracy_score(y_test1,y_pred1)\n",
    "balanced_accuracy_nbcv = metrics.balanced_accuracy_score(y_test1,y_pred1)\n",
    "precision_nbcv = metrics.precision_score(y_test1,y_pred1, pos_label = 1)\n",
    "recall_nbcv = metrics.recall_score(y_test1,y_pred1, pos_label = 1)\n",
    "f1_nbcv = metrics.f1_score(y_test1, y_pred1, pos_label = 1)\n",
    "roc_auc_nbcv = metrics.roc_auc_score(y_test1, y_pred1)\n",
    "print(\"Accuracy:\", accuracy_nbcv)\n",
    "print(\"Balanced accuracy:\", balanced_accuracy_nbcv)\n",
    "print('Precision score' , precision_nbcv)\n",
    "print('Recall score' , recall_nbcv)\n",
    "print('F1 score' , f1_nbcv)\n",
    "print('ROC_AUC Score' , roc_auc_nbcv)"
   ]
  },
  {
   "cell_type": "code",
   "execution_count": 19,
   "id": "7ef12b7d",
   "metadata": {},
   "outputs": [
    {
     "name": "stdout",
     "output_type": "stream",
     "text": [
      "True Suicide: 27685\n",
      "False Suicide: 3409\n",
      "True Non-Suicide: 25637\n",
      "False Non-Suicide: 1282\n"
     ]
    }
   ],
   "source": [
    "from sklearn.metrics import confusion_matrix\n",
    "tn_nbcv, fp_nbcv, fn_nbcv, tp_nbcv = confusion_matrix(y_test1, y_pred1).ravel()\n",
    "print(f'True Suicide: {tp_nbcv}')\n",
    "print(f'False Suicide: {fp_nbcv}')\n",
    "print(f'True Non-Suicide: {tn_nbcv}')\n",
    "print(f'False Non-Suicide: {fn_nbcv}')"
   ]
  },
  {
   "cell_type": "code",
   "execution_count": 20,
   "id": "eefbf7b3",
   "metadata": {},
   "outputs": [
    {
     "data": {
      "text/html": [
       "<div>\n",
       "<style scoped>\n",
       "    .dataframe tbody tr th:only-of-type {\n",
       "        vertical-align: middle;\n",
       "    }\n",
       "\n",
       "    .dataframe tbody tr th {\n",
       "        vertical-align: top;\n",
       "    }\n",
       "\n",
       "    .dataframe thead th {\n",
       "        text-align: right;\n",
       "    }\n",
       "</style>\n",
       "<table border=\"1\" class=\"dataframe\">\n",
       "  <thead>\n",
       "    <tr style=\"text-align: right;\">\n",
       "      <th></th>\n",
       "      <th>Predicted Non-Suicide</th>\n",
       "      <th>Predicted Suicide</th>\n",
       "    </tr>\n",
       "  </thead>\n",
       "  <tbody>\n",
       "    <tr>\n",
       "      <th>Actual Non-Suicide</th>\n",
       "      <td>25637</td>\n",
       "      <td>3409</td>\n",
       "    </tr>\n",
       "    <tr>\n",
       "      <th>Actual Suicide</th>\n",
       "      <td>1282</td>\n",
       "      <td>27685</td>\n",
       "    </tr>\n",
       "  </tbody>\n",
       "</table>\n",
       "</div>"
      ],
      "text/plain": [
       "                    Predicted Non-Suicide  Predicted Suicide\n",
       "Actual Non-Suicide                  25637               3409\n",
       "Actual Suicide                       1282              27685"
      ]
     },
     "execution_count": 20,
     "metadata": {},
     "output_type": "execute_result"
    }
   ],
   "source": [
    "pd.DataFrame(confusion_matrix(y_test1, y_pred1), columns=['Predicted Non-Suicide', \"Predicted Suicide\"], index=['Actual Non-Suicide', 'Actual Suicide'])"
   ]
  },
  {
   "cell_type": "code",
   "execution_count": 21,
   "id": "171ae73f",
   "metadata": {},
   "outputs": [
    {
     "data": {
      "image/png": "[encoded data removed]",
      "text/plain": [
       "<Figure size 576x432 with 1 Axes>"
      ]
     },
     "metadata": {
      "needs_background": "light"
     },
     "output_type": "display_data"
    }
   ],
   "source": [
    "y_pred_proba1 = nbcv.predict_proba(X_test1)[::,1]\n",
    "fpr1, tpr1, _ = metrics.roc_curve(y_test1,  y_pred_proba1)\n",
    "plt.rcParams.update({'figure.figsize': (8, 6.0)})\n",
    "#create ROC curve\n",
    "plt.plot(fpr1,tpr1)\n",
    "plt.plot([0, 1], [0, 1],'r--')\n",
    "plt.title(\"ROC_AUC CURVE Naive Bayes with Count Vectorizer\")\n",
    "plt.ylabel('True Positive Rate')\n",
    "plt.xlabel('False Positive Rate')\n",
    "plt.tight_layout()\n",
    "plt.savefig('ROC_AUC Naive Bayes with Count Vectorizer.png')"
   ]
  },
  {
   "cell_type": "markdown",
   "id": "fa029149",
   "metadata": {},
   "source": [
    "# Naive Bayes with Count Vectorizer - All Features"
   ]
  },
  {
   "cell_type": "code",
   "execution_count": 22,
   "id": "34416696",
   "metadata": {},
   "outputs": [],
   "source": [
    "from sklearn.preprocessing import StandardScaler, MinMaxScaler, RobustScaler, MaxAbsScaler\n",
    "scaler = MinMaxScaler()\n",
    "scaler.fit(df1)\n",
    "df_scaled = scaler.transform(df1)\n",
    "scaled_features_df = pd.DataFrame(df_scaled, index=df1.index, columns=df1.columns)"
   ]
  },
  {
   "cell_type": "code",
   "execution_count": 23,
   "id": "5bc70f18",
   "metadata": {},
   "outputs": [
    {
     "data": {
      "text/html": [
       "<div>\n",
       "<style scoped>\n",
       "    .dataframe tbody tr th:only-of-type {\n",
       "        vertical-align: middle;\n",
       "    }\n",
       "\n",
       "    .dataframe tbody tr th {\n",
       "        vertical-align: top;\n",
       "    }\n",
       "\n",
       "    .dataframe thead th {\n",
       "        text-align: right;\n",
       "    }\n",
       "</style>\n",
       "<table border=\"1\" class=\"dataframe\">\n",
       "  <thead>\n",
       "    <tr style=\"text-align: right;\">\n",
       "      <th></th>\n",
       "      <th>length</th>\n",
       "      <th>sentiment</th>\n",
       "      <th>flesch_kincaid</th>\n",
       "      <th>repetition</th>\n",
       "      <th>class</th>\n",
       "    </tr>\n",
       "  </thead>\n",
       "  <tbody>\n",
       "    <tr>\n",
       "      <th>0</th>\n",
       "      <td>0.000574</td>\n",
       "      <td>0.550000</td>\n",
       "      <td>0.000138</td>\n",
       "      <td>0.000000</td>\n",
       "      <td>1.0</td>\n",
       "    </tr>\n",
       "    <tr>\n",
       "      <th>1</th>\n",
       "      <td>0.000113</td>\n",
       "      <td>0.550000</td>\n",
       "      <td>0.000083</td>\n",
       "      <td>0.000000</td>\n",
       "      <td>0.0</td>\n",
       "    </tr>\n",
       "    <tr>\n",
       "      <th>2</th>\n",
       "      <td>0.000078</td>\n",
       "      <td>0.237500</td>\n",
       "      <td>0.000076</td>\n",
       "      <td>0.000000</td>\n",
       "      <td>0.0</td>\n",
       "    </tr>\n",
       "    <tr>\n",
       "      <th>3</th>\n",
       "      <td>0.000048</td>\n",
       "      <td>0.354167</td>\n",
       "      <td>0.000049</td>\n",
       "      <td>0.000000</td>\n",
       "      <td>1.0</td>\n",
       "    </tr>\n",
       "    <tr>\n",
       "      <th>4</th>\n",
       "      <td>0.002135</td>\n",
       "      <td>0.385769</td>\n",
       "      <td>0.000310</td>\n",
       "      <td>0.000257</td>\n",
       "      <td>1.0</td>\n",
       "    </tr>\n",
       "  </tbody>\n",
       "</table>\n",
       "</div>"
      ],
      "text/plain": [
       "     length  sentiment  flesch_kincaid  repetition  class\n",
       "0  0.000574   0.550000        0.000138    0.000000    1.0\n",
       "1  0.000113   0.550000        0.000083    0.000000    0.0\n",
       "2  0.000078   0.237500        0.000076    0.000000    0.0\n",
       "3  0.000048   0.354167        0.000049    0.000000    1.0\n",
       "4  0.002135   0.385769        0.000310    0.000257    1.0"
      ]
     },
     "execution_count": 23,
     "metadata": {},
     "output_type": "execute_result"
    }
   ],
   "source": [
    "scaled_features_df.head()"
   ]
  },
  {
   "cell_type": "code",
   "execution_count": 24,
   "id": "cf1745af",
   "metadata": {},
   "outputs": [
    {
     "data": {
      "text/plain": [
       "0.0"
      ]
     },
     "execution_count": 24,
     "metadata": {},
     "output_type": "execute_result"
    }
   ],
   "source": [
    "scaled_features_df['length'].min()"
   ]
  },
  {
   "cell_type": "code",
   "execution_count": 25,
   "id": "3f1bd393",
   "metadata": {},
   "outputs": [
    {
     "name": "stderr",
     "output_type": "stream",
     "text": [
      "C:\\Users\\betha\\anaconda3\\lib\\site-packages\\sklearn\\feature_extraction\\text.py:396: UserWarning: Your stop_words may be inconsistent with your preprocessing. Tokenizing the stop words generated tokens ['ll', 've'] not in stop_words.\n",
      "  warnings.warn(\n",
      "C:\\Users\\betha\\AppData\\Local\\Temp\\ipykernel_10488\\2403083902.py:7: FutureWarning: Support for multi-dimensional indexing (e.g. `obj[:, None]`) is deprecated and will be removed in a future version.  Convert to a numpy array before indexing instead.\n",
      "  reading_level = scaled_features_df['flesch_kincaid'][:, None]\n",
      "C:\\Users\\betha\\AppData\\Local\\Temp\\ipykernel_10488\\2403083902.py:8: FutureWarning: Support for multi-dimensional indexing (e.g. `obj[:, None]`) is deprecated and will be removed in a future version.  Convert to a numpy array before indexing instead.\n",
      "  repetition = scaled_features_df['repetition'][:, None]\n"
     ]
    }
   ],
   "source": [
    "from scipy.sparse import hstack\n",
    "vectorizer = CountVectorizer(min_df=3, ngram_range = (1,2), stop_words = STOP_WORDS)\n",
    "text_matrix = vectorizer.fit_transform(df['clean_text'])\n",
    "text_matrix = text_matrix.tocsc() \n",
    "length = scaled_features_df['length'].values[:, None]\n",
    "sentiment = scaled_features_df['sentiment'].values[:, None]\n",
    "reading_level = scaled_features_df['flesch_kincaid'][:, None]\n",
    "repetition = scaled_features_df['repetition'][:, None]\n",
    "first = hstack((text_matrix, length))\n",
    "second = hstack((first, sentiment))\n",
    "third = hstack((second, reading_level))\n",
    "X = hstack((third, sentiment))\n",
    "\n",
    "y = df['class']"
   ]
  },
  {
   "cell_type": "code",
   "execution_count": 26,
   "id": "31277304",
   "metadata": {},
   "outputs": [],
   "source": [
    "X_train2, X_test2, y_train2, y_test2 = train_test_split(X, y, test_size=0.25, random_state=12)"
   ]
  },
  {
   "cell_type": "code",
   "execution_count": 27,
   "id": "03683569",
   "metadata": {},
   "outputs": [
    {
     "data": {
      "text/plain": [
       "GridSearchCV(cv=5, estimator=MultinomialNB(),\n",
       "             param_grid={'alpha': [0.025, 0.05, 0.1, 0.2, 0.4, 0.5, 0.75, 1, 2,\n",
       "                                   5, 8]})"
      ]
     },
     "execution_count": 27,
     "metadata": {},
     "output_type": "execute_result"
    }
   ],
   "source": [
    "alphas = [0.025, 0.05, 0.1, 0.2, 0.4, 0.5, 0.75, 1, 2, 5, 8]\n",
    "\n",
    "param_grid = {'alpha':alphas}\n",
    "nbcv = MultinomialNB()\n",
    "nbcv_cv= GridSearchCV(nbcv,param_grid,cv=5)\n",
    "nbcv_cv.fit(X_train2, y_train2)"
   ]
  },
  {
   "cell_type": "code",
   "execution_count": 28,
   "id": "16cd97f3",
   "metadata": {},
   "outputs": [
    {
     "name": "stdout",
     "output_type": "stream",
     "text": [
      "Best Score:0.9209416495625214\n",
      "Best Parameters: {'alpha': 0.5}\n"
     ]
    }
   ],
   "source": [
    "print(\"Best Score:\" + str(nbcv_cv.best_score_))\n",
    "print(\"Best Parameters: \" + str(nbcv_cv.best_params_))"
   ]
  },
  {
   "cell_type": "code",
   "execution_count": 29,
   "id": "0c25a895",
   "metadata": {},
   "outputs": [
    {
     "data": {
      "text/plain": [
       "MultinomialNB(alpha=0.5)"
      ]
     },
     "execution_count": 29,
     "metadata": {},
     "output_type": "execute_result"
    }
   ],
   "source": [
    "nbcvi = MultinomialNB(alpha = 0.5)\n",
    "nbcvi.fit(X_train2, y_train2)"
   ]
  },
  {
   "cell_type": "code",
   "execution_count": 30,
   "id": "94f0f9f8",
   "metadata": {},
   "outputs": [],
   "source": [
    "y_train_pred2 = nbcvi.predict(X_train2)\n",
    "y_pred2 = nbcvi.predict(X_test2)"
   ]
  },
  {
   "cell_type": "code",
   "execution_count": 31,
   "id": "a84b1287",
   "metadata": {},
   "outputs": [],
   "source": [
    "training_accuracy_nbcv = nbcvi.score(X_train2, y_train2)\n",
    "test_accuracy_nbcv = nbcvi.score(X_test2, y_test2)"
   ]
  },
  {
   "cell_type": "code",
   "execution_count": 32,
   "id": "b49abbbe",
   "metadata": {},
   "outputs": [
    {
     "name": "stdout",
     "output_type": "stream",
     "text": [
      "Accuracy on training data: 0.949413\n",
      "Accuracy on test data:     0.922604\n"
     ]
    }
   ],
   "source": [
    "print(\"Accuracy on training data: {:2f}\".format(training_accuracy_nbcv))\n",
    "print(\"Accuracy on test data:     {:2f}\".format(test_accuracy_nbcv))"
   ]
  },
  {
   "cell_type": "code",
   "execution_count": 33,
   "id": "a8cd2c98",
   "metadata": {},
   "outputs": [
    {
     "name": "stdout",
     "output_type": "stream",
     "text": [
      "Accuracy: 0.9226035543757434\n",
      "Balanced accuracy: 0.922636977909941\n",
      "Precision score 0.9026219692732835\n",
      "Recall score 0.9471812752442434\n",
      "F1 score 0.9243649349774273\n",
      "ROC_AUC Score 0.922636977909941\n"
     ]
    }
   ],
   "source": [
    "accuracy_nbcvi = metrics.accuracy_score(y_test2,y_pred2)\n",
    "balanced_accuracy_nbcvi = metrics.balanced_accuracy_score(y_test2,y_pred2)\n",
    "precision_nbcvi = metrics.precision_score(y_test2,y_pred2, pos_label = 1)\n",
    "recall_nbcvi = metrics.recall_score(y_test2,y_pred2, pos_label = 1)\n",
    "f1_nbcvi = metrics.f1_score(y_test2, y_pred2, pos_label = 1)\n",
    "roc_auc_nbcvi = metrics.roc_auc_score(y_test2, y_pred2)\n",
    "print(\"Accuracy:\", accuracy_nbcvi)\n",
    "print(\"Balanced accuracy:\", balanced_accuracy_nbcvi)\n",
    "print('Precision score' , precision_nbcvi)\n",
    "print('Recall score' , recall_nbcvi)\n",
    "print('F1 score' , f1_nbcvi)\n",
    "print('ROC_AUC Score' , roc_auc_nbcvi)"
   ]
  },
  {
   "cell_type": "code",
   "execution_count": 34,
   "id": "bbb40d86",
   "metadata": {},
   "outputs": [
    {
     "name": "stdout",
     "output_type": "stream",
     "text": [
      "True Suicide: 27437\n",
      "False Suicide: 2960\n",
      "True Non-Suicide: 26086\n",
      "False Non-Suicide: 1530\n"
     ]
    }
   ],
   "source": [
    "from sklearn.metrics import confusion_matrix\n",
    "tn_nbcvi, fp_nbcvi, fn_nbcvi, tp_nbcvi = confusion_matrix(y_test2, y_pred2).ravel()\n",
    "print(f'True Suicide: {tp_nbcvi}')\n",
    "print(f'False Suicide: {fp_nbcvi}')\n",
    "print(f'True Non-Suicide: {tn_nbcvi}')\n",
    "print(f'False Non-Suicide: {fn_nbcvi}')"
   ]
  },
  {
   "cell_type": "code",
   "execution_count": 35,
   "id": "2f0ba6ee",
   "metadata": {},
   "outputs": [
    {
     "data": {
      "text/html": [
       "<div>\n",
       "<style scoped>\n",
       "    .dataframe tbody tr th:only-of-type {\n",
       "        vertical-align: middle;\n",
       "    }\n",
       "\n",
       "    .dataframe tbody tr th {\n",
       "        vertical-align: top;\n",
       "    }\n",
       "\n",
       "    .dataframe thead th {\n",
       "        text-align: right;\n",
       "    }\n",
       "</style>\n",
       "<table border=\"1\" class=\"dataframe\">\n",
       "  <thead>\n",
       "    <tr style=\"text-align: right;\">\n",
       "      <th></th>\n",
       "      <th>Predicted Non-Suicide</th>\n",
       "      <th>Predicted Suicide</th>\n",
       "    </tr>\n",
       "  </thead>\n",
       "  <tbody>\n",
       "    <tr>\n",
       "      <th>Actual Non-Suicide</th>\n",
       "      <td>26086</td>\n",
       "      <td>2960</td>\n",
       "    </tr>\n",
       "    <tr>\n",
       "      <th>Actual Suicide</th>\n",
       "      <td>1530</td>\n",
       "      <td>27437</td>\n",
       "    </tr>\n",
       "  </tbody>\n",
       "</table>\n",
       "</div>"
      ],
      "text/plain": [
       "                    Predicted Non-Suicide  Predicted Suicide\n",
       "Actual Non-Suicide                  26086               2960\n",
       "Actual Suicide                       1530              27437"
      ]
     },
     "execution_count": 35,
     "metadata": {},
     "output_type": "execute_result"
    }
   ],
   "source": [
    "pd.DataFrame(confusion_matrix(y_test2, y_pred2), columns=['Predicted Non-Suicide', \"Predicted Suicide\"], index=['Actual Non-Suicide', 'Actual Suicide'])"
   ]
  },
  {
   "cell_type": "code",
   "execution_count": 36,
   "id": "d0589156",
   "metadata": {},
   "outputs": [
    {
     "data": {
      "image/png": "[encoded data removed]",
      "text/plain": [
       "<Figure size 576x432 with 1 Axes>"
      ]
     },
     "metadata": {
      "needs_background": "light"
     },
     "output_type": "display_data"
    }
   ],
   "source": [
    "y_pred_proba2 = nbcvi.predict_proba(X_test2)[::,1]\n",
    "fpr2, tpr2, _ = metrics.roc_curve(y_test2,  y_pred_proba2)\n",
    "plt.rcParams.update({'figure.figsize': (8, 6.0)})\n",
    "#create ROC curve\n",
    "plt.plot(fpr2,tpr2)\n",
    "plt.plot([0, 1], [0, 1],'r--')\n",
    "plt.title(\"ROC_AUC CURVE Naive Bayes with Count Vectorizer All Features\")\n",
    "plt.ylabel('True Positive Rate')\n",
    "plt.xlabel('False Positive Rate')\n",
    "plt.tight_layout()\n",
    "plt.savefig('ROC_AUC Naive Bayes with Count Vectorizer All features.png')"
   ]
  },
  {
   "cell_type": "markdown",
   "id": "e0d206dc",
   "metadata": {},
   "source": [
    "# Nave Bayes with TF-IDF - Text Only"
   ]
  },
  {
   "cell_type": "code",
   "execution_count": 37,
   "id": "c0b8172f",
   "metadata": {},
   "outputs": [
    {
     "name": "stderr",
     "output_type": "stream",
     "text": [
      "C:\\Users\\betha\\anaconda3\\lib\\site-packages\\sklearn\\feature_extraction\\text.py:396: UserWarning: Your stop_words may be inconsistent with your preprocessing. Tokenizing the stop words generated tokens ['ll', 've'] not in stop_words.\n",
      "  warnings.warn(\n"
     ]
    }
   ],
   "source": [
    "from sklearn.feature_extraction.text import TfidfVectorizer\n",
    "vectorizor_tfid = TfidfVectorizer(min_df=3, ngram_range = (1,2), stop_words = STOP_WORDS)\n",
    "X_tfid1 = vectorizor_tfid.fit_transform(df['text'])\n",
    "X_tfid1 = X_tfid1.tocsc() \n",
    "y_tfid1 = df['class']"
   ]
  },
  {
   "cell_type": "code",
   "execution_count": 38,
   "id": "7ef9127b",
   "metadata": {},
   "outputs": [],
   "source": [
    "X_train3, X_test3, y_train3, y_test3 = train_test_split(X_tfid1, y_tfid1, test_size=0.25, random_state=12)"
   ]
  },
  {
   "cell_type": "code",
   "execution_count": 39,
   "id": "df7f84f1",
   "metadata": {},
   "outputs": [
    {
     "data": {
      "text/plain": [
       "GridSearchCV(cv=5, estimator=MultinomialNB(),\n",
       "             param_grid={'alpha': [0.025, 0.05, 0.1, 0.2, 0.4, 0.5, 0.75, 1, 2,\n",
       "                                   5, 8]})"
      ]
     },
     "execution_count": 39,
     "metadata": {},
     "output_type": "execute_result"
    }
   ],
   "source": [
    "n_est = [0.025, 0.05, 0.1, 0.2, 0.4, 0.5, 0.75, 1, 2, 5, 8]\n",
    "#n_est = [int(n) for n in np.logspace(start=0, stop=3, num=30)]\n",
    "param_grid = {'alpha':n_est}\n",
    "nb_tfidf = MultinomialNB()\n",
    "nb_tfidf_cv= GridSearchCV(nb_tfidf,param_grid,cv=5)\n",
    "nb_tfidf_cv.fit(X_train3, y_train3)"
   ]
  },
  {
   "cell_type": "code",
   "execution_count": 40,
   "id": "c573f43a",
   "metadata": {},
   "outputs": [
    {
     "name": "stdout",
     "output_type": "stream",
     "text": [
      "Best Score:0.9194649498003097\n",
      "Best Parameters: {'alpha': 0.1}\n"
     ]
    }
   ],
   "source": [
    "print(\"Best Score:\" + str(nb_tfidf_cv.best_score_))\n",
    "print(\"Best Parameters: \" + str(nb_tfidf_cv.best_params_))"
   ]
  },
  {
   "cell_type": "code",
   "execution_count": 41,
   "id": "a937f194",
   "metadata": {},
   "outputs": [
    {
     "data": {
      "text/plain": [
       "MultinomialNB(alpha=0.1)"
      ]
     },
     "execution_count": 41,
     "metadata": {},
     "output_type": "execute_result"
    }
   ],
   "source": [
    "\n",
    "nb_tfidf = MultinomialNB(alpha = 0.1)\n",
    "nb_tfidf.fit(X_train3, y_train3)"
   ]
  },
  {
   "cell_type": "code",
   "execution_count": 42,
   "id": "0c0fcf92",
   "metadata": {},
   "outputs": [],
   "source": [
    "y_train_pred3 = nb_tfidf.predict(X_train3)\n",
    "y_pred3 = nb_tfidf.predict(X_test3)"
   ]
  },
  {
   "cell_type": "code",
   "execution_count": 43,
   "id": "70a0a568",
   "metadata": {},
   "outputs": [],
   "source": [
    "training_accuracy_nb_tfid = nb_tfidf.score(X_train3, y_train3)\n",
    "test_accuracy_nb_tfid = nb_tfidf.score(X_test3, y_test3)"
   ]
  },
  {
   "cell_type": "code",
   "execution_count": 44,
   "id": "536190df",
   "metadata": {},
   "outputs": [
    {
     "name": "stdout",
     "output_type": "stream",
     "text": [
      "Accuracy on training data: 0.963686\n",
      "Accuracy on test data:     0.920673\n"
     ]
    }
   ],
   "source": [
    "print(\"Accuracy on training data: {:2f}\".format(training_accuracy_nb_tfid))\n",
    "print(\"Accuracy on test data:     {:2f}\".format(test_accuracy_nb_tfid))"
   ]
  },
  {
   "cell_type": "code",
   "execution_count": 45,
   "id": "a8753017",
   "metadata": {},
   "outputs": [
    {
     "name": "stdout",
     "output_type": "stream",
     "text": [
      "Accuracy: 0.9206729526140692\n",
      "Balanced accuracy: 0.9207290948846546\n",
      "Precision score 0.8884106488123705\n",
      "Recall score 0.9619567093589256\n",
      "F1 score 0.9237220712059936\n",
      "ROC_AUC Score 0.9207290948846546\n"
     ]
    }
   ],
   "source": [
    "from sklearn import tree, metrics\n",
    "accuracy_nb_tfidf = metrics.accuracy_score(y_test3,y_pred3)\n",
    "balanced_accuracy_nb_tfidf = metrics.balanced_accuracy_score(y_test3,y_pred3)\n",
    "precision_nb_tfidf = metrics.precision_score(y_test3,y_pred3, pos_label = 1)\n",
    "recall_nb_tfidf = metrics.recall_score(y_test3,y_pred3, pos_label = 1)\n",
    "f1_nb_tfidf = metrics.f1_score(y_test3, y_pred3, pos_label = 1)\n",
    "roc_auc_nb_tfidf = metrics.roc_auc_score(y_test3, y_pred3)\n",
    "print(\"Accuracy:\", accuracy_nb_tfidf)\n",
    "print(\"Balanced accuracy:\", balanced_accuracy_nb_tfidf)\n",
    "print('Precision score' , precision_nb_tfidf)\n",
    "print('Recall score' , recall_nb_tfidf)\n",
    "print('F1 score' , f1_nb_tfidf)\n",
    "print('ROC_AUC Score' , roc_auc_nb_tfidf)\n",
    "\n"
   ]
  },
  {
   "cell_type": "code",
   "execution_count": 46,
   "id": "d2276b90",
   "metadata": {},
   "outputs": [
    {
     "name": "stdout",
     "output_type": "stream",
     "text": [
      "True Suicide: 27865\n",
      "False Suicide: 3500\n",
      "True Non-Suicide: 25546\n",
      "False Non-Suicide: 1102\n"
     ]
    }
   ],
   "source": [
    "from sklearn.metrics import confusion_matrix\n",
    "tn_nb_tfidf, fp_nb_tfidf, fn_nb_tfidf, tp_nb_tfidf = confusion_matrix(y_test3, y_pred3).ravel()\n",
    "print(f'True Suicide: {tp_nb_tfidf}')\n",
    "print(f'False Suicide: {fp_nb_tfidf}')\n",
    "print(f'True Non-Suicide: {tn_nb_tfidf}')\n",
    "print(f'False Non-Suicide: {fn_nb_tfidf}')"
   ]
  },
  {
   "cell_type": "code",
   "execution_count": 47,
   "id": "0ad3d922",
   "metadata": {},
   "outputs": [
    {
     "data": {
      "text/html": [
       "<div>\n",
       "<style scoped>\n",
       "    .dataframe tbody tr th:only-of-type {\n",
       "        vertical-align: middle;\n",
       "    }\n",
       "\n",
       "    .dataframe tbody tr th {\n",
       "        vertical-align: top;\n",
       "    }\n",
       "\n",
       "    .dataframe thead th {\n",
       "        text-align: right;\n",
       "    }\n",
       "</style>\n",
       "<table border=\"1\" class=\"dataframe\">\n",
       "  <thead>\n",
       "    <tr style=\"text-align: right;\">\n",
       "      <th></th>\n",
       "      <th>Predicted Non-Suicide</th>\n",
       "      <th>Predicted Suicide</th>\n",
       "    </tr>\n",
       "  </thead>\n",
       "  <tbody>\n",
       "    <tr>\n",
       "      <th>Actual Non-Suicide</th>\n",
       "      <td>25546</td>\n",
       "      <td>3500</td>\n",
       "    </tr>\n",
       "    <tr>\n",
       "      <th>Actual Suicide</th>\n",
       "      <td>1102</td>\n",
       "      <td>27865</td>\n",
       "    </tr>\n",
       "  </tbody>\n",
       "</table>\n",
       "</div>"
      ],
      "text/plain": [
       "                    Predicted Non-Suicide  Predicted Suicide\n",
       "Actual Non-Suicide                  25546               3500\n",
       "Actual Suicide                       1102              27865"
      ]
     },
     "execution_count": 47,
     "metadata": {},
     "output_type": "execute_result"
    }
   ],
   "source": [
    "pd.DataFrame(confusion_matrix(y_test3, y_pred3), columns=['Predicted Non-Suicide', \"Predicted Suicide\"], index=['Actual Non-Suicide', 'Actual Suicide'])"
   ]
  },
  {
   "cell_type": "code",
   "execution_count": 48,
   "id": "f8012c02",
   "metadata": {},
   "outputs": [
    {
     "data": {
      "image/png": "[encoded data removed]",
      "text/plain": [
       "<Figure size 576x432 with 1 Axes>"
      ]
     },
     "metadata": {
      "needs_background": "light"
     },
     "output_type": "display_data"
    }
   ],
   "source": [
    "y_pred_proba3 = nb_tfidf.predict_proba(X_test3)[::,1]\n",
    "fpr3, tpr3, _ = metrics.roc_curve(y_test3,  y_pred_proba3)\n",
    "plt.rcParams.update({'figure.figsize': (8, 6.0)})\n",
    "#create ROC curve\n",
    "plt.plot(fpr3,tpr3)\n",
    "plt.plot([0, 1], [0, 1],'r--')\n",
    "plt.title(\"ROC_AUC CURVE Naive Bayes with TF-IDF Vectorizer - Text Only\")\n",
    "plt.ylabel('True Positive Rate')\n",
    "plt.xlabel('False Positive Rate')\n",
    "plt.tight_layout()\n",
    "plt.savefig('ROC_AUC Curve Naive Bayes with TF-IDF Vectoizer_Text_Only.png')"
   ]
  },
  {
   "cell_type": "markdown",
   "id": "5a1d493b",
   "metadata": {},
   "source": [
    "# Naive Bayes - TF-IDF - All Features"
   ]
  },
  {
   "cell_type": "code",
   "execution_count": 49,
   "id": "15ecb9bb",
   "metadata": {},
   "outputs": [
    {
     "name": "stderr",
     "output_type": "stream",
     "text": [
      "C:\\Users\\betha\\anaconda3\\lib\\site-packages\\sklearn\\feature_extraction\\text.py:396: UserWarning: Your stop_words may be inconsistent with your preprocessing. Tokenizing the stop words generated tokens ['ll', 've'] not in stop_words.\n",
      "  warnings.warn(\n",
      "C:\\Users\\betha\\AppData\\Local\\Temp\\ipykernel_10488\\1915412182.py:7: FutureWarning: Support for multi-dimensional indexing (e.g. `obj[:, None]`) is deprecated and will be removed in a future version.  Convert to a numpy array before indexing instead.\n",
      "  reading_level = scaled_features_df['flesch_kincaid'][:, None]\n",
      "C:\\Users\\betha\\AppData\\Local\\Temp\\ipykernel_10488\\1915412182.py:8: FutureWarning: Support for multi-dimensional indexing (e.g. `obj[:, None]`) is deprecated and will be removed in a future version.  Convert to a numpy array before indexing instead.\n",
      "  repetition = scaled_features_df['repetition'][:, None]\n"
     ]
    }
   ],
   "source": [
    "from sklearn.feature_extraction.text import TfidfVectorizer\n",
    "vectorizor_tfid = TfidfVectorizer(min_df=3, ngram_range = (1,2), stop_words = STOP_WORDS)\n",
    "text_matrix1 = vectorizor_tfid.fit_transform(df['text'])\n",
    "text_matrix1 = text_matrix1.tocsc() \n",
    "length = scaled_features_df['length'].values[:, None]\n",
    "sentiment = scaled_features_df['sentiment'].values[:, None]\n",
    "reading_level = scaled_features_df['flesch_kincaid'][:, None]\n",
    "repetition = scaled_features_df['repetition'][:, None]\n",
    "first = hstack((text_matrix1, length))\n",
    "second = hstack((first, sentiment))\n",
    "third = hstack((second, reading_level))\n",
    "X_tfid11 = hstack((third, sentiment))\n",
    "\n",
    "y_tfid11 = df['class']"
   ]
  },
  {
   "cell_type": "code",
   "execution_count": 50,
   "id": "58612fca",
   "metadata": {},
   "outputs": [],
   "source": [
    "X_train4, X_test4, y_train4, y_test4 = train_test_split(X_tfid11, y_tfid11, test_size=0.25, random_state=12)"
   ]
  },
  {
   "cell_type": "code",
   "execution_count": 51,
   "id": "7a8e4a9d",
   "metadata": {},
   "outputs": [
    {
     "data": {
      "text/plain": [
       "GridSearchCV(cv=5, estimator=MultinomialNB(),\n",
       "             param_grid={'alpha': [0.025, 0.05, 0.1, 0.2, 0.4, 0.5, 0.75, 1, 2,\n",
       "                                   5, 8]})"
      ]
     },
     "execution_count": 51,
     "metadata": {},
     "output_type": "execute_result"
    }
   ],
   "source": [
    "n_est = [0.025, 0.05, 0.1, 0.2, 0.4, 0.5, 0.75, 1, 2, 5, 8]\n",
    "#n_est = [int(n) for n in np.logspace(start=0, stop=3, num=30)]\n",
    "param_grid = {'alpha':n_est}\n",
    "nb_tfidf = MultinomialNB()\n",
    "nb_tfidf_cv= GridSearchCV(nb_tfidf,param_grid,cv=5)\n",
    "nb_tfidf_cv.fit(X_train4, y_train4)"
   ]
  },
  {
   "cell_type": "code",
   "execution_count": 52,
   "id": "f495ded0",
   "metadata": {},
   "outputs": [
    {
     "name": "stdout",
     "output_type": "stream",
     "text": [
      "Best Score:0.9235043414070075\n",
      "Best Parameters: {'alpha': 0.2}\n"
     ]
    }
   ],
   "source": [
    "print(\"Best Score:\" + str(nb_tfidf_cv.best_score_))\n",
    "print(\"Best Parameters: \" + str(nb_tfidf_cv.best_params_))"
   ]
  },
  {
   "cell_type": "code",
   "execution_count": 53,
   "id": "3abf1478",
   "metadata": {},
   "outputs": [
    {
     "data": {
      "text/plain": [
       "MultinomialNB(alpha=0.2)"
      ]
     },
     "execution_count": 53,
     "metadata": {},
     "output_type": "execute_result"
    }
   ],
   "source": [
    "nb_tfidf = MultinomialNB(alpha = 0.2)\n",
    "nb_tfidf.fit(X_train4, y_train4)"
   ]
  },
  {
   "cell_type": "code",
   "execution_count": 54,
   "id": "c98ca412",
   "metadata": {},
   "outputs": [],
   "source": [
    "y_train_pred4 = nb_tfidf.predict(X_train4)\n",
    "y_pred4 = nb_tfidf.predict(X_test4)"
   ]
  },
  {
   "cell_type": "code",
   "execution_count": 55,
   "id": "8d41f2f6",
   "metadata": {},
   "outputs": [],
   "source": [
    "training_accuracy_nb_tfid = nb_tfidf.score(X_train4, y_train4)\n",
    "test_accuracy_nb_tfid = nb_tfidf.score(X_test4, y_test4)"
   ]
  },
  {
   "cell_type": "code",
   "execution_count": 56,
   "id": "288825b9",
   "metadata": {},
   "outputs": [
    {
     "name": "stdout",
     "output_type": "stream",
     "text": [
      "Accuracy on training data: 0.959393\n",
      "Accuracy on test data:     0.924638\n"
     ]
    }
   ],
   "source": [
    "print(\"Accuracy on training data: {:2f}\".format(training_accuracy_nb_tfid))\n",
    "print(\"Accuracy on test data:     {:2f}\".format(test_accuracy_nb_tfid))"
   ]
  },
  {
   "cell_type": "code",
   "execution_count": 57,
   "id": "45ec6559",
   "metadata": {},
   "outputs": [
    {
     "name": "stdout",
     "output_type": "stream",
     "text": [
      "Accuracy: 0.9246375812317928\n",
      "Balanced accuracy: 0.9246807265534271\n",
      "Precision score 0.8991269351854857\n",
      "Recall score 0.9563641385024338\n",
      "F1 score 0.9268627254173777\n",
      "ROC_AUC Score 0.9246807265534271\n"
     ]
    }
   ],
   "source": [
    "accuracy_nb_tfidfi = metrics.accuracy_score(y_test4,y_pred4)\n",
    "balanced_accuracy_nb_tfidfi = metrics.balanced_accuracy_score(y_test4,y_pred4)\n",
    "precision_nb_tfidfi = metrics.precision_score(y_test4,y_pred4, pos_label = 1)\n",
    "recall_nb_tfidfi = metrics.recall_score(y_test4,y_pred4, pos_label = 1)\n",
    "f1_nb_tfidfi = metrics.f1_score(y_test4, y_pred4, pos_label = 1)\n",
    "roc_auc_nb_tfidfi = metrics.roc_auc_score(y_test4, y_pred4)\n",
    "print(\"Accuracy:\", accuracy_nb_tfidfi)\n",
    "print(\"Balanced accuracy:\", balanced_accuracy_nb_tfidfi)\n",
    "print('Precision score' , precision_nb_tfidfi)\n",
    "print('Recall score' , recall_nb_tfidfi)\n",
    "print('F1 score' , f1_nb_tfidfi)\n",
    "print('ROC_AUC Score' , roc_auc_nb_tfidfi)"
   ]
  },
  {
   "cell_type": "code",
   "execution_count": 58,
   "id": "d712cccf",
   "metadata": {},
   "outputs": [
    {
     "name": "stdout",
     "output_type": "stream",
     "text": [
      "True Suicide: 27703\n",
      "False Suicide: 3108\n",
      "True Non-Suicide: 25938\n",
      "False Non-Suicide: 1264\n"
     ]
    }
   ],
   "source": [
    "from sklearn.metrics import confusion_matrix\n",
    "tn_nb_tfidfi, fp_nb_tfidfi, fn_nb_tfidfi, tp_nb_tfidfi = confusion_matrix(y_test4, y_pred4).ravel()\n",
    "print(f'True Suicide: {tp_nb_tfidfi}')\n",
    "print(f'False Suicide: {fp_nb_tfidfi}')\n",
    "print(f'True Non-Suicide: {tn_nb_tfidfi}')\n",
    "print(f'False Non-Suicide: {fn_nb_tfidfi}')"
   ]
  },
  {
   "cell_type": "code",
   "execution_count": 59,
   "id": "9dd2db13",
   "metadata": {},
   "outputs": [
    {
     "data": {
      "text/html": [
       "<div>\n",
       "<style scoped>\n",
       "    .dataframe tbody tr th:only-of-type {\n",
       "        vertical-align: middle;\n",
       "    }\n",
       "\n",
       "    .dataframe tbody tr th {\n",
       "        vertical-align: top;\n",
       "    }\n",
       "\n",
       "    .dataframe thead th {\n",
       "        text-align: right;\n",
       "    }\n",
       "</style>\n",
       "<table border=\"1\" class=\"dataframe\">\n",
       "  <thead>\n",
       "    <tr style=\"text-align: right;\">\n",
       "      <th></th>\n",
       "      <th>Predicted Non-Suicide</th>\n",
       "      <th>Predicted Suicide</th>\n",
       "    </tr>\n",
       "  </thead>\n",
       "  <tbody>\n",
       "    <tr>\n",
       "      <th>Actual Non-Suicide</th>\n",
       "      <td>25938</td>\n",
       "      <td>3108</td>\n",
       "    </tr>\n",
       "    <tr>\n",
       "      <th>Actual Suicide</th>\n",
       "      <td>1264</td>\n",
       "      <td>27703</td>\n",
       "    </tr>\n",
       "  </tbody>\n",
       "</table>\n",
       "</div>"
      ],
      "text/plain": [
       "                    Predicted Non-Suicide  Predicted Suicide\n",
       "Actual Non-Suicide                  25938               3108\n",
       "Actual Suicide                       1264              27703"
      ]
     },
     "execution_count": 59,
     "metadata": {},
     "output_type": "execute_result"
    }
   ],
   "source": [
    "pd.DataFrame(confusion_matrix(y_test4, y_pred4), columns=['Predicted Non-Suicide', \"Predicted Suicide\"], index=['Actual Non-Suicide', 'Actual Suicide'])"
   ]
  },
  {
   "cell_type": "code",
   "execution_count": 60,
   "id": "a8ecf968",
   "metadata": {},
   "outputs": [
    {
     "data": {
      "image/png": "[encoded data removed]",
      "text/plain": [
       "<Figure size 576x432 with 1 Axes>"
      ]
     },
     "metadata": {
      "needs_background": "light"
     },
     "output_type": "display_data"
    }
   ],
   "source": [
    "y_pred_proba4 = nb_tfidf.predict_proba(X_test4)[::,1]\n",
    "fpr4, tpr4, _ = metrics.roc_curve(y_test4,  y_pred_proba4)\n",
    "plt.rcParams.update({'figure.figsize': (8, 6.0)})\n",
    "#create ROC curve\n",
    "plt.plot(fpr4,tpr4)\n",
    "plt.plot([0, 1], [0, 1],'r--')\n",
    "plt.title(\"ROC_AUC CURVE Naive Bayes with TF-IDF Vectorizer - All Features\")\n",
    "plt.ylabel('True Positive Rate')\n",
    "plt.xlabel('False Positive Rate')\n",
    "plt.tight_layout()\n",
    "plt.savefig('ROC_AUC Curve Naive Bayes with TF-IDF Vectorizer_All_Features.png')"
   ]
  },
  {
   "cell_type": "markdown",
   "id": "eb9ec198",
   "metadata": {},
   "source": [
    "# Random Forest - Count Vectorizor"
   ]
  },
  {
   "cell_type": "code",
   "execution_count": 61,
   "id": "2aae9ef4",
   "metadata": {},
   "outputs": [],
   "source": [
    "from sklearn.ensemble import RandomForestClassifier\n"
   ]
  },
  {
   "cell_type": "code",
   "execution_count": 62,
   "id": "493efe05",
   "metadata": {},
   "outputs": [
    {
     "name": "stderr",
     "output_type": "stream",
     "text": [
      "C:\\Users\\betha\\anaconda3\\lib\\site-packages\\sklearn\\feature_extraction\\text.py:396: UserWarning: Your stop_words may be inconsistent with your preprocessing. Tokenizing the stop words generated tokens ['ll', 've'] not in stop_words.\n",
      "  warnings.warn(\n"
     ]
    }
   ],
   "source": [
    "vectorizer = CountVectorizer(min_df=3, ngram_range = (1,2), stop_words = STOP_WORDS)\n",
    "X = vectorizer.fit_transform(df['clean_text'].head(1000))\n",
    "X = X.tocsc() \n",
    "y = df['class'].head(1000)"
   ]
  },
  {
   "cell_type": "code",
   "execution_count": 63,
   "id": "8f5beab5",
   "metadata": {},
   "outputs": [],
   "source": [
    "X_train5, X_test5, y_train5, y_test5 = train_test_split(X, y, test_size=0.25, random_state=12)"
   ]
  },
  {
   "cell_type": "code",
   "execution_count": 64,
   "id": "e471cbb7",
   "metadata": {},
   "outputs": [
    {
     "data": {
      "text/plain": [
       "[31, 94, 281, 841, 2511]"
      ]
     },
     "execution_count": 64,
     "metadata": {},
     "output_type": "execute_result"
    }
   ],
   "source": [
    "n_est = [int(n) for n in np.logspace(start=1.5, stop=3.4, num=5)]\n",
    "n_est"
   ]
  },
  {
   "cell_type": "code",
   "execution_count": 65,
   "id": "c79b2b5a",
   "metadata": {},
   "outputs": [
    {
     "data": {
      "text/plain": [
       "GridSearchCV(cv=5, estimator=RandomForestClassifier(random_state=1519),\n",
       "             param_grid={'max_depth': [10, 28, 46, 64, 82, 100],\n",
       "                         'n_estimators': [31, 94, 281, 841, 2511]})"
      ]
     },
     "execution_count": 65,
     "metadata": {},
     "output_type": "execute_result"
    }
   ],
   "source": [
    "\n",
    "n_est = [int(n) for n in np.logspace(start=1.5, stop=3.4, num=5)]\n",
    "depth = [int(x) for x in np.linspace(10, 100, num = 6)]\n",
    "param_grid = {'n_estimators': n_est, 'max_depth' : depth}\n",
    "rf1 = RandomForestClassifier(random_state = 1519)\n",
    "rf_cv = GridSearchCV(rf1, param_grid, cv = 5)\n",
    "rf_cv.fit(X_train5, y_train5)\n"
   ]
  },
  {
   "cell_type": "code",
   "execution_count": 66,
   "id": "1c47ec26",
   "metadata": {},
   "outputs": [
    {
     "name": "stdout",
     "output_type": "stream",
     "text": [
      "Best Score:0.8480000000000001\n",
      "Best Parameters: {'max_depth': 28, 'n_estimators': 841}\n"
     ]
    }
   ],
   "source": [
    "print(\"Best Score:\" + str(rf_cv.best_score_))\n",
    "print(\"Best Parameters: \" + str(rf_cv.best_params_))"
   ]
  },
  {
   "cell_type": "code",
   "execution_count": 67,
   "id": "3c9411ce",
   "metadata": {},
   "outputs": [
    {
     "name": "stderr",
     "output_type": "stream",
     "text": [
      "C:\\Users\\betha\\anaconda3\\lib\\site-packages\\sklearn\\feature_extraction\\text.py:396: UserWarning: Your stop_words may be inconsistent with your preprocessing. Tokenizing the stop words generated tokens ['ll', 've'] not in stop_words.\n",
      "  warnings.warn(\n"
     ]
    }
   ],
   "source": [
    "vectorizer = CountVectorizer(min_df=3, ngram_range = (1,2), stop_words = STOP_WORDS)\n",
    "X = vectorizer.fit_transform(df['clean_text'])\n",
    "X = X.tocsc() \n",
    "y = df['class']"
   ]
  },
  {
   "cell_type": "code",
   "execution_count": 68,
   "id": "97d72362",
   "metadata": {},
   "outputs": [],
   "source": [
    "X_train5, X_test5, y_train5, y_test5 = train_test_split(X, y, test_size=0.25, random_state=12)"
   ]
  },
  {
   "cell_type": "code",
   "execution_count": 69,
   "id": "590f3f3b",
   "metadata": {},
   "outputs": [
    {
     "data": {
      "text/plain": [
       "RandomForestClassifier(max_depth=841, n_estimators=28)"
      ]
     },
     "execution_count": 69,
     "metadata": {},
     "output_type": "execute_result"
    }
   ],
   "source": [
    "rfcv = RandomForestClassifier(n_estimators = 28 , max_depth = 841)\n",
    "rfcv.fit(X_train5, y_train5)"
   ]
  },
  {
   "cell_type": "code",
   "execution_count": 70,
   "id": "89f5e3c1",
   "metadata": {},
   "outputs": [],
   "source": [
    "y_train_pred_rfcv = rfcv.predict(X_train5)\n",
    "y_pred5 = rfcv.predict(X_test5)"
   ]
  },
  {
   "cell_type": "code",
   "execution_count": 71,
   "id": "83c75c31",
   "metadata": {},
   "outputs": [],
   "source": [
    "training_accuracy_rfcv = rfcv.score(X_train5, y_train5)\n",
    "test_accuracy_rfcv = rfcv.score(X_test5, y_pred5)"
   ]
  },
  {
   "cell_type": "code",
   "execution_count": 72,
   "id": "9a55fdce",
   "metadata": {},
   "outputs": [
    {
     "name": "stdout",
     "output_type": "stream",
     "text": [
      "Accuracy on training data: 0.994375\n",
      "Accuracy on test data:     1.000000\n"
     ]
    }
   ],
   "source": [
    "print(\"Accuracy on training data: {:2f}\".format(training_accuracy_rfcv))\n",
    "print(\"Accuracy on test data:     {:2f}\".format(test_accuracy_rfcv))"
   ]
  },
  {
   "cell_type": "code",
   "execution_count": 73,
   "id": "dcfa817d",
   "metadata": {},
   "outputs": [
    {
     "name": "stdout",
     "output_type": "stream",
     "text": [
      "Accuracy: 0.8986434075121094\n",
      "Balanced accuracy: 0.8986520925267465\n",
      "Precision score 0.8933719543363435\n",
      "Recall score 0.9050298615666102\n",
      "F1 score 0.8991631225133763\n",
      "ROC_AUC Score 0.8986520925267465\n"
     ]
    }
   ],
   "source": [
    "from sklearn import tree, metrics\n",
    "accuracy_rfcv = metrics.accuracy_score(y_test5,y_pred5)\n",
    "balanced_accuracy_rfcv = metrics.balanced_accuracy_score(y_test5,y_pred5)\n",
    "precision_rfcv = metrics.precision_score(y_test5,y_pred5, pos_label = 1)\n",
    "recall_rfcv = metrics.recall_score(y_test5,y_pred5, pos_label = 1)\n",
    "f1_rfcv = metrics.f1_score(y_test5, y_pred5, pos_label = 1)\n",
    "roc_auc_rfcv = metrics.roc_auc_score(y_test5, y_pred5)\n",
    "print(\"Accuracy:\", accuracy_rfcv)\n",
    "print(\"Balanced accuracy:\", balanced_accuracy_rfcv)\n",
    "print('Precision score' , precision_rfcv)\n",
    "print('Recall score' , recall_rfcv)\n",
    "print('F1 score' , f1_rfcv)\n",
    "print('ROC_AUC Score' , roc_auc_rfcv)\n"
   ]
  },
  {
   "cell_type": "code",
   "execution_count": 74,
   "id": "0c7d9ead",
   "metadata": {},
   "outputs": [
    {
     "name": "stdout",
     "output_type": "stream",
     "text": [
      "True Suicide: 26216\n",
      "False Suicide: 3129\n",
      "True Non-Suicide: 25917\n",
      "False Non-Suicide: 2751\n"
     ]
    }
   ],
   "source": [
    "from sklearn.metrics import confusion_matrix\n",
    "tn_rfcv, fp_rfcv, fn_rfcv, tp_rfcv = confusion_matrix(y_test5, y_pred5).ravel()\n",
    "print(f'True Suicide: {tp_rfcv}')\n",
    "print(f'False Suicide: {fp_rfcv}')\n",
    "print(f'True Non-Suicide: {tn_rfcv}')\n",
    "print(f'False Non-Suicide: {fn_rfcv}')"
   ]
  },
  {
   "cell_type": "code",
   "execution_count": 75,
   "id": "eeeb1941",
   "metadata": {},
   "outputs": [
    {
     "data": {
      "text/html": [
       "<div>\n",
       "<style scoped>\n",
       "    .dataframe tbody tr th:only-of-type {\n",
       "        vertical-align: middle;\n",
       "    }\n",
       "\n",
       "    .dataframe tbody tr th {\n",
       "        vertical-align: top;\n",
       "    }\n",
       "\n",
       "    .dataframe thead th {\n",
       "        text-align: right;\n",
       "    }\n",
       "</style>\n",
       "<table border=\"1\" class=\"dataframe\">\n",
       "  <thead>\n",
       "    <tr style=\"text-align: right;\">\n",
       "      <th></th>\n",
       "      <th>Predicted Non-Suicide</th>\n",
       "      <th>Predicted Suicide</th>\n",
       "    </tr>\n",
       "  </thead>\n",
       "  <tbody>\n",
       "    <tr>\n",
       "      <th>Actual Non-Suicide</th>\n",
       "      <td>25917</td>\n",
       "      <td>3129</td>\n",
       "    </tr>\n",
       "    <tr>\n",
       "      <th>Actual Suicide</th>\n",
       "      <td>2751</td>\n",
       "      <td>26216</td>\n",
       "    </tr>\n",
       "  </tbody>\n",
       "</table>\n",
       "</div>"
      ],
      "text/plain": [
       "                    Predicted Non-Suicide  Predicted Suicide\n",
       "Actual Non-Suicide                  25917               3129\n",
       "Actual Suicide                       2751              26216"
      ]
     },
     "execution_count": 75,
     "metadata": {},
     "output_type": "execute_result"
    }
   ],
   "source": [
    "pd.DataFrame(confusion_matrix(y_test5, y_pred5), columns=['Predicted Non-Suicide', \"Predicted Suicide\"], index=['Actual Non-Suicide', 'Actual Suicide'])"
   ]
  },
  {
   "cell_type": "code",
   "execution_count": 76,
   "id": "ae23da07",
   "metadata": {},
   "outputs": [
    {
     "data": {
      "image/png": "[encoded data removed]",
      "text/plain": [
       "<Figure size 576x432 with 1 Axes>"
      ]
     },
     "metadata": {
      "needs_background": "light"
     },
     "output_type": "display_data"
    }
   ],
   "source": [
    "y_pred_proba5 = rfcv.predict_proba(X_test5)[::,1]\n",
    "fpr5, tpr5, _ = metrics.roc_curve(y_test5,  y_pred_proba5)\n",
    "plt.rcParams.update({'figure.figsize': (8, 6.0)})\n",
    "#create ROC curve\n",
    "plt.plot(fpr5,tpr5)\n",
    "plt.plot([0, 1], [0, 1],'r--')\n",
    "plt.title(\"ROC_AUC CURVE Random Forest with Count Vectorizer - Text Only\")\n",
    "plt.ylabel('True Positive Rate')\n",
    "plt.xlabel('False Positive Rate')\n",
    "plt.tight_layout()\n",
    "plt.savefig('ROC_AUC Curve Random Forest with Count Vectorizer TextOnly.png')"
   ]
  },
  {
   "cell_type": "markdown",
   "id": "e25101fe",
   "metadata": {},
   "source": [
    "# Random Forest - Count Vectorizer All Features"
   ]
  },
  {
   "cell_type": "code",
   "execution_count": 77,
   "id": "47bbd4f7",
   "metadata": {},
   "outputs": [
    {
     "name": "stderr",
     "output_type": "stream",
     "text": [
      "C:\\Users\\betha\\anaconda3\\lib\\site-packages\\sklearn\\feature_extraction\\text.py:396: UserWarning: Your stop_words may be inconsistent with your preprocessing. Tokenizing the stop words generated tokens ['ll', 've'] not in stop_words.\n",
      "  warnings.warn(\n",
      "C:\\Users\\betha\\AppData\\Local\\Temp\\ipykernel_10488\\2403083902.py:7: FutureWarning: Support for multi-dimensional indexing (e.g. `obj[:, None]`) is deprecated and will be removed in a future version.  Convert to a numpy array before indexing instead.\n",
      "  reading_level = scaled_features_df['flesch_kincaid'][:, None]\n",
      "C:\\Users\\betha\\AppData\\Local\\Temp\\ipykernel_10488\\2403083902.py:8: FutureWarning: Support for multi-dimensional indexing (e.g. `obj[:, None]`) is deprecated and will be removed in a future version.  Convert to a numpy array before indexing instead.\n",
      "  repetition = scaled_features_df['repetition'][:, None]\n"
     ]
    }
   ],
   "source": [
    "from scipy.sparse import hstack\n",
    "vectorizer = CountVectorizer(min_df=3, ngram_range = (1,2), stop_words = STOP_WORDS)\n",
    "text_matrix = vectorizer.fit_transform(df['clean_text'])\n",
    "text_matrix = text_matrix.tocsc() \n",
    "length = scaled_features_df['length'].values[:, None]\n",
    "sentiment = scaled_features_df['sentiment'].values[:, None]\n",
    "reading_level = scaled_features_df['flesch_kincaid'][:, None]\n",
    "repetition = scaled_features_df['repetition'][:, None]\n",
    "first = hstack((text_matrix, length))\n",
    "second = hstack((first, sentiment))\n",
    "third = hstack((second, reading_level))\n",
    "X = hstack((third, sentiment))\n",
    "\n",
    "y = df['class']"
   ]
  },
  {
   "cell_type": "code",
   "execution_count": 78,
   "id": "227717da",
   "metadata": {},
   "outputs": [],
   "source": [
    "X_train6, X_test6, y_train6, y_test6 = train_test_split(X, y, test_size=0.25, random_state=12)"
   ]
  },
  {
   "cell_type": "code",
   "execution_count": 79,
   "id": "9b9666cc",
   "metadata": {},
   "outputs": [
    {
     "name": "stderr",
     "output_type": "stream",
     "text": [
      "C:\\Users\\betha\\AppData\\Local\\Temp\\ipykernel_10488\\171635267.py:7: FutureWarning: Support for multi-dimensional indexing (e.g. `obj[:, None]`) is deprecated and will be removed in a future version.  Convert to a numpy array before indexing instead.\n",
      "  reading_level = scaled_features_df['flesch_kincaid'].head(1000)[:, None]\n",
      "C:\\Users\\betha\\AppData\\Local\\Temp\\ipykernel_10488\\171635267.py:8: FutureWarning: Support for multi-dimensional indexing (e.g. `obj[:, None]`) is deprecated and will be removed in a future version.  Convert to a numpy array before indexing instead.\n",
      "  repetition = scaled_features_df['repetition'].head(1000)[:, None]\n"
     ]
    }
   ],
   "source": [
    "from scipy.sparse import hstack\n",
    "vectorizer = CountVectorizer(min_df=3, ngram_range = (1,2), stop_words = STOP_WORDS)\n",
    "text_matrix = vectorizer.fit_transform(df['clean_text'].head(1000))\n",
    "text_matrix = text_matrix.tocsc() \n",
    "length = scaled_features_df['length'].head(1000).values[:, None]\n",
    "sentiment = scaled_features_df['sentiment'].head(1000).values[:, None]\n",
    "reading_level = scaled_features_df['flesch_kincaid'].head(1000)[:, None]\n",
    "repetition = scaled_features_df['repetition'].head(1000)[:, None]\n",
    "first = hstack((text_matrix, length))\n",
    "second = hstack((first, sentiment))\n",
    "third = hstack((second, reading_level))\n",
    "X_param = hstack((third, sentiment))\n",
    "\n",
    "y_param = df['class'].head(1000)"
   ]
  },
  {
   "cell_type": "code",
   "execution_count": 80,
   "id": "dc01e95f",
   "metadata": {},
   "outputs": [],
   "source": [
    "X_train_param, X_test_param, y_train_param, y_test_param = train_test_split(X_param, y_param, test_size=0.25, random_state=12)"
   ]
  },
  {
   "cell_type": "code",
   "execution_count": 81,
   "id": "1f965326",
   "metadata": {},
   "outputs": [
    {
     "data": {
      "text/plain": [
       "GridSearchCV(cv=5, estimator=RandomForestClassifier(random_state=1519),\n",
       "             param_grid={'max_depth': [10, 20, 30, 40, 50, 60, 70, 80, 90, 100],\n",
       "                         'n_estimators': [316, 749, 1778, 4216, 10000]})"
      ]
     },
     "execution_count": 81,
     "metadata": {},
     "output_type": "execute_result"
    }
   ],
   "source": [
    "\n",
    "n_est = [int(n) for n in np.logspace(start=2.5, stop=4, num=5)]\n",
    "depth = [int(x) for x in np.linspace(10, 100, num = 10)]\n",
    "param_grid = {'n_estimators': n_est, 'max_depth' : depth}\n",
    "rf1 = RandomForestClassifier(random_state = 1519)\n",
    "rf_cv = GridSearchCV(rf1, param_grid, cv = 5)\n",
    "rf_cv.fit(X_train_param, y_train_param)\n"
   ]
  },
  {
   "cell_type": "code",
   "execution_count": 82,
   "id": "7da298cf",
   "metadata": {},
   "outputs": [
    {
     "name": "stdout",
     "output_type": "stream",
     "text": [
      "Best Score:0.8386666666666667\n",
      "Best Parameters: {'max_depth': 90, 'n_estimators': 4216}\n"
     ]
    }
   ],
   "source": [
    "print(\"Best Score:\" + str(rf_cv.best_score_))\n",
    "print(\"Best Parameters: \" + str(rf_cv.best_params_))"
   ]
  },
  {
   "cell_type": "code",
   "execution_count": 83,
   "id": "f7e4562a",
   "metadata": {},
   "outputs": [
    {
     "data": {
      "text/plain": [
       "RandomForestClassifier(max_depth=90, n_estimators=4216)"
      ]
     },
     "execution_count": 83,
     "metadata": {},
     "output_type": "execute_result"
    }
   ],
   "source": [
    "rfcvi = RandomForestClassifier(n_estimators = 4216 , max_depth = 90)\n",
    "rfcvi.fit(X_train6, y_train6)"
   ]
  },
  {
   "cell_type": "code",
   "execution_count": 84,
   "id": "368c7a7e",
   "metadata": {},
   "outputs": [],
   "source": [
    "y_train_pred_rfcvi = rfcvi.predict(X_train6)\n",
    "y_pred6 = rfcvi.predict(X_test6)"
   ]
  },
  {
   "cell_type": "code",
   "execution_count": 85,
   "id": "77be5268",
   "metadata": {},
   "outputs": [],
   "source": [
    "training_accuracy_rfcvi = rfcvi.score(X_train6, y_train6)\n",
    "test_accuracy_rfcvi = rfcvi.score(X_test6, y_pred6)"
   ]
  },
  {
   "cell_type": "code",
   "execution_count": 86,
   "id": "88f4be82",
   "metadata": {},
   "outputs": [
    {
     "name": "stdout",
     "output_type": "stream",
     "text": [
      "Accuracy on training data: 0.918649\n",
      "Accuracy on test data:     1.000000\n"
     ]
    }
   ],
   "source": [
    "print(\"Accuracy on training data: {:2f}\".format(training_accuracy_rfcvi))\n",
    "print(\"Accuracy on test data:     {:2f}\".format(test_accuracy_rfcvi))"
   ]
  },
  {
   "cell_type": "code",
   "execution_count": 87,
   "id": "e2253275",
   "metadata": {},
   "outputs": [
    {
     "name": "stdout",
     "output_type": "stream",
     "text": [
      "Accuracy: 0.8585144708944547\n",
      "Balanced accuracy: 0.8584517221527499\n",
      "Precision score 0.8945827789393651\n",
      "Recall score 0.8123726999689301\n",
      "F1 score 0.8514980460269214\n",
      "ROC_AUC Score 0.8584517221527498\n"
     ]
    }
   ],
   "source": [
    "from sklearn import tree, metrics\n",
    "accuracy_rfcvi = metrics.accuracy_score(y_test6,y_pred6)\n",
    "balanced_accuracy_rfcvi = metrics.balanced_accuracy_score(y_test6,y_pred6)\n",
    "precision_rfcvi = metrics.precision_score(y_test6,y_pred6, pos_label = 1)\n",
    "recall_rfcvi = metrics.recall_score(y_test6,y_pred6, pos_label = 1)\n",
    "f1_rfcvi = metrics.f1_score(y_test6, y_pred6, pos_label = 1)\n",
    "roc_auc_rfcvi = metrics.roc_auc_score(y_test6, y_pred6)\n",
    "print(\"Accuracy:\", accuracy_rfcvi)\n",
    "print(\"Balanced accuracy:\", balanced_accuracy_rfcvi)\n",
    "print('Precision score' , precision_rfcvi)\n",
    "print('Recall score' , recall_rfcvi)\n",
    "print('F1 score' , f1_rfcvi)\n",
    "print('ROC_AUC Score' , roc_auc_rfcvi)\n"
   ]
  },
  {
   "cell_type": "code",
   "execution_count": 88,
   "id": "91d4b90b",
   "metadata": {},
   "outputs": [
    {
     "name": "stdout",
     "output_type": "stream",
     "text": [
      "True Suicide: 23532\n",
      "False Suicide: 2773\n",
      "True Non-Suicide: 26273\n",
      "False Non-Suicide: 5435\n"
     ]
    }
   ],
   "source": [
    "from sklearn.metrics import confusion_matrix\n",
    "tn_rfcvi, fp_rfcvi, fn_rfcvi, tp_rfcvi = confusion_matrix(y_test6, y_pred6).ravel()\n",
    "print(f'True Suicide: {tp_rfcvi}')\n",
    "print(f'False Suicide: {fp_rfcvi}')\n",
    "print(f'True Non-Suicide: {tn_rfcvi}')\n",
    "print(f'False Non-Suicide: {fn_rfcvi}')"
   ]
  },
  {
   "cell_type": "code",
   "execution_count": 89,
   "id": "ad656952",
   "metadata": {},
   "outputs": [
    {
     "data": {
      "text/html": [
       "<div>\n",
       "<style scoped>\n",
       "    .dataframe tbody tr th:only-of-type {\n",
       "        vertical-align: middle;\n",
       "    }\n",
       "\n",
       "    .dataframe tbody tr th {\n",
       "        vertical-align: top;\n",
       "    }\n",
       "\n",
       "    .dataframe thead th {\n",
       "        text-align: right;\n",
       "    }\n",
       "</style>\n",
       "<table border=\"1\" class=\"dataframe\">\n",
       "  <thead>\n",
       "    <tr style=\"text-align: right;\">\n",
       "      <th></th>\n",
       "      <th>Predicted Non-Suicide</th>\n",
       "      <th>Predicted Suicide</th>\n",
       "    </tr>\n",
       "  </thead>\n",
       "  <tbody>\n",
       "    <tr>\n",
       "      <th>Actual Non-Suicide</th>\n",
       "      <td>26273</td>\n",
       "      <td>2773</td>\n",
       "    </tr>\n",
       "    <tr>\n",
       "      <th>Actual Suicide</th>\n",
       "      <td>5435</td>\n",
       "      <td>23532</td>\n",
       "    </tr>\n",
       "  </tbody>\n",
       "</table>\n",
       "</div>"
      ],
      "text/plain": [
       "                    Predicted Non-Suicide  Predicted Suicide\n",
       "Actual Non-Suicide                  26273               2773\n",
       "Actual Suicide                       5435              23532"
      ]
     },
     "execution_count": 89,
     "metadata": {},
     "output_type": "execute_result"
    }
   ],
   "source": [
    "pd.DataFrame(confusion_matrix(y_test6, y_pred6), columns=['Predicted Non-Suicide', \"Predicted Suicide\"], index=['Actual Non-Suicide', 'Actual Suicide'])"
   ]
  },
  {
   "cell_type": "code",
   "execution_count": 90,
   "id": "32a606e4",
   "metadata": {},
   "outputs": [
    {
     "data": {
      "image/png": "[encoded data removed]",
      "text/plain": [
       "<Figure size 576x432 with 1 Axes>"
      ]
     },
     "metadata": {
      "needs_background": "light"
     },
     "output_type": "display_data"
    }
   ],
   "source": [
    "y_pred_proba6 = rfcvi.predict_proba(X_test6)[::,1]\n",
    "fpr6, tpr6, _ = metrics.roc_curve(y_test6,  y_pred_proba6)\n",
    "plt.rcParams.update({'figure.figsize': (8, 6.0)})\n",
    "#create ROC curve\n",
    "plt.plot(fpr6,tpr6)\n",
    "plt.plot([0, 1], [0, 1],'r--')\n",
    "plt.title(\"ROC_AUC CURVE Random Forest with Count Vectorizer - All Features\")\n",
    "plt.ylabel('True Positive Rate')\n",
    "plt.xlabel('False Positive Rate')\n",
    "plt.tight_layout()\n",
    "plt.savefig('ROC_AUC Curve Random Forest with Count Vectorizer All Features.png')"
   ]
  },
  {
   "cell_type": "code",
   "execution_count": null,
   "id": "209d76f1",
   "metadata": {},
   "outputs": [],
   "source": []
  },
  {
   "cell_type": "markdown",
   "id": "528477c1",
   "metadata": {},
   "source": [
    "# Random Forest - TF-IDF - Text Only"
   ]
  },
  {
   "cell_type": "code",
   "execution_count": 91,
   "id": "f7c456b7",
   "metadata": {},
   "outputs": [
    {
     "name": "stderr",
     "output_type": "stream",
     "text": [
      "C:\\Users\\betha\\anaconda3\\lib\\site-packages\\sklearn\\feature_extraction\\text.py:396: UserWarning: Your stop_words may be inconsistent with your preprocessing. Tokenizing the stop words generated tokens ['ll', 've'] not in stop_words.\n",
      "  warnings.warn(\n"
     ]
    }
   ],
   "source": [
    "from sklearn.feature_extraction.text import TfidfVectorizer\n",
    "vectorizor_tfid = TfidfVectorizer(min_df=3, ngram_range = (1,2), stop_words = STOP_WORDS)\n",
    "X_tfid1 = vectorizor_tfid.fit_transform(df['text'])\n",
    "X_tfid1 = X_tfid1.tocsc() \n",
    "y_tfid1 = df['class']"
   ]
  },
  {
   "cell_type": "code",
   "execution_count": 92,
   "id": "1963e581",
   "metadata": {},
   "outputs": [],
   "source": [
    "X_train7, X_test7, y_train7, y_test7 = train_test_split(X_tfid1, y_tfid1, test_size=0.25, random_state=12)"
   ]
  },
  {
   "cell_type": "code",
   "execution_count": 93,
   "id": "e2809cc6",
   "metadata": {},
   "outputs": [],
   "source": [
    "from sklearn.feature_extraction.text import TfidfVectorizer\n",
    "vectorizor_tfid = TfidfVectorizer(min_df=3, ngram_range = (1,2), stop_words = STOP_WORDS)\n",
    "X_params = vectorizor_tfid.fit_transform(df['text'].head(1000))\n",
    "X_params = X_params.tocsc() \n",
    "y_params = df['class'].head(1000)"
   ]
  },
  {
   "cell_type": "code",
   "execution_count": 94,
   "id": "14e59f0a",
   "metadata": {},
   "outputs": [],
   "source": [
    "X_train_params7, X_test_params7, y_train_params7, y_test_params7 = train_test_split(X_params, y_params, test_size=0.25, random_state=12)"
   ]
  },
  {
   "cell_type": "code",
   "execution_count": 95,
   "id": "7497b5b1",
   "metadata": {},
   "outputs": [
    {
     "data": {
      "text/plain": [
       "GridSearchCV(cv=5, estimator=RandomForestClassifier(random_state=1519),\n",
       "             param_grid={'max_depth': [20, 40, 60, 80, 100],\n",
       "                         'n_estimators': [31, 56, 100, 177, 316]})"
      ]
     },
     "execution_count": 95,
     "metadata": {},
     "output_type": "execute_result"
    }
   ],
   "source": [
    "\n",
    "n_est = [int(n) for n in np.logspace(start=1.5, stop=2.5, num=5)]\n",
    "depth = [int(x) for x in np.linspace(20, 100, num = 5)]\n",
    "param_grid = {'n_estimators': n_est, 'max_depth' : depth}\n",
    "rf1 = RandomForestClassifier(random_state = 1519)\n",
    "rf_cv = GridSearchCV(rf1, param_grid, cv = 5)\n",
    "rf_cv.fit(X_train_params7, y_train_params7)\n"
   ]
  },
  {
   "cell_type": "code",
   "execution_count": 99,
   "id": "1774c169",
   "metadata": {},
   "outputs": [
    {
     "name": "stdout",
     "output_type": "stream",
     "text": [
      "Best Score:0.86\n",
      "Best Parameters: {'max_depth': 40, 'n_estimators': 100}\n"
     ]
    }
   ],
   "source": [
    "print(\"Best Score:\" + str(rf_cv.best_score_))\n",
    "print(\"Best Parameters: \" + str(rf_cv.best_params_))"
   ]
  },
  {
   "cell_type": "code",
   "execution_count": null,
   "id": "55d2ce2d",
   "metadata": {},
   "outputs": [],
   "source": []
  },
  {
   "cell_type": "code",
   "execution_count": 100,
   "id": "1a48733c",
   "metadata": {},
   "outputs": [
    {
     "data": {
      "text/plain": [
       "RandomForestClassifier(max_depth=40)"
      ]
     },
     "execution_count": 100,
     "metadata": {},
     "output_type": "execute_result"
    }
   ],
   "source": [
    "rf_tfidf = RandomForestClassifier(max_depth = 40 , n_estimators = 100)\n",
    "rf_tfidf.fit(X_train7, y_train7)\n"
   ]
  },
  {
   "cell_type": "code",
   "execution_count": 101,
   "id": "103bb89c",
   "metadata": {},
   "outputs": [],
   "source": [
    "y_train_pred7 = rf_tfidf.predict(X_train7)\n",
    "y_pred7 = rf_tfidf.predict(X_test7)"
   ]
  },
  {
   "cell_type": "code",
   "execution_count": 102,
   "id": "e3fd1bcb",
   "metadata": {},
   "outputs": [],
   "source": [
    "training_accuracy_rf_tfid = rf_tfidf.score(X_train7, y_train7)\n",
    "test_accuracy_rf_tfid = rf_tfidf.score(X_test7, y_test7)"
   ]
  },
  {
   "cell_type": "code",
   "execution_count": 103,
   "id": "07ad1849",
   "metadata": {},
   "outputs": [
    {
     "name": "stdout",
     "output_type": "stream",
     "text": [
      "Accuracy on training data: 0.860627\n",
      "Accuracy on test data:     0.835278\n"
     ]
    }
   ],
   "source": [
    "print(\"Accuracy on training data: {:2f}\".format(training_accuracy_rf_tfid))\n",
    "print(\"Accuracy on test data:     {:2f}\".format(test_accuracy_rf_tfid))"
   ]
  },
  {
   "cell_type": "code",
   "execution_count": 104,
   "id": "9bf23193",
   "metadata": {},
   "outputs": [
    {
     "name": "stdout",
     "output_type": "stream",
     "text": [
      "Accuracy: 0.8352782996914485\n",
      "Balanced accuracy: 0.8351730208843904\n",
      "Precision score 0.8962237191263523\n",
      "Recall score 0.7578623951392964\n",
      "F1 score 0.8212562193707681\n",
      "ROC_AUC Score 0.8351730208843903\n"
     ]
    }
   ],
   "source": [
    "from sklearn import tree, metrics\n",
    "\n",
    "accuracy_rf_tfidf = metrics.accuracy_score(y_test7,y_pred7)\n",
    "balanced_accuracy_rf_tfidf = metrics.balanced_accuracy_score(y_test7,y_pred7)\n",
    "precision_rf_tfidf = metrics.precision_score(y_test7,y_pred7, pos_label = 1)\n",
    "recall_rf_tfidf = metrics.recall_score(y_test7,y_pred7, pos_label = 1)\n",
    "f1_rf_tfidf = metrics.f1_score(y_test7, y_pred7, pos_label = 1)\n",
    "roc_auc_rf_tfidf = metrics.roc_auc_score(y_test7, y_pred7)\n",
    "print(\"Accuracy:\", accuracy_rf_tfidf)\n",
    "print(\"Balanced accuracy:\", balanced_accuracy_rf_tfidf)\n",
    "print('Precision score' , precision_rf_tfidf)\n",
    "print('Recall score' , recall_rf_tfidf)\n",
    "print('F1 score' , f1_rf_tfidf)\n",
    "print('ROC_AUC Score' , roc_auc_rf_tfidf)\n",
    "\n"
   ]
  },
  {
   "cell_type": "code",
   "execution_count": 105,
   "id": "2b432992",
   "metadata": {},
   "outputs": [
    {
     "name": "stdout",
     "output_type": "stream",
     "text": [
      "True Suicide: 21953\n",
      "False Suicide: 2542\n",
      "True Non-Suicide: 26504\n",
      "False Non-Suicide: 7014\n"
     ]
    }
   ],
   "source": [
    "from sklearn.metrics import confusion_matrix\n",
    "tn_rf_tfid, fp_rf_tfid, fn_rf_tfid, tp_rf_tfid = confusion_matrix(y_test7, y_pred7).ravel()\n",
    "print(f'True Suicide: {tp_rf_tfid}')\n",
    "print(f'False Suicide: {fp_rf_tfid}')\n",
    "print(f'True Non-Suicide: {tn_rf_tfid}')\n",
    "print(f'False Non-Suicide: {fn_rf_tfid}')"
   ]
  },
  {
   "cell_type": "code",
   "execution_count": 106,
   "id": "46815406",
   "metadata": {},
   "outputs": [
    {
     "data": {
      "text/html": [
       "<div>\n",
       "<style scoped>\n",
       "    .dataframe tbody tr th:only-of-type {\n",
       "        vertical-align: middle;\n",
       "    }\n",
       "\n",
       "    .dataframe tbody tr th {\n",
       "        vertical-align: top;\n",
       "    }\n",
       "\n",
       "    .dataframe thead th {\n",
       "        text-align: right;\n",
       "    }\n",
       "</style>\n",
       "<table border=\"1\" class=\"dataframe\">\n",
       "  <thead>\n",
       "    <tr style=\"text-align: right;\">\n",
       "      <th></th>\n",
       "      <th>Predicted Non-Suicide</th>\n",
       "      <th>Predicted Suicide</th>\n",
       "    </tr>\n",
       "  </thead>\n",
       "  <tbody>\n",
       "    <tr>\n",
       "      <th>Actual Non-Suicide</th>\n",
       "      <td>26504</td>\n",
       "      <td>2542</td>\n",
       "    </tr>\n",
       "    <tr>\n",
       "      <th>Actual Suicide</th>\n",
       "      <td>7014</td>\n",
       "      <td>21953</td>\n",
       "    </tr>\n",
       "  </tbody>\n",
       "</table>\n",
       "</div>"
      ],
      "text/plain": [
       "                    Predicted Non-Suicide  Predicted Suicide\n",
       "Actual Non-Suicide                  26504               2542\n",
       "Actual Suicide                       7014              21953"
      ]
     },
     "execution_count": 106,
     "metadata": {},
     "output_type": "execute_result"
    }
   ],
   "source": [
    "pd.DataFrame(confusion_matrix(y_test7, y_pred7), columns=['Predicted Non-Suicide', \"Predicted Suicide\"], index=['Actual Non-Suicide', 'Actual Suicide'])"
   ]
  },
  {
   "cell_type": "code",
   "execution_count": 107,
   "id": "0275c94b",
   "metadata": {},
   "outputs": [
    {
     "data": {
      "image/png": "[encoded data removed]",
      "text/plain": [
       "<Figure size 576x432 with 1 Axes>"
      ]
     },
     "metadata": {
      "needs_background": "light"
     },
     "output_type": "display_data"
    }
   ],
   "source": [
    "y_pred_proba7 = rf_tfidf.predict_proba(X_test7)[::,1]\n",
    "fpr7, tpr7, _ = metrics.roc_curve(y_test7,  y_pred_proba7)\n",
    "plt.rcParams.update({'figure.figsize': (8, 6.0)})\n",
    "#create ROC curve\n",
    "plt.plot(fpr7,tpr7)\n",
    "plt.plot([0, 1], [0, 1],'r--')\n",
    "plt.title(\"ROC_AUC CURVE Random Forest with TF-IDF Vectorizer - Text Only\")\n",
    "plt.ylabel('True Positive Rate')\n",
    "plt.xlabel('False Positive Rate')\n",
    "plt.tight_layout()\n",
    "plt.savefig('ROC_AUC Curve Random Forest with TF-IDF_text_only.png')"
   ]
  },
  {
   "cell_type": "markdown",
   "id": "72cc602e",
   "metadata": {},
   "source": [
    "# Random Forest - TF-IDF All Features"
   ]
  },
  {
   "cell_type": "code",
   "execution_count": 108,
   "id": "f3fd3aae",
   "metadata": {},
   "outputs": [
    {
     "name": "stderr",
     "output_type": "stream",
     "text": [
      "C:\\Users\\betha\\anaconda3\\lib\\site-packages\\sklearn\\feature_extraction\\text.py:396: UserWarning: Your stop_words may be inconsistent with your preprocessing. Tokenizing the stop words generated tokens ['ll', 've'] not in stop_words.\n",
      "  warnings.warn(\n",
      "C:\\Users\\betha\\AppData\\Local\\Temp\\ipykernel_10488\\2780035948.py:7: FutureWarning: Support for multi-dimensional indexing (e.g. `obj[:, None]`) is deprecated and will be removed in a future version.  Convert to a numpy array before indexing instead.\n",
      "  reading_level = scaled_features_df['flesch_kincaid'][:, None]\n",
      "C:\\Users\\betha\\AppData\\Local\\Temp\\ipykernel_10488\\2780035948.py:8: FutureWarning: Support for multi-dimensional indexing (e.g. `obj[:, None]`) is deprecated and will be removed in a future version.  Convert to a numpy array before indexing instead.\n",
      "  repetition = scaled_features_df['repetition'][:, None]\n"
     ]
    }
   ],
   "source": [
    "from sklearn.feature_extraction.text import TfidfVectorizer\n",
    "vectorizor_tfid = TfidfVectorizer(min_df=3, ngram_range = (1,2), stop_words = STOP_WORDS)\n",
    "text_matrix8 = vectorizor_tfid.fit_transform(df['text'])\n",
    "text_matrix8 = text_matrix8.tocsc() \n",
    "length = scaled_features_df['length'].values[:, None]\n",
    "sentiment = scaled_features_df['sentiment'].values[:, None]\n",
    "reading_level = scaled_features_df['flesch_kincaid'][:, None]\n",
    "repetition = scaled_features_df['repetition'][:, None]\n",
    "first = hstack((text_matrix8, length))\n",
    "second = hstack((first, sentiment))\n",
    "third = hstack((second, reading_level))\n",
    "X_tfid8 = hstack((third, sentiment))\n",
    "\n",
    "y_tfid8 = df['class']"
   ]
  },
  {
   "cell_type": "code",
   "execution_count": 109,
   "id": "fefb4d3f",
   "metadata": {},
   "outputs": [],
   "source": [
    "X_train8, X_test8, y_train8, y_test8 = train_test_split(X_tfid8, y_tfid8, test_size=0.25, random_state=12)"
   ]
  },
  {
   "cell_type": "code",
   "execution_count": 110,
   "id": "931081fd",
   "metadata": {},
   "outputs": [
    {
     "name": "stderr",
     "output_type": "stream",
     "text": [
      "C:\\Users\\betha\\AppData\\Local\\Temp\\ipykernel_10488\\1331152607.py:7: FutureWarning: Support for multi-dimensional indexing (e.g. `obj[:, None]`) is deprecated and will be removed in a future version.  Convert to a numpy array before indexing instead.\n",
      "  reading_level = scaled_features_df['flesch_kincaid'].head(1000)[:, None]\n",
      "C:\\Users\\betha\\AppData\\Local\\Temp\\ipykernel_10488\\1331152607.py:8: FutureWarning: Support for multi-dimensional indexing (e.g. `obj[:, None]`) is deprecated and will be removed in a future version.  Convert to a numpy array before indexing instead.\n",
      "  repetition = scaled_features_df['repetition'].head(1000)[:, None]\n"
     ]
    }
   ],
   "source": [
    "from sklearn.feature_extraction.text import TfidfVectorizer\n",
    "vectorizor_tfid = TfidfVectorizer(min_df=3, ngram_range = (1,2), stop_words = STOP_WORDS)\n",
    "text_matrix8 = vectorizor_tfid.fit_transform(df['text'].head(1000))\n",
    "text_matrix8 = text_matrix8.tocsc() \n",
    "length = scaled_features_df['length'].head(1000).values[:, None]\n",
    "sentiment = scaled_features_df['sentiment'].head(1000).values[:, None]\n",
    "reading_level = scaled_features_df['flesch_kincaid'].head(1000)[:, None]\n",
    "repetition = scaled_features_df['repetition'].head(1000)[:, None]\n",
    "first = hstack((text_matrix8, length))\n",
    "second = hstack((first, sentiment))\n",
    "third = hstack((second, reading_level))\n",
    "X_param8 = hstack((third, sentiment))\n",
    "\n",
    "y_param8 = df['class'].head(1000)\n"
   ]
  },
  {
   "cell_type": "code",
   "execution_count": 111,
   "id": "c4cdfdb2",
   "metadata": {},
   "outputs": [],
   "source": [
    "X_train_param8, X_test_param8, y_train_param8, y_test_param8 = train_test_split(X_param8, y_param8, test_size=0.25, random_state=12)"
   ]
  },
  {
   "cell_type": "code",
   "execution_count": 118,
   "id": "22500ef9",
   "metadata": {},
   "outputs": [
    {
     "data": {
      "text/plain": [
       "GridSearchCV(cv=5, estimator=RandomForestClassifier(random_state=1519),\n",
       "             param_grid={'max_depth': [10, 28, 46, 64, 82, 100],\n",
       "                         'n_estimators': [39, 149, 562, 2113, 7943]})"
      ]
     },
     "execution_count": 118,
     "metadata": {},
     "output_type": "execute_result"
    }
   ],
   "source": [
    "\n",
    "n_est = [int(n) for n in np.logspace(start=1.6, stop=3.9, num=5)]\n",
    "depth = [int(x) for x in np.linspace(10, 100, num = 6)]\n",
    "param_grid = {'n_estimators': n_est, 'max_depth' : depth}\n",
    "rf1 = RandomForestClassifier(random_state = 1519)\n",
    "rf_cv = GridSearchCV(rf1, param_grid, cv = 5)\n",
    "rf_cv.fit(X_train_param8, y_train_param8)\n"
   ]
  },
  {
   "cell_type": "code",
   "execution_count": 119,
   "id": "706681f9",
   "metadata": {},
   "outputs": [
    {
     "name": "stdout",
     "output_type": "stream",
     "text": [
      "Best Score:0.844\n",
      "Best Parameters: {'max_depth': 46, 'n_estimators': 2113}\n"
     ]
    }
   ],
   "source": [
    "\n",
    "print(\"Best Score:\" + str(rf_cv.best_score_))\n",
    "print(\"Best Parameters: \" + str(rf_cv.best_params_))\n"
   ]
  },
  {
   "cell_type": "code",
   "execution_count": 120,
   "id": "8a64094e",
   "metadata": {},
   "outputs": [
    {
     "data": {
      "text/plain": [
       "RandomForestClassifier(max_depth=46, n_estimators=2113)"
      ]
     },
     "execution_count": 120,
     "metadata": {},
     "output_type": "execute_result"
    }
   ],
   "source": [
    "rf_tfidfi = RandomForestClassifier(max_depth = 46, n_estimators = 2113)\n",
    "rf_tfidfi.fit(X_train8, y_train8)"
   ]
  },
  {
   "cell_type": "code",
   "execution_count": 121,
   "id": "2c8c65d0",
   "metadata": {},
   "outputs": [],
   "source": [
    "y_train_pred8 = rf_tfidfi.predict(X_train8)\n",
    "y_pred8 = rf_tfidfi.predict(X_test8)"
   ]
  },
  {
   "cell_type": "code",
   "execution_count": 122,
   "id": "47e3a6df",
   "metadata": {},
   "outputs": [],
   "source": [
    "training_accuracy_rf_tfidi = rf_tfidfi.score(X_train8, y_train8)\n",
    "test_accuracy_rf_tfidi = rf_tfidfi.score(X_test8, y_test8)"
   ]
  },
  {
   "cell_type": "code",
   "execution_count": 123,
   "id": "22e99c9d",
   "metadata": {},
   "outputs": [
    {
     "name": "stdout",
     "output_type": "stream",
     "text": [
      "Accuracy on training data: 0.870693\n",
      "Accuracy on test data:     0.839036\n"
     ]
    }
   ],
   "source": [
    "print(\"Accuracy on training data: {:2f}\".format(training_accuracy_rf_tfidi))\n",
    "print(\"Accuracy on test data:     {:2f}\".format(test_accuracy_rf_tfidi))"
   ]
  },
  {
   "cell_type": "code",
   "execution_count": 124,
   "id": "4a315107",
   "metadata": {},
   "outputs": [
    {
     "name": "stdout",
     "output_type": "stream",
     "text": [
      "Accuracy: 0.8390360781204212\n",
      "Balanced accuracy: 0.8389440453174508\n",
      "Precision score 0.8916556925655453\n",
      "Recall score 0.7713605136879897\n",
      "F1 score 0.8271572946359161\n",
      "ROC_AUC Score 0.8389440453174507\n"
     ]
    }
   ],
   "source": [
    "\n",
    "accuracy_rf_tfidfi = metrics.accuracy_score(y_test8,y_pred8)\n",
    "balanced_accuracy_rf_tfidfi = metrics.balanced_accuracy_score(y_test8,y_pred8)\n",
    "precision_rf_tfidfi = metrics.precision_score(y_test8,y_pred8, pos_label = 1)\n",
    "recall_rf_tfidfi = metrics.recall_score(y_test8,y_pred8, pos_label = 1)\n",
    "f1_rf_tfidfi = metrics.f1_score(y_test8, y_pred8, pos_label = 1)\n",
    "roc_auc_rf_tfidfi = metrics.roc_auc_score(y_test8, y_pred8)\n",
    "print(\"Accuracy:\", accuracy_rf_tfidfi)\n",
    "print(\"Balanced accuracy:\", balanced_accuracy_rf_tfidfi)\n",
    "print('Precision score' , precision_rf_tfidfi)\n",
    "print('Recall score' , recall_rf_tfidfi)\n",
    "print('F1 score' , f1_rf_tfidfi)\n",
    "print('ROC_AUC Score' , roc_auc_rf_tfidfi)\n"
   ]
  },
  {
   "cell_type": "code",
   "execution_count": 125,
   "id": "690555d7",
   "metadata": {},
   "outputs": [
    {
     "name": "stdout",
     "output_type": "stream",
     "text": [
      "True Suicide: 22344\n",
      "False Suicide: 2715\n",
      "True Non-Suicide: 26331\n",
      "False Non-Suicide: 6623\n"
     ]
    }
   ],
   "source": [
    "from sklearn.metrics import confusion_matrix\n",
    "tn_rf_tfidi, fp_rf_tfidi, fn_rf_tfidi, tp_rf_tfidi = confusion_matrix(y_test8, y_pred8).ravel()\n",
    "print(f'True Suicide: {tp_rf_tfidi}')\n",
    "print(f'False Suicide: {fp_rf_tfidi}')\n",
    "print(f'True Non-Suicide: {tn_rf_tfidi}')\n",
    "print(f'False Non-Suicide: {fn_rf_tfidi}')"
   ]
  },
  {
   "cell_type": "code",
   "execution_count": 126,
   "id": "ff2ced81",
   "metadata": {},
   "outputs": [
    {
     "data": {
      "text/html": [
       "<div>\n",
       "<style scoped>\n",
       "    .dataframe tbody tr th:only-of-type {\n",
       "        vertical-align: middle;\n",
       "    }\n",
       "\n",
       "    .dataframe tbody tr th {\n",
       "        vertical-align: top;\n",
       "    }\n",
       "\n",
       "    .dataframe thead th {\n",
       "        text-align: right;\n",
       "    }\n",
       "</style>\n",
       "<table border=\"1\" class=\"dataframe\">\n",
       "  <thead>\n",
       "    <tr style=\"text-align: right;\">\n",
       "      <th></th>\n",
       "      <th>Predicted Non-Suicide</th>\n",
       "      <th>Predicted Suicide</th>\n",
       "    </tr>\n",
       "  </thead>\n",
       "  <tbody>\n",
       "    <tr>\n",
       "      <th>Actual Non-Suicide</th>\n",
       "      <td>26331</td>\n",
       "      <td>2715</td>\n",
       "    </tr>\n",
       "    <tr>\n",
       "      <th>Actual Suicide</th>\n",
       "      <td>6623</td>\n",
       "      <td>22344</td>\n",
       "    </tr>\n",
       "  </tbody>\n",
       "</table>\n",
       "</div>"
      ],
      "text/plain": [
       "                    Predicted Non-Suicide  Predicted Suicide\n",
       "Actual Non-Suicide                  26331               2715\n",
       "Actual Suicide                       6623              22344"
      ]
     },
     "execution_count": 126,
     "metadata": {},
     "output_type": "execute_result"
    }
   ],
   "source": [
    "pd.DataFrame(confusion_matrix(y_test8, y_pred8), columns=['Predicted Non-Suicide', \"Predicted Suicide\"], index=['Actual Non-Suicide', 'Actual Suicide'])"
   ]
  },
  {
   "cell_type": "code",
   "execution_count": 127,
   "id": "2ce134fc",
   "metadata": {},
   "outputs": [
    {
     "data": {
      "image/png": "[encoded data removed]",
      "text/plain": [
       "<Figure size 576x432 with 1 Axes>"
      ]
     },
     "metadata": {
      "needs_background": "light"
     },
     "output_type": "display_data"
    }
   ],
   "source": [
    "y_pred_proba8 = rf_tfidfi.predict_proba(X_test8)[::,1]\n",
    "fpr8, tpr8, _ = metrics.roc_curve(y_test8,  y_pred_proba8)\n",
    "plt.rcParams.update({'figure.figsize': (8, 6.0)})\n",
    "#create ROC curve\n",
    "plt.plot(fpr8,tpr8)\n",
    "plt.plot([0, 1], [0, 1],'r--')\n",
    "plt.title(\"ROC_AUC CURVE Random Forest with TF-IDF Vectorizer All Features\")\n",
    "plt.ylabel('True Positive Rate')\n",
    "plt.xlabel('False Positive Rate')\n",
    "plt.tight_layout()\n",
    "plt.savefig('ROC_AUC Curve Random Forest with TF-IDF.ALL_Features.png')"
   ]
  },
  {
   "cell_type": "markdown",
   "id": "34bb8c5f",
   "metadata": {},
   "source": [
    "# Logistic Regression - Count Vectorizer - Text Only"
   ]
  },
  {
   "cell_type": "code",
   "execution_count": 128,
   "id": "0ea0582a",
   "metadata": {},
   "outputs": [
    {
     "name": "stderr",
     "output_type": "stream",
     "text": [
      "C:\\Users\\betha\\anaconda3\\lib\\site-packages\\sklearn\\feature_extraction\\text.py:396: UserWarning: Your stop_words may be inconsistent with your preprocessing. Tokenizing the stop words generated tokens ['ll', 've'] not in stop_words.\n",
      "  warnings.warn(\n"
     ]
    }
   ],
   "source": [
    "vectorizer = CountVectorizer(min_df=3, ngram_range = (1,2), stop_words = STOP_WORDS)\n",
    "X = vectorizer.fit_transform(df['clean_text'])\n",
    "X = X.tocsc() \n",
    "y = df['class']"
   ]
  },
  {
   "cell_type": "code",
   "execution_count": 129,
   "id": "6c50986e",
   "metadata": {},
   "outputs": [],
   "source": [
    "X_train9, X_test9, y_train9, y_test9 = train_test_split(X, y, test_size=0.25, random_state=12)"
   ]
  },
  {
   "cell_type": "code",
   "execution_count": 130,
   "id": "7d919c19",
   "metadata": {},
   "outputs": [
    {
     "name": "stderr",
     "output_type": "stream",
     "text": [
      "C:\\Users\\betha\\anaconda3\\lib\\site-packages\\sklearn\\linear_model\\_logistic.py:814: ConvergenceWarning: lbfgs failed to converge (status=1):\n",
      "STOP: TOTAL NO. of ITERATIONS REACHED LIMIT.\n",
      "\n",
      "Increase the number of iterations (max_iter) or scale the data as shown in:\n",
      "    https://scikit-learn.org/stable/modules/preprocessing.html\n",
      "Please also refer to the documentation for alternative solver options:\n",
      "    https://scikit-learn.org/stable/modules/linear_model.html#logistic-regression\n",
      "  n_iter_i = _check_optimize_result(\n"
     ]
    },
    {
     "data": {
      "text/plain": [
       "LogisticRegression()"
      ]
     },
     "execution_count": 130,
     "metadata": {},
     "output_type": "execute_result"
    }
   ],
   "source": [
    "from sklearn.linear_model import LogisticRegression\n",
    "lr = LogisticRegression()\n",
    "lr.fit(X_train9, y_train9)"
   ]
  },
  {
   "cell_type": "code",
   "execution_count": 131,
   "id": "f869cfc6",
   "metadata": {},
   "outputs": [
    {
     "name": "stderr",
     "output_type": "stream",
     "text": [
      "C:\\Users\\betha\\anaconda3\\lib\\site-packages\\sklearn\\linear_model\\_logistic.py:814: ConvergenceWarning: lbfgs failed to converge (status=1):\n",
      "STOP: TOTAL NO. of ITERATIONS REACHED LIMIT.\n",
      "\n",
      "Increase the number of iterations (max_iter) or scale the data as shown in:\n",
      "    https://scikit-learn.org/stable/modules/preprocessing.html\n",
      "Please also refer to the documentation for alternative solver options:\n",
      "    https://scikit-learn.org/stable/modules/linear_model.html#logistic-regression\n",
      "  n_iter_i = _check_optimize_result(\n",
      "C:\\Users\\betha\\anaconda3\\lib\\site-packages\\sklearn\\linear_model\\_logistic.py:814: ConvergenceWarning: lbfgs failed to converge (status=1):\n",
      "STOP: TOTAL NO. of ITERATIONS REACHED LIMIT.\n",
      "\n",
      "Increase the number of iterations (max_iter) or scale the data as shown in:\n",
      "    https://scikit-learn.org/stable/modules/preprocessing.html\n",
      "Please also refer to the documentation for alternative solver options:\n",
      "    https://scikit-learn.org/stable/modules/linear_model.html#logistic-regression\n",
      "  n_iter_i = _check_optimize_result(\n",
      "C:\\Users\\betha\\anaconda3\\lib\\site-packages\\sklearn\\linear_model\\_logistic.py:814: ConvergenceWarning: lbfgs failed to converge (status=1):\n",
      "STOP: TOTAL NO. of ITERATIONS REACHED LIMIT.\n",
      "\n",
      "Increase the number of iterations (max_iter) or scale the data as shown in:\n",
      "    https://scikit-learn.org/stable/modules/preprocessing.html\n",
      "Please also refer to the documentation for alternative solver options:\n",
      "    https://scikit-learn.org/stable/modules/linear_model.html#logistic-regression\n",
      "  n_iter_i = _check_optimize_result(\n",
      "C:\\Users\\betha\\anaconda3\\lib\\site-packages\\sklearn\\linear_model\\_logistic.py:814: ConvergenceWarning: lbfgs failed to converge (status=1):\n",
      "STOP: TOTAL NO. of ITERATIONS REACHED LIMIT.\n",
      "\n",
      "Increase the number of iterations (max_iter) or scale the data as shown in:\n",
      "    https://scikit-learn.org/stable/modules/preprocessing.html\n",
      "Please also refer to the documentation for alternative solver options:\n",
      "    https://scikit-learn.org/stable/modules/linear_model.html#logistic-regression\n",
      "  n_iter_i = _check_optimize_result(\n",
      "C:\\Users\\betha\\anaconda3\\lib\\site-packages\\sklearn\\linear_model\\_logistic.py:814: ConvergenceWarning: lbfgs failed to converge (status=1):\n",
      "STOP: TOTAL NO. of ITERATIONS REACHED LIMIT.\n",
      "\n",
      "Increase the number of iterations (max_iter) or scale the data as shown in:\n",
      "    https://scikit-learn.org/stable/modules/preprocessing.html\n",
      "Please also refer to the documentation for alternative solver options:\n",
      "    https://scikit-learn.org/stable/modules/linear_model.html#logistic-regression\n",
      "  n_iter_i = _check_optimize_result(\n",
      "C:\\Users\\betha\\anaconda3\\lib\\site-packages\\sklearn\\linear_model\\_logistic.py:814: ConvergenceWarning: lbfgs failed to converge (status=1):\n",
      "STOP: TOTAL NO. of ITERATIONS REACHED LIMIT.\n",
      "\n",
      "Increase the number of iterations (max_iter) or scale the data as shown in:\n",
      "    https://scikit-learn.org/stable/modules/preprocessing.html\n",
      "Please also refer to the documentation for alternative solver options:\n",
      "    https://scikit-learn.org/stable/modules/linear_model.html#logistic-regression\n",
      "  n_iter_i = _check_optimize_result(\n",
      "C:\\Users\\betha\\anaconda3\\lib\\site-packages\\sklearn\\linear_model\\_logistic.py:814: ConvergenceWarning: lbfgs failed to converge (status=1):\n",
      "STOP: TOTAL NO. of ITERATIONS REACHED LIMIT.\n",
      "\n",
      "Increase the number of iterations (max_iter) or scale the data as shown in:\n",
      "    https://scikit-learn.org/stable/modules/preprocessing.html\n",
      "Please also refer to the documentation for alternative solver options:\n",
      "    https://scikit-learn.org/stable/modules/linear_model.html#logistic-regression\n",
      "  n_iter_i = _check_optimize_result(\n",
      "C:\\Users\\betha\\anaconda3\\lib\\site-packages\\sklearn\\linear_model\\_logistic.py:814: ConvergenceWarning: lbfgs failed to converge (status=1):\n",
      "STOP: TOTAL NO. of ITERATIONS REACHED LIMIT.\n",
      "\n",
      "Increase the number of iterations (max_iter) or scale the data as shown in:\n",
      "    https://scikit-learn.org/stable/modules/preprocessing.html\n",
      "Please also refer to the documentation for alternative solver options:\n",
      "    https://scikit-learn.org/stable/modules/linear_model.html#logistic-regression\n",
      "  n_iter_i = _check_optimize_result(\n",
      "C:\\Users\\betha\\anaconda3\\lib\\site-packages\\sklearn\\linear_model\\_logistic.py:814: ConvergenceWarning: lbfgs failed to converge (status=1):\n",
      "STOP: TOTAL NO. of ITERATIONS REACHED LIMIT.\n",
      "\n",
      "Increase the number of iterations (max_iter) or scale the data as shown in:\n",
      "    https://scikit-learn.org/stable/modules/preprocessing.html\n",
      "Please also refer to the documentation for alternative solver options:\n",
      "    https://scikit-learn.org/stable/modules/linear_model.html#logistic-regression\n",
      "  n_iter_i = _check_optimize_result(\n",
      "C:\\Users\\betha\\anaconda3\\lib\\site-packages\\sklearn\\linear_model\\_logistic.py:814: ConvergenceWarning: lbfgs failed to converge (status=1):\n",
      "STOP: TOTAL NO. of ITERATIONS REACHED LIMIT.\n",
      "\n",
      "Increase the number of iterations (max_iter) or scale the data as shown in:\n",
      "    https://scikit-learn.org/stable/modules/preprocessing.html\n",
      "Please also refer to the documentation for alternative solver options:\n",
      "    https://scikit-learn.org/stable/modules/linear_model.html#logistic-regression\n",
      "  n_iter_i = _check_optimize_result(\n",
      "C:\\Users\\betha\\anaconda3\\lib\\site-packages\\sklearn\\linear_model\\_logistic.py:814: ConvergenceWarning: lbfgs failed to converge (status=1):\n",
      "STOP: TOTAL NO. of ITERATIONS REACHED LIMIT.\n",
      "\n",
      "Increase the number of iterations (max_iter) or scale the data as shown in:\n",
      "    https://scikit-learn.org/stable/modules/preprocessing.html\n",
      "Please also refer to the documentation for alternative solver options:\n",
      "    https://scikit-learn.org/stable/modules/linear_model.html#logistic-regression\n",
      "  n_iter_i = _check_optimize_result(\n",
      "C:\\Users\\betha\\anaconda3\\lib\\site-packages\\sklearn\\linear_model\\_logistic.py:814: ConvergenceWarning: lbfgs failed to converge (status=1):\n",
      "STOP: TOTAL NO. of ITERATIONS REACHED LIMIT.\n",
      "\n",
      "Increase the number of iterations (max_iter) or scale the data as shown in:\n",
      "    https://scikit-learn.org/stable/modules/preprocessing.html\n",
      "Please also refer to the documentation for alternative solver options:\n",
      "    https://scikit-learn.org/stable/modules/linear_model.html#logistic-regression\n",
      "  n_iter_i = _check_optimize_result(\n",
      "C:\\Users\\betha\\anaconda3\\lib\\site-packages\\sklearn\\linear_model\\_logistic.py:814: ConvergenceWarning: lbfgs failed to converge (status=1):\n",
      "STOP: TOTAL NO. of ITERATIONS REACHED LIMIT.\n",
      "\n",
      "Increase the number of iterations (max_iter) or scale the data as shown in:\n",
      "    https://scikit-learn.org/stable/modules/preprocessing.html\n",
      "Please also refer to the documentation for alternative solver options:\n",
      "    https://scikit-learn.org/stable/modules/linear_model.html#logistic-regression\n",
      "  n_iter_i = _check_optimize_result(\n",
      "C:\\Users\\betha\\anaconda3\\lib\\site-packages\\sklearn\\linear_model\\_logistic.py:814: ConvergenceWarning: lbfgs failed to converge (status=1):\n",
      "STOP: TOTAL NO. of ITERATIONS REACHED LIMIT.\n",
      "\n",
      "Increase the number of iterations (max_iter) or scale the data as shown in:\n",
      "    https://scikit-learn.org/stable/modules/preprocessing.html\n",
      "Please also refer to the documentation for alternative solver options:\n",
      "    https://scikit-learn.org/stable/modules/linear_model.html#logistic-regression\n",
      "  n_iter_i = _check_optimize_result(\n",
      "C:\\Users\\betha\\anaconda3\\lib\\site-packages\\sklearn\\linear_model\\_logistic.py:814: ConvergenceWarning: lbfgs failed to converge (status=1):\n",
      "STOP: TOTAL NO. of ITERATIONS REACHED LIMIT.\n",
      "\n",
      "Increase the number of iterations (max_iter) or scale the data as shown in:\n",
      "    https://scikit-learn.org/stable/modules/preprocessing.html\n",
      "Please also refer to the documentation for alternative solver options:\n",
      "    https://scikit-learn.org/stable/modules/linear_model.html#logistic-regression\n",
      "  n_iter_i = _check_optimize_result(\n",
      "C:\\Users\\betha\\anaconda3\\lib\\site-packages\\sklearn\\linear_model\\_logistic.py:814: ConvergenceWarning: lbfgs failed to converge (status=1):\n",
      "STOP: TOTAL NO. of ITERATIONS REACHED LIMIT.\n",
      "\n",
      "Increase the number of iterations (max_iter) or scale the data as shown in:\n",
      "    https://scikit-learn.org/stable/modules/preprocessing.html\n",
      "Please also refer to the documentation for alternative solver options:\n",
      "    https://scikit-learn.org/stable/modules/linear_model.html#logistic-regression\n",
      "  n_iter_i = _check_optimize_result(\n"
     ]
    },
    {
     "name": "stderr",
     "output_type": "stream",
     "text": [
      "C:\\Users\\betha\\anaconda3\\lib\\site-packages\\sklearn\\linear_model\\_logistic.py:814: ConvergenceWarning: lbfgs failed to converge (status=1):\n",
      "STOP: TOTAL NO. of ITERATIONS REACHED LIMIT.\n",
      "\n",
      "Increase the number of iterations (max_iter) or scale the data as shown in:\n",
      "    https://scikit-learn.org/stable/modules/preprocessing.html\n",
      "Please also refer to the documentation for alternative solver options:\n",
      "    https://scikit-learn.org/stable/modules/linear_model.html#logistic-regression\n",
      "  n_iter_i = _check_optimize_result(\n",
      "C:\\Users\\betha\\anaconda3\\lib\\site-packages\\sklearn\\linear_model\\_logistic.py:814: ConvergenceWarning: lbfgs failed to converge (status=1):\n",
      "STOP: TOTAL NO. of ITERATIONS REACHED LIMIT.\n",
      "\n",
      "Increase the number of iterations (max_iter) or scale the data as shown in:\n",
      "    https://scikit-learn.org/stable/modules/preprocessing.html\n",
      "Please also refer to the documentation for alternative solver options:\n",
      "    https://scikit-learn.org/stable/modules/linear_model.html#logistic-regression\n",
      "  n_iter_i = _check_optimize_result(\n",
      "C:\\Users\\betha\\anaconda3\\lib\\site-packages\\sklearn\\linear_model\\_logistic.py:814: ConvergenceWarning: lbfgs failed to converge (status=1):\n",
      "STOP: TOTAL NO. of ITERATIONS REACHED LIMIT.\n",
      "\n",
      "Increase the number of iterations (max_iter) or scale the data as shown in:\n",
      "    https://scikit-learn.org/stable/modules/preprocessing.html\n",
      "Please also refer to the documentation for alternative solver options:\n",
      "    https://scikit-learn.org/stable/modules/linear_model.html#logistic-regression\n",
      "  n_iter_i = _check_optimize_result(\n",
      "C:\\Users\\betha\\anaconda3\\lib\\site-packages\\sklearn\\linear_model\\_logistic.py:814: ConvergenceWarning: lbfgs failed to converge (status=1):\n",
      "STOP: TOTAL NO. of ITERATIONS REACHED LIMIT.\n",
      "\n",
      "Increase the number of iterations (max_iter) or scale the data as shown in:\n",
      "    https://scikit-learn.org/stable/modules/preprocessing.html\n",
      "Please also refer to the documentation for alternative solver options:\n",
      "    https://scikit-learn.org/stable/modules/linear_model.html#logistic-regression\n",
      "  n_iter_i = _check_optimize_result(\n",
      "C:\\Users\\betha\\anaconda3\\lib\\site-packages\\sklearn\\linear_model\\_logistic.py:814: ConvergenceWarning: lbfgs failed to converge (status=1):\n",
      "STOP: TOTAL NO. of ITERATIONS REACHED LIMIT.\n",
      "\n",
      "Increase the number of iterations (max_iter) or scale the data as shown in:\n",
      "    https://scikit-learn.org/stable/modules/preprocessing.html\n",
      "Please also refer to the documentation for alternative solver options:\n",
      "    https://scikit-learn.org/stable/modules/linear_model.html#logistic-regression\n",
      "  n_iter_i = _check_optimize_result(\n"
     ]
    },
    {
     "data": {
      "text/plain": [
       "GridSearchCV(cv=5, estimator=LogisticRegression(random_state=0),\n",
       "             param_grid={'C': [100, 10, 1.0, 0.1, 0.01]})"
      ]
     },
     "execution_count": 131,
     "metadata": {},
     "output_type": "execute_result"
    }
   ],
   "source": [
    "#penalty = ['none', 'l1', 'l2', 'elasticnet']\n",
    "c_values = [100, 10, 1.0, 0.1, 0.01]\n",
    "param_grid = {'C' : c_values}\n",
    "lr = LogisticRegression(random_state = 0)\n",
    "lr_cv = GridSearchCV(lr, param_grid, cv = 5)\n",
    "lr_cv.fit(X_train9, y_train9)"
   ]
  },
  {
   "cell_type": "code",
   "execution_count": 132,
   "id": "55ebe8eb",
   "metadata": {},
   "outputs": [
    {
     "name": "stdout",
     "output_type": "stream",
     "text": [
      "Best Score:0.9318934088506978\n",
      "Best Parameters: {'C': 1.0}\n"
     ]
    }
   ],
   "source": [
    "print(\"Best Score:\" + str(lr_cv.best_score_))\n",
    "print(\"Best Parameters: \" + str(lr_cv.best_params_))"
   ]
  },
  {
   "cell_type": "code",
   "execution_count": 133,
   "id": "35a82a1f",
   "metadata": {},
   "outputs": [
    {
     "name": "stderr",
     "output_type": "stream",
     "text": [
      "C:\\Users\\betha\\anaconda3\\lib\\site-packages\\sklearn\\linear_model\\_logistic.py:814: ConvergenceWarning: lbfgs failed to converge (status=1):\n",
      "STOP: TOTAL NO. of ITERATIONS REACHED LIMIT.\n",
      "\n",
      "Increase the number of iterations (max_iter) or scale the data as shown in:\n",
      "    https://scikit-learn.org/stable/modules/preprocessing.html\n",
      "Please also refer to the documentation for alternative solver options:\n",
      "    https://scikit-learn.org/stable/modules/linear_model.html#logistic-regression\n",
      "  n_iter_i = _check_optimize_result(\n"
     ]
    },
    {
     "data": {
      "text/plain": [
       "LogisticRegression()"
      ]
     },
     "execution_count": 133,
     "metadata": {},
     "output_type": "execute_result"
    }
   ],
   "source": [
    "lr = LogisticRegression(C = 1.0)\n",
    "lr.fit(X_train9, y_train9)"
   ]
  },
  {
   "cell_type": "code",
   "execution_count": 134,
   "id": "0bbdd4ce",
   "metadata": {},
   "outputs": [],
   "source": [
    "y_train_pred = lr.predict(X_train9)\n",
    "y_pred9 = lr.predict(X_test9)"
   ]
  },
  {
   "cell_type": "code",
   "execution_count": 135,
   "id": "70aa173d",
   "metadata": {},
   "outputs": [],
   "source": [
    "training_accuracy_lrcv = lr.score(X_train9, y_train9)\n",
    "test_accuracy_lrcv = lr.score(X_test9, y_test9)"
   ]
  },
  {
   "cell_type": "code",
   "execution_count": 136,
   "id": "b6efef82",
   "metadata": {},
   "outputs": [
    {
     "name": "stdout",
     "output_type": "stream",
     "text": [
      "Accuracy on training data: 0.987284\n",
      "Accuracy on test data:     0.935015\n"
     ]
    }
   ],
   "source": [
    "print(\"Accuracy on training data: {:2f}\".format(training_accuracy_lrcv))\n",
    "print(\"Accuracy on test data:     {:2f}\".format(test_accuracy_lrcv))"
   ]
  },
  {
   "cell_type": "code",
   "execution_count": 137,
   "id": "b56fe089",
   "metadata": {},
   "outputs": [
    {
     "name": "stdout",
     "output_type": "stream",
     "text": [
      "Accuracy: 0.9350145657007912\n",
      "Balanced accuracy: 0.9349946805319436\n",
      "Precision score 0.9479466666666667\n",
      "Recall score 0.9203921704008009\n",
      "F1 score 0.9339662299446508\n",
      "ROC_AUC Score 0.9349946805319436\n"
     ]
    }
   ],
   "source": [
    "from sklearn import tree, metrics\n",
    "\n",
    "accuracy_lrcv = metrics.accuracy_score(y_test9,y_pred9)\n",
    "balanced_accuracy_lrcv = metrics.balanced_accuracy_score(y_test9,y_pred9)\n",
    "precision_lrcv = metrics.precision_score(y_test9,y_pred9, pos_label = 1)\n",
    "recall_lrcv = metrics.recall_score(y_test9,y_pred9, pos_label = 1)\n",
    "f1_lrcv = metrics.f1_score(y_test9, y_pred9, pos_label = 1)\n",
    "roc_auc_lrcv = metrics.roc_auc_score(y_test9, y_pred9)\n",
    "print(\"Accuracy:\", accuracy_lrcv)\n",
    "print(\"Balanced accuracy:\", balanced_accuracy_lrcv)\n",
    "print('Precision score' , precision_lrcv)\n",
    "print('Recall score' , recall_lrcv)\n",
    "print('F1 score' , f1_lrcv)\n",
    "print('ROC_AUC Score' , roc_auc_lrcv)\n"
   ]
  },
  {
   "cell_type": "code",
   "execution_count": 138,
   "id": "a0a146b6",
   "metadata": {},
   "outputs": [
    {
     "name": "stdout",
     "output_type": "stream",
     "text": [
      "True Suicide: 26661\n",
      "False Suicide: 1464\n",
      "True Non-Suicide: 27582\n",
      "False Non-Suicide: 2306\n"
     ]
    }
   ],
   "source": [
    "from sklearn.metrics import confusion_matrix\n",
    "tn_lrcv, fp_lrcv, fn_lrcv, tp_lrcv = confusion_matrix(y_test9, y_pred9).ravel()\n",
    "print(f'True Suicide: {tp_lrcv}')\n",
    "print(f'False Suicide: {fp_lrcv}')\n",
    "print(f'True Non-Suicide: {tn_lrcv}')\n",
    "print(f'False Non-Suicide: {fn_lrcv}')"
   ]
  },
  {
   "cell_type": "code",
   "execution_count": 139,
   "id": "3e0d37c3",
   "metadata": {},
   "outputs": [
    {
     "data": {
      "text/html": [
       "<div>\n",
       "<style scoped>\n",
       "    .dataframe tbody tr th:only-of-type {\n",
       "        vertical-align: middle;\n",
       "    }\n",
       "\n",
       "    .dataframe tbody tr th {\n",
       "        vertical-align: top;\n",
       "    }\n",
       "\n",
       "    .dataframe thead th {\n",
       "        text-align: right;\n",
       "    }\n",
       "</style>\n",
       "<table border=\"1\" class=\"dataframe\">\n",
       "  <thead>\n",
       "    <tr style=\"text-align: right;\">\n",
       "      <th></th>\n",
       "      <th>Predicted Non-Suicide</th>\n",
       "      <th>Predicted Suicide</th>\n",
       "    </tr>\n",
       "  </thead>\n",
       "  <tbody>\n",
       "    <tr>\n",
       "      <th>Actual Non-Suicide</th>\n",
       "      <td>27582</td>\n",
       "      <td>1464</td>\n",
       "    </tr>\n",
       "    <tr>\n",
       "      <th>Actual Suicide</th>\n",
       "      <td>2306</td>\n",
       "      <td>26661</td>\n",
       "    </tr>\n",
       "  </tbody>\n",
       "</table>\n",
       "</div>"
      ],
      "text/plain": [
       "                    Predicted Non-Suicide  Predicted Suicide\n",
       "Actual Non-Suicide                  27582               1464\n",
       "Actual Suicide                       2306              26661"
      ]
     },
     "execution_count": 139,
     "metadata": {},
     "output_type": "execute_result"
    }
   ],
   "source": [
    "pd.DataFrame(confusion_matrix(y_test9, y_pred9), columns=['Predicted Non-Suicide', \"Predicted Suicide\"], index=['Actual Non-Suicide', 'Actual Suicide'])"
   ]
  },
  {
   "cell_type": "code",
   "execution_count": 140,
   "id": "ef1f15a3",
   "metadata": {},
   "outputs": [
    {
     "data": {
      "image/png": "[encoded data removed]",
      "text/plain": [
       "<Figure size 576x432 with 1 Axes>"
      ]
     },
     "metadata": {
      "needs_background": "light"
     },
     "output_type": "display_data"
    }
   ],
   "source": [
    "y_pred_proba9 = lr.predict_proba(X_test9)[::,1]\n",
    "fpr9, tpr9, _ = metrics.roc_curve(y_test9,  y_pred_proba9)\n",
    "plt.rcParams.update({'figure.figsize': (8, 6.0)})\n",
    "#create ROC curve\n",
    "plt.plot(fpr9,tpr9)\n",
    "plt.plot([0, 1], [0, 1],'r--')\n",
    "plt.title(\"ROC_AUC CURVE Logistic Regression with Count Vectorizer - Text Only\")\n",
    "plt.ylabel('True Positive Rate')\n",
    "plt.xlabel('False Positive Rate')\n",
    "plt.tight_layout()\n",
    "plt.savefig('ROC_AUC CURVE Logistic Regression with Count Vectorizer_TextOnly.png')"
   ]
  },
  {
   "cell_type": "markdown",
   "id": "714301c0",
   "metadata": {},
   "source": [
    "# Logistic Regression - Count Vectorizer - All Features"
   ]
  },
  {
   "cell_type": "code",
   "execution_count": 141,
   "id": "bb4340b5",
   "metadata": {},
   "outputs": [
    {
     "name": "stderr",
     "output_type": "stream",
     "text": [
      "C:\\Users\\betha\\anaconda3\\lib\\site-packages\\sklearn\\feature_extraction\\text.py:396: UserWarning: Your stop_words may be inconsistent with your preprocessing. Tokenizing the stop words generated tokens ['ll', 've'] not in stop_words.\n",
      "  warnings.warn(\n",
      "C:\\Users\\betha\\AppData\\Local\\Temp\\ipykernel_10488\\2403083902.py:7: FutureWarning: Support for multi-dimensional indexing (e.g. `obj[:, None]`) is deprecated and will be removed in a future version.  Convert to a numpy array before indexing instead.\n",
      "  reading_level = scaled_features_df['flesch_kincaid'][:, None]\n",
      "C:\\Users\\betha\\AppData\\Local\\Temp\\ipykernel_10488\\2403083902.py:8: FutureWarning: Support for multi-dimensional indexing (e.g. `obj[:, None]`) is deprecated and will be removed in a future version.  Convert to a numpy array before indexing instead.\n",
      "  repetition = scaled_features_df['repetition'][:, None]\n"
     ]
    }
   ],
   "source": [
    "from scipy.sparse import hstack\n",
    "vectorizer = CountVectorizer(min_df=3, ngram_range = (1,2), stop_words = STOP_WORDS)\n",
    "text_matrix = vectorizer.fit_transform(df['clean_text'])\n",
    "text_matrix = text_matrix.tocsc() \n",
    "length = scaled_features_df['length'].values[:, None]\n",
    "sentiment = scaled_features_df['sentiment'].values[:, None]\n",
    "reading_level = scaled_features_df['flesch_kincaid'][:, None]\n",
    "repetition = scaled_features_df['repetition'][:, None]\n",
    "first = hstack((text_matrix, length))\n",
    "second = hstack((first, sentiment))\n",
    "third = hstack((second, reading_level))\n",
    "X = hstack((third, sentiment))\n",
    "\n",
    "y = df['class']"
   ]
  },
  {
   "cell_type": "code",
   "execution_count": 142,
   "id": "e98d0aeb",
   "metadata": {},
   "outputs": [],
   "source": [
    "X_train10, X_test10, y_train10, y_test10 = train_test_split(X, y, test_size=0.25, random_state=12)"
   ]
  },
  {
   "cell_type": "code",
   "execution_count": 143,
   "id": "1ea446b3",
   "metadata": {},
   "outputs": [
    {
     "name": "stderr",
     "output_type": "stream",
     "text": [
      "C:\\Users\\betha\\anaconda3\\lib\\site-packages\\sklearn\\linear_model\\_logistic.py:814: ConvergenceWarning: lbfgs failed to converge (status=1):\n",
      "STOP: TOTAL NO. of ITERATIONS REACHED LIMIT.\n",
      "\n",
      "Increase the number of iterations (max_iter) or scale the data as shown in:\n",
      "    https://scikit-learn.org/stable/modules/preprocessing.html\n",
      "Please also refer to the documentation for alternative solver options:\n",
      "    https://scikit-learn.org/stable/modules/linear_model.html#logistic-regression\n",
      "  n_iter_i = _check_optimize_result(\n",
      "C:\\Users\\betha\\anaconda3\\lib\\site-packages\\sklearn\\linear_model\\_logistic.py:814: ConvergenceWarning: lbfgs failed to converge (status=1):\n",
      "STOP: TOTAL NO. of ITERATIONS REACHED LIMIT.\n",
      "\n",
      "Increase the number of iterations (max_iter) or scale the data as shown in:\n",
      "    https://scikit-learn.org/stable/modules/preprocessing.html\n",
      "Please also refer to the documentation for alternative solver options:\n",
      "    https://scikit-learn.org/stable/modules/linear_model.html#logistic-regression\n",
      "  n_iter_i = _check_optimize_result(\n",
      "C:\\Users\\betha\\anaconda3\\lib\\site-packages\\sklearn\\linear_model\\_logistic.py:814: ConvergenceWarning: lbfgs failed to converge (status=1):\n",
      "STOP: TOTAL NO. of ITERATIONS REACHED LIMIT.\n",
      "\n",
      "Increase the number of iterations (max_iter) or scale the data as shown in:\n",
      "    https://scikit-learn.org/stable/modules/preprocessing.html\n",
      "Please also refer to the documentation for alternative solver options:\n",
      "    https://scikit-learn.org/stable/modules/linear_model.html#logistic-regression\n",
      "  n_iter_i = _check_optimize_result(\n",
      "C:\\Users\\betha\\anaconda3\\lib\\site-packages\\sklearn\\linear_model\\_logistic.py:814: ConvergenceWarning: lbfgs failed to converge (status=1):\n",
      "STOP: TOTAL NO. of ITERATIONS REACHED LIMIT.\n",
      "\n",
      "Increase the number of iterations (max_iter) or scale the data as shown in:\n",
      "    https://scikit-learn.org/stable/modules/preprocessing.html\n",
      "Please also refer to the documentation for alternative solver options:\n",
      "    https://scikit-learn.org/stable/modules/linear_model.html#logistic-regression\n",
      "  n_iter_i = _check_optimize_result(\n",
      "C:\\Users\\betha\\anaconda3\\lib\\site-packages\\sklearn\\linear_model\\_logistic.py:814: ConvergenceWarning: lbfgs failed to converge (status=1):\n",
      "STOP: TOTAL NO. of ITERATIONS REACHED LIMIT.\n",
      "\n",
      "Increase the number of iterations (max_iter) or scale the data as shown in:\n",
      "    https://scikit-learn.org/stable/modules/preprocessing.html\n",
      "Please also refer to the documentation for alternative solver options:\n",
      "    https://scikit-learn.org/stable/modules/linear_model.html#logistic-regression\n",
      "  n_iter_i = _check_optimize_result(\n",
      "C:\\Users\\betha\\anaconda3\\lib\\site-packages\\sklearn\\linear_model\\_logistic.py:814: ConvergenceWarning: lbfgs failed to converge (status=1):\n",
      "STOP: TOTAL NO. of ITERATIONS REACHED LIMIT.\n",
      "\n",
      "Increase the number of iterations (max_iter) or scale the data as shown in:\n",
      "    https://scikit-learn.org/stable/modules/preprocessing.html\n",
      "Please also refer to the documentation for alternative solver options:\n",
      "    https://scikit-learn.org/stable/modules/linear_model.html#logistic-regression\n",
      "  n_iter_i = _check_optimize_result(\n",
      "C:\\Users\\betha\\anaconda3\\lib\\site-packages\\sklearn\\linear_model\\_logistic.py:814: ConvergenceWarning: lbfgs failed to converge (status=1):\n",
      "STOP: TOTAL NO. of ITERATIONS REACHED LIMIT.\n",
      "\n",
      "Increase the number of iterations (max_iter) or scale the data as shown in:\n",
      "    https://scikit-learn.org/stable/modules/preprocessing.html\n",
      "Please also refer to the documentation for alternative solver options:\n",
      "    https://scikit-learn.org/stable/modules/linear_model.html#logistic-regression\n",
      "  n_iter_i = _check_optimize_result(\n",
      "C:\\Users\\betha\\anaconda3\\lib\\site-packages\\sklearn\\linear_model\\_logistic.py:814: ConvergenceWarning: lbfgs failed to converge (status=1):\n",
      "STOP: TOTAL NO. of ITERATIONS REACHED LIMIT.\n",
      "\n",
      "Increase the number of iterations (max_iter) or scale the data as shown in:\n",
      "    https://scikit-learn.org/stable/modules/preprocessing.html\n",
      "Please also refer to the documentation for alternative solver options:\n",
      "    https://scikit-learn.org/stable/modules/linear_model.html#logistic-regression\n",
      "  n_iter_i = _check_optimize_result(\n",
      "C:\\Users\\betha\\anaconda3\\lib\\site-packages\\sklearn\\linear_model\\_logistic.py:814: ConvergenceWarning: lbfgs failed to converge (status=1):\n",
      "STOP: TOTAL NO. of ITERATIONS REACHED LIMIT.\n",
      "\n",
      "Increase the number of iterations (max_iter) or scale the data as shown in:\n",
      "    https://scikit-learn.org/stable/modules/preprocessing.html\n",
      "Please also refer to the documentation for alternative solver options:\n",
      "    https://scikit-learn.org/stable/modules/linear_model.html#logistic-regression\n",
      "  n_iter_i = _check_optimize_result(\n",
      "C:\\Users\\betha\\anaconda3\\lib\\site-packages\\sklearn\\linear_model\\_logistic.py:814: ConvergenceWarning: lbfgs failed to converge (status=1):\n",
      "STOP: TOTAL NO. of ITERATIONS REACHED LIMIT.\n",
      "\n",
      "Increase the number of iterations (max_iter) or scale the data as shown in:\n",
      "    https://scikit-learn.org/stable/modules/preprocessing.html\n",
      "Please also refer to the documentation for alternative solver options:\n",
      "    https://scikit-learn.org/stable/modules/linear_model.html#logistic-regression\n",
      "  n_iter_i = _check_optimize_result(\n",
      "C:\\Users\\betha\\anaconda3\\lib\\site-packages\\sklearn\\linear_model\\_logistic.py:814: ConvergenceWarning: lbfgs failed to converge (status=1):\n",
      "STOP: TOTAL NO. of ITERATIONS REACHED LIMIT.\n",
      "\n",
      "Increase the number of iterations (max_iter) or scale the data as shown in:\n",
      "    https://scikit-learn.org/stable/modules/preprocessing.html\n",
      "Please also refer to the documentation for alternative solver options:\n",
      "    https://scikit-learn.org/stable/modules/linear_model.html#logistic-regression\n",
      "  n_iter_i = _check_optimize_result(\n",
      "C:\\Users\\betha\\anaconda3\\lib\\site-packages\\sklearn\\linear_model\\_logistic.py:814: ConvergenceWarning: lbfgs failed to converge (status=1):\n",
      "STOP: TOTAL NO. of ITERATIONS REACHED LIMIT.\n",
      "\n",
      "Increase the number of iterations (max_iter) or scale the data as shown in:\n",
      "    https://scikit-learn.org/stable/modules/preprocessing.html\n",
      "Please also refer to the documentation for alternative solver options:\n",
      "    https://scikit-learn.org/stable/modules/linear_model.html#logistic-regression\n",
      "  n_iter_i = _check_optimize_result(\n",
      "C:\\Users\\betha\\anaconda3\\lib\\site-packages\\sklearn\\linear_model\\_logistic.py:814: ConvergenceWarning: lbfgs failed to converge (status=1):\n",
      "STOP: TOTAL NO. of ITERATIONS REACHED LIMIT.\n",
      "\n",
      "Increase the number of iterations (max_iter) or scale the data as shown in:\n",
      "    https://scikit-learn.org/stable/modules/preprocessing.html\n",
      "Please also refer to the documentation for alternative solver options:\n",
      "    https://scikit-learn.org/stable/modules/linear_model.html#logistic-regression\n",
      "  n_iter_i = _check_optimize_result(\n",
      "C:\\Users\\betha\\anaconda3\\lib\\site-packages\\sklearn\\linear_model\\_logistic.py:814: ConvergenceWarning: lbfgs failed to converge (status=1):\n",
      "STOP: TOTAL NO. of ITERATIONS REACHED LIMIT.\n",
      "\n",
      "Increase the number of iterations (max_iter) or scale the data as shown in:\n",
      "    https://scikit-learn.org/stable/modules/preprocessing.html\n",
      "Please also refer to the documentation for alternative solver options:\n",
      "    https://scikit-learn.org/stable/modules/linear_model.html#logistic-regression\n",
      "  n_iter_i = _check_optimize_result(\n",
      "C:\\Users\\betha\\anaconda3\\lib\\site-packages\\sklearn\\linear_model\\_logistic.py:814: ConvergenceWarning: lbfgs failed to converge (status=1):\n",
      "STOP: TOTAL NO. of ITERATIONS REACHED LIMIT.\n",
      "\n",
      "Increase the number of iterations (max_iter) or scale the data as shown in:\n",
      "    https://scikit-learn.org/stable/modules/preprocessing.html\n",
      "Please also refer to the documentation for alternative solver options:\n",
      "    https://scikit-learn.org/stable/modules/linear_model.html#logistic-regression\n",
      "  n_iter_i = _check_optimize_result(\n",
      "C:\\Users\\betha\\anaconda3\\lib\\site-packages\\sklearn\\linear_model\\_logistic.py:814: ConvergenceWarning: lbfgs failed to converge (status=1):\n",
      "STOP: TOTAL NO. of ITERATIONS REACHED LIMIT.\n",
      "\n",
      "Increase the number of iterations (max_iter) or scale the data as shown in:\n",
      "    https://scikit-learn.org/stable/modules/preprocessing.html\n",
      "Please also refer to the documentation for alternative solver options:\n",
      "    https://scikit-learn.org/stable/modules/linear_model.html#logistic-regression\n",
      "  n_iter_i = _check_optimize_result(\n"
     ]
    },
    {
     "name": "stderr",
     "output_type": "stream",
     "text": [
      "C:\\Users\\betha\\anaconda3\\lib\\site-packages\\sklearn\\linear_model\\_logistic.py:814: ConvergenceWarning: lbfgs failed to converge (status=1):\n",
      "STOP: TOTAL NO. of ITERATIONS REACHED LIMIT.\n",
      "\n",
      "Increase the number of iterations (max_iter) or scale the data as shown in:\n",
      "    https://scikit-learn.org/stable/modules/preprocessing.html\n",
      "Please also refer to the documentation for alternative solver options:\n",
      "    https://scikit-learn.org/stable/modules/linear_model.html#logistic-regression\n",
      "  n_iter_i = _check_optimize_result(\n",
      "C:\\Users\\betha\\anaconda3\\lib\\site-packages\\sklearn\\linear_model\\_logistic.py:814: ConvergenceWarning: lbfgs failed to converge (status=1):\n",
      "STOP: TOTAL NO. of ITERATIONS REACHED LIMIT.\n",
      "\n",
      "Increase the number of iterations (max_iter) or scale the data as shown in:\n",
      "    https://scikit-learn.org/stable/modules/preprocessing.html\n",
      "Please also refer to the documentation for alternative solver options:\n",
      "    https://scikit-learn.org/stable/modules/linear_model.html#logistic-regression\n",
      "  n_iter_i = _check_optimize_result(\n",
      "C:\\Users\\betha\\anaconda3\\lib\\site-packages\\sklearn\\linear_model\\_logistic.py:814: ConvergenceWarning: lbfgs failed to converge (status=1):\n",
      "STOP: TOTAL NO. of ITERATIONS REACHED LIMIT.\n",
      "\n",
      "Increase the number of iterations (max_iter) or scale the data as shown in:\n",
      "    https://scikit-learn.org/stable/modules/preprocessing.html\n",
      "Please also refer to the documentation for alternative solver options:\n",
      "    https://scikit-learn.org/stable/modules/linear_model.html#logistic-regression\n",
      "  n_iter_i = _check_optimize_result(\n",
      "C:\\Users\\betha\\anaconda3\\lib\\site-packages\\sklearn\\linear_model\\_logistic.py:814: ConvergenceWarning: lbfgs failed to converge (status=1):\n",
      "STOP: TOTAL NO. of ITERATIONS REACHED LIMIT.\n",
      "\n",
      "Increase the number of iterations (max_iter) or scale the data as shown in:\n",
      "    https://scikit-learn.org/stable/modules/preprocessing.html\n",
      "Please also refer to the documentation for alternative solver options:\n",
      "    https://scikit-learn.org/stable/modules/linear_model.html#logistic-regression\n",
      "  n_iter_i = _check_optimize_result(\n",
      "C:\\Users\\betha\\anaconda3\\lib\\site-packages\\sklearn\\linear_model\\_logistic.py:814: ConvergenceWarning: lbfgs failed to converge (status=1):\n",
      "STOP: TOTAL NO. of ITERATIONS REACHED LIMIT.\n",
      "\n",
      "Increase the number of iterations (max_iter) or scale the data as shown in:\n",
      "    https://scikit-learn.org/stable/modules/preprocessing.html\n",
      "Please also refer to the documentation for alternative solver options:\n",
      "    https://scikit-learn.org/stable/modules/linear_model.html#logistic-regression\n",
      "  n_iter_i = _check_optimize_result(\n"
     ]
    },
    {
     "data": {
      "text/plain": [
       "GridSearchCV(cv=5, estimator=LogisticRegression(random_state=0),\n",
       "             param_grid={'C': [100, 10, 1.0, 0.1, 0.01]})"
      ]
     },
     "execution_count": 143,
     "metadata": {},
     "output_type": "execute_result"
    }
   ],
   "source": [
    "#penalty = ['none', 'l1', 'l2', 'elasticnet']\n",
    "c_values = [100, 10, 1.0, 0.1, 0.01]\n",
    "param_grid = {'C' : c_values}\n",
    "lr = LogisticRegression(random_state = 0)\n",
    "lr_cv = GridSearchCV(lr, param_grid, cv = 5)\n",
    "lr_cv.fit(X_train10, y_train10)"
   ]
  },
  {
   "cell_type": "code",
   "execution_count": 144,
   "id": "cb72ebe8",
   "metadata": {},
   "outputs": [
    {
     "name": "stdout",
     "output_type": "stream",
     "text": [
      "Best Score:0.9320887713571644\n",
      "Best Parameters: {'C': 1.0}\n"
     ]
    }
   ],
   "source": [
    "print(\"Best Score:\" + str(lr_cv.best_score_))\n",
    "print(\"Best Parameters: \" + str(lr_cv.best_params_))"
   ]
  },
  {
   "cell_type": "code",
   "execution_count": 145,
   "id": "7cbb28b3",
   "metadata": {},
   "outputs": [
    {
     "name": "stderr",
     "output_type": "stream",
     "text": [
      "C:\\Users\\betha\\anaconda3\\lib\\site-packages\\sklearn\\linear_model\\_logistic.py:814: ConvergenceWarning: lbfgs failed to converge (status=1):\n",
      "STOP: TOTAL NO. of ITERATIONS REACHED LIMIT.\n",
      "\n",
      "Increase the number of iterations (max_iter) or scale the data as shown in:\n",
      "    https://scikit-learn.org/stable/modules/preprocessing.html\n",
      "Please also refer to the documentation for alternative solver options:\n",
      "    https://scikit-learn.org/stable/modules/linear_model.html#logistic-regression\n",
      "  n_iter_i = _check_optimize_result(\n"
     ]
    },
    {
     "data": {
      "text/plain": [
       "LogisticRegression()"
      ]
     },
     "execution_count": 145,
     "metadata": {},
     "output_type": "execute_result"
    }
   ],
   "source": [
    "lrcvi = LogisticRegression(C = 1.0)\n",
    "lrcvi.fit(X_train10, y_train10)"
   ]
  },
  {
   "cell_type": "code",
   "execution_count": 146,
   "id": "0a2920e2",
   "metadata": {},
   "outputs": [],
   "source": [
    "y_train_pred10 = lrcvi.predict(X_train10)\n",
    "y_pred10 = lrcvi.predict(X_test10)"
   ]
  },
  {
   "cell_type": "code",
   "execution_count": 147,
   "id": "c14336ee",
   "metadata": {},
   "outputs": [],
   "source": [
    "training_accuracy_lrcvi = lrcvi.score(X_train10, y_train10)\n",
    "test_accuracy_lrcvi = lrcvi.score(X_test10, y_test10)"
   ]
  },
  {
   "cell_type": "code",
   "execution_count": 148,
   "id": "2b5be95a",
   "metadata": {},
   "outputs": [
    {
     "name": "stdout",
     "output_type": "stream",
     "text": [
      "Accuracy on training data: 0.985158\n",
      "Accuracy on test data:     0.935601\n"
     ]
    }
   ],
   "source": [
    "print(\"Accuracy on training data: {:2f}\".format(training_accuracy_lrcvi))\n",
    "print(\"Accuracy on test data:     {:2f}\".format(test_accuracy_lrcvi))"
   ]
  },
  {
   "cell_type": "code",
   "execution_count": 149,
   "id": "0ca02904",
   "metadata": {},
   "outputs": [
    {
     "name": "stdout",
     "output_type": "stream",
     "text": [
      "Accuracy: 0.9356006412355852\n",
      "Balanced accuracy: 0.9355816021983869\n",
      "Precision score 0.947977699655552\n",
      "Recall score 0.9216004418821417\n",
      "F1 score 0.9346029967791626\n",
      "ROC_AUC Score 0.9355816021983869\n"
     ]
    }
   ],
   "source": [
    "accuracy_lrcvi = metrics.accuracy_score(y_test10,y_pred10)\n",
    "balanced_accuracy_lrcvi = metrics.balanced_accuracy_score(y_test10,y_pred10)\n",
    "precision_lrcvi = metrics.precision_score(y_test10,y_pred10, pos_label = 1)\n",
    "recall_lrcvi = metrics.recall_score(y_test10,y_pred10, pos_label = 1)\n",
    "f1_lrcvi = metrics.f1_score(y_test10, y_pred10, pos_label = 1)\n",
    "roc_auc_lrcvi = metrics.roc_auc_score(y_test10, y_pred10)\n",
    "print(\"Accuracy:\", accuracy_lrcvi)\n",
    "print(\"Balanced accuracy:\", balanced_accuracy_lrcvi)\n",
    "print('Precision score' , precision_lrcvi)\n",
    "print('Recall score' , recall_lrcvi)\n",
    "print('F1 score' , f1_lrcvi)\n",
    "print('ROC_AUC Score' , roc_auc_lrcvi)\n"
   ]
  },
  {
   "cell_type": "code",
   "execution_count": 150,
   "id": "2a8348da",
   "metadata": {},
   "outputs": [
    {
     "name": "stdout",
     "output_type": "stream",
     "text": [
      "True Suicide: 26696\n",
      "False Suicide: 1465\n",
      "True Non-Suicide: 27581\n",
      "False Non-Suicide: 2271\n"
     ]
    }
   ],
   "source": [
    "from sklearn.metrics import confusion_matrix\n",
    "tn_lrcvi, fp_lrcvi, fn_lrcvi, tp_lrcvi = confusion_matrix(y_test10, y_pred10).ravel()\n",
    "print(f'True Suicide: {tp_lrcvi}')\n",
    "print(f'False Suicide: {fp_lrcvi}')\n",
    "print(f'True Non-Suicide: {tn_lrcvi}')\n",
    "print(f'False Non-Suicide: {fn_lrcvi}')"
   ]
  },
  {
   "cell_type": "code",
   "execution_count": 151,
   "id": "03e8edc9",
   "metadata": {},
   "outputs": [
    {
     "data": {
      "text/html": [
       "<div>\n",
       "<style scoped>\n",
       "    .dataframe tbody tr th:only-of-type {\n",
       "        vertical-align: middle;\n",
       "    }\n",
       "\n",
       "    .dataframe tbody tr th {\n",
       "        vertical-align: top;\n",
       "    }\n",
       "\n",
       "    .dataframe thead th {\n",
       "        text-align: right;\n",
       "    }\n",
       "</style>\n",
       "<table border=\"1\" class=\"dataframe\">\n",
       "  <thead>\n",
       "    <tr style=\"text-align: right;\">\n",
       "      <th></th>\n",
       "      <th>Predicted Non-Suicide</th>\n",
       "      <th>Predicted Suicide</th>\n",
       "    </tr>\n",
       "  </thead>\n",
       "  <tbody>\n",
       "    <tr>\n",
       "      <th>Actual Non-Suicide</th>\n",
       "      <td>27581</td>\n",
       "      <td>1465</td>\n",
       "    </tr>\n",
       "    <tr>\n",
       "      <th>Actual Suicide</th>\n",
       "      <td>2271</td>\n",
       "      <td>26696</td>\n",
       "    </tr>\n",
       "  </tbody>\n",
       "</table>\n",
       "</div>"
      ],
      "text/plain": [
       "                    Predicted Non-Suicide  Predicted Suicide\n",
       "Actual Non-Suicide                  27581               1465\n",
       "Actual Suicide                       2271              26696"
      ]
     },
     "execution_count": 151,
     "metadata": {},
     "output_type": "execute_result"
    }
   ],
   "source": [
    "pd.DataFrame(confusion_matrix(y_test10, y_pred10), columns=['Predicted Non-Suicide', \"Predicted Suicide\"], index=['Actual Non-Suicide', 'Actual Suicide'])"
   ]
  },
  {
   "cell_type": "code",
   "execution_count": 152,
   "id": "3bc5af9a",
   "metadata": {},
   "outputs": [
    {
     "data": {
      "image/png": "[encoded data removed]",
      "text/plain": [
       "<Figure size 576x432 with 1 Axes>"
      ]
     },
     "metadata": {
      "needs_background": "light"
     },
     "output_type": "display_data"
    }
   ],
   "source": [
    "y_pred_proba10 = lrcvi.predict_proba(X_test10)[::,1]\n",
    "fpr10, tpr10, _ = metrics.roc_curve(y_test10,  y_pred_proba10)\n",
    "plt.rcParams.update({'figure.figsize': (8, 6.0)})\n",
    "#create ROC curve\n",
    "plt.plot(fpr10,tpr10)\n",
    "plt.plot([0, 1], [0, 1],'r--')\n",
    "plt.title(\"ROC_AUC CURVE Logistic Regression with Count Vectorizer - All Features\")\n",
    "plt.ylabel('True Positive Rate')\n",
    "plt.xlabel('False Positive Rate')\n",
    "plt.tight_layout()\n",
    "plt.savefig('ROC_AUC CURVE Logistic Regression with Count Vectorizer All Features.png')"
   ]
  },
  {
   "cell_type": "code",
   "execution_count": null,
   "id": "4ffa96c9",
   "metadata": {},
   "outputs": [],
   "source": []
  },
  {
   "cell_type": "markdown",
   "id": "348e6d94",
   "metadata": {},
   "source": [
    "# Logistic Regression - TF-IDF - Text Only"
   ]
  },
  {
   "cell_type": "code",
   "execution_count": 153,
   "id": "a29d45f4",
   "metadata": {},
   "outputs": [
    {
     "name": "stderr",
     "output_type": "stream",
     "text": [
      "C:\\Users\\betha\\anaconda3\\lib\\site-packages\\sklearn\\feature_extraction\\text.py:396: UserWarning: Your stop_words may be inconsistent with your preprocessing. Tokenizing the stop words generated tokens ['ll', 've'] not in stop_words.\n",
      "  warnings.warn(\n"
     ]
    }
   ],
   "source": [
    "vectorizor_tfid = TfidfVectorizer(min_df=3, ngram_range = (1,2), stop_words = STOP_WORDS)\n",
    "X = vectorizor_tfid.fit_transform(df['text'])\n",
    "X_tfid11 = X.tocsc() \n",
    "\n",
    "y_tfid11 = df['class']"
   ]
  },
  {
   "cell_type": "code",
   "execution_count": 154,
   "id": "1d24cd89",
   "metadata": {},
   "outputs": [],
   "source": [
    "X_train11, X_test11, y_train11, y_test11 = train_test_split(X_tfid11, y_tfid11, test_size=0.25, random_state=12)"
   ]
  },
  {
   "cell_type": "code",
   "execution_count": 155,
   "id": "bd04d3ac",
   "metadata": {},
   "outputs": [
    {
     "name": "stderr",
     "output_type": "stream",
     "text": [
      "C:\\Users\\betha\\anaconda3\\lib\\site-packages\\sklearn\\linear_model\\_logistic.py:814: ConvergenceWarning: lbfgs failed to converge (status=1):\n",
      "STOP: TOTAL NO. of ITERATIONS REACHED LIMIT.\n",
      "\n",
      "Increase the number of iterations (max_iter) or scale the data as shown in:\n",
      "    https://scikit-learn.org/stable/modules/preprocessing.html\n",
      "Please also refer to the documentation for alternative solver options:\n",
      "    https://scikit-learn.org/stable/modules/linear_model.html#logistic-regression\n",
      "  n_iter_i = _check_optimize_result(\n",
      "C:\\Users\\betha\\anaconda3\\lib\\site-packages\\sklearn\\linear_model\\_logistic.py:814: ConvergenceWarning: lbfgs failed to converge (status=1):\n",
      "STOP: TOTAL NO. of ITERATIONS REACHED LIMIT.\n",
      "\n",
      "Increase the number of iterations (max_iter) or scale the data as shown in:\n",
      "    https://scikit-learn.org/stable/modules/preprocessing.html\n",
      "Please also refer to the documentation for alternative solver options:\n",
      "    https://scikit-learn.org/stable/modules/linear_model.html#logistic-regression\n",
      "  n_iter_i = _check_optimize_result(\n",
      "C:\\Users\\betha\\anaconda3\\lib\\site-packages\\sklearn\\linear_model\\_logistic.py:814: ConvergenceWarning: lbfgs failed to converge (status=1):\n",
      "STOP: TOTAL NO. of ITERATIONS REACHED LIMIT.\n",
      "\n",
      "Increase the number of iterations (max_iter) or scale the data as shown in:\n",
      "    https://scikit-learn.org/stable/modules/preprocessing.html\n",
      "Please also refer to the documentation for alternative solver options:\n",
      "    https://scikit-learn.org/stable/modules/linear_model.html#logistic-regression\n",
      "  n_iter_i = _check_optimize_result(\n",
      "C:\\Users\\betha\\anaconda3\\lib\\site-packages\\sklearn\\linear_model\\_logistic.py:814: ConvergenceWarning: lbfgs failed to converge (status=1):\n",
      "STOP: TOTAL NO. of ITERATIONS REACHED LIMIT.\n",
      "\n",
      "Increase the number of iterations (max_iter) or scale the data as shown in:\n",
      "    https://scikit-learn.org/stable/modules/preprocessing.html\n",
      "Please also refer to the documentation for alternative solver options:\n",
      "    https://scikit-learn.org/stable/modules/linear_model.html#logistic-regression\n",
      "  n_iter_i = _check_optimize_result(\n",
      "C:\\Users\\betha\\anaconda3\\lib\\site-packages\\sklearn\\linear_model\\_logistic.py:814: ConvergenceWarning: lbfgs failed to converge (status=1):\n",
      "STOP: TOTAL NO. of ITERATIONS REACHED LIMIT.\n",
      "\n",
      "Increase the number of iterations (max_iter) or scale the data as shown in:\n",
      "    https://scikit-learn.org/stable/modules/preprocessing.html\n",
      "Please also refer to the documentation for alternative solver options:\n",
      "    https://scikit-learn.org/stable/modules/linear_model.html#logistic-regression\n",
      "  n_iter_i = _check_optimize_result(\n",
      "C:\\Users\\betha\\anaconda3\\lib\\site-packages\\sklearn\\linear_model\\_logistic.py:814: ConvergenceWarning: lbfgs failed to converge (status=1):\n",
      "STOP: TOTAL NO. of ITERATIONS REACHED LIMIT.\n",
      "\n",
      "Increase the number of iterations (max_iter) or scale the data as shown in:\n",
      "    https://scikit-learn.org/stable/modules/preprocessing.html\n",
      "Please also refer to the documentation for alternative solver options:\n",
      "    https://scikit-learn.org/stable/modules/linear_model.html#logistic-regression\n",
      "  n_iter_i = _check_optimize_result(\n",
      "C:\\Users\\betha\\anaconda3\\lib\\site-packages\\sklearn\\linear_model\\_logistic.py:814: ConvergenceWarning: lbfgs failed to converge (status=1):\n",
      "STOP: TOTAL NO. of ITERATIONS REACHED LIMIT.\n",
      "\n",
      "Increase the number of iterations (max_iter) or scale the data as shown in:\n",
      "    https://scikit-learn.org/stable/modules/preprocessing.html\n",
      "Please also refer to the documentation for alternative solver options:\n",
      "    https://scikit-learn.org/stable/modules/linear_model.html#logistic-regression\n",
      "  n_iter_i = _check_optimize_result(\n",
      "C:\\Users\\betha\\anaconda3\\lib\\site-packages\\sklearn\\linear_model\\_logistic.py:814: ConvergenceWarning: lbfgs failed to converge (status=1):\n",
      "STOP: TOTAL NO. of ITERATIONS REACHED LIMIT.\n",
      "\n",
      "Increase the number of iterations (max_iter) or scale the data as shown in:\n",
      "    https://scikit-learn.org/stable/modules/preprocessing.html\n",
      "Please also refer to the documentation for alternative solver options:\n",
      "    https://scikit-learn.org/stable/modules/linear_model.html#logistic-regression\n",
      "  n_iter_i = _check_optimize_result(\n",
      "C:\\Users\\betha\\anaconda3\\lib\\site-packages\\sklearn\\linear_model\\_logistic.py:814: ConvergenceWarning: lbfgs failed to converge (status=1):\n",
      "STOP: TOTAL NO. of ITERATIONS REACHED LIMIT.\n",
      "\n",
      "Increase the number of iterations (max_iter) or scale the data as shown in:\n",
      "    https://scikit-learn.org/stable/modules/preprocessing.html\n",
      "Please also refer to the documentation for alternative solver options:\n",
      "    https://scikit-learn.org/stable/modules/linear_model.html#logistic-regression\n",
      "  n_iter_i = _check_optimize_result(\n",
      "C:\\Users\\betha\\anaconda3\\lib\\site-packages\\sklearn\\linear_model\\_logistic.py:814: ConvergenceWarning: lbfgs failed to converge (status=1):\n",
      "STOP: TOTAL NO. of ITERATIONS REACHED LIMIT.\n",
      "\n",
      "Increase the number of iterations (max_iter) or scale the data as shown in:\n",
      "    https://scikit-learn.org/stable/modules/preprocessing.html\n",
      "Please also refer to the documentation for alternative solver options:\n",
      "    https://scikit-learn.org/stable/modules/linear_model.html#logistic-regression\n",
      "  n_iter_i = _check_optimize_result(\n",
      "C:\\Users\\betha\\anaconda3\\lib\\site-packages\\sklearn\\linear_model\\_logistic.py:814: ConvergenceWarning: lbfgs failed to converge (status=1):\n",
      "STOP: TOTAL NO. of ITERATIONS REACHED LIMIT.\n",
      "\n",
      "Increase the number of iterations (max_iter) or scale the data as shown in:\n",
      "    https://scikit-learn.org/stable/modules/preprocessing.html\n",
      "Please also refer to the documentation for alternative solver options:\n",
      "    https://scikit-learn.org/stable/modules/linear_model.html#logistic-regression\n",
      "  n_iter_i = _check_optimize_result(\n"
     ]
    },
    {
     "data": {
      "text/plain": [
       "GridSearchCV(cv=5, estimator=LogisticRegression(random_state=0),\n",
       "             param_grid={'C': [100, 10, 1.0, 0.1, 0.01]})"
      ]
     },
     "execution_count": 155,
     "metadata": {},
     "output_type": "execute_result"
    }
   ],
   "source": [
    "#penalty = ['none', 'l1', 'l2', 'elasticnet']\n",
    "c_values = [100, 10, 1.0, 0.1, 0.01]\n",
    "param_grid = {'C' : c_values}\n",
    "lr_tfid = LogisticRegression(random_state = 0)\n",
    "lr_tfid_cv = GridSearchCV(lr_tfid, param_grid, cv = 5)\n",
    "lr_tfid_cv.fit(X_train11, y_train11)"
   ]
  },
  {
   "cell_type": "code",
   "execution_count": 156,
   "id": "472310ce",
   "metadata": {},
   "outputs": [
    {
     "name": "stdout",
     "output_type": "stream",
     "text": [
      "Best Score:0.9394550632906251\n",
      "Best Parameters: {'C': 10}\n"
     ]
    }
   ],
   "source": [
    "print(\"Best Score:\" + str(lr_tfid_cv.best_score_))\n",
    "print(\"Best Parameters: \" + str(lr_tfid_cv.best_params_))"
   ]
  },
  {
   "cell_type": "code",
   "execution_count": 157,
   "id": "fc61ef89",
   "metadata": {},
   "outputs": [
    {
     "data": {
      "text/plain": [
       "LogisticRegression(C=10)"
      ]
     },
     "execution_count": 157,
     "metadata": {},
     "output_type": "execute_result"
    }
   ],
   "source": [
    "lr_tfid = LogisticRegression(C = 10)\n",
    "lr_tfid.fit(X_test11, y_test11)"
   ]
  },
  {
   "cell_type": "code",
   "execution_count": 158,
   "id": "07a83434",
   "metadata": {},
   "outputs": [],
   "source": [
    "y_train_pred11 = lr_tfid.predict(X_train11)\n",
    "y_pred11 = lr_tfid.predict(X_test11)"
   ]
  },
  {
   "cell_type": "code",
   "execution_count": 159,
   "id": "fe58162c",
   "metadata": {},
   "outputs": [],
   "source": [
    "training_accuracy = lr_tfid.score(X_train11, y_train11)\n",
    "test_accuracy = lr_tfid.score(X_test11, y_test11)"
   ]
  },
  {
   "cell_type": "code",
   "execution_count": 160,
   "id": "fde4552b",
   "metadata": {},
   "outputs": [
    {
     "name": "stdout",
     "output_type": "stream",
     "text": [
      "Accuracy on training data: 0.933405\n",
      "Accuracy on test data:     0.995449\n"
     ]
    }
   ],
   "source": [
    "print(\"Accuracy on training data: {:2f}\".format(training_accuracy))\n",
    "print(\"Accuracy on test data:     {:2f}\".format(test_accuracy))"
   ]
  },
  {
   "cell_type": "code",
   "execution_count": 161,
   "id": "037dd0d9",
   "metadata": {},
   "outputs": [
    {
     "name": "stdout",
     "output_type": "stream",
     "text": [
      "Accuracy: 0.9954492958474824\n",
      "Balanced accuracy: 0.9954500385595976\n",
      "Precision score 0.9948963757370943\n",
      "Recall score 0.9959954430904132\n",
      "F1 score 0.9954456060449229\n",
      "ROC_AUC Score 0.9954500385595976\n"
     ]
    }
   ],
   "source": [
    "accuracy_lr_tfidf = metrics.accuracy_score(y_test11,y_pred11)\n",
    "balanced_accuracy_lr_tfidf = metrics.balanced_accuracy_score(y_test11,y_pred11)\n",
    "precision_lr_tfidf = metrics.precision_score(y_test11,y_pred11, pos_label = 1)\n",
    "recall_lr_tfidf = metrics.recall_score(y_test11,y_pred11, pos_label = 1)\n",
    "f1_lr_tfidf = metrics.f1_score(y_test11, y_pred11, pos_label = 1)\n",
    "roc_auc_lr_tfidf = metrics.roc_auc_score(y_test11, y_pred11)\n",
    "print(\"Accuracy:\", accuracy_lr_tfidf)\n",
    "print(\"Balanced accuracy:\", balanced_accuracy_lr_tfidf)\n",
    "print('Precision score' , precision_lr_tfidf)\n",
    "print('Recall score' , recall_lr_tfidf)\n",
    "print('F1 score' , f1_lr_tfidf)\n",
    "print('ROC_AUC Score' , roc_auc_lr_tfidf)\n",
    "\n"
   ]
  },
  {
   "cell_type": "code",
   "execution_count": 162,
   "id": "cae01620",
   "metadata": {},
   "outputs": [
    {
     "name": "stdout",
     "output_type": "stream",
     "text": [
      "True Suicide: 28851\n",
      "False Suicide: 148\n",
      "True Non-Suicide: 28898\n",
      "False Non-Suicide: 116\n"
     ]
    }
   ],
   "source": [
    "from sklearn.metrics import confusion_matrix\n",
    "tn_lr_tfid, fp_lr_tfid, fn_lr_tfid, tp_lr_tfid = confusion_matrix(y_test11, y_pred11).ravel()\n",
    "print(f'True Suicide: {tp_lr_tfid}')\n",
    "print(f'False Suicide: {fp_lr_tfid}')\n",
    "print(f'True Non-Suicide: {tn_lr_tfid}')\n",
    "print(f'False Non-Suicide: {fn_lr_tfid}')"
   ]
  },
  {
   "cell_type": "code",
   "execution_count": 163,
   "id": "3179a477",
   "metadata": {},
   "outputs": [
    {
     "data": {
      "text/html": [
       "<div>\n",
       "<style scoped>\n",
       "    .dataframe tbody tr th:only-of-type {\n",
       "        vertical-align: middle;\n",
       "    }\n",
       "\n",
       "    .dataframe tbody tr th {\n",
       "        vertical-align: top;\n",
       "    }\n",
       "\n",
       "    .dataframe thead th {\n",
       "        text-align: right;\n",
       "    }\n",
       "</style>\n",
       "<table border=\"1\" class=\"dataframe\">\n",
       "  <thead>\n",
       "    <tr style=\"text-align: right;\">\n",
       "      <th></th>\n",
       "      <th>Predicted Non-Suicide</th>\n",
       "      <th>Predicted Suicide</th>\n",
       "    </tr>\n",
       "  </thead>\n",
       "  <tbody>\n",
       "    <tr>\n",
       "      <th>Actual Non-Suicide</th>\n",
       "      <td>28898</td>\n",
       "      <td>148</td>\n",
       "    </tr>\n",
       "    <tr>\n",
       "      <th>Actual Suicide</th>\n",
       "      <td>116</td>\n",
       "      <td>28851</td>\n",
       "    </tr>\n",
       "  </tbody>\n",
       "</table>\n",
       "</div>"
      ],
      "text/plain": [
       "                    Predicted Non-Suicide  Predicted Suicide\n",
       "Actual Non-Suicide                  28898                148\n",
       "Actual Suicide                        116              28851"
      ]
     },
     "execution_count": 163,
     "metadata": {},
     "output_type": "execute_result"
    }
   ],
   "source": [
    "pd.DataFrame(confusion_matrix(y_test11, y_pred11), columns=['Predicted Non-Suicide', \"Predicted Suicide\"], index=['Actual Non-Suicide', 'Actual Suicide'])"
   ]
  },
  {
   "cell_type": "code",
   "execution_count": 164,
   "id": "40820e75",
   "metadata": {},
   "outputs": [
    {
     "data": {
      "image/png": "[encoded data removed]",
      "text/plain": [
       "<Figure size 576x432 with 1 Axes>"
      ]
     },
     "metadata": {
      "needs_background": "light"
     },
     "output_type": "display_data"
    }
   ],
   "source": [
    "y_pred_proba11 = lr_tfid.predict_proba(X_test11)[::,1]\n",
    "fpr11, tpr11, _ = metrics.roc_curve(y_test11,  y_pred_proba11)\n",
    "plt.rcParams.update({'figure.figsize': (8, 6.0)})\n",
    "#create ROC curve\n",
    "plt.plot(fpr11,tpr11)\n",
    "plt.plot([0, 1], [0, 1],'r--')\n",
    "plt.title(\"ROC_AUC CURVE Logistic Regression with TF-IDF Vectorizer - Text Only\")\n",
    "plt.ylabel('True Positive Rate')\n",
    "plt.xlabel('False Positive Rate')\n",
    "plt.tight_layout()\n",
    "plt.savefig('ROC_AUC CURVE Logistic Regression with TF-IDF Vectorizer_Text_Only.png')"
   ]
  },
  {
   "cell_type": "markdown",
   "id": "d779f5f9",
   "metadata": {},
   "source": [
    "# Logistic Regression - TF-IDF - All Features"
   ]
  },
  {
   "cell_type": "code",
   "execution_count": 165,
   "id": "1f44d8ea",
   "metadata": {},
   "outputs": [
    {
     "name": "stderr",
     "output_type": "stream",
     "text": [
      "C:\\Users\\betha\\anaconda3\\lib\\site-packages\\sklearn\\feature_extraction\\text.py:396: UserWarning: Your stop_words may be inconsistent with your preprocessing. Tokenizing the stop words generated tokens ['ll', 've'] not in stop_words.\n",
      "  warnings.warn(\n",
      "C:\\Users\\betha\\AppData\\Local\\Temp\\ipykernel_10488\\710736219.py:7: FutureWarning: Support for multi-dimensional indexing (e.g. `obj[:, None]`) is deprecated and will be removed in a future version.  Convert to a numpy array before indexing instead.\n",
      "  reading_level = scaled_features_df['flesch_kincaid'][:, None]\n",
      "C:\\Users\\betha\\AppData\\Local\\Temp\\ipykernel_10488\\710736219.py:8: FutureWarning: Support for multi-dimensional indexing (e.g. `obj[:, None]`) is deprecated and will be removed in a future version.  Convert to a numpy array before indexing instead.\n",
      "  repetition = scaled_features_df['repetition'][:, None]\n"
     ]
    }
   ],
   "source": [
    "from sklearn.feature_extraction.text import TfidfVectorizer\n",
    "vectorizor_tfid = TfidfVectorizer(min_df=3, ngram_range = (1,2), stop_words = STOP_WORDS)\n",
    "text_matrix12 = vectorizor_tfid.fit_transform(df['text'])\n",
    "text_matrix12 = text_matrix12.tocsc() \n",
    "length = scaled_features_df['length'].values[:, None]\n",
    "sentiment = scaled_features_df['sentiment'].values[:, None]\n",
    "reading_level = scaled_features_df['flesch_kincaid'][:, None]\n",
    "repetition = scaled_features_df['repetition'][:, None]\n",
    "first = hstack((text_matrix12, length))\n",
    "second = hstack((first, sentiment))\n",
    "third = hstack((second, reading_level))\n",
    "X_tfid12 = hstack((third, sentiment))\n",
    "\n",
    "y_tfid12 = df['class']"
   ]
  },
  {
   "cell_type": "code",
   "execution_count": 166,
   "id": "959e51a3",
   "metadata": {},
   "outputs": [],
   "source": [
    "X_train12, X_test12, y_train12, y_test12 = train_test_split(X_tfid12, y_tfid12, test_size=0.25, random_state=12)"
   ]
  },
  {
   "cell_type": "code",
   "execution_count": 167,
   "id": "2cc6654d",
   "metadata": {},
   "outputs": [
    {
     "name": "stderr",
     "output_type": "stream",
     "text": [
      "C:\\Users\\betha\\anaconda3\\lib\\site-packages\\sklearn\\linear_model\\_logistic.py:814: ConvergenceWarning: lbfgs failed to converge (status=1):\n",
      "STOP: TOTAL NO. of ITERATIONS REACHED LIMIT.\n",
      "\n",
      "Increase the number of iterations (max_iter) or scale the data as shown in:\n",
      "    https://scikit-learn.org/stable/modules/preprocessing.html\n",
      "Please also refer to the documentation for alternative solver options:\n",
      "    https://scikit-learn.org/stable/modules/linear_model.html#logistic-regression\n",
      "  n_iter_i = _check_optimize_result(\n",
      "C:\\Users\\betha\\anaconda3\\lib\\site-packages\\sklearn\\linear_model\\_logistic.py:814: ConvergenceWarning: lbfgs failed to converge (status=1):\n",
      "STOP: TOTAL NO. of ITERATIONS REACHED LIMIT.\n",
      "\n",
      "Increase the number of iterations (max_iter) or scale the data as shown in:\n",
      "    https://scikit-learn.org/stable/modules/preprocessing.html\n",
      "Please also refer to the documentation for alternative solver options:\n",
      "    https://scikit-learn.org/stable/modules/linear_model.html#logistic-regression\n",
      "  n_iter_i = _check_optimize_result(\n",
      "C:\\Users\\betha\\anaconda3\\lib\\site-packages\\sklearn\\linear_model\\_logistic.py:814: ConvergenceWarning: lbfgs failed to converge (status=1):\n",
      "STOP: TOTAL NO. of ITERATIONS REACHED LIMIT.\n",
      "\n",
      "Increase the number of iterations (max_iter) or scale the data as shown in:\n",
      "    https://scikit-learn.org/stable/modules/preprocessing.html\n",
      "Please also refer to the documentation for alternative solver options:\n",
      "    https://scikit-learn.org/stable/modules/linear_model.html#logistic-regression\n",
      "  n_iter_i = _check_optimize_result(\n",
      "C:\\Users\\betha\\anaconda3\\lib\\site-packages\\sklearn\\linear_model\\_logistic.py:814: ConvergenceWarning: lbfgs failed to converge (status=1):\n",
      "STOP: TOTAL NO. of ITERATIONS REACHED LIMIT.\n",
      "\n",
      "Increase the number of iterations (max_iter) or scale the data as shown in:\n",
      "    https://scikit-learn.org/stable/modules/preprocessing.html\n",
      "Please also refer to the documentation for alternative solver options:\n",
      "    https://scikit-learn.org/stable/modules/linear_model.html#logistic-regression\n",
      "  n_iter_i = _check_optimize_result(\n",
      "C:\\Users\\betha\\anaconda3\\lib\\site-packages\\sklearn\\linear_model\\_logistic.py:814: ConvergenceWarning: lbfgs failed to converge (status=1):\n",
      "STOP: TOTAL NO. of ITERATIONS REACHED LIMIT.\n",
      "\n",
      "Increase the number of iterations (max_iter) or scale the data as shown in:\n",
      "    https://scikit-learn.org/stable/modules/preprocessing.html\n",
      "Please also refer to the documentation for alternative solver options:\n",
      "    https://scikit-learn.org/stable/modules/linear_model.html#logistic-regression\n",
      "  n_iter_i = _check_optimize_result(\n",
      "C:\\Users\\betha\\anaconda3\\lib\\site-packages\\sklearn\\linear_model\\_logistic.py:814: ConvergenceWarning: lbfgs failed to converge (status=1):\n",
      "STOP: TOTAL NO. of ITERATIONS REACHED LIMIT.\n",
      "\n",
      "Increase the number of iterations (max_iter) or scale the data as shown in:\n",
      "    https://scikit-learn.org/stable/modules/preprocessing.html\n",
      "Please also refer to the documentation for alternative solver options:\n",
      "    https://scikit-learn.org/stable/modules/linear_model.html#logistic-regression\n",
      "  n_iter_i = _check_optimize_result(\n",
      "C:\\Users\\betha\\anaconda3\\lib\\site-packages\\sklearn\\linear_model\\_logistic.py:814: ConvergenceWarning: lbfgs failed to converge (status=1):\n",
      "STOP: TOTAL NO. of ITERATIONS REACHED LIMIT.\n",
      "\n",
      "Increase the number of iterations (max_iter) or scale the data as shown in:\n",
      "    https://scikit-learn.org/stable/modules/preprocessing.html\n",
      "Please also refer to the documentation for alternative solver options:\n",
      "    https://scikit-learn.org/stable/modules/linear_model.html#logistic-regression\n",
      "  n_iter_i = _check_optimize_result(\n",
      "C:\\Users\\betha\\anaconda3\\lib\\site-packages\\sklearn\\linear_model\\_logistic.py:814: ConvergenceWarning: lbfgs failed to converge (status=1):\n",
      "STOP: TOTAL NO. of ITERATIONS REACHED LIMIT.\n",
      "\n",
      "Increase the number of iterations (max_iter) or scale the data as shown in:\n",
      "    https://scikit-learn.org/stable/modules/preprocessing.html\n",
      "Please also refer to the documentation for alternative solver options:\n",
      "    https://scikit-learn.org/stable/modules/linear_model.html#logistic-regression\n",
      "  n_iter_i = _check_optimize_result(\n",
      "C:\\Users\\betha\\anaconda3\\lib\\site-packages\\sklearn\\linear_model\\_logistic.py:814: ConvergenceWarning: lbfgs failed to converge (status=1):\n",
      "STOP: TOTAL NO. of ITERATIONS REACHED LIMIT.\n",
      "\n",
      "Increase the number of iterations (max_iter) or scale the data as shown in:\n",
      "    https://scikit-learn.org/stable/modules/preprocessing.html\n",
      "Please also refer to the documentation for alternative solver options:\n",
      "    https://scikit-learn.org/stable/modules/linear_model.html#logistic-regression\n",
      "  n_iter_i = _check_optimize_result(\n",
      "C:\\Users\\betha\\anaconda3\\lib\\site-packages\\sklearn\\linear_model\\_logistic.py:814: ConvergenceWarning: lbfgs failed to converge (status=1):\n",
      "STOP: TOTAL NO. of ITERATIONS REACHED LIMIT.\n",
      "\n",
      "Increase the number of iterations (max_iter) or scale the data as shown in:\n",
      "    https://scikit-learn.org/stable/modules/preprocessing.html\n",
      "Please also refer to the documentation for alternative solver options:\n",
      "    https://scikit-learn.org/stable/modules/linear_model.html#logistic-regression\n",
      "  n_iter_i = _check_optimize_result(\n",
      "C:\\Users\\betha\\anaconda3\\lib\\site-packages\\sklearn\\linear_model\\_logistic.py:814: ConvergenceWarning: lbfgs failed to converge (status=1):\n",
      "STOP: TOTAL NO. of ITERATIONS REACHED LIMIT.\n",
      "\n",
      "Increase the number of iterations (max_iter) or scale the data as shown in:\n",
      "    https://scikit-learn.org/stable/modules/preprocessing.html\n",
      "Please also refer to the documentation for alternative solver options:\n",
      "    https://scikit-learn.org/stable/modules/linear_model.html#logistic-regression\n",
      "  n_iter_i = _check_optimize_result(\n",
      "C:\\Users\\betha\\anaconda3\\lib\\site-packages\\sklearn\\linear_model\\_logistic.py:814: ConvergenceWarning: lbfgs failed to converge (status=1):\n",
      "STOP: TOTAL NO. of ITERATIONS REACHED LIMIT.\n",
      "\n",
      "Increase the number of iterations (max_iter) or scale the data as shown in:\n",
      "    https://scikit-learn.org/stable/modules/preprocessing.html\n",
      "Please also refer to the documentation for alternative solver options:\n",
      "    https://scikit-learn.org/stable/modules/linear_model.html#logistic-regression\n",
      "  n_iter_i = _check_optimize_result(\n",
      "C:\\Users\\betha\\anaconda3\\lib\\site-packages\\sklearn\\linear_model\\_logistic.py:814: ConvergenceWarning: lbfgs failed to converge (status=1):\n",
      "STOP: TOTAL NO. of ITERATIONS REACHED LIMIT.\n",
      "\n",
      "Increase the number of iterations (max_iter) or scale the data as shown in:\n",
      "    https://scikit-learn.org/stable/modules/preprocessing.html\n",
      "Please also refer to the documentation for alternative solver options:\n",
      "    https://scikit-learn.org/stable/modules/linear_model.html#logistic-regression\n",
      "  n_iter_i = _check_optimize_result(\n",
      "C:\\Users\\betha\\anaconda3\\lib\\site-packages\\sklearn\\linear_model\\_logistic.py:814: ConvergenceWarning: lbfgs failed to converge (status=1):\n",
      "STOP: TOTAL NO. of ITERATIONS REACHED LIMIT.\n",
      "\n",
      "Increase the number of iterations (max_iter) or scale the data as shown in:\n",
      "    https://scikit-learn.org/stable/modules/preprocessing.html\n",
      "Please also refer to the documentation for alternative solver options:\n",
      "    https://scikit-learn.org/stable/modules/linear_model.html#logistic-regression\n",
      "  n_iter_i = _check_optimize_result(\n",
      "C:\\Users\\betha\\anaconda3\\lib\\site-packages\\sklearn\\linear_model\\_logistic.py:814: ConvergenceWarning: lbfgs failed to converge (status=1):\n",
      "STOP: TOTAL NO. of ITERATIONS REACHED LIMIT.\n",
      "\n",
      "Increase the number of iterations (max_iter) or scale the data as shown in:\n",
      "    https://scikit-learn.org/stable/modules/preprocessing.html\n",
      "Please also refer to the documentation for alternative solver options:\n",
      "    https://scikit-learn.org/stable/modules/linear_model.html#logistic-regression\n",
      "  n_iter_i = _check_optimize_result(\n",
      "C:\\Users\\betha\\anaconda3\\lib\\site-packages\\sklearn\\linear_model\\_logistic.py:814: ConvergenceWarning: lbfgs failed to converge (status=1):\n",
      "STOP: TOTAL NO. of ITERATIONS REACHED LIMIT.\n",
      "\n",
      "Increase the number of iterations (max_iter) or scale the data as shown in:\n",
      "    https://scikit-learn.org/stable/modules/preprocessing.html\n",
      "Please also refer to the documentation for alternative solver options:\n",
      "    https://scikit-learn.org/stable/modules/linear_model.html#logistic-regression\n",
      "  n_iter_i = _check_optimize_result(\n"
     ]
    },
    {
     "data": {
      "text/plain": [
       "GridSearchCV(cv=5, estimator=LogisticRegression(random_state=0),\n",
       "             param_grid={'C': [100, 10, 1.0, 0.1, 0.01]})"
      ]
     },
     "execution_count": 167,
     "metadata": {},
     "output_type": "execute_result"
    }
   ],
   "source": [
    "#penalty = ['none', 'l1', 'l2', 'elasticnet']\n",
    "c_values = [100, 10, 1.0, 0.1, 0.01]\n",
    "param_grid = {'C' : c_values}\n",
    "lr_tfid = LogisticRegression(random_state = 0)\n",
    "lr_tfid_cvi = GridSearchCV(lr_tfid, param_grid, cv = 5)\n",
    "lr_tfid_cvi.fit(X_train12, y_train12)"
   ]
  },
  {
   "cell_type": "code",
   "execution_count": 168,
   "id": "49327245",
   "metadata": {},
   "outputs": [
    {
     "name": "stdout",
     "output_type": "stream",
     "text": [
      "Best Score:0.9396216982549674\n",
      "Best Parameters: {'C': 10}\n"
     ]
    }
   ],
   "source": [
    "print(\"Best Score:\" + str(lr_tfid_cvi.best_score_))\n",
    "print(\"Best Parameters: \" + str(lr_tfid_cvi.best_params_))"
   ]
  },
  {
   "cell_type": "code",
   "execution_count": 169,
   "id": "53213664",
   "metadata": {},
   "outputs": [
    {
     "name": "stderr",
     "output_type": "stream",
     "text": [
      "C:\\Users\\betha\\anaconda3\\lib\\site-packages\\sklearn\\linear_model\\_logistic.py:814: ConvergenceWarning: lbfgs failed to converge (status=1):\n",
      "STOP: TOTAL NO. of ITERATIONS REACHED LIMIT.\n",
      "\n",
      "Increase the number of iterations (max_iter) or scale the data as shown in:\n",
      "    https://scikit-learn.org/stable/modules/preprocessing.html\n",
      "Please also refer to the documentation for alternative solver options:\n",
      "    https://scikit-learn.org/stable/modules/linear_model.html#logistic-regression\n",
      "  n_iter_i = _check_optimize_result(\n"
     ]
    },
    {
     "data": {
      "text/plain": [
       "LogisticRegression(C=10)"
      ]
     },
     "execution_count": 169,
     "metadata": {},
     "output_type": "execute_result"
    }
   ],
   "source": [
    "lr_tfidi = LogisticRegression(C = 10)\n",
    "lr_tfidi.fit(X_test12, y_test12)"
   ]
  },
  {
   "cell_type": "code",
   "execution_count": 170,
   "id": "a92a3fd0",
   "metadata": {},
   "outputs": [],
   "source": [
    "y_train_pred12 = lr_tfidi.predict(X_train12)\n",
    "y_pred12 = lr_tfidi.predict(X_test12)"
   ]
  },
  {
   "cell_type": "code",
   "execution_count": 171,
   "id": "40b9532d",
   "metadata": {},
   "outputs": [],
   "source": [
    "training_accuracy = lr_tfidi.score(X_train12, y_train12)\n",
    "test_accuracy = lr_tfidi.score(X_test12, y_test12)"
   ]
  },
  {
   "cell_type": "code",
   "execution_count": 172,
   "id": "f93493fe",
   "metadata": {},
   "outputs": [
    {
     "name": "stdout",
     "output_type": "stream",
     "text": [
      "Accuracy on training data: 0.933451\n",
      "Accuracy on test data:     0.995432\n"
     ]
    }
   ],
   "source": [
    "print(\"Accuracy on training data: {:2f}\".format(training_accuracy))\n",
    "print(\"Accuracy on test data:     {:2f}\".format(test_accuracy))"
   ]
  },
  {
   "cell_type": "code",
   "execution_count": 173,
   "id": "1b64398c",
   "metadata": {},
   "outputs": [
    {
     "name": "stdout",
     "output_type": "stream",
     "text": [
      "Accuracy: 0.9954320583317532\n",
      "Balanced accuracy: 0.9954328244853705\n",
      "Precision score 0.9948620689655172\n",
      "Recall score 0.9959954430904132\n",
      "F1 score 0.9954284334190142\n",
      "ROC_AUC Score 0.9954328244853704\n"
     ]
    }
   ],
   "source": [
    "accuracy_lr_tfidfi = metrics.accuracy_score(y_test12,y_pred12)\n",
    "balanced_accuracy_lr_tfidfi = metrics.balanced_accuracy_score(y_test12,y_pred12)\n",
    "precision_lr_tfidfi = metrics.precision_score(y_test12,y_pred12, pos_label = 1)\n",
    "recall_lr_tfidfi = metrics.recall_score(y_test12,y_pred12, pos_label = 1)\n",
    "f1_lr_tfidfi = metrics.f1_score(y_test12, y_pred12, pos_label = 1)\n",
    "roc_auc_lr_tfidfi = metrics.roc_auc_score(y_test12, y_pred12)\n",
    "print(\"Accuracy:\", accuracy_lr_tfidfi)\n",
    "print(\"Balanced accuracy:\", balanced_accuracy_lr_tfidfi)\n",
    "print('Precision score' , precision_lr_tfidfi)\n",
    "print('Recall score' , recall_lr_tfidfi)\n",
    "print('F1 score' , f1_lr_tfidfi)\n",
    "print('ROC_AUC Score' , roc_auc_lr_tfidfi)\n"
   ]
  },
  {
   "cell_type": "code",
   "execution_count": 174,
   "id": "403962f2",
   "metadata": {},
   "outputs": [
    {
     "name": "stdout",
     "output_type": "stream",
     "text": [
      "True Suicide: 28851\n",
      "False Suicide: 149\n",
      "True Non-Suicide: 28897\n",
      "False Non-Suicide: 116\n"
     ]
    }
   ],
   "source": [
    "from sklearn.metrics import confusion_matrix\n",
    "tn_lr_tfidi, fp_lr_tfidi, fn_lr_tfidi, tp_lr_tfidi = confusion_matrix(y_test12, y_pred12).ravel()\n",
    "print(f'True Suicide: {tp_lr_tfidi}')\n",
    "print(f'False Suicide: {fp_lr_tfidi}')\n",
    "print(f'True Non-Suicide: {tn_lr_tfidi}')\n",
    "print(f'False Non-Suicide: {fn_lr_tfidi}')"
   ]
  },
  {
   "cell_type": "code",
   "execution_count": 175,
   "id": "e2afdde0",
   "metadata": {},
   "outputs": [
    {
     "data": {
      "text/html": [
       "<div>\n",
       "<style scoped>\n",
       "    .dataframe tbody tr th:only-of-type {\n",
       "        vertical-align: middle;\n",
       "    }\n",
       "\n",
       "    .dataframe tbody tr th {\n",
       "        vertical-align: top;\n",
       "    }\n",
       "\n",
       "    .dataframe thead th {\n",
       "        text-align: right;\n",
       "    }\n",
       "</style>\n",
       "<table border=\"1\" class=\"dataframe\">\n",
       "  <thead>\n",
       "    <tr style=\"text-align: right;\">\n",
       "      <th></th>\n",
       "      <th>Predicted Non-Suicide</th>\n",
       "      <th>Predicted Suicide</th>\n",
       "    </tr>\n",
       "  </thead>\n",
       "  <tbody>\n",
       "    <tr>\n",
       "      <th>Actual Non-Suicide</th>\n",
       "      <td>28897</td>\n",
       "      <td>149</td>\n",
       "    </tr>\n",
       "    <tr>\n",
       "      <th>Actual Suicide</th>\n",
       "      <td>116</td>\n",
       "      <td>28851</td>\n",
       "    </tr>\n",
       "  </tbody>\n",
       "</table>\n",
       "</div>"
      ],
      "text/plain": [
       "                    Predicted Non-Suicide  Predicted Suicide\n",
       "Actual Non-Suicide                  28897                149\n",
       "Actual Suicide                        116              28851"
      ]
     },
     "execution_count": 175,
     "metadata": {},
     "output_type": "execute_result"
    }
   ],
   "source": [
    "pd.DataFrame(confusion_matrix(y_test12, y_pred12), columns=['Predicted Non-Suicide', \"Predicted Suicide\"], index=['Actual Non-Suicide', 'Actual Suicide'])"
   ]
  },
  {
   "cell_type": "code",
   "execution_count": 176,
   "id": "fc88d849",
   "metadata": {},
   "outputs": [
    {
     "data": {
      "image/png": "[encoded data removed]",
      "text/plain": [
       "<Figure size 576x432 with 1 Axes>"
      ]
     },
     "metadata": {
      "needs_background": "light"
     },
     "output_type": "display_data"
    }
   ],
   "source": [
    "y_pred_proba12 = lr_tfidi.predict_proba(X_test12)[::,1]\n",
    "fpr12, tpr12, _ = metrics.roc_curve(y_test12,  y_pred_proba12)\n",
    "plt.rcParams.update({'figure.figsize': (8, 6.0)})\n",
    "#create ROC curve\n",
    "plt.plot(fpr12,tpr12)\n",
    "plt.plot([0, 1], [0, 1],'r--')\n",
    "plt.title(\"ROC_AUC CURVE Logistic Regression with TF-IDF Vectorizer - All Features\")\n",
    "plt.ylabel('True Positive Rate')\n",
    "plt.xlabel('False Positive Rate')\n",
    "plt.tight_layout()\n",
    "plt.savefig('ROC_AUC CURVE Logistic Regression with TF-IDF Vectorizer_All_Features.png')"
   ]
  },
  {
   "cell_type": "markdown",
   "id": "9b8c8e25",
   "metadata": {},
   "source": [
    "# Evaluate the models"
   ]
  },
  {
   "cell_type": "code",
   "execution_count": 177,
   "id": "4bb510d3",
   "metadata": {},
   "outputs": [
    {
     "name": "stdout",
     "output_type": "stream",
     "text": [
      " \n",
      " \n",
      "   Model                                               Accuracy Score    Precision Score    Recall Score    F1 Score    ROC_AUC Score\n",
      "-----------------------------------------------------  ----------------  -----------------  --------------  ----------  ---------------\n",
      "Naive Bayes (Count Vectorizer - Text Only)             0.919             0.89               0.956           0.922       0.919\n",
      "Naive Bayes (Count Vectorizer - All Features)          0.923             0.903              0.947           0.924       0.923\n",
      "Naive Bayes (TF-IDF - Text Only)                       0.921             0.888              0.962           0.924       0.921\n",
      "Naive Bayes (TF-IDF - All Features)                    0.925             0.899              0.956           0.927       0.925\n",
      "\n",
      "Random Forest (Count Vectorizer - Text Only)           0.899             0.893              0.905           0.899       0.899\n",
      "Random Forest (Count Vectorizer - All Features)        0.859             0.895              0.812           0.851       0.858\n",
      "Random Forest (TF-IDF - Text Only)                     0.835             0.896              0.758           0.821       0.835\n",
      "Random Forest (TF-IDF - All Features)                  0.839             0.892              0.771           0.827       0.839\n",
      "\n",
      "Logistic Regression (Count Vectorizer - Text Only)     0.935             0.948              0.92            0.934       0.935\n",
      "Logistic Regression (Count Vectorizer - All Features)  0.936             0.948              0.922           0.935       0.936\n",
      "Logistic Regression (TF-IDF - Text Only)               0.995             0.995              0.996           0.995       0.995\n",
      "Logistic Regression (TF-IDF - All Features)            0.995             0.995              0.996           0.995       0.995\n",
      "\n"
     ]
    }
   ],
   "source": [
    "from tabulate import tabulate\n",
    "d = [ [\"Naive Bayes (Count Vectorizer - Text Only)\",round(accuracy_nbcv, 3), round(precision_nbcv, 3), round(recall_nbcv, 3), round(f1_nbcv, 3), round(roc_auc_nbcv, 3)], \n",
    "     [\"Naive Bayes (Count Vectorizer - All Features)\",round(accuracy_nbcvi, 3), round(precision_nbcvi, 3), round(recall_nbcvi, 3), round(f1_nbcvi, 3), round(roc_auc_nbcvi, 3)], \n",
    "     \n",
    "     [\"Naive Bayes (TF-IDF - Text Only)\",round(accuracy_nb_tfidf, 3), round(precision_nb_tfidf, 3), round(recall_nb_tfidf, 3), round(f1_nb_tfidf, 3), round(roc_auc_nb_tfidf, 3)],\n",
    "    [\"Naive Bayes (TF-IDF - All Features)\",round(accuracy_nb_tfidfi, 3), round(precision_nb_tfidfi, 3), round(recall_nb_tfidfi, 3), round(f1_nb_tfidfi, 3), round(roc_auc_nb_tfidfi, 3)], [\"\", \"\", \"\" ,\"\", \"\", \"\"],\n",
    "    [\"Random Forest (Count Vectorizer - Text Only)\",round(accuracy_rfcv, 3), round(precision_rfcv, 3), round(recall_rfcv, 3), round(f1_rfcv, 3), round(roc_auc_rfcv, 3)], \n",
    "    [\"Random Forest (Count Vectorizer - All Features)\",round(accuracy_rfcvi, 3), round(precision_rfcvi, 3), round(recall_rfcvi, 3), round(f1_rfcvi, 3), round(roc_auc_rfcvi, 3)], \n",
    "    [\"Random Forest (TF-IDF - Text Only)\",round(accuracy_rf_tfidf, 3), round(precision_rf_tfidf, 3), round(recall_rf_tfidf, 3), round(f1_rf_tfidf, 3), round(roc_auc_rf_tfidf, 3)], \n",
    "    [\"Random Forest (TF-IDF - All Features)\",round(accuracy_rf_tfidfi, 3), round(precision_rf_tfidfi, 3), round(recall_rf_tfidfi, 3), round(f1_rf_tfidfi, 3), round(roc_auc_rf_tfidfi, 3)], [\"\", \"\", \"\" ,\"\", \"\", \"\"],\n",
    "    [\"Logistic Regression (Count Vectorizer - Text Only)\",round(accuracy_lrcv, 3), round(precision_lrcv, 3), round(recall_lrcv, 3), round(f1_lrcv, 3), round(roc_auc_lrcv, 3)], \n",
    "    [\"Logistic Regression (Count Vectorizer - All Features)\",round(accuracy_lrcvi, 3), round(precision_lrcvi, 3), round(recall_lrcvi, 3), round(f1_lrcvi, 3), round(roc_auc_lrcvi, 3)], \n",
    "    [\"Logistic Regression (TF-IDF - Text Only)\",round(accuracy_lr_tfidf, 3), round(precision_lr_tfidf, 3), round(recall_lr_tfidf, 3), round(f1_lr_tfidf, 3), round(roc_auc_lr_tfidf, 3)], \n",
    "    [\"Logistic Regression (TF-IDF - All Features)\",round(accuracy_lr_tfidfi, 3), round(precision_lr_tfidfi, 3), round(recall_lr_tfidfi, 3), round(f1_lr_tfidfi, 3), round(roc_auc_lr_tfidfi, 3)], [\"\", \"\", \"\" ,\"\", \"\", \"\"]]\n",
    "print(\" \")\n",
    "print(\" \")\n",
    "datalist2 = tabulate(d, headers=[\"   Model  \", \"Accuracy Score\", \"Precision Score\", \"Recall Score\", \"F1 Score\", \"ROC_AUC Score\"])\n",
    "print(datalist2)"
   ]
  },
  {
   "cell_type": "code",
   "execution_count": 178,
   "id": "fe3b30b9",
   "metadata": {},
   "outputs": [
    {
     "data": {
      "image/png": "[encoded data removed]",
      "text/plain": [
       "<Figure size 864x576 with 1 Axes>"
      ]
     },
     "metadata": {
      "needs_background": "light"
     },
     "output_type": "display_data"
    }
   ],
   "source": [
    "plt.figure(figsize=(12,8))\n",
    "\n",
    "plt.plot(fpr1, tpr1, lw=2, label='ROC - Naive Bayes (Count Vectorizer - Text Only)' + ' (area = %0.2f)' % roc_auc_nbcv)\n",
    "plt.plot(fpr2, tpr2, lw=2, label='ROC - Naive Bayes (Count Vectorizer - All Features)' + ' (area = %0.2f)' % roc_auc_nbcvi)\n",
    "plt.plot(fpr3, tpr3, lw=2, label='ROC - Naive Bayes (TF-IDF - Text Only)' + ' (area = %0.2f)' % roc_auc_nb_tfidf)\n",
    "plt.plot(fpr4, tpr4, lw=2, label='ROC - Naive Bayes (TF-IDF - All Features)' + ' (area = %0.2f)' % roc_auc_nb_tfidfi)\n",
    "plt.plot(fpr5, tpr5, lw=2, label='ROC - Random Forest (Count Vectorizer - Text Only)' + ' (area = %0.2f)' % roc_auc_rfcv)\n",
    "plt.plot(fpr6, tpr6, lw=2, label='ROC - Random Forest (Count Vectorizer - All Features)' + ' (area = %0.2f)' % roc_auc_rfcvi)\n",
    "plt.plot(fpr7, tpr7, lw=2, label='ROC - Random Forest (TF-IDF - Text Only)' + ' (area = %0.2f)' % roc_auc_rf_tfidf)\n",
    "plt.plot(fpr8, tpr8, lw=2, label='ROC - Random Forest (TF-IDF - All Features)' + ' (area = %0.2f)' % roc_auc_rf_tfidfi)\n",
    "plt.plot(fpr9, tpr9, lw=2, label='ROC - Logistic Regression (Count Vectorizer - Text Only)' + ' (area = %0.2f)' % roc_auc_lrcv)\n",
    "plt.plot(fpr10, tpr10, lw=2, label='ROC - Logistic Regression (Count Vectorizer - All Features)' + ' (area = %0.2f)' % roc_auc_lrcvi)\n",
    "plt.plot(fpr11, tpr11, lw=2, label='ROC - Logistic Regression (TF-IDF - Text Only)' + ' (area = %0.2f)' % roc_auc_lr_tfidf)\n",
    "plt.plot(fpr12, tpr12, lw=2, label='ROC - Logistic Regression (TF-IDF - All Features)' + ' (area = %0.2f)' % roc_auc_lr_tfidfi)\n",
    "plt.plot([0, 1], [0, 1],'r--')\n",
    "plt.title(\"ROC_AUC CURVE Comparison of Various Models\")\n",
    "plt.ylabel('True Positive Rate')\n",
    "plt.xlabel('False Positive Rate')\n",
    "plt.legend(loc=\"lower right\")\n",
    "plt.tight_layout()\n",
    "plt.savefig('ROC_AUC CURVE Model Comparison.png')"
   ]
  },
  {
   "cell_type": "code",
   "execution_count": 179,
   "id": "8056b8b2",
   "metadata": {},
   "outputs": [
    {
     "name": "stdout",
     "output_type": "stream",
     "text": [
      " \n",
      " \n",
      "   Model                                               True Positive    False Positive    True Negative    False Negative\n",
      "-----------------------------------------------------  ---------------  ----------------  ---------------  ----------------\n",
      "Naive Bayes (Count Vectorizer - Text Only)             27685            3409              25637            1282\n",
      "Naive Bayes (Count Vectorizer - All Features)          27437            2960              26086            1530\n",
      "Naive Bayes (TF-IDF - Text Only)                       27865            3500              25546            1102\n",
      "Naive Bayes (TF-IDF - All Features)                    27703            3108              25938            1264\n",
      "\n",
      "Random Forest (Count Vectorizer - Text Only)           26216            25917             3129             2751\n",
      "Random Forest (Count Vectorizer - All Features)        23532            26273             26273            5435\n",
      "Random Forest (TF-IDF - Text Only)                     21953            2542              26504            7014\n",
      "Random Forest (TF-IDF - All Features)                  22344            2715              26331            6623\n",
      "\n",
      "Logistic Regression (Count Vectorizer - Text Only)     26661            1464              27582            2306\n",
      "Logistic Regression (Count Vectorizer - All Features)  26696            1465              27581            2271\n",
      "Logistic Regression (TF-IDF - Text Only)               28851            148               28898            116\n",
      "Logistic Regression (TF-IDF - All Features)            28851            149               28897            116\n",
      "\n"
     ]
    }
   ],
   "source": [
    "d1 = [ [\"Naive Bayes (Count Vectorizer - Text Only)\",tp_nbcv, fp_nbcv, tn_nbcv, fn_nbcv], \n",
    "     [\"Naive Bayes (Count Vectorizer - All Features)\",tp_nbcvi, fp_nbcvi, tn_nbcvi, fn_nbcvi],      \n",
    "     [\"Naive Bayes (TF-IDF - Text Only)\",tp_nb_tfidf, fp_nb_tfidf, tn_nb_tfidf, fn_nb_tfidf],\n",
    "    [\"Naive Bayes (TF-IDF - All Features)\",tp_nb_tfidfi, fp_nb_tfidfi, tn_nb_tfidfi, fn_nb_tfidfi], [\"\", \"\", \"\" ,\"\", \"\", \"\"],\n",
    "    [\"Random Forest (Count Vectorizer - Text Only)\",tp_rfcv, tn_rfcv, fp_rfcv, fn_rfcv], \n",
    "    [\"Random Forest (Count Vectorizer - All Features)\",tp_rfcvi, tn_rfcvi, tn_rfcvi, fn_rfcvi], \n",
    "    [\"Random Forest (TF-IDF - Text Only)\",tp_rf_tfid, fp_rf_tfid, tn_rf_tfid, fn_rf_tfid], \n",
    "    [\"Random Forest (TF-IDF - All Features)\",tp_rf_tfidi, fp_rf_tfidi, tn_rf_tfidi, fn_rf_tfidi], [\"\", \"\", \"\" ,\"\", \"\", \"\"],\n",
    "    [\"Logistic Regression (Count Vectorizer - Text Only)\",tp_lrcv, fp_lrcv, tn_lrcv, fn_lrcv], \n",
    "    [\"Logistic Regression (Count Vectorizer - All Features)\",tp_lrcvi, fp_lrcvi, tn_lrcvi, fn_lrcvi], \n",
    "    [\"Logistic Regression (TF-IDF - Text Only)\",tp_lr_tfid, fp_lr_tfid, tn_lr_tfid, fn_lr_tfid], \n",
    "    [\"Logistic Regression (TF-IDF - All Features)\",tp_lr_tfidi, fp_lr_tfidi, tn_lr_tfidi, fn_lr_tfidi], [\"\", \"\", \"\" ,\"\", \"\", \"\"]]\n",
    "print(\" \")\n",
    "print(\" \")\n",
    "datalist3 = tabulate(d1, headers=[\"   Model  \", \"True Positive\", \"False Positive\", \"True Negative\", \"False Negative\"])\n",
    "print(datalist3)"
   ]
  },
  {
   "cell_type": "markdown",
   "id": "9e9573c2",
   "metadata": {},
   "source": [
    "# Look at Mis-Labeled Examples"
   ]
  },
  {
   "cell_type": "code",
   "execution_count": 181,
   "id": "3e4f1c54",
   "metadata": {},
   "outputs": [
    {
     "data": {
      "text/plain": [
       "LogisticRegression(C=10)"
      ]
     },
     "execution_count": 181,
     "metadata": {},
     "output_type": "execute_result"
    }
   ],
   "source": [
    "lr_tfid = LogisticRegression(C = 10)\n",
    "lr_tfid.fit(X_test11, y_test11)"
   ]
  },
  {
   "cell_type": "code",
   "execution_count": 182,
   "id": "5e257eda",
   "metadata": {},
   "outputs": [],
   "source": [
    "dict1 = {'predict_proba':lr_tfid.predict_proba(X_test11)[:, 1], 'prediction' : lr_tfid.predict(X_test11), 'actual' :y_test11}"
   ]
  },
  {
   "cell_type": "code",
   "execution_count": 183,
   "id": "5bcffde4",
   "metadata": {},
   "outputs": [],
   "source": [
    "df_preds = pd.DataFrame(dict1)"
   ]
  },
  {
   "cell_type": "code",
   "execution_count": 184,
   "id": "1be4f2c7",
   "metadata": {},
   "outputs": [
    {
     "data": {
      "text/html": [
       "<div>\n",
       "<style scoped>\n",
       "    .dataframe tbody tr th:only-of-type {\n",
       "        vertical-align: middle;\n",
       "    }\n",
       "\n",
       "    .dataframe tbody tr th {\n",
       "        vertical-align: top;\n",
       "    }\n",
       "\n",
       "    .dataframe thead th {\n",
       "        text-align: right;\n",
       "    }\n",
       "</style>\n",
       "<table border=\"1\" class=\"dataframe\">\n",
       "  <thead>\n",
       "    <tr style=\"text-align: right;\">\n",
       "      <th></th>\n",
       "      <th>index</th>\n",
       "      <th>predict_proba</th>\n",
       "      <th>prediction</th>\n",
       "      <th>actual</th>\n",
       "      <th>sum</th>\n",
       "    </tr>\n",
       "  </thead>\n",
       "  <tbody>\n",
       "    <tr>\n",
       "      <th>0</th>\n",
       "      <td>52828</td>\n",
       "      <td>0.642519</td>\n",
       "      <td>1</td>\n",
       "      <td>0</td>\n",
       "      <td>1</td>\n",
       "    </tr>\n",
       "    <tr>\n",
       "      <th>1</th>\n",
       "      <td>18617</td>\n",
       "      <td>0.528270</td>\n",
       "      <td>1</td>\n",
       "      <td>0</td>\n",
       "      <td>1</td>\n",
       "    </tr>\n",
       "    <tr>\n",
       "      <th>2</th>\n",
       "      <td>17450</td>\n",
       "      <td>0.810197</td>\n",
       "      <td>1</td>\n",
       "      <td>0</td>\n",
       "      <td>1</td>\n",
       "    </tr>\n",
       "    <tr>\n",
       "      <th>3</th>\n",
       "      <td>101855</td>\n",
       "      <td>0.616240</td>\n",
       "      <td>1</td>\n",
       "      <td>0</td>\n",
       "      <td>1</td>\n",
       "    </tr>\n",
       "    <tr>\n",
       "      <th>4</th>\n",
       "      <td>159920</td>\n",
       "      <td>0.294795</td>\n",
       "      <td>0</td>\n",
       "      <td>1</td>\n",
       "      <td>1</td>\n",
       "    </tr>\n",
       "    <tr>\n",
       "      <th>5</th>\n",
       "      <td>74266</td>\n",
       "      <td>0.546219</td>\n",
       "      <td>1</td>\n",
       "      <td>0</td>\n",
       "      <td>1</td>\n",
       "    </tr>\n",
       "    <tr>\n",
       "      <th>6</th>\n",
       "      <td>58336</td>\n",
       "      <td>0.497173</td>\n",
       "      <td>0</td>\n",
       "      <td>1</td>\n",
       "      <td>1</td>\n",
       "    </tr>\n",
       "    <tr>\n",
       "      <th>7</th>\n",
       "      <td>214213</td>\n",
       "      <td>0.444117</td>\n",
       "      <td>0</td>\n",
       "      <td>1</td>\n",
       "      <td>1</td>\n",
       "    </tr>\n",
       "    <tr>\n",
       "      <th>8</th>\n",
       "      <td>176695</td>\n",
       "      <td>0.610840</td>\n",
       "      <td>1</td>\n",
       "      <td>0</td>\n",
       "      <td>1</td>\n",
       "    </tr>\n",
       "    <tr>\n",
       "      <th>9</th>\n",
       "      <td>15840</td>\n",
       "      <td>0.576866</td>\n",
       "      <td>1</td>\n",
       "      <td>0</td>\n",
       "      <td>1</td>\n",
       "    </tr>\n",
       "  </tbody>\n",
       "</table>\n",
       "</div>"
      ],
      "text/plain": [
       "    index  predict_proba  prediction  actual  sum\n",
       "0   52828       0.642519           1       0    1\n",
       "1   18617       0.528270           1       0    1\n",
       "2   17450       0.810197           1       0    1\n",
       "3  101855       0.616240           1       0    1\n",
       "4  159920       0.294795           0       1    1\n",
       "5   74266       0.546219           1       0    1\n",
       "6   58336       0.497173           0       1    1\n",
       "7  214213       0.444117           0       1    1\n",
       "8  176695       0.610840           1       0    1\n",
       "9   15840       0.576866           1       0    1"
      ]
     },
     "execution_count": 184,
     "metadata": {},
     "output_type": "execute_result"
    }
   ],
   "source": [
    "df_preds['sum'] = df_preds['prediction'] + df_preds['actual']\n",
    "mixed = df_preds[df_preds['sum'] == 1].reset_index()\n",
    "mixed.head(10)"
   ]
  },
  {
   "cell_type": "code",
   "execution_count": 186,
   "id": "57b63233",
   "metadata": {},
   "outputs": [],
   "source": [
    "mixed['string'] = ''"
   ]
  },
  {
   "cell_type": "code",
   "execution_count": 187,
   "id": "2be97f3c",
   "metadata": {},
   "outputs": [
    {
     "name": "stderr",
     "output_type": "stream",
     "text": [
      "C:\\Users\\betha\\AppData\\Local\\Temp\\ipykernel_10488\\420232312.py:2: SettingWithCopyWarning: \n",
      "A value is trying to be set on a copy of a slice from a DataFrame\n",
      "\n",
      "See the caveats in the documentation: https://pandas.pydata.org/pandas-docs/stable/user_guide/indexing.html#returning-a-view-versus-a-copy\n",
      "  mixed['string'].iloc[i] = df['text'].iloc[mixed['index'].iloc[i]]\n"
     ]
    }
   ],
   "source": [
    "for i in range(len(mixed)):\n",
    "    mixed['string'].iloc[i] = df['text'].iloc[mixed['index'].iloc[i]]"
   ]
  },
  {
   "cell_type": "code",
   "execution_count": 188,
   "id": "9ae44456",
   "metadata": {},
   "outputs": [
    {
     "data": {
      "text/html": [
       "<div>\n",
       "<style scoped>\n",
       "    .dataframe tbody tr th:only-of-type {\n",
       "        vertical-align: middle;\n",
       "    }\n",
       "\n",
       "    .dataframe tbody tr th {\n",
       "        vertical-align: top;\n",
       "    }\n",
       "\n",
       "    .dataframe thead th {\n",
       "        text-align: right;\n",
       "    }\n",
       "</style>\n",
       "<table border=\"1\" class=\"dataframe\">\n",
       "  <thead>\n",
       "    <tr style=\"text-align: right;\">\n",
       "      <th></th>\n",
       "      <th>index</th>\n",
       "      <th>predict_proba</th>\n",
       "      <th>prediction</th>\n",
       "      <th>actual</th>\n",
       "      <th>sum</th>\n",
       "      <th>string</th>\n",
       "    </tr>\n",
       "  </thead>\n",
       "  <tbody>\n",
       "    <tr>\n",
       "      <th>0</th>\n",
       "      <td>52828</td>\n",
       "      <td>0.642519</td>\n",
       "      <td>1</td>\n",
       "      <td>0</td>\n",
       "      <td>1</td>\n",
       "      <td>With my birthday coming up, I'm reminiscing a ...</td>\n",
       "    </tr>\n",
       "    <tr>\n",
       "      <th>1</th>\n",
       "      <td>18617</td>\n",
       "      <td>0.528270</td>\n",
       "      <td>1</td>\n",
       "      <td>0</td>\n",
       "      <td>1</td>\n",
       "      <td>How do I mend the wound? A little background: ...</td>\n",
       "    </tr>\n",
       "    <tr>\n",
       "      <th>2</th>\n",
       "      <td>17450</td>\n",
       "      <td>0.810197</td>\n",
       "      <td>1</td>\n",
       "      <td>0</td>\n",
       "      <td>1</td>\n",
       "      <td>Just a thought for Suicidal people I don’t kno...</td>\n",
       "    </tr>\n",
       "    <tr>\n",
       "      <th>3</th>\n",
       "      <td>101855</td>\n",
       "      <td>0.616240</td>\n",
       "      <td>1</td>\n",
       "      <td>0</td>\n",
       "      <td>1</td>\n",
       "      <td>The worst joke to tell to a suicidal person Wh...</td>\n",
       "    </tr>\n",
       "  </tbody>\n",
       "</table>\n",
       "</div>"
      ],
      "text/plain": [
       "    index  predict_proba  prediction  actual  sum  \\\n",
       "0   52828       0.642519           1       0    1   \n",
       "1   18617       0.528270           1       0    1   \n",
       "2   17450       0.810197           1       0    1   \n",
       "3  101855       0.616240           1       0    1   \n",
       "\n",
       "                                              string  \n",
       "0  With my birthday coming up, I'm reminiscing a ...  \n",
       "1  How do I mend the wound? A little background: ...  \n",
       "2  Just a thought for Suicidal people I don’t kno...  \n",
       "3  The worst joke to tell to a suicidal person Wh...  "
      ]
     },
     "execution_count": 188,
     "metadata": {},
     "output_type": "execute_result"
    }
   ],
   "source": [
    "mixed.head(4)"
   ]
  },
  {
   "cell_type": "code",
   "execution_count": 189,
   "id": "d72ec1b8",
   "metadata": {},
   "outputs": [],
   "source": [
    "false_positive = mixed[mixed['prediction'] == 1]\n",
    "false_negative = mixed[mixed['prediction'] == 0]"
   ]
  },
  {
   "cell_type": "code",
   "execution_count": 236,
   "id": "b7af2c5c",
   "metadata": {},
   "outputs": [],
   "source": [
    "top_false_positive = false_positive.sort_values(by = 'predict_proba', ascending = False).head()"
   ]
  },
  {
   "cell_type": "code",
   "execution_count": 237,
   "id": "ccb91f9d",
   "metadata": {},
   "outputs": [
    {
     "name": "stdout",
     "output_type": "stream",
     "text": [
      "iteration   0   How to talk to someone about mental health and wellbeing, from someone with mental illnesses: **TW: depression, anxiety, self-harm, suicide**\n",
      "\n",
      "*This is my opinion and experience. It differs with every person. This is not the gospel. What works for me might not work for others. This is what I have noticed tends to work best with the most amount of people*\n",
      "\n",
      "A few weeks ago, I made a [post](https://www.reddit.com/r/teenagers/comments/hl3wrz/dear_all_teenage_boys_yes_even_you/) about general mental teenage health that garnered a lot of attention and support. If people are interested I’m going to write more about the topic, and things I think all people should know, whether or not you suffer. So, without further ado, I present:\n",
      "\n",
      "How to talk to someone with mental illness about mental health (from someone with mental illnesses)\n",
      "\n",
      "The most important thing to understand first, IMO, is that mental illness is not a choice. The science is complex (and super fucking interesting) but the TLDR is that there are lots of chemicals governing your emotions in your brain (happiness, hormones, sadness, joy), and mental illnesses are usually caused by an imbalance of them. This is measurable, medically treatable, and a fact. Mental illness is as much a choice as your height, gender, race, or sexuality is. This tips-which I follow on a daily basis is not only for people with diagnosed depression or anxiety. It’s how to talk to someone who needs support. Mental illness is a lonely fight, and having someone in your corner, supporting you, can be literally life-changing. Part of the shittiness of mental illness is that it’s very individual. What works for some people won’t work for others, but this is what I’ve noticed usually helps me and others I talk to. I use the term ‘mental illness’ instead of depression, anxiety, PTSD, or any other of the DSM (the \"dictionary\" of mental illnesses) terms. Mental illness is not a clean-cut diagnosis: for instance, I have diagnosed depression and anxiety, but take medication that helps people with bipolar type 2. Symptoms and actions across the definitions cross over plenty, and trying to box in someone’s struggles (especially if you're not a psychiatrist) is pointless.\n",
      "\n",
      "Some things to avoid \\~\n",
      "\n",
      "* *Minimize their issues.* A friend of mine is fond of saying, *“God only gives us the battles we can fight”*. Despite the fact I’m a staunch atheist, I do think that the challenges we face are over-comeable, but just because someone has it ‘worse’ or ‘better’, doesn’t necessarily mean they’re struggling more or less.\n",
      "* *Tell them to snap out of it*. Mental illness is a long and difficult slog, and it’s impossible just to ‘decide to be happy’. It's as impossible as \"deciding\" not to have a cold, or \"deciding\" not to have a broken arm.\n",
      "* *Make it about you.* I try to avoid advice or things of that nature when talking to a friend in need. When I’m in a depressive episode or panic attack, I don’t actually hear or listen to what you’re saying. I hear your tone, body language, and expression.\n",
      "* *Shit on normal treatment methods.* Even though something like therapy might not work for you, it might work for others. Don’t blow off medication, psychiatry, or other treatments.\n",
      "\n",
      "Good phrases/ actions \\~\n",
      "\n",
      "* \"I'm here for you\"\n",
      "* \"Come talk to me if you need me\"\n",
      "* Just a hug\n",
      "* Spontaneous texts/memes\n",
      "* \"How are you doing?\"\n",
      "* \"I love you\"\n",
      "* **listen, don't talk**\n",
      "* open-ended questions are best  \n",
      "\n",
      "   * Not just yes/no.\n",
      "   * Urge them to open up, but don't push.\n",
      "* Focus on breathing  \n",
      "\n",
      "   * I use the [5-4-3-2-1](https://www.urmc.rochester.edu/behavioral-health-partners/bhp-blog/april-2018/5-4-3-2-1-coping-technique-for-anxiety.aspx) coping mechanism during attacks, where you list five things you can see, four things you can touch, three you can year, two you can smell, and one you can taste.\n",
      "\n",
      "Links: [1](https://www.healthline.com/health/what-to-say-to-someone-with-depression), [2](https://www.headstogether.org.uk/10-things-to-say-to-someone-with-depression/), [3](https://www.self.com/story/what-to-say-friend-with-anxiety), [4](https://www.today.com/health/what-say-someone-experiencing-anxiety-or-panic-attack-t140890).\n",
      "\n",
      "Everything boils down to one core idea:\\~\\~\\~\\~\\~ Support, don’t guide \\~\\~\\~\\~\\~\n",
      "\n",
      "Unless someone *explicitly* asks for advice on something, it usually either just ‘bounces off’, or even makes someone feel unheard or unlistened to. Having support while fighting mental illness is an important tool, but at the end of the day, it’s a solo fight. When it comes down to it, it doesn’t truly matter how supportive and loving my friends are, it’s just me and the great powerful beast of my depression, anxiety, and bipolar tendencies in the darkness of my mind. During those fights, none of my friends can help me. They can’t stop the intrusive thoughts or the urge to self-harm. But I know I can call them, or talk to them. I know they can listen while I wrestle with it, be a shoulder to cry on. Sometimes, just being told I’m loved, having that affirmation in my mind, is enough to pull me out into the light. **You have to fight alone, but you don't need to** ***be*** **alone.**\n",
      "\n",
      "A note about self-harm and suicide \\~\n",
      "\n",
      "In my opinion, self-harm and suicide are some of the most difficult conversations to have with someone, especially when talking about yourself. To be honest, I still don’t know the right thing to do when a friend tells me they’re self-harming, or thinking about it. However, here are some things to know:\n",
      "\n",
      "* *Scars*. Demanding to see them or calling attention to them is embarrassing. As someone with visible scars, it makes me super uncomfortable when someone asks about them. Especially if you know that the person in question is not actively self-harming anymore, calling it out (especially publicly) is pointless, and harmful if anything. Active wounds are a different issue (see below).\n",
      "* *Contact*. If someone you know is threatening or is actively self-harming, going to a professional or adult (parent, administrator, family member, anyone trustworthy) can be a solid bet. They’re happy to keep you anonymous. I've had to step forward to parents several times in the past, and while it's a difficult conversation to have, it's vital.\n",
      "* *Threatening.* People (according to my therapist) who actively threaten suicide won't actually go through with it. However, if someone you know is threatening it, *please* sit down with them and have a conversation to find out if they're planning on hurting themselves. If they are, get help. [Some signs.](https://save.org/about-suicide/warning-signs-risk-factors-protective-factors/)\n",
      "* *Why*. Honestly, I don’t know. I still don’t know. Asking usually gets no useful or real answer. \"Why\" isn’t important, the next steps are.\n",
      "\n",
      "Final words \\~\n",
      "\n",
      "Just because your friend or someone you know is struggling, that doesn’t mean to forget about yourself. Sometimes, people try to ‘offload’ their issues, trying to share the burden. It doesn’t work, and only harms both parties. If you need space from someone, take it. I’ve had to leave behind friends who were using me as their personal therapist because it began to affect my mental health. It’s not selfish to put yourself first. Help others if you’re able, but set aside the time you need for yourself. If talking and supporting your friend’s mental health is hurting yours, take a step back with them.\n",
      "\n",
      "In this post, I use \"mental illness\" and \"mental health\" interchangeably. However, they're pretty different things, but related. This is a clarification that I'm speaking about \"emotional\" mental illnesses, such as depression, anxiety, bipolar disorder, and OCD. Mental \"illness\" also covers autism, attention disorders, Aspergers, and more.\n",
      "\n",
      "Thanks for reading, and hopefully someone finds this useful! Please let me know if there's anything inaccurate or something I should add—I'm happy to edit it after the fact. The posts keep dying in new, but hopefully, this one gets some attention.\n",
      "\n",
      "If people like this one too, there are a few ideas I have for future posts: anxiety/panic attacks, more on self-harm, good practices for self-care, good things to read/consume, places to find help.\n",
      "\n",
      "***You are not alone. We love you. You are worth it.***\n",
      "\n",
      "iteration   1   How are you How do you feel\n",
      "\n",
      "iteration   2   I don’t even know I’ve tried keeping my thoughts in because I don’t want to burden people but I’ve got an essay due tomorrow that I’ve barely started and I can barely focus so I just need to get my thoughts out.\n",
      "\n",
      "I wanna die, but I don’t want to kill myself. I just wish I had some bad accident and suddenly died. I don’t have the guts to jump off or cut deeper which is why I wish I would just accidentally get hit by a truck or something. Living is such a pain. I just hate being alive, and a majority of the things that come attached to it. Waking up, going to school, playing games, watching yt, it’s all stuff I used to enjoy and look forward to but nowadays I dread the thought of it. I just want to sleep forever. Not to mention I’m an asshole to basically all my friends, I can think of a select group of people who might be upset if I were gone but I’d imagine they’d get over it eventually. Not to mention eventually I’ll die eventually and my whole life would’ve been pointless from start to finish. Ultimately I’d just be speeding of the process of life by offing myself, yet I still can’t fucking do it. I’ll go to the pipe, stare down yet I can’t jump. I just don’t have the guts to do it. It’d be so easy and the moment I make the choice I wouldn’t have to worry about anything anymore. I’d be in peace. I just want to die but it’s so difficult. I’m easily replaceable in life and I’m not a very significant person so why is it so goddamn difficult. Especially considering how easy it’d be to off myself and how good the payoff for me would be, I don’t know why I can’t do it. It feels like I’m stuck sometimes. Weird thing about it is I can’t even cry about the thought of who I’d be leaving behind. Granted I would feel bad for causing them trouble. I don’t want to cause anybody trouble, I just want to disappear from this earth without a trace of me left physically and mentally. In a way where nobody remembers me and everything I did it had would just disappear with me. That’d be nice that way nobody would be upset. I don’t even know where I’m going in life. Whenever I try to picture a future for myself my mind goes blank. I can’t foresee having a future. I mean it’s not like I’m doing much with my life, considering a decent chunk of my time is spent asleep in bed. I just don’t fucking know. \n",
      "\n",
      "Tl:dr I wanna die but I don’t want to kill myself because that’s scary\n",
      "\n",
      "I’m sorry this is probably super disjointed but it did help me clear my mind a little bit. Hopefully I’ll get the essay done before tomorrow.. goodbye \n",
      "\n",
      "ps sorry for dumping my thoughts\n",
      "\n",
      "iteration   3   My incomplete guide to avoiding suicide. Hey guys, every time I pop in here I see quite a few posts about feeling suicidal. I'm 27 now, but when I was 14 I attempted suicide and I spent the rest of my teens wishing I had died. I thought that it might help someone to share some of the things I did that kept me alive (in addition to seeking professional help). \n",
      "\n",
      "\n",
      "1. Make it inconvenient as hell for you to actually go through with it. I set rules for myself: I have to get rid of all my stuff first, I have to write a series of notes to people who matter to me, etc. Depression is exhausting and I'm lazy at the best of times so I never got around to doing those things. When all else failed, this is the single thing that's saved my life countless times.\n",
      "\n",
      "2. Imagine how people would feel if they cared about you. I often felt like it wouldn't matter to anyone or even make their life better if I killed myself. Ask yourself, what would happen to them if you were wrong?\n",
      "\n",
      "3. Do anything besides drugs that will turn take up your conscious attention, often. I exclude drugs because I personally felt worse when I got high, no matter what the drug was. I felt like I was paying to have fun and had just thrown my money out the window, and then I got to feel physically and mentally shitty the next day. What worked better for me was to go for long drives where I intentionally got lost and found my way home. Insert your distraction of choice here. You don't always have to be productive. \n",
      "\n",
      "4. Let yourself imagine a positive future without worrying about getting there. Everyone I know who is really cool and interesting tried a bunch of things before they found something that works for them and none of them did things as expected of them. Everything I've ever done has been a learning experience, even if it sucked. As a teenager there's a ton of pressure on you to get ready for college and to know exactly what you want to do with your life. Fuck that. I think it's a great idea to go to college because it makes it a lot easier to get a job, but the fact is most graduates don't end up with a job in their field. Instead of struggling to make a plan while you're suicidal, just think about things you'd still like to do sometime. You can get there.\n",
      "\n",
      "5. Challenge your thinking. I grew up in a family of mentally ill and/or toxic people. I learned to look at how they handled problems as a roadmap of what not to do. This is going to sound like some new age bullshit, but change the story you tell yourself. It's hard to go against habit, but try tackling a problem in a new way. For example, I had a nasty habit of lashing out at people to drive them away because I thought they didn't care about me. This shouldn't be surprising but it did not fucking help even a little. I started taking breaks from people instead of lashing out and they in turn were better able to support me when I needed them.\n",
      "\n",
      "5. Try to remember that you'll feel better sometime. This one is hardest, I think. It took me a really long time to find joy in things again, but I don't want that to put you off. My life is better now because I was suicidal. I have more empathy, I'm more passionate about what I do with my time, and I love my wife with everything I have. It's slow, but there will come a time when things just gradually get easier. Problems don't change, necessarily, but they become easier to deal with. They don't weigh on you as much. You can just live without your head buzzing all the time. \n",
      "\n",
      "\n",
      "I hope this helps somebody. You guys get a lot of shit but as a generation you're smart as hell, effective activists, and general badasses. I can't wait for you to be free in the world.\n",
      "\n",
      "iteration   4   I seriously want to kill myself I can never do anything right and I’m never going to find anyone to love me so I don’t see any point in living anymore\n",
      "\n"
     ]
    }
   ],
   "source": [
    "for i in range(0, 5):\n",
    "    print('iteration  ' , i , ' ', top_false_positive['string'].iloc[i])\n",
    "    print('')"
   ]
  },
  {
   "cell_type": "code",
   "execution_count": 241,
   "id": "6f49e560",
   "metadata": {},
   "outputs": [],
   "source": [
    "top_false_negative = false_negative.sort_values(by = 'predict_proba', ascending = True).head()"
   ]
  },
  {
   "cell_type": "code",
   "execution_count": 242,
   "id": "1045bcd0",
   "metadata": {},
   "outputs": [
    {
     "name": "stdout",
     "output_type": "stream",
     "text": [
      "iteration   0   anyone wanna talktitle is it\n",
      "\n",
      "iteration   1   .🙂🙂🙂🙂🙂🙂🙂🙂🙂🙂🙂🙂🙂🙂🙂🙂🙂🙂🙂🙂🙂🙂🙂🙂🙂🙂🙂🙂🙂🙂🙂🙂🙂🙂🙂🙂🙂🙂🙂🙂🙂🙂🙂🙂🙂🙂🙂🙂🙂🙂🙂🙂🙂🙂🙂🙂🙂🙂🙂🙂🙂🙂🙂🙂🙂🙂🙂🙂🙂🙂🙂🙂🙂🙂🙂🙂🙂🙂🙂🙂🙂🙂🙂🙂🙂🙂🙂🙂🙂🙂🙂🙂🙂🙂🙂🙂🙂🙂🙂🙂🙂🙂🙂🙂🙂🙂🙂🙂🙂🙂🙂🙂🙂🙂🙂🙂🙂🙂🙂🙂🙂🙂🙂🙂🙂🙂🙂🙂🙂🙂🙂🙂🙂🙂🙂🙂🙂🙂🙂🙂🙂🙂🙂🙂🙂🙂🙂🙂🙂🙂🙂🙂🙂🙂🙂🙂🙂🙂🙂🙂🙂🙂🙂🙂🙂🙂🙂🙂🙂🙂🙂🙂🙂🙂🙂🙂🙂🙂🙂🙂🙂🙂🙂🙂🙂🙂🙂🙂🙂🙂🙂🙂🙂🙂🙂🙂🙂🙂🙂🙂🙂🙂🙂🙂🙂🙂🙂🙂🙂🙂🙂🙂🙂🙂🙂🙂🙂🙂🙂🙂🙂🙂🙂🙂🙂🙂🙂🙂🙂🙂🙂🙂🙂🙂🙂🙂🙂🙂🙂🙂🙂🙂🙂🙂🙂🙂🙂🙂🙂🙂🙂🙂🙂🙂🙂🙂🙂🙂🙂🙂🙂🙂🙂🙂🙂🙂🙂🙂🙂🙂🙂🙂🙂🙂🙂🙂🙂🙂🙂🙂🙂🙂🙂🙂🙂🙂🙂🙂🙂🙂🙂🙂🙂🙂🙂🙂🙂🙂🙂🙂🙂🙂🙂🙂🙂🙂🙂🙂🙂🙂🙂🙂🙂🙂🙂🙂🙂🙂🙂🙂🙂🙂🙂🙂🙂🙂🙂🙂🙂🙂🙂🙂🙂🙂🙂🙂🙂🙂🙂🙂🙂🙂🙂🙂🙂🙂🙂🙂🙂🙂🙂😭😭\n",
      "\n",
      "iteration   2   HiPoop\n",
      "\n",
      "That's what I am\n",
      "\n",
      "iteration   3   I’m overdosingGoodbye\n",
      "\n",
      "iteration   4   asdgagssadgafds\n",
      "\n"
     ]
    }
   ],
   "source": [
    "for i in range(0, 5):\n",
    "    print('iteration  ' , i , ' ', top_false_negative['string'].iloc[i])\n",
    "    print('')"
   ]
  },
  {
   "cell_type": "markdown",
   "id": "03b0aabf",
   "metadata": {},
   "source": [
    "# Test Cases of New Text"
   ]
  },
  {
   "cell_type": "markdown",
   "id": "37952f81",
   "metadata": {},
   "source": [
    "# Everybody Hurts by REM"
   ]
  },
  {
   "cell_type": "markdown",
   "id": "c85cd165",
   "metadata": {},
   "source": [
    "Is the classic song 'Everybody Hurts' about suicide?"
   ]
  },
  {
   "cell_type": "code",
   "execution_count": 194,
   "id": "3ea1d04a",
   "metadata": {},
   "outputs": [],
   "source": [
    "everybody_hurts ='when your day is long and the night the night is yours alone when you are sure you have had enough of this life well hang on do not let yourself go because everybody cries everybody hurts sometimes ometimes everything is wrong now its time to sing along when your day is night alone hold on hold on if you feel like letting go hold on if you think you have had too much of this life well hang on because everybody hurts take comfort in your friends everybody hurts do not throw your hand oh no do not throw your hand if you feel like you are alone no no no you are not alone if you are on your own in this life the days and nights are long when you think you have had too much of this life to hang on well everybody hurts sometimes everybody cries everybody hurts sometimes and everybody hurts sometimes so hold on hold on hold on hold on hold on hold on hold on hold on everybody hurts'"
   ]
  },
  {
   "cell_type": "code",
   "execution_count": 195,
   "id": "0ef6bd84",
   "metadata": {},
   "outputs": [],
   "source": [
    "eh = {'song': everybody_hurts}\n"
   ]
  },
  {
   "cell_type": "code",
   "execution_count": 196,
   "id": "d6ff3a18",
   "metadata": {},
   "outputs": [],
   "source": [
    "df_eh = pd.DataFrame(eh, index=[0])\n",
    "df_eh['class'] = 0"
   ]
  },
  {
   "cell_type": "code",
   "execution_count": 197,
   "id": "06711b78",
   "metadata": {},
   "outputs": [],
   "source": [
    "X_song = vectorizor_tfid.transform(df_eh['song'])\n",
    "X_song = X_song.tocsc()  \n",
    "y_song = df_eh['class']"
   ]
  },
  {
   "cell_type": "code",
   "execution_count": 198,
   "id": "a8208bc8",
   "metadata": {},
   "outputs": [
    {
     "data": {
      "text/plain": [
       "array([1])"
      ]
     },
     "execution_count": 198,
     "metadata": {},
     "output_type": "execute_result"
    }
   ],
   "source": [
    "#clf.fit(XX)\n",
    "lr_tfid.predict(X_song)"
   ]
  },
  {
   "cell_type": "code",
   "execution_count": 199,
   "id": "67381cef",
   "metadata": {},
   "outputs": [
    {
     "data": {
      "text/plain": [
       "array([[0.08407194, 0.91592806]])"
      ]
     },
     "execution_count": 199,
     "metadata": {},
     "output_type": "execute_result"
    }
   ],
   "source": [
    "lr_tfid.predict_proba(X_song)"
   ]
  },
  {
   "cell_type": "markdown",
   "id": "1bda253f",
   "metadata": {},
   "source": [
    "   # Fire and Rain by James Taylor"
   ]
  },
  {
   "cell_type": "markdown",
   "id": "d5329822",
   "metadata": {},
   "source": [
    "This song is supposed to be about his friend who killed herself...what does the model say?"
   ]
  },
  {
   "cell_type": "code",
   "execution_count": 200,
   "id": "04f8f46c",
   "metadata": {},
   "outputs": [],
   "source": [
    "fire_rain ='just yesterday morning they let me know you were gone suzanne the plans they made put an end to you i walked out this morning and i wrote down this song i just can not remember who to send it to i have seen fire and I have seen rain i have seen sunny days that i thought would never endi have seen lonely times when i could not find a friend but i always thought that i would see you again will you not look down upon me jesus you have got to help me make a stand you have just got to see me through another day my body is aching and my time is at hand and i will not make it any other way oh  i have seen fire and i have seen rain i have seen sunny days that i thought would never end i have seen lonely times when i could not find a friend but i always thought that i would see you again been walking my mind to an easy time my back turned towards the sun lord knows, when the cold wind blows it will turn your head around well there is hours of time on the telephone line to talk about things to come sweet dreams and flying machines in pieces on the ground oh i have seen fire and I have seen rain i  have seen sunny days that i thought would never end i have seen lonely times when i could not find a friend but i always thought that I would see you baby one more time again now thought i would see you one more time again there is just a few things coming my way this time around now thought i would see you thought I would see you fire and rain now'"
   ]
  },
  {
   "cell_type": "code",
   "execution_count": 201,
   "id": "6bb7c99c",
   "metadata": {},
   "outputs": [],
   "source": [
    "fr = {'song': fire_rain}"
   ]
  },
  {
   "cell_type": "code",
   "execution_count": 202,
   "id": "024ad3bc",
   "metadata": {},
   "outputs": [],
   "source": [
    "df_fr = pd.DataFrame(fr, index=[0])\n",
    "df_fr['class'] = 0"
   ]
  },
  {
   "cell_type": "code",
   "execution_count": 203,
   "id": "88896546",
   "metadata": {},
   "outputs": [],
   "source": [
    "X_song1 = vectorizor_tfid.transform(df_fr['song'])\n",
    "X_song1 = X_song1.tocsc() \n",
    "y_song1 = df_fr['class']"
   ]
  },
  {
   "cell_type": "code",
   "execution_count": 204,
   "id": "1526c20f",
   "metadata": {},
   "outputs": [
    {
     "data": {
      "text/plain": [
       "array([0])"
      ]
     },
     "execution_count": 204,
     "metadata": {},
     "output_type": "execute_result"
    }
   ],
   "source": [
    "lr_tfid.predict(X_song1)"
   ]
  },
  {
   "cell_type": "code",
   "execution_count": 205,
   "id": "824bb76b",
   "metadata": {},
   "outputs": [
    {
     "data": {
      "text/plain": [
       "array([[0.71085657, 0.28914343]])"
      ]
     },
     "execution_count": 205,
     "metadata": {},
     "output_type": "execute_result"
    }
   ],
   "source": [
    "lr_tfid.predict_proba(X_song1)"
   ]
  },
  {
   "cell_type": "markdown",
   "id": "f0a3ea61",
   "metadata": {},
   "source": [
    "preliminary  model shows this song IS about suicide"
   ]
  },
  {
   "cell_type": "markdown",
   "id": "3166bf50",
   "metadata": {},
   "source": [
    "# Happy and you know it"
   ]
  },
  {
   "cell_type": "markdown",
   "id": "382d5491",
   "metadata": {},
   "source": [
    "is this song about suicide?"
   ]
  },
  {
   "cell_type": "code",
   "execution_count": 206,
   "id": "e0ff2a93",
   "metadata": {},
   "outputs": [],
   "source": [
    "happy_know_it = 'if you are happy and you know it clap your hands if you are happy and you know it then your face will surely show it if you are happy and you know if clap your hands'"
   ]
  },
  {
   "cell_type": "code",
   "execution_count": 207,
   "id": "696fbe1d",
   "metadata": {},
   "outputs": [],
   "source": [
    "hap = {'song': happy_know_it}"
   ]
  },
  {
   "cell_type": "code",
   "execution_count": 208,
   "id": "fb948e95",
   "metadata": {},
   "outputs": [],
   "source": [
    "df_hap = pd.DataFrame(hap, index=[0])\n",
    "df_hap['class'] = 0"
   ]
  },
  {
   "cell_type": "code",
   "execution_count": 209,
   "id": "9fd81438",
   "metadata": {},
   "outputs": [],
   "source": [
    "X_songh = vectorizor_tfid.transform(df_hap['song'])\n",
    "X_songh = X_songh.tocsc() \n",
    "y_songh = df_hap['class']"
   ]
  },
  {
   "cell_type": "code",
   "execution_count": 210,
   "id": "a385425f",
   "metadata": {},
   "outputs": [
    {
     "data": {
      "text/plain": [
       "array([0])"
      ]
     },
     "execution_count": 210,
     "metadata": {},
     "output_type": "execute_result"
    }
   ],
   "source": [
    "lr_tfid.predict(X_songh)"
   ]
  },
  {
   "cell_type": "code",
   "execution_count": 211,
   "id": "fd107069",
   "metadata": {},
   "outputs": [
    {
     "data": {
      "text/plain": [
       "array([[0.92037542, 0.07962458]])"
      ]
     },
     "execution_count": 211,
     "metadata": {},
     "output_type": "execute_result"
    }
   ],
   "source": [
    "lr_tfid.predict_proba(X_songh)"
   ]
  },
  {
   "cell_type": "markdown",
   "id": "d23bd6ff",
   "metadata": {},
   "source": [
    "# Wonderful World\n"
   ]
  },
  {
   "cell_type": "code",
   "execution_count": 212,
   "id": "0efa1a30",
   "metadata": {},
   "outputs": [],
   "source": [
    "wonderful_world = 'i see trees of green red roses too i see them bloom for me and you and i think to myself what a wonderful world i see skies of blue and clouds of white the bright blessed day the dark sacred night and i think to myself what a wonderful world the colors of the rainbow so pretty in the sky are also on the faces of people going by i see friends shaking hands saying how do you do they are really saying i love you i hear babies crying i watch them grow they willl learn much more than i will ever know and i think to myself what a wonderful world yes i think to myself what a wonderful world ooh yes'"
   ]
  },
  {
   "cell_type": "code",
   "execution_count": 213,
   "id": "1df060a6",
   "metadata": {},
   "outputs": [],
   "source": [
    "ww = {'song': wonderful_world}"
   ]
  },
  {
   "cell_type": "code",
   "execution_count": null,
   "id": "a4f90ee0",
   "metadata": {},
   "outputs": [],
   "source": []
  },
  {
   "cell_type": "code",
   "execution_count": 214,
   "id": "45af281a",
   "metadata": {},
   "outputs": [],
   "source": [
    "df_ww = pd.DataFrame(ww, index=[0])\n",
    "df_ww['class'] = 0"
   ]
  },
  {
   "cell_type": "code",
   "execution_count": 215,
   "id": "79dbede7",
   "metadata": {},
   "outputs": [],
   "source": [
    "X_song2 = vectorizor_tfid.transform(df_ww['song'])\n",
    "X_song2 = X_song2.tocsc() \n",
    "y_song2 = df_ww['class']"
   ]
  },
  {
   "cell_type": "code",
   "execution_count": 216,
   "id": "a26fae55",
   "metadata": {},
   "outputs": [
    {
     "data": {
      "text/plain": [
       "array([0])"
      ]
     },
     "execution_count": 216,
     "metadata": {},
     "output_type": "execute_result"
    }
   ],
   "source": [
    "lr_tfid.predict(X_song2)"
   ]
  },
  {
   "cell_type": "code",
   "execution_count": 217,
   "id": "7b6d9f68",
   "metadata": {},
   "outputs": [
    {
     "data": {
      "text/plain": [
       "array([[0.91456448, 0.08543552]])"
      ]
     },
     "execution_count": 217,
     "metadata": {},
     "output_type": "execute_result"
    }
   ],
   "source": [
    "lr_tfid.predict_proba(X_song2)"
   ]
  },
  {
   "cell_type": "markdown",
   "id": "681ea6da",
   "metadata": {},
   "source": [
    "# Misidentified (Rickrolled)"
   ]
  },
  {
   "cell_type": "code",
   "execution_count": 218,
   "id": "06aa7110",
   "metadata": {},
   "outputs": [],
   "source": [
    "r_roll = 'we are no strangers to love you know the rules and so do i a full commitment is what i am thinking of you would not get this from any other guy i just wanna tell you how i am feeling gotta make you understand never gonna give you up never gonna let you down never gonna run around and desert you never gonna make you cry never gonna say goodbye never gonna tell a lie and hurt you we have known each other for so long your heart has been aching but you are too shy to say it inside we both know what has been going on we know the game and we are gonna play it and if you ask me how i am feeling do not tell me you are too blind to see never gonna give you up never gonna let you down  never gonna run around and desert you never gonna make you cry never gonna say goodbye  never gonna tell a lie and hurt you never gonna give you up never gonna let you down never gonna run around and desert you never gonna make you cry never gonna say goodbye never gonna tell a lie and hurt you we have known each other for so long your heart has been aching but you are too shy to say it inside we both know what has been going on we know the game and we are gonna play it i just wanna tell you how i am feeling gotta make you understand never gonna give you up never gonna let you down never gonna run around and desert you never gonna make you cry never gonna say goodbye never gonna tell a lie and hurt you never gonna give you up never gonna let you down never gonna run around and desert you never gonna make you cry never gonna say goodbye never gonna tell a lie and hurt you never gonna give you up never gonna let you down never gonna run around and desert you never gonna make you cry never gonna say goodbye never gonna tell a lie and hurt you '"
   ]
  },
  {
   "cell_type": "code",
   "execution_count": 219,
   "id": "02394ce7",
   "metadata": {},
   "outputs": [],
   "source": [
    "rroll = {'song': r_roll}"
   ]
  },
  {
   "cell_type": "code",
   "execution_count": 220,
   "id": "956c7fc4",
   "metadata": {},
   "outputs": [],
   "source": [
    "df_rroll = pd.DataFrame(rroll, index=[0])\n",
    "df_rroll['class'] = 0"
   ]
  },
  {
   "cell_type": "code",
   "execution_count": 221,
   "id": "ffe7d4b5",
   "metadata": {},
   "outputs": [],
   "source": [
    "X_songrr = vectorizor_tfid.transform(df_rroll['song'])\n",
    "X_songrr = X_songrr.tocsc() \n",
    "y_songrr = df_rroll['class']"
   ]
  },
  {
   "cell_type": "code",
   "execution_count": 222,
   "id": "901fc972",
   "metadata": {},
   "outputs": [
    {
     "data": {
      "text/plain": [
       "array([0])"
      ]
     },
     "execution_count": 222,
     "metadata": {},
     "output_type": "execute_result"
    }
   ],
   "source": [
    "lr_tfid.predict(X_songrr)"
   ]
  },
  {
   "cell_type": "code",
   "execution_count": 223,
   "id": "be66c847",
   "metadata": {},
   "outputs": [
    {
     "data": {
      "text/plain": [
       "array([[0.98031961, 0.01968039]])"
      ]
     },
     "execution_count": 223,
     "metadata": {},
     "output_type": "execute_result"
    }
   ],
   "source": [
    "lr_tfid.predict_proba(X_songrr)"
   ]
  },
  {
   "cell_type": "markdown",
   "id": "e4921b66",
   "metadata": {},
   "source": [
    "# Thresholding"
   ]
  },
  {
   "cell_type": "code",
   "execution_count": 224,
   "id": "d56fb8bd",
   "metadata": {},
   "outputs": [
    {
     "name": "stderr",
     "output_type": "stream",
     "text": [
      "C:\\Users\\betha\\anaconda3\\lib\\site-packages\\sklearn\\metrics\\_classification.py:1318: UndefinedMetricWarning: Precision is ill-defined and being set to 0.0 due to no predicted samples. Use `zero_division` parameter to control this behavior.\n",
      "  _warn_prf(average, modifier, msg_start, len(result))\n"
     ]
    }
   ],
   "source": [
    "from sklearn import tree, metrics\n",
    "from sklearn.metrics import fbeta_score\n",
    "d = []\n",
    "for i in [0, 0.05, 0.1, 0.15, 0.2, 0.25, 0.3, 0.35, 0.4, 0.45, 0.5, 0.55, 0.6, 0.65, 0.7, 0.75, 0.8, 0.85, 0.9, 0.95, 1 ]:\n",
    "    y_pred = (lr_tfid.predict_proba(X_test11)[:,1] >= i).astype(bool)\n",
    "    precision = metrics.precision_score(y_test11,y_pred, pos_label = 1)\n",
    "    recall = metrics.recall_score(y_test11, y_pred, pos_label = 1)\n",
    "    f_beta = fbeta_score(y_test11, y_pred, beta=2)\n",
    "    tn_lr_tfid, fp_lr_tfid, fn_lr_tfid, tp_lr_tfid = confusion_matrix(y_test11, y_pred).ravel()\n",
    "    d.append((i, precision, recall, f_beta, tp_lr_tfid, fp_lr_tfid, tn_lr_tfid, fn_lr_tfid))"
   ]
  },
  {
   "cell_type": "code",
   "execution_count": 225,
   "id": "6d35e3ab",
   "metadata": {},
   "outputs": [],
   "source": [
    "df_threshold = pd.DataFrame(d, columns = ('Threshold', 'Precision', 'Recall', 'F-2 Score', 'True Positive', 'False Positive', 'True_Negative', 'False Negative'))\n"
   ]
  },
  {
   "cell_type": "code",
   "execution_count": 226,
   "id": "7440a35a",
   "metadata": {},
   "outputs": [
    {
     "data": {
      "text/html": [
       "<div>\n",
       "<style scoped>\n",
       "    .dataframe tbody tr th:only-of-type {\n",
       "        vertical-align: middle;\n",
       "    }\n",
       "\n",
       "    .dataframe tbody tr th {\n",
       "        vertical-align: top;\n",
       "    }\n",
       "\n",
       "    .dataframe thead th {\n",
       "        text-align: right;\n",
       "    }\n",
       "</style>\n",
       "<table border=\"1\" class=\"dataframe\">\n",
       "  <thead>\n",
       "    <tr style=\"text-align: right;\">\n",
       "      <th></th>\n",
       "      <th>Threshold</th>\n",
       "      <th>Precision</th>\n",
       "      <th>Recall</th>\n",
       "      <th>F-2 Score</th>\n",
       "      <th>True Positive</th>\n",
       "      <th>False Positive</th>\n",
       "      <th>True_Negative</th>\n",
       "      <th>False Negative</th>\n",
       "      <th>FPR</th>\n",
       "      <th>TPR</th>\n",
       "      <th>TPR - (1-FPR)</th>\n",
       "    </tr>\n",
       "  </thead>\n",
       "  <tbody>\n",
       "    <tr>\n",
       "      <th>20</th>\n",
       "      <td>1.00</td>\n",
       "      <td>0.000000</td>\n",
       "      <td>0.000000</td>\n",
       "      <td>0.000000</td>\n",
       "      <td>0</td>\n",
       "      <td>0</td>\n",
       "      <td>29046</td>\n",
       "      <td>28967</td>\n",
       "      <td>0.000000</td>\n",
       "      <td>0.000000</td>\n",
       "      <td>-1.000000</td>\n",
       "    </tr>\n",
       "    <tr>\n",
       "      <th>19</th>\n",
       "      <td>0.95</td>\n",
       "      <td>0.999902</td>\n",
       "      <td>0.704181</td>\n",
       "      <td>0.748452</td>\n",
       "      <td>20398</td>\n",
       "      <td>2</td>\n",
       "      <td>29044</td>\n",
       "      <td>8569</td>\n",
       "      <td>0.000069</td>\n",
       "      <td>0.704181</td>\n",
       "      <td>-0.295751</td>\n",
       "    </tr>\n",
       "    <tr>\n",
       "      <th>18</th>\n",
       "      <td>0.90</td>\n",
       "      <td>0.999791</td>\n",
       "      <td>0.824835</td>\n",
       "      <td>0.854750</td>\n",
       "      <td>23893</td>\n",
       "      <td>5</td>\n",
       "      <td>29041</td>\n",
       "      <td>5074</td>\n",
       "      <td>0.000172</td>\n",
       "      <td>0.824835</td>\n",
       "      <td>-0.174993</td>\n",
       "    </tr>\n",
       "    <tr>\n",
       "      <th>17</th>\n",
       "      <td>0.85</td>\n",
       "      <td>0.999613</td>\n",
       "      <td>0.892153</td>\n",
       "      <td>0.911756</td>\n",
       "      <td>25843</td>\n",
       "      <td>10</td>\n",
       "      <td>29036</td>\n",
       "      <td>3124</td>\n",
       "      <td>0.000344</td>\n",
       "      <td>0.892153</td>\n",
       "      <td>-0.107503</td>\n",
       "    </tr>\n",
       "    <tr>\n",
       "      <th>16</th>\n",
       "      <td>0.80</td>\n",
       "      <td>0.999445</td>\n",
       "      <td>0.933234</td>\n",
       "      <td>0.945765</td>\n",
       "      <td>27033</td>\n",
       "      <td>15</td>\n",
       "      <td>29031</td>\n",
       "      <td>1934</td>\n",
       "      <td>0.000516</td>\n",
       "      <td>0.933234</td>\n",
       "      <td>-0.066249</td>\n",
       "    </tr>\n",
       "  </tbody>\n",
       "</table>\n",
       "</div>"
      ],
      "text/plain": [
       "    Threshold  Precision    Recall  F-2 Score  True Positive  False Positive  \\\n",
       "20       1.00   0.000000  0.000000   0.000000              0               0   \n",
       "19       0.95   0.999902  0.704181   0.748452          20398               2   \n",
       "18       0.90   0.999791  0.824835   0.854750          23893               5   \n",
       "17       0.85   0.999613  0.892153   0.911756          25843              10   \n",
       "16       0.80   0.999445  0.933234   0.945765          27033              15   \n",
       "\n",
       "    True_Negative  False Negative       FPR       TPR  TPR - (1-FPR)  \n",
       "20          29046           28967  0.000000  0.000000      -1.000000  \n",
       "19          29044            8569  0.000069  0.704181      -0.295751  \n",
       "18          29041            5074  0.000172  0.824835      -0.174993  \n",
       "17          29036            3124  0.000344  0.892153      -0.107503  \n",
       "16          29031            1934  0.000516  0.933234      -0.066249  "
      ]
     },
     "execution_count": 226,
     "metadata": {},
     "output_type": "execute_result"
    }
   ],
   "source": [
    "df_threshold['FPR'] = df_threshold['False Positive'] / (df_threshold['True_Negative'] + df_threshold['False Positive'])\n",
    "df_threshold['TPR'] = df_threshold['True Positive'] / (df_threshold['True Positive'] + df_threshold['False Negative'])\n",
    "df_threshold['TPR - (1-FPR)'] = df_threshold['TPR'] - (1 - df_threshold['FPR'])\n",
    "df_threshold.sort_values(by = ['TPR - (1-FPR)'], ascending = True).head()"
   ]
  },
  {
   "cell_type": "code",
   "execution_count": 227,
   "id": "6658faaa",
   "metadata": {},
   "outputs": [],
   "source": [
    "x = df_threshold['Threshold']\n",
    "y1 = df_threshold['Precision']"
   ]
  },
  {
   "cell_type": "code",
   "execution_count": 228,
   "id": "9a0b2ef3",
   "metadata": {},
   "outputs": [
    {
     "data": {
      "text/html": [
       "<div>\n",
       "<style scoped>\n",
       "    .dataframe tbody tr th:only-of-type {\n",
       "        vertical-align: middle;\n",
       "    }\n",
       "\n",
       "    .dataframe tbody tr th {\n",
       "        vertical-align: top;\n",
       "    }\n",
       "\n",
       "    .dataframe thead th {\n",
       "        text-align: right;\n",
       "    }\n",
       "</style>\n",
       "<table border=\"1\" class=\"dataframe\">\n",
       "  <thead>\n",
       "    <tr style=\"text-align: right;\">\n",
       "      <th></th>\n",
       "      <th>Precision</th>\n",
       "      <th>Recall</th>\n",
       "      <th>F-2 Score</th>\n",
       "      <th>True Positive</th>\n",
       "      <th>False Positive</th>\n",
       "      <th>True_Negative</th>\n",
       "      <th>False Negative</th>\n",
       "      <th>FPR</th>\n",
       "      <th>TPR</th>\n",
       "      <th>TPR - (1-FPR)</th>\n",
       "    </tr>\n",
       "    <tr>\n",
       "      <th>Threshold</th>\n",
       "      <th></th>\n",
       "      <th></th>\n",
       "      <th></th>\n",
       "      <th></th>\n",
       "      <th></th>\n",
       "      <th></th>\n",
       "      <th></th>\n",
       "      <th></th>\n",
       "      <th></th>\n",
       "      <th></th>\n",
       "    </tr>\n",
       "  </thead>\n",
       "  <tbody>\n",
       "    <tr>\n",
       "      <th>0.00</th>\n",
       "      <td>0.499319</td>\n",
       "      <td>1.000000</td>\n",
       "      <td>0.832955</td>\n",
       "      <td>28967</td>\n",
       "      <td>29046</td>\n",
       "      <td>0</td>\n",
       "      <td>0</td>\n",
       "      <td>1.000000</td>\n",
       "      <td>1.000000</td>\n",
       "      <td>1.000000</td>\n",
       "    </tr>\n",
       "    <tr>\n",
       "      <th>0.05</th>\n",
       "      <td>0.768716</td>\n",
       "      <td>0.999965</td>\n",
       "      <td>0.943217</td>\n",
       "      <td>28966</td>\n",
       "      <td>8715</td>\n",
       "      <td>20331</td>\n",
       "      <td>1</td>\n",
       "      <td>0.300041</td>\n",
       "      <td>0.999965</td>\n",
       "      <td>0.300007</td>\n",
       "    </tr>\n",
       "    <tr>\n",
       "      <th>0.10</th>\n",
       "      <td>0.874071</td>\n",
       "      <td>0.998964</td>\n",
       "      <td>0.971210</td>\n",
       "      <td>28937</td>\n",
       "      <td>4169</td>\n",
       "      <td>24877</td>\n",
       "      <td>30</td>\n",
       "      <td>0.143531</td>\n",
       "      <td>0.998964</td>\n",
       "      <td>0.142495</td>\n",
       "    </tr>\n",
       "    <tr>\n",
       "      <th>0.15</th>\n",
       "      <td>0.923973</td>\n",
       "      <td>0.998964</td>\n",
       "      <td>0.983008</td>\n",
       "      <td>28937</td>\n",
       "      <td>2381</td>\n",
       "      <td>26665</td>\n",
       "      <td>30</td>\n",
       "      <td>0.081973</td>\n",
       "      <td>0.998964</td>\n",
       "      <td>0.080938</td>\n",
       "    </tr>\n",
       "    <tr>\n",
       "      <th>0.20</th>\n",
       "      <td>0.952589</td>\n",
       "      <td>0.998826</td>\n",
       "      <td>0.989223</td>\n",
       "      <td>28933</td>\n",
       "      <td>1440</td>\n",
       "      <td>27606</td>\n",
       "      <td>34</td>\n",
       "      <td>0.049577</td>\n",
       "      <td>0.998826</td>\n",
       "      <td>0.048403</td>\n",
       "    </tr>\n",
       "    <tr>\n",
       "      <th>0.25</th>\n",
       "      <td>0.967982</td>\n",
       "      <td>0.998792</td>\n",
       "      <td>0.992474</td>\n",
       "      <td>28932</td>\n",
       "      <td>957</td>\n",
       "      <td>28089</td>\n",
       "      <td>35</td>\n",
       "      <td>0.032948</td>\n",
       "      <td>0.998792</td>\n",
       "      <td>0.031739</td>\n",
       "    </tr>\n",
       "    <tr>\n",
       "      <th>0.30</th>\n",
       "      <td>0.978650</td>\n",
       "      <td>0.998516</td>\n",
       "      <td>0.994478</td>\n",
       "      <td>28924</td>\n",
       "      <td>631</td>\n",
       "      <td>28415</td>\n",
       "      <td>43</td>\n",
       "      <td>0.021724</td>\n",
       "      <td>0.998516</td>\n",
       "      <td>0.020240</td>\n",
       "    </tr>\n",
       "    <tr>\n",
       "      <th>0.35</th>\n",
       "      <td>0.985954</td>\n",
       "      <td>0.998377</td>\n",
       "      <td>0.995868</td>\n",
       "      <td>28920</td>\n",
       "      <td>412</td>\n",
       "      <td>28634</td>\n",
       "      <td>47</td>\n",
       "      <td>0.014184</td>\n",
       "      <td>0.998377</td>\n",
       "      <td>0.012562</td>\n",
       "    </tr>\n",
       "    <tr>\n",
       "      <th>0.40</th>\n",
       "      <td>0.990069</td>\n",
       "      <td>0.998101</td>\n",
       "      <td>0.996484</td>\n",
       "      <td>28912</td>\n",
       "      <td>290</td>\n",
       "      <td>28756</td>\n",
       "      <td>55</td>\n",
       "      <td>0.009984</td>\n",
       "      <td>0.998101</td>\n",
       "      <td>0.008085</td>\n",
       "    </tr>\n",
       "    <tr>\n",
       "      <th>0.45</th>\n",
       "      <td>0.992749</td>\n",
       "      <td>0.997273</td>\n",
       "      <td>0.996365</td>\n",
       "      <td>28888</td>\n",
       "      <td>211</td>\n",
       "      <td>28835</td>\n",
       "      <td>79</td>\n",
       "      <td>0.007264</td>\n",
       "      <td>0.997273</td>\n",
       "      <td>0.004537</td>\n",
       "    </tr>\n",
       "    <tr>\n",
       "      <th>0.50</th>\n",
       "      <td>0.994896</td>\n",
       "      <td>0.995995</td>\n",
       "      <td>0.995775</td>\n",
       "      <td>28851</td>\n",
       "      <td>148</td>\n",
       "      <td>28898</td>\n",
       "      <td>116</td>\n",
       "      <td>0.005095</td>\n",
       "      <td>0.995995</td>\n",
       "      <td>0.001091</td>\n",
       "    </tr>\n",
       "    <tr>\n",
       "      <th>0.55</th>\n",
       "      <td>0.996297</td>\n",
       "      <td>0.993924</td>\n",
       "      <td>0.994398</td>\n",
       "      <td>28791</td>\n",
       "      <td>107</td>\n",
       "      <td>28939</td>\n",
       "      <td>176</td>\n",
       "      <td>0.003684</td>\n",
       "      <td>0.993924</td>\n",
       "      <td>-0.002392</td>\n",
       "    </tr>\n",
       "    <tr>\n",
       "      <th>0.60</th>\n",
       "      <td>0.997185</td>\n",
       "      <td>0.990437</td>\n",
       "      <td>0.991780</td>\n",
       "      <td>28690</td>\n",
       "      <td>81</td>\n",
       "      <td>28965</td>\n",
       "      <td>277</td>\n",
       "      <td>0.002789</td>\n",
       "      <td>0.990437</td>\n",
       "      <td>-0.006774</td>\n",
       "    </tr>\n",
       "    <tr>\n",
       "      <th>0.65</th>\n",
       "      <td>0.998180</td>\n",
       "      <td>0.984465</td>\n",
       "      <td>0.987178</td>\n",
       "      <td>28517</td>\n",
       "      <td>52</td>\n",
       "      <td>28994</td>\n",
       "      <td>450</td>\n",
       "      <td>0.001790</td>\n",
       "      <td>0.984465</td>\n",
       "      <td>-0.013745</td>\n",
       "    </tr>\n",
       "    <tr>\n",
       "      <th>0.70</th>\n",
       "      <td>0.998657</td>\n",
       "      <td>0.975282</td>\n",
       "      <td>0.979869</td>\n",
       "      <td>28251</td>\n",
       "      <td>38</td>\n",
       "      <td>29008</td>\n",
       "      <td>716</td>\n",
       "      <td>0.001308</td>\n",
       "      <td>0.975282</td>\n",
       "      <td>-0.023410</td>\n",
       "    </tr>\n",
       "    <tr>\n",
       "      <th>0.75</th>\n",
       "      <td>0.998994</td>\n",
       "      <td>0.960162</td>\n",
       "      <td>0.967685</td>\n",
       "      <td>27813</td>\n",
       "      <td>28</td>\n",
       "      <td>29018</td>\n",
       "      <td>1154</td>\n",
       "      <td>0.000964</td>\n",
       "      <td>0.960162</td>\n",
       "      <td>-0.038874</td>\n",
       "    </tr>\n",
       "    <tr>\n",
       "      <th>0.80</th>\n",
       "      <td>0.999445</td>\n",
       "      <td>0.933234</td>\n",
       "      <td>0.945765</td>\n",
       "      <td>27033</td>\n",
       "      <td>15</td>\n",
       "      <td>29031</td>\n",
       "      <td>1934</td>\n",
       "      <td>0.000516</td>\n",
       "      <td>0.933234</td>\n",
       "      <td>-0.066249</td>\n",
       "    </tr>\n",
       "    <tr>\n",
       "      <th>0.85</th>\n",
       "      <td>0.999613</td>\n",
       "      <td>0.892153</td>\n",
       "      <td>0.911756</td>\n",
       "      <td>25843</td>\n",
       "      <td>10</td>\n",
       "      <td>29036</td>\n",
       "      <td>3124</td>\n",
       "      <td>0.000344</td>\n",
       "      <td>0.892153</td>\n",
       "      <td>-0.107503</td>\n",
       "    </tr>\n",
       "    <tr>\n",
       "      <th>0.90</th>\n",
       "      <td>0.999791</td>\n",
       "      <td>0.824835</td>\n",
       "      <td>0.854750</td>\n",
       "      <td>23893</td>\n",
       "      <td>5</td>\n",
       "      <td>29041</td>\n",
       "      <td>5074</td>\n",
       "      <td>0.000172</td>\n",
       "      <td>0.824835</td>\n",
       "      <td>-0.174993</td>\n",
       "    </tr>\n",
       "    <tr>\n",
       "      <th>0.95</th>\n",
       "      <td>0.999902</td>\n",
       "      <td>0.704181</td>\n",
       "      <td>0.748452</td>\n",
       "      <td>20398</td>\n",
       "      <td>2</td>\n",
       "      <td>29044</td>\n",
       "      <td>8569</td>\n",
       "      <td>0.000069</td>\n",
       "      <td>0.704181</td>\n",
       "      <td>-0.295751</td>\n",
       "    </tr>\n",
       "    <tr>\n",
       "      <th>1.00</th>\n",
       "      <td>0.000000</td>\n",
       "      <td>0.000000</td>\n",
       "      <td>0.000000</td>\n",
       "      <td>0</td>\n",
       "      <td>0</td>\n",
       "      <td>29046</td>\n",
       "      <td>28967</td>\n",
       "      <td>0.000000</td>\n",
       "      <td>0.000000</td>\n",
       "      <td>-1.000000</td>\n",
       "    </tr>\n",
       "  </tbody>\n",
       "</table>\n",
       "</div>"
      ],
      "text/plain": [
       "           Precision    Recall  F-2 Score  True Positive  False Positive  \\\n",
       "Threshold                                                                  \n",
       "0.00        0.499319  1.000000   0.832955          28967           29046   \n",
       "0.05        0.768716  0.999965   0.943217          28966            8715   \n",
       "0.10        0.874071  0.998964   0.971210          28937            4169   \n",
       "0.15        0.923973  0.998964   0.983008          28937            2381   \n",
       "0.20        0.952589  0.998826   0.989223          28933            1440   \n",
       "0.25        0.967982  0.998792   0.992474          28932             957   \n",
       "0.30        0.978650  0.998516   0.994478          28924             631   \n",
       "0.35        0.985954  0.998377   0.995868          28920             412   \n",
       "0.40        0.990069  0.998101   0.996484          28912             290   \n",
       "0.45        0.992749  0.997273   0.996365          28888             211   \n",
       "0.50        0.994896  0.995995   0.995775          28851             148   \n",
       "0.55        0.996297  0.993924   0.994398          28791             107   \n",
       "0.60        0.997185  0.990437   0.991780          28690              81   \n",
       "0.65        0.998180  0.984465   0.987178          28517              52   \n",
       "0.70        0.998657  0.975282   0.979869          28251              38   \n",
       "0.75        0.998994  0.960162   0.967685          27813              28   \n",
       "0.80        0.999445  0.933234   0.945765          27033              15   \n",
       "0.85        0.999613  0.892153   0.911756          25843              10   \n",
       "0.90        0.999791  0.824835   0.854750          23893               5   \n",
       "0.95        0.999902  0.704181   0.748452          20398               2   \n",
       "1.00        0.000000  0.000000   0.000000              0               0   \n",
       "\n",
       "           True_Negative  False Negative       FPR       TPR  TPR - (1-FPR)  \n",
       "Threshold                                                                    \n",
       "0.00                   0               0  1.000000  1.000000       1.000000  \n",
       "0.05               20331               1  0.300041  0.999965       0.300007  \n",
       "0.10               24877              30  0.143531  0.998964       0.142495  \n",
       "0.15               26665              30  0.081973  0.998964       0.080938  \n",
       "0.20               27606              34  0.049577  0.998826       0.048403  \n",
       "0.25               28089              35  0.032948  0.998792       0.031739  \n",
       "0.30               28415              43  0.021724  0.998516       0.020240  \n",
       "0.35               28634              47  0.014184  0.998377       0.012562  \n",
       "0.40               28756              55  0.009984  0.998101       0.008085  \n",
       "0.45               28835              79  0.007264  0.997273       0.004537  \n",
       "0.50               28898             116  0.005095  0.995995       0.001091  \n",
       "0.55               28939             176  0.003684  0.993924      -0.002392  \n",
       "0.60               28965             277  0.002789  0.990437      -0.006774  \n",
       "0.65               28994             450  0.001790  0.984465      -0.013745  \n",
       "0.70               29008             716  0.001308  0.975282      -0.023410  \n",
       "0.75               29018            1154  0.000964  0.960162      -0.038874  \n",
       "0.80               29031            1934  0.000516  0.933234      -0.066249  \n",
       "0.85               29036            3124  0.000344  0.892153      -0.107503  \n",
       "0.90               29041            5074  0.000172  0.824835      -0.174993  \n",
       "0.95               29044            8569  0.000069  0.704181      -0.295751  \n",
       "1.00               29046           28967  0.000000  0.000000      -1.000000  "
      ]
     },
     "execution_count": 228,
     "metadata": {},
     "output_type": "execute_result"
    }
   ],
   "source": [
    "df_threshold.set_index('Threshold')"
   ]
  },
  {
   "cell_type": "code",
   "execution_count": 229,
   "id": "ecb19bf6",
   "metadata": {},
   "outputs": [
    {
     "data": {
      "text/html": [
       "<div>\n",
       "<style scoped>\n",
       "    .dataframe tbody tr th:only-of-type {\n",
       "        vertical-align: middle;\n",
       "    }\n",
       "\n",
       "    .dataframe tbody tr th {\n",
       "        vertical-align: top;\n",
       "    }\n",
       "\n",
       "    .dataframe thead th {\n",
       "        text-align: right;\n",
       "    }\n",
       "</style>\n",
       "<table border=\"1\" class=\"dataframe\">\n",
       "  <thead>\n",
       "    <tr style=\"text-align: right;\">\n",
       "      <th></th>\n",
       "      <th>Threshold</th>\n",
       "      <th>Precision</th>\n",
       "      <th>Recall</th>\n",
       "      <th>F-2 Score</th>\n",
       "      <th>True Positive</th>\n",
       "      <th>False Positive</th>\n",
       "      <th>True_Negative</th>\n",
       "      <th>False Negative</th>\n",
       "      <th>FPR</th>\n",
       "      <th>TPR</th>\n",
       "      <th>TPR - (1-FPR)</th>\n",
       "    </tr>\n",
       "  </thead>\n",
       "  <tbody>\n",
       "    <tr>\n",
       "      <th>10</th>\n",
       "      <td>0.5</td>\n",
       "      <td>0.994896</td>\n",
       "      <td>0.995995</td>\n",
       "      <td>0.995775</td>\n",
       "      <td>28851</td>\n",
       "      <td>148</td>\n",
       "      <td>28898</td>\n",
       "      <td>116</td>\n",
       "      <td>0.005095</td>\n",
       "      <td>0.995995</td>\n",
       "      <td>0.001091</td>\n",
       "    </tr>\n",
       "  </tbody>\n",
       "</table>\n",
       "</div>"
      ],
      "text/plain": [
       "    Threshold  Precision    Recall  F-2 Score  True Positive  False Positive  \\\n",
       "10        0.5   0.994896  0.995995   0.995775          28851             148   \n",
       "\n",
       "    True_Negative  False Negative       FPR       TPR  TPR - (1-FPR)  \n",
       "10          28898             116  0.005095  0.995995       0.001091  "
      ]
     },
     "execution_count": 229,
     "metadata": {},
     "output_type": "execute_result"
    }
   ],
   "source": [
    "df_threshold[df_threshold['TPR - (1-FPR)'] == abs(df_threshold['TPR - (1-FPR)']).min()]"
   ]
  },
  {
   "cell_type": "code",
   "execution_count": 230,
   "id": "6e24782a",
   "metadata": {},
   "outputs": [
    {
     "data": {
      "image/png": "[encoded data removed]",
      "text/plain": [
       "<Figure size 576x432 with 1 Axes>"
      ]
     },
     "metadata": {
      "needs_background": "light"
     },
     "output_type": "display_data"
    }
   ],
   "source": [
    "plt.plot(x, df_threshold['Precision'])\n",
    "plt.plot(x, df_threshold['Recall'])\n",
    "plt.plot(x, df_threshold['F-2 Score'])\n",
    "plt.xticks(df_threshold['Threshold'], df_threshold['Threshold'].values)\n",
    "plt.axvline(0.85, color='black', alpha=0.3)\n",
    "plt.text(.5,.5,'',rotation=90, alpha=0.8, fontsize=16)\n",
    "plt.axvline(0.5, color='black', alpha=0.3)\n",
    "plt.text(.5,.0,'Default and Optimal Threshold',rotation=90, alpha=0.8, fontsize=16)\n",
    "plt.xlabel('Threshold')\n",
    "plt.legend(df_threshold[['Precision', 'Recall', 'F-2 Score']].columns)\n",
    "plt.title('Precision, Recall and F-2 vs Threshold')\n",
    "plt.xlim(0, 1)\n",
    "\n",
    "plt.tight_layout()\n",
    "plt.savefig('Thresholding: Precision, Recall and F-2 vs Threshold.png')"
   ]
  },
  {
   "cell_type": "markdown",
   "id": "99569b29",
   "metadata": {},
   "source": [
    "# New Context - Songs"
   ]
  },
  {
   "cell_type": "markdown",
   "id": "62dfaa98",
   "metadata": {},
   "source": [
    "The model predicts the source of the text very well, however it would be interesting to see how well the model predicts outside of the context of a social media posting.  Therefore, I decided to apply the model to lyrics of songs.  A quick search online identified some songs about suicide and some that were not about suicide.  The top performing model was applied to see how well the model performed with this new material from a different medium.\n"
   ]
  },
  {
   "cell_type": "code",
   "execution_count": 243,
   "id": "ab380ade",
   "metadata": {},
   "outputs": [],
   "source": [
    "\n",
    "save_myself ='i gave all my oxygen to people that could breathe i gave away my money and now we do not even speak i drove miles and miles but would you do the same for me oh honestly offered off my shoulder just for you to cry upon gave you constant shelter and a bed to keep you warm they gave me the heartache and in return i gave a song it goes on and on life can get you down so i just numb the way it feelsi drown it with a drink and out of date prescription pills and all the ones that love me they just left me on the shelf my farewell so before i save someone else i have got to save myself i gave you all my energy and i took away your pain because human beings are destined to radiate or dream what line do we stand upon because from here looks the same and only scars remain life can get you down so i just numb the way it feels i drown it with a drink and out of date prescription pills and all the ones that love me they just left me on the shelf my farewell so before i save someone else i have got to save myself but if do not then i will go back to where i am rescuing a stranger just because they needed saving just like that oh i am here again between the devil and the danger but i guess it is just my nature my dad was wrong because i am not like my mum because she would just smile and i am complaining in a song but it helps so before i save someone else i have got to save myself life can get you down so i just numb the way it feels i drown it with a drink and out of date prescription pills and all the ones that love me they just left me on the shelf my farewell so before i save someone else  i have got to save myself '"
   ]
  },
  {
   "cell_type": "code",
   "execution_count": 244,
   "id": "c24a865b",
   "metadata": {},
   "outputs": [],
   "source": [
    "everybody_hurts ='when your day is long and the night the night is yours alone when you are sure you have had enough of this life well hang on do not let yourself go because everybody cries everybody hurts sometimes ometimes everything is wrong now its time to sing along when your day is night alone hold on hold on if you feel like letting go hold on if you think you have had too much of this life well hang on because everybody hurts take comfort in your friends everybody hurts do not throw your hand oh no do not throw your hand if you feel like you are alone no no no you are not alone if you are on your own in this life the days and nights are long when you think you have had too much of this life to hang on well everybody hurts sometimes everybody cries everybody hurts sometimes and everybody hurts sometimes so hold on hold on hold on hold on hold on hold on hold on hold on everybody hurts'"
   ]
  },
  {
   "cell_type": "code",
   "execution_count": 245,
   "id": "3e1d53c0",
   "metadata": {},
   "outputs": [],
   "source": [
    "fire_rain ='just yesterday morning they let me know you were gone suzanne the plans they made put an end to you i walked out this morning and i wrote down this song i just can not remember who to send it to i have seen fire and I have seen rain i have seen sunny days that i thought would never endi have seen lonely times when i could not find a friend but i always thought that i would see you again will you not look down upon me jesus you have got to help me make a stand you have just got to see me through another day my body is aching and my time is at hand and i will not make it any other way oh  i have seen fire and i have seen rain i have seen sunny days that i thought would never end i have seen lonely times when i could not find a friend but i always thought that i would see you again been walking my mind to an easy time my back turned towards the sun lord knows, when the cold wind blows it will turn your head around well there is hours of time on the telephone line to talk about things to come sweet dreams and flying machines in pieces on the ground oh i have seen fire and I have seen rain i  have seen sunny days that i thought would never end i have seen lonely times when i could not find a friend but i always thought that I would see you baby one more time again now thought i would see you one more time again there is just a few things coming my way this time around now thought i would see you thought I would see you fire and rain now'"
   ]
  },
  {
   "cell_type": "code",
   "execution_count": 246,
   "id": "20209cd1",
   "metadata": {},
   "outputs": [],
   "source": [
    "happy_know_it = 'if you are happy and you know it clap your hands if you are happy and you know it then your face will surely show it if you are happy and you know if clap your hands'"
   ]
  },
  {
   "cell_type": "code",
   "execution_count": 247,
   "id": "f848d348",
   "metadata": {},
   "outputs": [],
   "source": [
    "wonderful_world = 'i see trees of green red roses too i see them bloom for me and you and i think to myself what a wonderful world i see skies of blue and clouds of white the bright blessed day the dark sacred night and i think to myself what a wonderful world the colors of the rainbow so pretty in the sky are also on the faces of people going by i see friends shaking hands saying how do you do they are really saying i love you i hear babies crying i watch them grow they willl learn much more than i will ever know and i think to myself what a wonderful world yes i think to myself what a wonderful world ooh yes'"
   ]
  },
  {
   "cell_type": "code",
   "execution_count": 248,
   "id": "389f9119",
   "metadata": {},
   "outputs": [],
   "source": [
    "r_roll = 'we are no strangers to love you know the rules and so do i a full commitment is what i am thinking of you would not get this from any other guy i just wanna tell you how i am feeling gotta make you understand never gonna give you up never gonna let you down never gonna run around and desert you never gonna make you cry never gonna say goodbye never gonna tell a lie and hurt you we have known each other for so long your heart has been aching but you are too shy to say it inside we both know what has been going on we know the game and we are gonna play it and if you ask me how i am feeling do not tell me you are too blind to see never gonna give you up never gonna let you down  never gonna run around and desert you never gonna make you cry never gonna say goodbye  never gonna tell a lie and hurt you never gonna give you up never gonna let you down never gonna run around and desert you never gonna make you cry never gonna say goodbye never gonna tell a lie and hurt you we have known each other for so long your heart has been aching but you are too shy to say it inside we both know what has been going on we know the game and we are gonna play it i just wanna tell you how i am feeling gotta make you understand never gonna give you up never gonna let you down never gonna run around and desert you never gonna make you cry never gonna say goodbye never gonna tell a lie and hurt you never gonna give you up never gonna let you down never gonna run around and desert you never gonna make you cry never gonna say goodbye never gonna tell a lie and hurt you never gonna give you up never gonna let you down never gonna run around and desert you never gonna make you cry never gonna say goodbye never gonna tell a lie and hurt you '"
   ]
  },
  {
   "cell_type": "code",
   "execution_count": 249,
   "id": "61ffa26b",
   "metadata": {},
   "outputs": [],
   "source": [
    "suicidal_thoughts = 'hello aw shit nigga what the fuck time is it man oh goddamn nigga do you know what time it is aw shit what the fuck is going on you aight nigga what the fuck is wrong with you when i die fuck it i wanna go to hell because i am a piece of shit it is not hard to fucking tell it does not make sense going to heaven with the goodie-goodies dressed in white i like black timbs and black hoodies god i will probably have me on some real strict shit no sleeping all day no getting my dick licked hanging with the goodie-goodies lounging in paradise fuck that shit i want to tote guns and shoot dice you talking some crazy shit now nigga all my life i been considered as the worst lying to my mother even stealing out her purse crime after crime from drugs to extortion i know my mother wish she got a fucking abortion she does not even love me like she did when i was younger get a hold of yourself nigga sucking on her chest just to stop my fucking hunger i wonder if i died would tears come to her eyes forgive me for my disrespect forgive me for my lies my baby mother iss eight months her little sister is two who is to blame for both of them nah nigga not you i swear to god i want to just slit my wrists and end this bullshit throw the magnum to my head threaten to pull shit nigga what the fuck and squeeze until the bed is completely red it is too late for this shit man i am glad i am dead a worthless fucking buddha head the stress is building up i cannot i cannot believe yo i am on my way over there man suicide is on my fuckin mind i wanna leave i swear to god i feel like death is fucking calling me but nah  you would not understand nigga talk to me please man you see it is kinda like the crack did to pookie in new jack except when i cross over there is no coming back yo i am going to call you when i get in the car should i die on the train track like ramo in beat street people at the funeral fronting like they miss me ayo where your girl at man my baby mama kiss me but she glad i am gone yo put your girl on the phone nigga she know me and her sister had something going on i reach my peak i cannot speak ayo, you listening to me motherfucker call my nigga chic tell him that my will is weak ayo come on nigga i am sick of niggas lying i am sick of bitches hawking matter of fact i am sick of talking ayo big ayo big please hang up and try your call again please hang up this is a recording '\n"
   ]
  },
  {
   "cell_type": "code",
   "execution_count": 250,
   "id": "ea2d907a",
   "metadata": {},
   "outputs": [],
   "source": [
    "adams_song = 'i never thought i would die alone i laughed the loudest who wouldd have known i trace the cord back to the wall no wonder it was never plugged in at all i took my time i hurried up the choice was mine i did not think enough i am too depressed to go on you will be sorry when i am gone i never conquered rarely came sixteen just held such better days days when i still felt alive we could not wait to get outside the world was wide too late to try the tour was over we had survived i could not wait until i got home to pass the time in my room alone i never thought i would die alone another six months i will be unknown give all my things to all my friends you will never step foot in my room again you will close it off board it up remember the time that i spilled the cup of apple juice in the hall please tell mom this is not her fault i never conquered rarely came sixteen just held such better days days when i still felt alive we could not wait to get outside the world was wide too late to try the tour was over we had survived i could not wait till i got home to pass the time in my room alone i never conquered rarely came tomorrow holds such better days days when i can still feel alive when i ca not wait to get outside the world is wide the time goes by the tour is over i have survived i can not wait until i get home to pass the time in my room alone'"
   ]
  },
  {
   "cell_type": "code",
   "execution_count": 251,
   "id": "05af17e4",
   "metadata": {},
   "outputs": [],
   "source": [
    "cemetary_drive = 'this night walk the dead in a solitary style and crash the cemetery gates in the dress your husband hates way down mark the grave where the search lights find us drinking by the mausoleum door and they found you on the bathroom floor i miss you i miss you so far and the collision of your kiss that made it so hard back home off the run singing songs that make you slit your wrists it is not that much fun staring down a loaded gun so, i will not stop dying will not stop lying if you want i will keep on crying did you get what you deserve is this what you always want me for i miss you i miss you so far and the collision of your kiss that made it so hard way down way down way down, way down i miss you i miss you so far and the collision of your kiss that made it so hard when will i miss you when will i miss you so far and the collision of your kiss that made it so hard made it so hard way down way down '"
   ]
  },
  {
   "cell_type": "code",
   "execution_count": 252,
   "id": "430509d1",
   "metadata": {},
   "outputs": [],
   "source": [
    "haunted = 'louder louder the voices in my head whispers taunting all the things you said faster the days go by and i am still stuck in this moment of wanting you here time in the blink of an eye you held my hand you held me tight now you are gone and i am still crying shocked broken i am dying inside where are you i need you do not leave me here on my own speak to me be near me i can not survive unless i know you are with me shadows linger only to my eye i see you i feel you do not leave my side it is not fair just when i found my world they took you they broke you they tore out your heart i miss you you hurt me you left with a smile mistaken your sadness was hiding inside now all that is left are the pieces to find the mystery you kept the soul behind a guise where are you i need you do not leave me here on my own speak to me be near me i can not survive unless i know you are with me why did you go all these questions run through my mind i wish i could not feel at all let me be numb i am starting to fall where are you i need you do not leave me here on my own speak to me be near me i can not survive unless i know you are with me where are you where are you you were smiling'"
   ]
  },
  {
   "cell_type": "code",
   "execution_count": 253,
   "id": "521d44b5",
   "metadata": {},
   "outputs": [],
   "source": [
    "dict1 = {'title':['Fire and Rain', 'Everybody Hurts', 'Happy and You Know It', 'Wonderful World', 'Never Gonna Give You Up', 'Save Myself', 'Adams Song', 'Cemetary Drive', 'Haunted'],\n",
    "        'song':[fire_rain, everybody_hurts, happy_know_it, wonderful_world, r_roll, save_myself, adams_song, cemetary_drive, haunted],\n",
    "        'length':[len(fire_rain), len(everybody_hurts), len(happy_know_it), len(wonderful_world), len(r_roll), len(save_myself), len(adams_song), len(cemetary_drive), len(haunted)], \n",
    "         'class': [1, 1 ,0, 0, 0, 1, 1, 1, 1]\n",
    "       }"
   ]
  },
  {
   "cell_type": "code",
   "execution_count": 256,
   "id": "fd7790be",
   "metadata": {},
   "outputs": [],
   "source": [
    "df_song = pd.DataFrame(dict1)"
   ]
  },
  {
   "cell_type": "code",
   "execution_count": 257,
   "id": "6ed7894f",
   "metadata": {},
   "outputs": [
    {
     "data": {
      "text/html": [
       "<div>\n",
       "<style scoped>\n",
       "    .dataframe tbody tr th:only-of-type {\n",
       "        vertical-align: middle;\n",
       "    }\n",
       "\n",
       "    .dataframe tbody tr th {\n",
       "        vertical-align: top;\n",
       "    }\n",
       "\n",
       "    .dataframe thead th {\n",
       "        text-align: right;\n",
       "    }\n",
       "</style>\n",
       "<table border=\"1\" class=\"dataframe\">\n",
       "  <thead>\n",
       "    <tr style=\"text-align: right;\">\n",
       "      <th></th>\n",
       "      <th>title</th>\n",
       "      <th>song</th>\n",
       "      <th>length</th>\n",
       "      <th>class</th>\n",
       "    </tr>\n",
       "  </thead>\n",
       "  <tbody>\n",
       "    <tr>\n",
       "      <th>0</th>\n",
       "      <td>Fire and Rain</td>\n",
       "      <td>just yesterday morning they let me know you we...</td>\n",
       "      <td>1455</td>\n",
       "      <td>1</td>\n",
       "    </tr>\n",
       "    <tr>\n",
       "      <th>1</th>\n",
       "      <td>Everybody Hurts</td>\n",
       "      <td>when your day is long and the night the night ...</td>\n",
       "      <td>886</td>\n",
       "      <td>1</td>\n",
       "    </tr>\n",
       "    <tr>\n",
       "      <th>2</th>\n",
       "      <td>Happy and You Know It</td>\n",
       "      <td>if you are happy and you know it clap your han...</td>\n",
       "      <td>165</td>\n",
       "      <td>0</td>\n",
       "    </tr>\n",
       "    <tr>\n",
       "      <th>3</th>\n",
       "      <td>Wonderful World</td>\n",
       "      <td>i see trees of green red roses too i see them ...</td>\n",
       "      <td>598</td>\n",
       "      <td>0</td>\n",
       "    </tr>\n",
       "    <tr>\n",
       "      <th>4</th>\n",
       "      <td>Never Gonna Give You Up</td>\n",
       "      <td>we are no strangers to love you know the rules...</td>\n",
       "      <td>1741</td>\n",
       "      <td>0</td>\n",
       "    </tr>\n",
       "    <tr>\n",
       "      <th>5</th>\n",
       "      <td>Save Myself</td>\n",
       "      <td>i gave all my oxygen to people that could brea...</td>\n",
       "      <td>1632</td>\n",
       "      <td>1</td>\n",
       "    </tr>\n",
       "    <tr>\n",
       "      <th>6</th>\n",
       "      <td>Adams Song</td>\n",
       "      <td>i never thought i would die alone i laughed th...</td>\n",
       "      <td>1364</td>\n",
       "      <td>1</td>\n",
       "    </tr>\n",
       "    <tr>\n",
       "      <th>7</th>\n",
       "      <td>Cemetary Drive</td>\n",
       "      <td>this night walk the dead in a solitary style a...</td>\n",
       "      <td>911</td>\n",
       "      <td>1</td>\n",
       "    </tr>\n",
       "    <tr>\n",
       "      <th>8</th>\n",
       "      <td>Haunted</td>\n",
       "      <td>louder louder the voices in my head whispers t...</td>\n",
       "      <td>1181</td>\n",
       "      <td>1</td>\n",
       "    </tr>\n",
       "  </tbody>\n",
       "</table>\n",
       "</div>"
      ],
      "text/plain": [
       "                     title                                               song  \\\n",
       "0            Fire and Rain  just yesterday morning they let me know you we...   \n",
       "1          Everybody Hurts  when your day is long and the night the night ...   \n",
       "2    Happy and You Know It  if you are happy and you know it clap your han...   \n",
       "3          Wonderful World  i see trees of green red roses too i see them ...   \n",
       "4  Never Gonna Give You Up  we are no strangers to love you know the rules...   \n",
       "5              Save Myself  i gave all my oxygen to people that could brea...   \n",
       "6               Adams Song  i never thought i would die alone i laughed th...   \n",
       "7           Cemetary Drive  this night walk the dead in a solitary style a...   \n",
       "8                  Haunted  louder louder the voices in my head whispers t...   \n",
       "\n",
       "   length  class  \n",
       "0    1455      1  \n",
       "1     886      1  \n",
       "2     165      0  \n",
       "3     598      0  \n",
       "4    1741      0  \n",
       "5    1632      1  \n",
       "6    1364      1  \n",
       "7     911      1  \n",
       "8    1181      1  "
      ]
     },
     "execution_count": 257,
     "metadata": {},
     "output_type": "execute_result"
    }
   ],
   "source": [
    "df_song"
   ]
  },
  {
   "cell_type": "code",
   "execution_count": 258,
   "id": "19d9ad7e",
   "metadata": {},
   "outputs": [
    {
     "data": {
      "text/plain": [
       "LogisticRegression(C=10)"
      ]
     },
     "execution_count": 258,
     "metadata": {},
     "output_type": "execute_result"
    }
   ],
   "source": [
    "lr_tfid = LogisticRegression(C = 10)\n",
    "lr_tfid.fit(X_test11, y_test11)"
   ]
  },
  {
   "cell_type": "code",
   "execution_count": 259,
   "id": "596fbf58",
   "metadata": {},
   "outputs": [],
   "source": [
    "text_matrix =  vectorizor_tfid.transform(df_song['song'])\n",
    "X_song = text_matrix.tocsc()\n",
    "y_song = df_song['class']"
   ]
  },
  {
   "cell_type": "code",
   "execution_count": 260,
   "id": "a97ec748",
   "metadata": {},
   "outputs": [
    {
     "data": {
      "text/plain": [
       "array([0, 1, 0, 0, 0, 1, 1, 1, 1])"
      ]
     },
     "execution_count": 260,
     "metadata": {},
     "output_type": "execute_result"
    }
   ],
   "source": [
    "lr_tfid.predict(X_song)"
   ]
  },
  {
   "cell_type": "code",
   "execution_count": 261,
   "id": "4a92c2fe",
   "metadata": {},
   "outputs": [],
   "source": [
    "song_pred = lr_tfid.predict(X_song)"
   ]
  },
  {
   "cell_type": "code",
   "execution_count": 262,
   "id": "38b3d76b",
   "metadata": {},
   "outputs": [
    {
     "data": {
      "text/plain": [
       "0.8333333333333334"
      ]
     },
     "execution_count": 262,
     "metadata": {},
     "output_type": "execute_result"
    }
   ],
   "source": [
    "metrics.recall_score(y_song,song_pred, pos_label = 1)"
   ]
  }
 ],
 "metadata": {
  "kernelspec": {
   "display_name": "Python 3 (ipykernel)",
   "language": "python",
   "name": "python3"
  },
  "language_info": {
   "codemirror_mode": {
    "name": "ipython",
    "version": 3
   },
   "file_extension": ".py",
   "mimetype": "text/x-python",
   "name": "python",
   "nbconvert_exporter": "python",
   "pygments_lexer": "ipython3",
   "version": "3.9.12"
  }
 },
 "nbformat": 4,
 "nbformat_minor": 5
}
