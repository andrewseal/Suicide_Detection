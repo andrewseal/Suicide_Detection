{
 "cells": [
  {
   "cell_type": "code",
   "execution_count": 1,
   "id": "436c7d92",
   "metadata": {},
   "outputs": [],
   "source": [
    "import pandas as pd\n",
    "from sklearn.feature_extraction.text import CountVectorizer\n",
    "from sklearn.model_selection import train_test_split, cross_validate, GridSearchCV, learning_curve\n",
    "import numpy as np\n",
    "import matplotlib.pyplot as plt\n",
    "from sklearn.naive_bayes import MultinomialNB\n",
    "from sklearn import tree, metrics\n",
    "\n",
    "from sklearn.pipeline import Pipeline, FeatureUnion\n",
    "\n",
    "from sklearn.linear_model import LogisticRegression"
   ]
  },
  {
   "cell_type": "code",
   "execution_count": 2,
   "id": "06db682d",
   "metadata": {},
   "outputs": [],
   "source": [
    "df = pd.read_csv('Suicide_Detection_Cleaned.csv')"
   ]
  },
  {
   "cell_type": "code",
   "execution_count": 3,
   "id": "e3780e1c",
   "metadata": {},
   "outputs": [],
   "source": [
    "df = df.dropna()"
   ]
  },
  {
   "cell_type": "code",
   "execution_count": 4,
   "id": "d853623d",
   "metadata": {},
   "outputs": [
    {
     "name": "stderr",
     "output_type": "stream",
     "text": [
      "C:\\Users\\BETH&A~1\\AppData\\Local\\Temp/ipykernel_14380/3149362354.py:1: SettingWithCopyWarning: \n",
      "A value is trying to be set on a copy of a slice from a DataFrame\n",
      "\n",
      "See the caveats in the documentation: https://pandas.pydata.org/pandas-docs/stable/user_guide/indexing.html#returning-a-view-versus-a-copy\n",
      "  df['class'][df['class'] == 'suicide'] = 1\n",
      "C:\\Users\\BETH&A~1\\AppData\\Local\\Temp/ipykernel_14380/3149362354.py:2: SettingWithCopyWarning: \n",
      "A value is trying to be set on a copy of a slice from a DataFrame\n",
      "\n",
      "See the caveats in the documentation: https://pandas.pydata.org/pandas-docs/stable/user_guide/indexing.html#returning-a-view-versus-a-copy\n",
      "  df['class'][df['class'] == 'non-suicide'] = 0\n"
     ]
    }
   ],
   "source": [
    "df['class'][df['class'] == 'suicide'] = 1\n",
    "df['class'][df['class'] == 'non-suicide'] = 0"
   ]
  },
  {
   "cell_type": "code",
   "execution_count": 5,
   "id": "2bb01ca4",
   "metadata": {},
   "outputs": [],
   "source": [
    "df['class'] = df['class'].astype(int)"
   ]
  },
  {
   "cell_type": "code",
   "execution_count": 6,
   "id": "2419f7da",
   "metadata": {},
   "outputs": [],
   "source": [
    "vectorizer = CountVectorizer(min_df=3)\n",
    "X = vectorizer.fit_transform(df['clean_text'])\n",
    "X = X.tocsc() \n",
    "y = df['class']"
   ]
  },
  {
   "cell_type": "code",
   "execution_count": null,
   "id": "aab21a75",
   "metadata": {},
   "outputs": [],
   "source": []
  },
  {
   "cell_type": "code",
   "execution_count": 7,
   "id": "fd1bced0",
   "metadata": {},
   "outputs": [],
   "source": [
    "X_train1, X_test1, y_train1, y_test1 = train_test_split(X, y, test_size=0.25, random_state=12)"
   ]
  },
  {
   "cell_type": "code",
   "execution_count": 8,
   "id": "c99e0094",
   "metadata": {},
   "outputs": [
    {
     "data": {
      "text/html": [
       "<style>#sk-container-id-1 {color: black;background-color: white;}#sk-container-id-1 pre{padding: 0;}#sk-container-id-1 div.sk-toggleable {background-color: white;}#sk-container-id-1 label.sk-toggleable__label {cursor: pointer;display: block;width: 100%;margin-bottom: 0;padding: 0.3em;box-sizing: border-box;text-align: center;}#sk-container-id-1 label.sk-toggleable__label-arrow:before {content: \"▸\";float: left;margin-right: 0.25em;color: #696969;}#sk-container-id-1 label.sk-toggleable__label-arrow:hover:before {color: black;}#sk-container-id-1 div.sk-estimator:hover label.sk-toggleable__label-arrow:before {color: black;}#sk-container-id-1 div.sk-toggleable__content {max-height: 0;max-width: 0;overflow: hidden;text-align: left;background-color: #f0f8ff;}#sk-container-id-1 div.sk-toggleable__content pre {margin: 0.2em;color: black;border-radius: 0.25em;background-color: #f0f8ff;}#sk-container-id-1 input.sk-toggleable__control:checked~div.sk-toggleable__content {max-height: 200px;max-width: 100%;overflow: auto;}#sk-container-id-1 input.sk-toggleable__control:checked~label.sk-toggleable__label-arrow:before {content: \"▾\";}#sk-container-id-1 div.sk-estimator input.sk-toggleable__control:checked~label.sk-toggleable__label {background-color: #d4ebff;}#sk-container-id-1 div.sk-label input.sk-toggleable__control:checked~label.sk-toggleable__label {background-color: #d4ebff;}#sk-container-id-1 input.sk-hidden--visually {border: 0;clip: rect(1px 1px 1px 1px);clip: rect(1px, 1px, 1px, 1px);height: 1px;margin: -1px;overflow: hidden;padding: 0;position: absolute;width: 1px;}#sk-container-id-1 div.sk-estimator {font-family: monospace;background-color: #f0f8ff;border: 1px dotted black;border-radius: 0.25em;box-sizing: border-box;margin-bottom: 0.5em;}#sk-container-id-1 div.sk-estimator:hover {background-color: #d4ebff;}#sk-container-id-1 div.sk-parallel-item::after {content: \"\";width: 100%;border-bottom: 1px solid gray;flex-grow: 1;}#sk-container-id-1 div.sk-label:hover label.sk-toggleable__label {background-color: #d4ebff;}#sk-container-id-1 div.sk-serial::before {content: \"\";position: absolute;border-left: 1px solid gray;box-sizing: border-box;top: 0;bottom: 0;left: 50%;z-index: 0;}#sk-container-id-1 div.sk-serial {display: flex;flex-direction: column;align-items: center;background-color: white;padding-right: 0.2em;padding-left: 0.2em;position: relative;}#sk-container-id-1 div.sk-item {position: relative;z-index: 1;}#sk-container-id-1 div.sk-parallel {display: flex;align-items: stretch;justify-content: center;background-color: white;position: relative;}#sk-container-id-1 div.sk-item::before, #sk-container-id-1 div.sk-parallel-item::before {content: \"\";position: absolute;border-left: 1px solid gray;box-sizing: border-box;top: 0;bottom: 0;left: 50%;z-index: -1;}#sk-container-id-1 div.sk-parallel-item {display: flex;flex-direction: column;z-index: 1;position: relative;background-color: white;}#sk-container-id-1 div.sk-parallel-item:first-child::after {align-self: flex-end;width: 50%;}#sk-container-id-1 div.sk-parallel-item:last-child::after {align-self: flex-start;width: 50%;}#sk-container-id-1 div.sk-parallel-item:only-child::after {width: 0;}#sk-container-id-1 div.sk-dashed-wrapped {border: 1px dashed gray;margin: 0 0.4em 0.5em 0.4em;box-sizing: border-box;padding-bottom: 0.4em;background-color: white;}#sk-container-id-1 div.sk-label label {font-family: monospace;font-weight: bold;display: inline-block;line-height: 1.2em;}#sk-container-id-1 div.sk-label-container {text-align: center;}#sk-container-id-1 div.sk-container {/* jupyter's `normalize.less` sets `[hidden] { display: none; }` but bootstrap.min.css set `[hidden] { display: none !important; }` so we also need the `!important` here to be able to override the default hidden behavior on the sphinx rendered scikit-learn.org. See: https://github.com/scikit-learn/scikit-learn/issues/21755 */display: inline-block !important;position: relative;}#sk-container-id-1 div.sk-text-repr-fallback {display: none;}</style><div id=\"sk-container-id-1\" class=\"sk-top-container\"><div class=\"sk-text-repr-fallback\"><pre>MultinomialNB(alpha=0.2)</pre><b>In a Jupyter environment, please rerun this cell to show the HTML representation or trust the notebook. <br />On GitHub, the HTML representation is unable to render, please try loading this page with nbviewer.org.</b></div><div class=\"sk-container\" hidden><div class=\"sk-item\"><div class=\"sk-estimator sk-toggleable\"><input class=\"sk-toggleable__control sk-hidden--visually\" id=\"sk-estimator-id-1\" type=\"checkbox\" checked><label for=\"sk-estimator-id-1\" class=\"sk-toggleable__label sk-toggleable__label-arrow\">MultinomialNB</label><div class=\"sk-toggleable__content\"><pre>MultinomialNB(alpha=0.2)</pre></div></div></div></div></div>"
      ],
      "text/plain": [
       "MultinomialNB(alpha=0.2)"
      ]
     },
     "execution_count": 8,
     "metadata": {},
     "output_type": "execute_result"
    }
   ],
   "source": [
    "nbcv = MultinomialNB(alpha = 0.2)\n",
    "nbcv.fit(X_train1, y_train1)"
   ]
  },
  {
   "cell_type": "code",
   "execution_count": 9,
   "id": "3eac9714",
   "metadata": {},
   "outputs": [],
   "source": [
    "y_train_pred1 = nbcv.predict(X_train1)\n",
    "y_pred1 = nbcv.predict(X_test1)"
   ]
  },
  {
   "cell_type": "code",
   "execution_count": 10,
   "id": "e09cadf1",
   "metadata": {},
   "outputs": [],
   "source": [
    "training_accuracy_nbcv = nbcv.score(X_train1, y_train1)\n",
    "test_accuracy_nbcv = nbcv.score(X_test1, y_test1)"
   ]
  },
  {
   "cell_type": "code",
   "execution_count": 11,
   "id": "ce2c49b3",
   "metadata": {},
   "outputs": [
    {
     "name": "stdout",
     "output_type": "stream",
     "text": [
      "Accuracy on training data: 0.918362\n",
      "Accuracy on test data:     0.912347\n"
     ]
    }
   ],
   "source": [
    "print(\"Accuracy on training data: {:2f}\".format(training_accuracy_nbcv))\n",
    "print(\"Accuracy on test data:     {:2f}\".format(test_accuracy_nbcv))"
   ]
  },
  {
   "cell_type": "code",
   "execution_count": 12,
   "id": "67fcb219",
   "metadata": {},
   "outputs": [
    {
     "name": "stdout",
     "output_type": "stream",
     "text": [
      "Accuracy: 0.9123472325168497\n",
      "Balanced accuracy: 0.9124044626011576\n",
      "Precision score 0.8801413472558258\n",
      "Recall score 0.9544309041322885\n",
      "F1 score 0.9157819771774954\n",
      "ROC_AUC Score 0.9124044626011576\n"
     ]
    }
   ],
   "source": [
    "from sklearn import tree, metrics\n",
    "accuracy_nbcv = metrics.accuracy_score(y_test1,y_pred1)\n",
    "balanced_accuracy_nbcv = metrics.balanced_accuracy_score(y_test1,y_pred1)\n",
    "precision_nbcv = metrics.precision_score(y_test1,y_pred1, pos_label = 1)\n",
    "recall_nbcv = metrics.recall_score(y_test1,y_pred1, pos_label = 1)\n",
    "f1_nbcv = metrics.f1_score(y_test1, y_pred1, pos_label = 1)\n",
    "roc_auc_nbcv = metrics.roc_auc_score(y_test1, y_pred1)\n",
    "print(\"Accuracy:\", accuracy_nbcv)\n",
    "print(\"Balanced accuracy:\", balanced_accuracy_nbcv)\n",
    "print('Precision score' , precision_nbcv)\n",
    "print('Recall score' , recall_nbcv)\n",
    "print('F1 score' , f1_nbcv)\n",
    "print('ROC_AUC Score' , roc_auc_nbcv)"
   ]
  },
  {
   "cell_type": "code",
   "execution_count": 13,
   "id": "fcdb5cb8",
   "metadata": {},
   "outputs": [
    {
     "name": "stdout",
     "output_type": "stream",
     "text": [
      "True Suicide: 27647\n",
      "False Suicide: 3765\n",
      "True Non-Suicide: 25281\n",
      "False Non-Suicide: 1320\n"
     ]
    }
   ],
   "source": [
    "from sklearn.metrics import confusion_matrix\n",
    "tn_nbcv, fp_nbcv, fn_nbcv, tp_nbcv = confusion_matrix(y_test1, y_pred1).ravel()\n",
    "print(f'True Suicide: {tp_nbcv}')\n",
    "print(f'False Suicide: {fp_nbcv}')\n",
    "print(f'True Non-Suicide: {tn_nbcv}')\n",
    "print(f'False Non-Suicide: {fn_nbcv}')"
   ]
  },
  {
   "cell_type": "code",
   "execution_count": 14,
   "id": "66bc97d0",
   "metadata": {},
   "outputs": [
    {
     "data": {
      "text/html": [
       "<div>\n",
       "<style scoped>\n",
       "    .dataframe tbody tr th:only-of-type {\n",
       "        vertical-align: middle;\n",
       "    }\n",
       "\n",
       "    .dataframe tbody tr th {\n",
       "        vertical-align: top;\n",
       "    }\n",
       "\n",
       "    .dataframe thead th {\n",
       "        text-align: right;\n",
       "    }\n",
       "</style>\n",
       "<table border=\"1\" class=\"dataframe\">\n",
       "  <thead>\n",
       "    <tr style=\"text-align: right;\">\n",
       "      <th></th>\n",
       "      <th>Predicted Non-Suicide</th>\n",
       "      <th>Predicted Suicide</th>\n",
       "    </tr>\n",
       "  </thead>\n",
       "  <tbody>\n",
       "    <tr>\n",
       "      <th>Actual Non-Suicide</th>\n",
       "      <td>25281</td>\n",
       "      <td>3765</td>\n",
       "    </tr>\n",
       "    <tr>\n",
       "      <th>Actual Suicide</th>\n",
       "      <td>1320</td>\n",
       "      <td>27647</td>\n",
       "    </tr>\n",
       "  </tbody>\n",
       "</table>\n",
       "</div>"
      ],
      "text/plain": [
       "                    Predicted Non-Suicide  Predicted Suicide\n",
       "Actual Non-Suicide                  25281               3765\n",
       "Actual Suicide                       1320              27647"
      ]
     },
     "execution_count": 14,
     "metadata": {},
     "output_type": "execute_result"
    }
   ],
   "source": [
    "pd.DataFrame(confusion_matrix(y_test1, y_pred1), columns=['Predicted Non-Suicide', \"Predicted Suicide\"], index=['Actual Non-Suicide', 'Actual Suicide'])"
   ]
  },
  {
   "cell_type": "code",
   "execution_count": 15,
   "id": "77e87104",
   "metadata": {},
   "outputs": [
    {
     "data": {
      "image/png": "[encoded data removed]",
      "text/plain": [
       "<Figure size 576x432 with 1 Axes>"
      ]
     },
     "metadata": {
      "needs_background": "light"
     },
     "output_type": "display_data"
    }
   ],
   "source": [
    "y_pred_proba1 = nbcv.predict_proba(X_test1)[::,1]\n",
    "fpr1, tpr1, _ = metrics.roc_curve(y_test1,  y_pred_proba1)\n",
    "plt.rcParams.update({'figure.figsize': (8, 6.0)})\n",
    "#create ROC curve\n",
    "plt.plot(fpr1,tpr1)\n",
    "plt.plot([0, 1], [0, 1],'r--')\n",
    "plt.title(\"ROC_AUC CURVE Naive Bayes with Count Vectorizer\")\n",
    "plt.ylabel('True Positive Rate')\n",
    "plt.xlabel('False Positive Rate')\n",
    "plt.tight_layout()\n",
    "plt.savefig('ROC_AUC Naive Bayes with Count Vectorizer.png')"
   ]
  },
  {
   "cell_type": "code",
   "execution_count": 16,
   "id": "4b4f4786",
   "metadata": {},
   "outputs": [],
   "source": [
    "# What do we care about?  \n",
    "# Definitions:  1) True Positive:  Predicted as Suicide and Actually were suicide\n",
    "#               2) True Negative:  Predicted as Non-Suicide and were non-suicide\n",
    "#               3)  False Positive:  Predicted as Suicide and were not suicie\n",
    "#               4)  False Negative:  Predicted as non-suicide and WERE ACTUALLY SUICIDE\n",
    "\n",
    "#    precision = tp/(tp+fp)\n",
    "#    recall =  tp/(tp+fn)\n",
    "\n",
    "# F1 = Harmonic mean of precision and recall\n",
    "# Fbeta adjusts the weighting of precision and recall F2 increases importance of recall F0.5 increases weighting of precision\n",
    "\n",
    "#  Ultimately if we are predicting who is suicidal and we predict :\n",
    "#  False Positive...perhaps attention is paid to an individual who is not really suicidal\n",
    "#  False Negative...someone who is really suicidal is ignored\n",
    "\n",
    "#  THEREFORE  we care more about False Negative \n",
    "#  any Fbeta score should weigh RECALL more than precision  "
   ]
  },
  {
   "cell_type": "code",
   "execution_count": 17,
   "id": "40c79841",
   "metadata": {},
   "outputs": [],
   "source": [
    "from sklearn.metrics import classification_report\n",
    "\n",
    "def precision_recall(model, X_test, y_test, threshold, beta = 0.5):\n",
    "    \n",
    "    y_pred = (model.predict_proba(X_test)[:,1] >= threshold).astype(bool)\n",
    "    matrix = confusion_matrix(y_test, y_pred)\n",
    "    \n",
    "    #print(threshold,'\\n', matrix)\n",
    "    \n",
    "    tn = matrix[0,0]# pets that were predicted to get adopted and did\n",
    "    tp = matrix[1,1]# pets that were predicted not to get adopted and didn't\n",
    "    fp = matrix[0,1]# pets that were predicted not to get adopted but did\n",
    "    fn = matrix[1,0]# pets that were predicted to get adopted but didn't\n",
    "    \n",
    "    precision = tp/(tp+fp)\n",
    "    recall = tp/(tp+fn)\n",
    "    \n",
    "    f_beta = fbeta_score(y_test, y_pred, beta=beta)\n",
    "    \n",
    "    return([precision, recall, f_beta])"
   ]
  },
  {
   "cell_type": "code",
   "execution_count": 18,
   "id": "6b99eb4e",
   "metadata": {},
   "outputs": [
    {
     "name": "stdout",
     "output_type": "stream",
     "text": [
      "              precision    recall  f1-score   support\n",
      "\n",
      "           0       0.95      0.85      0.90     29046\n",
      "           1       0.87      0.96      0.91     28967\n",
      "\n",
      "    accuracy                           0.91     58013\n",
      "   macro avg       0.91      0.91      0.91     58013\n",
      "weighted avg       0.91      0.91      0.91     58013\n",
      "\n"
     ]
    }
   ],
   "source": [
    "y_pred = (nbcv.predict_proba(X_test1)[:,1] >= 0.38).astype(bool)\n",
    "\n",
    "print(classification_report(y_test1,y_pred))"
   ]
  },
  {
   "cell_type": "code",
   "execution_count": 19,
   "id": "fb0d664d",
   "metadata": {},
   "outputs": [
    {
     "name": "stdout",
     "output_type": "stream",
     "text": [
      "              precision    recall  f1-score   support\n",
      "\n",
      "           0       0.95      0.87      0.91     29046\n",
      "           1       0.88      0.95      0.92     28967\n",
      "\n",
      "    accuracy                           0.91     58013\n",
      "   macro avg       0.92      0.91      0.91     58013\n",
      "weighted avg       0.92      0.91      0.91     58013\n",
      "\n"
     ]
    }
   ],
   "source": [
    "y_pred = (nbcv.predict_proba(X_test1)[:,1] >= 0.5).astype(bool)\n",
    "\n",
    "print(classification_report(y_test1,y_pred))"
   ]
  },
  {
   "cell_type": "code",
   "execution_count": 20,
   "id": "f0cbb36b",
   "metadata": {},
   "outputs": [
    {
     "name": "stdout",
     "output_type": "stream",
     "text": [
      "Accuracy: 0.9123472325168497\n",
      "Balanced accuracy: 0.9124044626011576\n",
      "Precision score 0.8801413472558258\n",
      "Recall score 0.9544309041322885\n",
      "F1 score 0.9157819771774954\n",
      "ROC_AUC Score 0.9124044626011576\n"
     ]
    }
   ],
   "source": [
    "from sklearn import tree, metrics\n",
    "accuracy_nbcv = metrics.accuracy_score(y_test1,y_pred1)\n",
    "balanced_accuracy_nbcv = metrics.balanced_accuracy_score(y_test1,y_pred1)\n",
    "precision_nbcv = metrics.precision_score(y_test1,y_pred1, pos_label = 1)\n",
    "recall_nbcv = metrics.recall_score(y_test1,y_pred1, pos_label = 1)\n",
    "f1_nbcv = metrics.f1_score(y_test1, y_pred1, pos_label = 1)\n",
    "roc_auc_nbcv = metrics.roc_auc_score(y_test1, y_pred1)\n",
    "print(\"Accuracy:\", accuracy_nbcv)\n",
    "print(\"Balanced accuracy:\", balanced_accuracy_nbcv)\n",
    "print('Precision score' , precision_nbcv)\n",
    "print('Recall score' , recall_nbcv)\n",
    "print('F1 score' , f1_nbcv)\n",
    "print('ROC_AUC Score' , roc_auc_nbcv)"
   ]
  },
  {
   "cell_type": "markdown",
   "id": "5475c2e0",
   "metadata": {},
   "source": [
    "# Thresholding"
   ]
  },
  {
   "cell_type": "code",
   "execution_count": 21,
   "id": "0a5906f5",
   "metadata": {},
   "outputs": [],
   "source": [
    "from sklearn import tree, metrics\n",
    "from sklearn.metrics import fbeta_score\n",
    "d = []\n",
    "for i in [0, 0.05, 0.1, 0.15, 0.2, 0.25, 0.3, 0.35, 0.4, 0.45, 0.5, 0.55, 0.6, 0.65, 0.7, 0.75, 0.8, 0.85, 0.9, 0.95, 1 ]:\n",
    "    y_pred = (nbcv.predict_proba(X_test1)[:,1] >= i).astype(bool)\n",
    "    precision = metrics.precision_score(y_test1,y_pred, pos_label = 1)\n",
    "    recall = metrics.recall_score(y_test1, y_pred, pos_label = 1)\n",
    "    f_beta = fbeta_score(y_test1, y_pred, beta=2)\n",
    "    tn_nbcv, fp_nbcv, fn_nbcv, tp_nbcv = confusion_matrix(y_test1, y_pred).ravel()\n",
    "    d.append((i, precision, recall, f_beta, tp_nbcv, fp_nbcv, tn_nbcv, fn_nbcv))\n",
    " "
   ]
  },
  {
   "cell_type": "code",
   "execution_count": 22,
   "id": "67ea6b89",
   "metadata": {},
   "outputs": [],
   "source": [
    "df_threshold = pd.DataFrame(d, columns = ('Threshold', 'Precision', 'Recall', 'F-2 Score', 'True Positive', 'False Positive', 'True_Negative', 'False Negative'))\n"
   ]
  },
  {
   "cell_type": "code",
   "execution_count": 23,
   "id": "d5199e9d",
   "metadata": {},
   "outputs": [
    {
     "data": {
      "text/html": [
       "<div>\n",
       "<style scoped>\n",
       "    .dataframe tbody tr th:only-of-type {\n",
       "        vertical-align: middle;\n",
       "    }\n",
       "\n",
       "    .dataframe tbody tr th {\n",
       "        vertical-align: top;\n",
       "    }\n",
       "\n",
       "    .dataframe thead th {\n",
       "        text-align: right;\n",
       "    }\n",
       "</style>\n",
       "<table border=\"1\" class=\"dataframe\">\n",
       "  <thead>\n",
       "    <tr style=\"text-align: right;\">\n",
       "      <th></th>\n",
       "      <th>Threshold</th>\n",
       "      <th>Precision</th>\n",
       "      <th>Recall</th>\n",
       "      <th>F-2 Score</th>\n",
       "      <th>True Positive</th>\n",
       "      <th>False Positive</th>\n",
       "      <th>True_Negative</th>\n",
       "      <th>False Negative</th>\n",
       "      <th>FPR</th>\n",
       "      <th>TPR</th>\n",
       "      <th>TPR - (1-FPR)</th>\n",
       "    </tr>\n",
       "  </thead>\n",
       "  <tbody>\n",
       "    <tr>\n",
       "      <th>20</th>\n",
       "      <td>1.00</td>\n",
       "      <td>0.988352</td>\n",
       "      <td>0.322229</td>\n",
       "      <td>0.372430</td>\n",
       "      <td>9334</td>\n",
       "      <td>110</td>\n",
       "      <td>28936</td>\n",
       "      <td>19633</td>\n",
       "      <td>0.003787</td>\n",
       "      <td>0.322229</td>\n",
       "      <td>-0.673984</td>\n",
       "    </tr>\n",
       "    <tr>\n",
       "      <th>19</th>\n",
       "      <td>0.95</td>\n",
       "      <td>0.934972</td>\n",
       "      <td>0.899403</td>\n",
       "      <td>0.906298</td>\n",
       "      <td>26053</td>\n",
       "      <td>1812</td>\n",
       "      <td>27234</td>\n",
       "      <td>2914</td>\n",
       "      <td>0.062384</td>\n",
       "      <td>0.899403</td>\n",
       "      <td>-0.038213</td>\n",
       "    </tr>\n",
       "    <tr>\n",
       "      <th>18</th>\n",
       "      <td>0.90</td>\n",
       "      <td>0.926053</td>\n",
       "      <td>0.915663</td>\n",
       "      <td>0.917722</td>\n",
       "      <td>26524</td>\n",
       "      <td>2118</td>\n",
       "      <td>26928</td>\n",
       "      <td>2443</td>\n",
       "      <td>0.072919</td>\n",
       "      <td>0.915663</td>\n",
       "      <td>-0.011419</td>\n",
       "    </tr>\n",
       "    <tr>\n",
       "      <th>17</th>\n",
       "      <td>0.85</td>\n",
       "      <td>0.919909</td>\n",
       "      <td>0.924673</td>\n",
       "      <td>0.923716</td>\n",
       "      <td>26785</td>\n",
       "      <td>2332</td>\n",
       "      <td>26714</td>\n",
       "      <td>2182</td>\n",
       "      <td>0.080286</td>\n",
       "      <td>0.924673</td>\n",
       "      <td>0.004959</td>\n",
       "    </tr>\n",
       "    <tr>\n",
       "      <th>16</th>\n",
       "      <td>0.80</td>\n",
       "      <td>0.913780</td>\n",
       "      <td>0.931508</td>\n",
       "      <td>0.927908</td>\n",
       "      <td>26983</td>\n",
       "      <td>2546</td>\n",
       "      <td>26500</td>\n",
       "      <td>1984</td>\n",
       "      <td>0.087654</td>\n",
       "      <td>0.931508</td>\n",
       "      <td>0.019162</td>\n",
       "    </tr>\n",
       "  </tbody>\n",
       "</table>\n",
       "</div>"
      ],
      "text/plain": [
       "    Threshold  Precision    Recall  F-2 Score  True Positive  False Positive  \\\n",
       "20       1.00   0.988352  0.322229   0.372430           9334             110   \n",
       "19       0.95   0.934972  0.899403   0.906298          26053            1812   \n",
       "18       0.90   0.926053  0.915663   0.917722          26524            2118   \n",
       "17       0.85   0.919909  0.924673   0.923716          26785            2332   \n",
       "16       0.80   0.913780  0.931508   0.927908          26983            2546   \n",
       "\n",
       "    True_Negative  False Negative       FPR       TPR  TPR - (1-FPR)  \n",
       "20          28936           19633  0.003787  0.322229      -0.673984  \n",
       "19          27234            2914  0.062384  0.899403      -0.038213  \n",
       "18          26928            2443  0.072919  0.915663      -0.011419  \n",
       "17          26714            2182  0.080286  0.924673       0.004959  \n",
       "16          26500            1984  0.087654  0.931508       0.019162  "
      ]
     },
     "execution_count": 23,
     "metadata": {},
     "output_type": "execute_result"
    }
   ],
   "source": [
    "df_threshold['FPR'] = df_threshold['False Positive'] / (df_threshold['True_Negative'] + df_threshold['False Positive'])\n",
    "df_threshold['TPR'] = df_threshold['True Positive'] / (df_threshold['True Positive'] + df_threshold['False Negative'])\n",
    "df_threshold['TPR - (1-FPR)'] = df_threshold['TPR'] - (1 - df_threshold['FPR'])\n",
    "df_threshold.sort_values(by = ['TPR - (1-FPR)'], ascending = True).head()"
   ]
  },
  {
   "cell_type": "code",
   "execution_count": 24,
   "id": "d5136e4f",
   "metadata": {},
   "outputs": [
    {
     "data": {
      "text/html": [
       "<div>\n",
       "<style scoped>\n",
       "    .dataframe tbody tr th:only-of-type {\n",
       "        vertical-align: middle;\n",
       "    }\n",
       "\n",
       "    .dataframe tbody tr th {\n",
       "        vertical-align: top;\n",
       "    }\n",
       "\n",
       "    .dataframe thead th {\n",
       "        text-align: right;\n",
       "    }\n",
       "</style>\n",
       "<table border=\"1\" class=\"dataframe\">\n",
       "  <thead>\n",
       "    <tr style=\"text-align: right;\">\n",
       "      <th></th>\n",
       "      <th>Precision</th>\n",
       "      <th>Recall</th>\n",
       "      <th>F-2 Score</th>\n",
       "      <th>True Positive</th>\n",
       "      <th>False Positive</th>\n",
       "      <th>True_Negative</th>\n",
       "      <th>False Negative</th>\n",
       "      <th>FPR</th>\n",
       "      <th>TPR</th>\n",
       "      <th>TPR - (1-FPR)</th>\n",
       "    </tr>\n",
       "    <tr>\n",
       "      <th>Threshold</th>\n",
       "      <th></th>\n",
       "      <th></th>\n",
       "      <th></th>\n",
       "      <th></th>\n",
       "      <th></th>\n",
       "      <th></th>\n",
       "      <th></th>\n",
       "      <th></th>\n",
       "      <th></th>\n",
       "      <th></th>\n",
       "    </tr>\n",
       "  </thead>\n",
       "  <tbody>\n",
       "    <tr>\n",
       "      <th>0.00</th>\n",
       "      <td>0.499319</td>\n",
       "      <td>1.000000</td>\n",
       "      <td>0.832955</td>\n",
       "      <td>28967</td>\n",
       "      <td>29046</td>\n",
       "      <td>0</td>\n",
       "      <td>0</td>\n",
       "      <td>1.000000</td>\n",
       "      <td>1.000000</td>\n",
       "      <td>1.000000</td>\n",
       "    </tr>\n",
       "    <tr>\n",
       "      <th>0.05</th>\n",
       "      <td>0.785116</td>\n",
       "      <td>0.977146</td>\n",
       "      <td>0.931576</td>\n",
       "      <td>28305</td>\n",
       "      <td>7747</td>\n",
       "      <td>21299</td>\n",
       "      <td>662</td>\n",
       "      <td>0.266715</td>\n",
       "      <td>0.977146</td>\n",
       "      <td>0.243861</td>\n",
       "    </tr>\n",
       "    <tr>\n",
       "      <th>0.10</th>\n",
       "      <td>0.810156</td>\n",
       "      <td>0.973211</td>\n",
       "      <td>0.935552</td>\n",
       "      <td>28191</td>\n",
       "      <td>6606</td>\n",
       "      <td>22440</td>\n",
       "      <td>776</td>\n",
       "      <td>0.227432</td>\n",
       "      <td>0.973211</td>\n",
       "      <td>0.200643</td>\n",
       "    </tr>\n",
       "    <tr>\n",
       "      <th>0.15</th>\n",
       "      <td>0.825995</td>\n",
       "      <td>0.970138</td>\n",
       "      <td>0.937421</td>\n",
       "      <td>28102</td>\n",
       "      <td>5920</td>\n",
       "      <td>23126</td>\n",
       "      <td>865</td>\n",
       "      <td>0.203815</td>\n",
       "      <td>0.970138</td>\n",
       "      <td>0.173953</td>\n",
       "    </tr>\n",
       "    <tr>\n",
       "      <th>0.20</th>\n",
       "      <td>0.838058</td>\n",
       "      <td>0.967411</td>\n",
       "      <td>0.938442</td>\n",
       "      <td>28023</td>\n",
       "      <td>5415</td>\n",
       "      <td>23631</td>\n",
       "      <td>944</td>\n",
       "      <td>0.186428</td>\n",
       "      <td>0.967411</td>\n",
       "      <td>0.153840</td>\n",
       "    </tr>\n",
       "    <tr>\n",
       "      <th>0.25</th>\n",
       "      <td>0.846893</td>\n",
       "      <td>0.964891</td>\n",
       "      <td>0.938732</td>\n",
       "      <td>27950</td>\n",
       "      <td>5053</td>\n",
       "      <td>23993</td>\n",
       "      <td>1017</td>\n",
       "      <td>0.173965</td>\n",
       "      <td>0.964891</td>\n",
       "      <td>0.138857</td>\n",
       "    </tr>\n",
       "    <tr>\n",
       "      <th>0.30</th>\n",
       "      <td>0.854883</td>\n",
       "      <td>0.962751</td>\n",
       "      <td>0.939053</td>\n",
       "      <td>27888</td>\n",
       "      <td>4734</td>\n",
       "      <td>24312</td>\n",
       "      <td>1079</td>\n",
       "      <td>0.162983</td>\n",
       "      <td>0.962751</td>\n",
       "      <td>0.125734</td>\n",
       "    </tr>\n",
       "    <tr>\n",
       "      <th>0.35</th>\n",
       "      <td>0.862090</td>\n",
       "      <td>0.960748</td>\n",
       "      <td>0.939251</td>\n",
       "      <td>27830</td>\n",
       "      <td>4452</td>\n",
       "      <td>24594</td>\n",
       "      <td>1137</td>\n",
       "      <td>0.153274</td>\n",
       "      <td>0.960748</td>\n",
       "      <td>0.114023</td>\n",
       "    </tr>\n",
       "    <tr>\n",
       "      <th>0.40</th>\n",
       "      <td>0.868217</td>\n",
       "      <td>0.958884</td>\n",
       "      <td>0.939267</td>\n",
       "      <td>27776</td>\n",
       "      <td>4216</td>\n",
       "      <td>24830</td>\n",
       "      <td>1191</td>\n",
       "      <td>0.145149</td>\n",
       "      <td>0.958884</td>\n",
       "      <td>0.104033</td>\n",
       "    </tr>\n",
       "    <tr>\n",
       "      <th>0.45</th>\n",
       "      <td>0.874369</td>\n",
       "      <td>0.956986</td>\n",
       "      <td>0.939236</td>\n",
       "      <td>27721</td>\n",
       "      <td>3983</td>\n",
       "      <td>25063</td>\n",
       "      <td>1246</td>\n",
       "      <td>0.137127</td>\n",
       "      <td>0.956986</td>\n",
       "      <td>0.094113</td>\n",
       "    </tr>\n",
       "    <tr>\n",
       "      <th>0.50</th>\n",
       "      <td>0.880141</td>\n",
       "      <td>0.954431</td>\n",
       "      <td>0.938586</td>\n",
       "      <td>27647</td>\n",
       "      <td>3765</td>\n",
       "      <td>25281</td>\n",
       "      <td>1320</td>\n",
       "      <td>0.129622</td>\n",
       "      <td>0.954431</td>\n",
       "      <td>0.084053</td>\n",
       "    </tr>\n",
       "    <tr>\n",
       "      <th>0.55</th>\n",
       "      <td>0.886563</td>\n",
       "      <td>0.950530</td>\n",
       "      <td>0.937009</td>\n",
       "      <td>27534</td>\n",
       "      <td>3523</td>\n",
       "      <td>25523</td>\n",
       "      <td>1433</td>\n",
       "      <td>0.121290</td>\n",
       "      <td>0.950530</td>\n",
       "      <td>0.071820</td>\n",
       "    </tr>\n",
       "    <tr>\n",
       "      <th>0.60</th>\n",
       "      <td>0.892668</td>\n",
       "      <td>0.947768</td>\n",
       "      <td>0.936211</td>\n",
       "      <td>27454</td>\n",
       "      <td>3301</td>\n",
       "      <td>25745</td>\n",
       "      <td>1513</td>\n",
       "      <td>0.113647</td>\n",
       "      <td>0.947768</td>\n",
       "      <td>0.061415</td>\n",
       "    </tr>\n",
       "    <tr>\n",
       "      <th>0.65</th>\n",
       "      <td>0.897504</td>\n",
       "      <td>0.944661</td>\n",
       "      <td>0.934837</td>\n",
       "      <td>27364</td>\n",
       "      <td>3125</td>\n",
       "      <td>25921</td>\n",
       "      <td>1603</td>\n",
       "      <td>0.107588</td>\n",
       "      <td>0.944661</td>\n",
       "      <td>0.052249</td>\n",
       "    </tr>\n",
       "    <tr>\n",
       "      <th>0.70</th>\n",
       "      <td>0.903393</td>\n",
       "      <td>0.940380</td>\n",
       "      <td>0.932743</td>\n",
       "      <td>27240</td>\n",
       "      <td>2913</td>\n",
       "      <td>26133</td>\n",
       "      <td>1727</td>\n",
       "      <td>0.100289</td>\n",
       "      <td>0.940380</td>\n",
       "      <td>0.040670</td>\n",
       "    </tr>\n",
       "    <tr>\n",
       "      <th>0.75</th>\n",
       "      <td>0.908163</td>\n",
       "      <td>0.936756</td>\n",
       "      <td>0.930894</td>\n",
       "      <td>27135</td>\n",
       "      <td>2744</td>\n",
       "      <td>26302</td>\n",
       "      <td>1832</td>\n",
       "      <td>0.094471</td>\n",
       "      <td>0.936756</td>\n",
       "      <td>0.031226</td>\n",
       "    </tr>\n",
       "    <tr>\n",
       "      <th>0.80</th>\n",
       "      <td>0.913780</td>\n",
       "      <td>0.931508</td>\n",
       "      <td>0.927908</td>\n",
       "      <td>26983</td>\n",
       "      <td>2546</td>\n",
       "      <td>26500</td>\n",
       "      <td>1984</td>\n",
       "      <td>0.087654</td>\n",
       "      <td>0.931508</td>\n",
       "      <td>0.019162</td>\n",
       "    </tr>\n",
       "    <tr>\n",
       "      <th>0.85</th>\n",
       "      <td>0.919909</td>\n",
       "      <td>0.924673</td>\n",
       "      <td>0.923716</td>\n",
       "      <td>26785</td>\n",
       "      <td>2332</td>\n",
       "      <td>26714</td>\n",
       "      <td>2182</td>\n",
       "      <td>0.080286</td>\n",
       "      <td>0.924673</td>\n",
       "      <td>0.004959</td>\n",
       "    </tr>\n",
       "    <tr>\n",
       "      <th>0.90</th>\n",
       "      <td>0.926053</td>\n",
       "      <td>0.915663</td>\n",
       "      <td>0.917722</td>\n",
       "      <td>26524</td>\n",
       "      <td>2118</td>\n",
       "      <td>26928</td>\n",
       "      <td>2443</td>\n",
       "      <td>0.072919</td>\n",
       "      <td>0.915663</td>\n",
       "      <td>-0.011419</td>\n",
       "    </tr>\n",
       "    <tr>\n",
       "      <th>0.95</th>\n",
       "      <td>0.934972</td>\n",
       "      <td>0.899403</td>\n",
       "      <td>0.906298</td>\n",
       "      <td>26053</td>\n",
       "      <td>1812</td>\n",
       "      <td>27234</td>\n",
       "      <td>2914</td>\n",
       "      <td>0.062384</td>\n",
       "      <td>0.899403</td>\n",
       "      <td>-0.038213</td>\n",
       "    </tr>\n",
       "    <tr>\n",
       "      <th>1.00</th>\n",
       "      <td>0.988352</td>\n",
       "      <td>0.322229</td>\n",
       "      <td>0.372430</td>\n",
       "      <td>9334</td>\n",
       "      <td>110</td>\n",
       "      <td>28936</td>\n",
       "      <td>19633</td>\n",
       "      <td>0.003787</td>\n",
       "      <td>0.322229</td>\n",
       "      <td>-0.673984</td>\n",
       "    </tr>\n",
       "  </tbody>\n",
       "</table>\n",
       "</div>"
      ],
      "text/plain": [
       "           Precision    Recall  F-2 Score  True Positive  False Positive  \\\n",
       "Threshold                                                                  \n",
       "0.00        0.499319  1.000000   0.832955          28967           29046   \n",
       "0.05        0.785116  0.977146   0.931576          28305            7747   \n",
       "0.10        0.810156  0.973211   0.935552          28191            6606   \n",
       "0.15        0.825995  0.970138   0.937421          28102            5920   \n",
       "0.20        0.838058  0.967411   0.938442          28023            5415   \n",
       "0.25        0.846893  0.964891   0.938732          27950            5053   \n",
       "0.30        0.854883  0.962751   0.939053          27888            4734   \n",
       "0.35        0.862090  0.960748   0.939251          27830            4452   \n",
       "0.40        0.868217  0.958884   0.939267          27776            4216   \n",
       "0.45        0.874369  0.956986   0.939236          27721            3983   \n",
       "0.50        0.880141  0.954431   0.938586          27647            3765   \n",
       "0.55        0.886563  0.950530   0.937009          27534            3523   \n",
       "0.60        0.892668  0.947768   0.936211          27454            3301   \n",
       "0.65        0.897504  0.944661   0.934837          27364            3125   \n",
       "0.70        0.903393  0.940380   0.932743          27240            2913   \n",
       "0.75        0.908163  0.936756   0.930894          27135            2744   \n",
       "0.80        0.913780  0.931508   0.927908          26983            2546   \n",
       "0.85        0.919909  0.924673   0.923716          26785            2332   \n",
       "0.90        0.926053  0.915663   0.917722          26524            2118   \n",
       "0.95        0.934972  0.899403   0.906298          26053            1812   \n",
       "1.00        0.988352  0.322229   0.372430           9334             110   \n",
       "\n",
       "           True_Negative  False Negative       FPR       TPR  TPR - (1-FPR)  \n",
       "Threshold                                                                    \n",
       "0.00                   0               0  1.000000  1.000000       1.000000  \n",
       "0.05               21299             662  0.266715  0.977146       0.243861  \n",
       "0.10               22440             776  0.227432  0.973211       0.200643  \n",
       "0.15               23126             865  0.203815  0.970138       0.173953  \n",
       "0.20               23631             944  0.186428  0.967411       0.153840  \n",
       "0.25               23993            1017  0.173965  0.964891       0.138857  \n",
       "0.30               24312            1079  0.162983  0.962751       0.125734  \n",
       "0.35               24594            1137  0.153274  0.960748       0.114023  \n",
       "0.40               24830            1191  0.145149  0.958884       0.104033  \n",
       "0.45               25063            1246  0.137127  0.956986       0.094113  \n",
       "0.50               25281            1320  0.129622  0.954431       0.084053  \n",
       "0.55               25523            1433  0.121290  0.950530       0.071820  \n",
       "0.60               25745            1513  0.113647  0.947768       0.061415  \n",
       "0.65               25921            1603  0.107588  0.944661       0.052249  \n",
       "0.70               26133            1727  0.100289  0.940380       0.040670  \n",
       "0.75               26302            1832  0.094471  0.936756       0.031226  \n",
       "0.80               26500            1984  0.087654  0.931508       0.019162  \n",
       "0.85               26714            2182  0.080286  0.924673       0.004959  \n",
       "0.90               26928            2443  0.072919  0.915663      -0.011419  \n",
       "0.95               27234            2914  0.062384  0.899403      -0.038213  \n",
       "1.00               28936           19633  0.003787  0.322229      -0.673984  "
      ]
     },
     "execution_count": 24,
     "metadata": {},
     "output_type": "execute_result"
    }
   ],
   "source": [
    "df_threshold.set_index('Threshold')"
   ]
  },
  {
   "cell_type": "code",
   "execution_count": 25,
   "id": "88c6cb2c",
   "metadata": {},
   "outputs": [
    {
     "data": {
      "text/plain": [
       "(0.0, 1.0)"
      ]
     },
     "execution_count": 25,
     "metadata": {},
     "output_type": "execute_result"
    },
    {
     "data": {
      "image/png": "[encoded data removed]",
      "text/plain": [
       "<Figure size 576x432 with 1 Axes>"
      ]
     },
     "metadata": {
      "needs_background": "light"
     },
     "output_type": "display_data"
    }
   ],
   "source": [
    "plt.plot(df_threshold['Threshold'], df_threshold[['Precision', 'Recall', 'F-2 Score']])\n",
    "plt.xticks(df_threshold['Threshold'], df_threshold['Threshold'].values)\n",
    "plt.axvline(0.85, color='black', alpha=0.3)\n",
    "plt.text(.85,.5,'Optimal Threshold F2',rotation=90, alpha=0.8, fontsize=16)\n",
    "plt.axvline(0.5, color='black', alpha=0.3)\n",
    "plt.text(.5,.5,'Defalut Threshold',rotation=90, alpha=0.8, fontsize=16)\n",
    "plt.xlabel('Threshold')\n",
    "plt.legend(df_threshold[['Precision', 'Recall', 'F-2 Score']].columns)\n",
    "plt.title('Precision, Recall and F-2 vs Threshold')\n",
    "plt.xlim(0, 1)"
   ]
  },
  {
   "cell_type": "code",
   "execution_count": null,
   "id": "acc5fd46",
   "metadata": {},
   "outputs": [],
   "source": []
  },
  {
   "cell_type": "code",
   "execution_count": 91,
   "id": "0c3d3be2",
   "metadata": {},
   "outputs": [],
   "source": [
    "from sklearn.preprocessing import StandardScaler, MinMaxScaler, RobustScaler, MaxAbsScaler\n",
    "scaler = MinMaxScaler()\n",
    "scaler.fit(df1)\n",
    "df_scaled = scaler.transform(df1)\n",
    "scaled_features_df = pd.DataFrame(df_scaled, index=df1.index, columns=df1.columns)"
   ]
  },
  {
   "cell_type": "code",
   "execution_count": 92,
   "id": "4b986b71",
   "metadata": {},
   "outputs": [
    {
     "name": "stderr",
     "output_type": "stream",
     "text": [
      "C:\\Users\\BETH&A~1\\AppData\\Local\\Temp/ipykernel_14380/1107040348.py:7: FutureWarning: Support for multi-dimensional indexing (e.g. `obj[:, None]`) is deprecated and will be removed in a future version.  Convert to a numpy array before indexing instead.\n",
      "  reading_level = scaled_features_df['flesch_kincaid'][:, None]\n",
      "C:\\Users\\BETH&A~1\\AppData\\Local\\Temp/ipykernel_14380/1107040348.py:8: FutureWarning: Support for multi-dimensional indexing (e.g. `obj[:, None]`) is deprecated and will be removed in a future version.  Convert to a numpy array before indexing instead.\n",
      "  repetition = scaled_features_df['repetition'][:, None]\n"
     ]
    }
   ],
   "source": [
    "from sklearn.feature_extraction.text import TfidfVectorizer\n",
    "vectorizor_tfid = TfidfVectorizer(min_df=0)\n",
    "text_matrix12 = vectorizor_tfid.fit_transform(df['clean_text'])\n",
    "text_matrix12 = text_matrix12.tocsc() \n",
    "length = scaled_features_df['length'].values[:, None]\n",
    "sentiment = scaled_features_df['sentiment'].values[:, None]\n",
    "reading_level = scaled_features_df['flesch_kincaid'][:, None]\n",
    "repetition = scaled_features_df['repetition'][:, None]\n",
    "first = hstack((text_matrix12, length))\n",
    "second = hstack((first, sentiment))\n",
    "third = hstack((second, reading_level))\n",
    "X_tfid12 = hstack((third, sentiment))\n",
    "\n",
    "y_tfid12 = df['class']"
   ]
  },
  {
   "cell_type": "code",
   "execution_count": 93,
   "id": "05578da8",
   "metadata": {},
   "outputs": [],
   "source": [
    "X_train12, X_test12, y_train12, y_test12 = train_test_split(X_tfid12, y_tfid12, test_size=0.25, random_state=12)"
   ]
  },
  {
   "cell_type": "code",
   "execution_count": 94,
   "id": "002c964d",
   "metadata": {},
   "outputs": [
    {
     "name": "stderr",
     "output_type": "stream",
     "text": [
      "C:\\anaconda3\\lib\\site-packages\\sklearn\\linear_model\\_logistic.py:444: ConvergenceWarning: lbfgs failed to converge (status=1):\n",
      "STOP: TOTAL NO. of ITERATIONS REACHED LIMIT.\n",
      "\n",
      "Increase the number of iterations (max_iter) or scale the data as shown in:\n",
      "    https://scikit-learn.org/stable/modules/preprocessing.html\n",
      "Please also refer to the documentation for alternative solver options:\n",
      "    https://scikit-learn.org/stable/modules/linear_model.html#logistic-regression\n",
      "  n_iter_i = _check_optimize_result(\n"
     ]
    },
    {
     "data": {
      "text/html": [
       "<style>#sk-container-id-3 {color: black;background-color: white;}#sk-container-id-3 pre{padding: 0;}#sk-container-id-3 div.sk-toggleable {background-color: white;}#sk-container-id-3 label.sk-toggleable__label {cursor: pointer;display: block;width: 100%;margin-bottom: 0;padding: 0.3em;box-sizing: border-box;text-align: center;}#sk-container-id-3 label.sk-toggleable__label-arrow:before {content: \"▸\";float: left;margin-right: 0.25em;color: #696969;}#sk-container-id-3 label.sk-toggleable__label-arrow:hover:before {color: black;}#sk-container-id-3 div.sk-estimator:hover label.sk-toggleable__label-arrow:before {color: black;}#sk-container-id-3 div.sk-toggleable__content {max-height: 0;max-width: 0;overflow: hidden;text-align: left;background-color: #f0f8ff;}#sk-container-id-3 div.sk-toggleable__content pre {margin: 0.2em;color: black;border-radius: 0.25em;background-color: #f0f8ff;}#sk-container-id-3 input.sk-toggleable__control:checked~div.sk-toggleable__content {max-height: 200px;max-width: 100%;overflow: auto;}#sk-container-id-3 input.sk-toggleable__control:checked~label.sk-toggleable__label-arrow:before {content: \"▾\";}#sk-container-id-3 div.sk-estimator input.sk-toggleable__control:checked~label.sk-toggleable__label {background-color: #d4ebff;}#sk-container-id-3 div.sk-label input.sk-toggleable__control:checked~label.sk-toggleable__label {background-color: #d4ebff;}#sk-container-id-3 input.sk-hidden--visually {border: 0;clip: rect(1px 1px 1px 1px);clip: rect(1px, 1px, 1px, 1px);height: 1px;margin: -1px;overflow: hidden;padding: 0;position: absolute;width: 1px;}#sk-container-id-3 div.sk-estimator {font-family: monospace;background-color: #f0f8ff;border: 1px dotted black;border-radius: 0.25em;box-sizing: border-box;margin-bottom: 0.5em;}#sk-container-id-3 div.sk-estimator:hover {background-color: #d4ebff;}#sk-container-id-3 div.sk-parallel-item::after {content: \"\";width: 100%;border-bottom: 1px solid gray;flex-grow: 1;}#sk-container-id-3 div.sk-label:hover label.sk-toggleable__label {background-color: #d4ebff;}#sk-container-id-3 div.sk-serial::before {content: \"\";position: absolute;border-left: 1px solid gray;box-sizing: border-box;top: 0;bottom: 0;left: 50%;z-index: 0;}#sk-container-id-3 div.sk-serial {display: flex;flex-direction: column;align-items: center;background-color: white;padding-right: 0.2em;padding-left: 0.2em;position: relative;}#sk-container-id-3 div.sk-item {position: relative;z-index: 1;}#sk-container-id-3 div.sk-parallel {display: flex;align-items: stretch;justify-content: center;background-color: white;position: relative;}#sk-container-id-3 div.sk-item::before, #sk-container-id-3 div.sk-parallel-item::before {content: \"\";position: absolute;border-left: 1px solid gray;box-sizing: border-box;top: 0;bottom: 0;left: 50%;z-index: -1;}#sk-container-id-3 div.sk-parallel-item {display: flex;flex-direction: column;z-index: 1;position: relative;background-color: white;}#sk-container-id-3 div.sk-parallel-item:first-child::after {align-self: flex-end;width: 50%;}#sk-container-id-3 div.sk-parallel-item:last-child::after {align-self: flex-start;width: 50%;}#sk-container-id-3 div.sk-parallel-item:only-child::after {width: 0;}#sk-container-id-3 div.sk-dashed-wrapped {border: 1px dashed gray;margin: 0 0.4em 0.5em 0.4em;box-sizing: border-box;padding-bottom: 0.4em;background-color: white;}#sk-container-id-3 div.sk-label label {font-family: monospace;font-weight: bold;display: inline-block;line-height: 1.2em;}#sk-container-id-3 div.sk-label-container {text-align: center;}#sk-container-id-3 div.sk-container {/* jupyter's `normalize.less` sets `[hidden] { display: none; }` but bootstrap.min.css set `[hidden] { display: none !important; }` so we also need the `!important` here to be able to override the default hidden behavior on the sphinx rendered scikit-learn.org. See: https://github.com/scikit-learn/scikit-learn/issues/21755 */display: inline-block !important;position: relative;}#sk-container-id-3 div.sk-text-repr-fallback {display: none;}</style><div id=\"sk-container-id-3\" class=\"sk-top-container\"><div class=\"sk-text-repr-fallback\"><pre>LogisticRegression()</pre><b>In a Jupyter environment, please rerun this cell to show the HTML representation or trust the notebook. <br />On GitHub, the HTML representation is unable to render, please try loading this page with nbviewer.org.</b></div><div class=\"sk-container\" hidden><div class=\"sk-item\"><div class=\"sk-estimator sk-toggleable\"><input class=\"sk-toggleable__control sk-hidden--visually\" id=\"sk-estimator-id-3\" type=\"checkbox\" checked><label for=\"sk-estimator-id-3\" class=\"sk-toggleable__label sk-toggleable__label-arrow\">LogisticRegression</label><div class=\"sk-toggleable__content\"><pre>LogisticRegression()</pre></div></div></div></div></div>"
      ],
      "text/plain": [
       "LogisticRegression()"
      ]
     },
     "execution_count": 94,
     "metadata": {},
     "output_type": "execute_result"
    }
   ],
   "source": [
    "lr_tfidi = LogisticRegression()\n",
    "lr_tfidi.fit(X_test12, y_test12)"
   ]
  },
  {
   "cell_type": "code",
   "execution_count": 95,
   "id": "214f819d",
   "metadata": {},
   "outputs": [],
   "source": [
    "y_train_pred12 = lr_tfidi.predict(X_train12)\n",
    "y_pred12 = lr_tfidi.predict(X_test12)"
   ]
  },
  {
   "cell_type": "code",
   "execution_count": 96,
   "id": "5676fe8e",
   "metadata": {},
   "outputs": [
    {
     "name": "stdout",
     "output_type": "stream",
     "text": [
      "True Suicide: 26822\n",
      "False Suicide: 1396\n",
      "True Non-Suicide: 27650\n",
      "False Non-Suicide: 2145\n"
     ]
    }
   ],
   "source": [
    "from sklearn.metrics import confusion_matrix\n",
    "tn_lr_tfidi, fp_lr_tfidi, fn_lr_tfidi, tp_lr_tfidi = confusion_matrix(y_test12, y_pred12).ravel()\n",
    "print(f'True Suicide: {tp_lr_tfidi}')\n",
    "print(f'False Suicide: {fp_lr_tfidi}')\n",
    "print(f'True Non-Suicide: {tn_lr_tfidi}')\n",
    "print(f'False Non-Suicide: {fn_lr_tfidi}')"
   ]
  },
  {
   "cell_type": "code",
   "execution_count": null,
   "id": "bdca23b8",
   "metadata": {},
   "outputs": [],
   "source": []
  },
  {
   "cell_type": "markdown",
   "id": "46bedf22",
   "metadata": {},
   "source": [
    "Naive Bayes - All Features (Count Vectorizer)"
   ]
  },
  {
   "cell_type": "code",
   "execution_count": 26,
   "id": "459045cb",
   "metadata": {},
   "outputs": [
    {
     "data": {
      "text/html": [
       "<div>\n",
       "<style scoped>\n",
       "    .dataframe tbody tr th:only-of-type {\n",
       "        vertical-align: middle;\n",
       "    }\n",
       "\n",
       "    .dataframe tbody tr th {\n",
       "        vertical-align: top;\n",
       "    }\n",
       "\n",
       "    .dataframe thead th {\n",
       "        text-align: right;\n",
       "    }\n",
       "</style>\n",
       "<table border=\"1\" class=\"dataframe\">\n",
       "  <thead>\n",
       "    <tr style=\"text-align: right;\">\n",
       "      <th></th>\n",
       "      <th>length</th>\n",
       "      <th>sentiment</th>\n",
       "      <th>flesch_kincaid</th>\n",
       "      <th>repetition</th>\n",
       "      <th>class</th>\n",
       "    </tr>\n",
       "  </thead>\n",
       "  <tbody>\n",
       "    <tr>\n",
       "      <th>0</th>\n",
       "      <td>345</td>\n",
       "      <td>0.100000</td>\n",
       "      <td>24.4</td>\n",
       "      <td>0</td>\n",
       "      <td>1</td>\n",
       "    </tr>\n",
       "    <tr>\n",
       "      <th>1</th>\n",
       "      <td>69</td>\n",
       "      <td>0.100000</td>\n",
       "      <td>8.4</td>\n",
       "      <td>0</td>\n",
       "      <td>0</td>\n",
       "    </tr>\n",
       "    <tr>\n",
       "      <th>2</th>\n",
       "      <td>48</td>\n",
       "      <td>-0.525000</td>\n",
       "      <td>6.4</td>\n",
       "      <td>0</td>\n",
       "      <td>0</td>\n",
       "    </tr>\n",
       "    <tr>\n",
       "      <th>3</th>\n",
       "      <td>30</td>\n",
       "      <td>-0.291667</td>\n",
       "      <td>-1.5</td>\n",
       "      <td>0</td>\n",
       "      <td>1</td>\n",
       "    </tr>\n",
       "    <tr>\n",
       "      <th>4</th>\n",
       "      <td>1281</td>\n",
       "      <td>-0.228461</td>\n",
       "      <td>74.7</td>\n",
       "      <td>2</td>\n",
       "      <td>1</td>\n",
       "    </tr>\n",
       "  </tbody>\n",
       "</table>\n",
       "</div>"
      ],
      "text/plain": [
       "   length  sentiment  flesch_kincaid  repetition  class\n",
       "0     345   0.100000            24.4           0      1\n",
       "1      69   0.100000             8.4           0      0\n",
       "2      48  -0.525000             6.4           0      0\n",
       "3      30  -0.291667            -1.5           0      1\n",
       "4    1281  -0.228461            74.7           2      1"
      ]
     },
     "execution_count": 26,
     "metadata": {},
     "output_type": "execute_result"
    }
   ],
   "source": [
    "df1 = df[['length', 'sentiment', 'flesch_kincaid', 'repetition', 'class']]\n",
    "df1.head()"
   ]
  },
  {
   "cell_type": "code",
   "execution_count": null,
   "id": "7026fc4d",
   "metadata": {},
   "outputs": [],
   "source": []
  },
  {
   "cell_type": "code",
   "execution_count": 27,
   "id": "8e34706a",
   "metadata": {},
   "outputs": [],
   "source": [
    "from sklearn.preprocessing import StandardScaler, MinMaxScaler, RobustScaler, MaxAbsScaler\n",
    "scaler = MinMaxScaler()\n",
    "scaler.fit(df1)\n",
    "df_scaled = scaler.transform(df1)\n",
    "scaled_features_df = pd.DataFrame(df_scaled, index=df1.index, columns=df1.columns)"
   ]
  },
  {
   "cell_type": "code",
   "execution_count": 28,
   "id": "dfa95dc1",
   "metadata": {},
   "outputs": [
    {
     "name": "stderr",
     "output_type": "stream",
     "text": [
      "C:\\Users\\BETH&A~1\\AppData\\Local\\Temp/ipykernel_14380/2777764568.py:7: FutureWarning: Support for multi-dimensional indexing (e.g. `obj[:, None]`) is deprecated and will be removed in a future version.  Convert to a numpy array before indexing instead.\n",
      "  reading_level = scaled_features_df['flesch_kincaid'][:, None]\n",
      "C:\\Users\\BETH&A~1\\AppData\\Local\\Temp/ipykernel_14380/2777764568.py:8: FutureWarning: Support for multi-dimensional indexing (e.g. `obj[:, None]`) is deprecated and will be removed in a future version.  Convert to a numpy array before indexing instead.\n",
      "  repetition = scaled_features_df['repetition'][:, None]\n"
     ]
    }
   ],
   "source": [
    "from scipy.sparse import hstack\n",
    "vectorizer = CountVectorizer(min_df=3)\n",
    "text_matrix = vectorizer.fit_transform(df['clean_text'])\n",
    "text_matrix = text_matrix.tocsc() \n",
    "length = scaled_features_df['length'].values[:, None]\n",
    "sentiment = scaled_features_df['sentiment'].values[:, None]\n",
    "reading_level = scaled_features_df['flesch_kincaid'][:, None]\n",
    "repetition = scaled_features_df['repetition'][:, None]\n",
    "first = hstack((text_matrix, length))\n",
    "second = hstack((first, sentiment))\n",
    "third = hstack((second, reading_level))\n",
    "X = hstack((third, sentiment))\n",
    "\n",
    "y = df['class']"
   ]
  },
  {
   "cell_type": "code",
   "execution_count": 29,
   "id": "218318b9",
   "metadata": {},
   "outputs": [],
   "source": [
    "X_train2, X_test2, y_train2, y_test2 = train_test_split(X, y, test_size=0.25, random_state=12)"
   ]
  },
  {
   "cell_type": "code",
   "execution_count": 30,
   "id": "25e7fa34",
   "metadata": {},
   "outputs": [
    {
     "data": {
      "text/html": [
       "<style>#sk-container-id-2 {color: black;background-color: white;}#sk-container-id-2 pre{padding: 0;}#sk-container-id-2 div.sk-toggleable {background-color: white;}#sk-container-id-2 label.sk-toggleable__label {cursor: pointer;display: block;width: 100%;margin-bottom: 0;padding: 0.3em;box-sizing: border-box;text-align: center;}#sk-container-id-2 label.sk-toggleable__label-arrow:before {content: \"▸\";float: left;margin-right: 0.25em;color: #696969;}#sk-container-id-2 label.sk-toggleable__label-arrow:hover:before {color: black;}#sk-container-id-2 div.sk-estimator:hover label.sk-toggleable__label-arrow:before {color: black;}#sk-container-id-2 div.sk-toggleable__content {max-height: 0;max-width: 0;overflow: hidden;text-align: left;background-color: #f0f8ff;}#sk-container-id-2 div.sk-toggleable__content pre {margin: 0.2em;color: black;border-radius: 0.25em;background-color: #f0f8ff;}#sk-container-id-2 input.sk-toggleable__control:checked~div.sk-toggleable__content {max-height: 200px;max-width: 100%;overflow: auto;}#sk-container-id-2 input.sk-toggleable__control:checked~label.sk-toggleable__label-arrow:before {content: \"▾\";}#sk-container-id-2 div.sk-estimator input.sk-toggleable__control:checked~label.sk-toggleable__label {background-color: #d4ebff;}#sk-container-id-2 div.sk-label input.sk-toggleable__control:checked~label.sk-toggleable__label {background-color: #d4ebff;}#sk-container-id-2 input.sk-hidden--visually {border: 0;clip: rect(1px 1px 1px 1px);clip: rect(1px, 1px, 1px, 1px);height: 1px;margin: -1px;overflow: hidden;padding: 0;position: absolute;width: 1px;}#sk-container-id-2 div.sk-estimator {font-family: monospace;background-color: #f0f8ff;border: 1px dotted black;border-radius: 0.25em;box-sizing: border-box;margin-bottom: 0.5em;}#sk-container-id-2 div.sk-estimator:hover {background-color: #d4ebff;}#sk-container-id-2 div.sk-parallel-item::after {content: \"\";width: 100%;border-bottom: 1px solid gray;flex-grow: 1;}#sk-container-id-2 div.sk-label:hover label.sk-toggleable__label {background-color: #d4ebff;}#sk-container-id-2 div.sk-serial::before {content: \"\";position: absolute;border-left: 1px solid gray;box-sizing: border-box;top: 0;bottom: 0;left: 50%;z-index: 0;}#sk-container-id-2 div.sk-serial {display: flex;flex-direction: column;align-items: center;background-color: white;padding-right: 0.2em;padding-left: 0.2em;position: relative;}#sk-container-id-2 div.sk-item {position: relative;z-index: 1;}#sk-container-id-2 div.sk-parallel {display: flex;align-items: stretch;justify-content: center;background-color: white;position: relative;}#sk-container-id-2 div.sk-item::before, #sk-container-id-2 div.sk-parallel-item::before {content: \"\";position: absolute;border-left: 1px solid gray;box-sizing: border-box;top: 0;bottom: 0;left: 50%;z-index: -1;}#sk-container-id-2 div.sk-parallel-item {display: flex;flex-direction: column;z-index: 1;position: relative;background-color: white;}#sk-container-id-2 div.sk-parallel-item:first-child::after {align-self: flex-end;width: 50%;}#sk-container-id-2 div.sk-parallel-item:last-child::after {align-self: flex-start;width: 50%;}#sk-container-id-2 div.sk-parallel-item:only-child::after {width: 0;}#sk-container-id-2 div.sk-dashed-wrapped {border: 1px dashed gray;margin: 0 0.4em 0.5em 0.4em;box-sizing: border-box;padding-bottom: 0.4em;background-color: white;}#sk-container-id-2 div.sk-label label {font-family: monospace;font-weight: bold;display: inline-block;line-height: 1.2em;}#sk-container-id-2 div.sk-label-container {text-align: center;}#sk-container-id-2 div.sk-container {/* jupyter's `normalize.less` sets `[hidden] { display: none; }` but bootstrap.min.css set `[hidden] { display: none !important; }` so we also need the `!important` here to be able to override the default hidden behavior on the sphinx rendered scikit-learn.org. See: https://github.com/scikit-learn/scikit-learn/issues/21755 */display: inline-block !important;position: relative;}#sk-container-id-2 div.sk-text-repr-fallback {display: none;}</style><div id=\"sk-container-id-2\" class=\"sk-top-container\"><div class=\"sk-text-repr-fallback\"><pre>MultinomialNB(alpha=0.05)</pre><b>In a Jupyter environment, please rerun this cell to show the HTML representation or trust the notebook. <br />On GitHub, the HTML representation is unable to render, please try loading this page with nbviewer.org.</b></div><div class=\"sk-container\" hidden><div class=\"sk-item\"><div class=\"sk-estimator sk-toggleable\"><input class=\"sk-toggleable__control sk-hidden--visually\" id=\"sk-estimator-id-2\" type=\"checkbox\" checked><label for=\"sk-estimator-id-2\" class=\"sk-toggleable__label sk-toggleable__label-arrow\">MultinomialNB</label><div class=\"sk-toggleable__content\"><pre>MultinomialNB(alpha=0.05)</pre></div></div></div></div></div>"
      ],
      "text/plain": [
       "MultinomialNB(alpha=0.05)"
      ]
     },
     "execution_count": 30,
     "metadata": {},
     "output_type": "execute_result"
    }
   ],
   "source": [
    "nbcvi = MultinomialNB(alpha = 0.05)\n",
    "nbcvi.fit(X_train2, y_train2)"
   ]
  },
  {
   "cell_type": "code",
   "execution_count": 31,
   "id": "505a9dd2",
   "metadata": {},
   "outputs": [],
   "source": [
    "y_train_pred2 = nbcvi.predict(X_train2)\n",
    "y_pred2 = nbcvi.predict(X_test2)"
   ]
  },
  {
   "cell_type": "code",
   "execution_count": 32,
   "id": "733de657",
   "metadata": {},
   "outputs": [],
   "source": [
    "training_accuracy_nbcv = nbcvi.score(X_train2, y_train2)\n",
    "test_accuracy_nbcv = nbcvi.score(X_test2, y_test2)"
   ]
  },
  {
   "cell_type": "code",
   "execution_count": 33,
   "id": "96f0c99b",
   "metadata": {},
   "outputs": [
    {
     "name": "stdout",
     "output_type": "stream",
     "text": [
      "Accuracy on training data: 0.926429\n",
      "Accuracy on test data:     0.919863\n"
     ]
    }
   ],
   "source": [
    "print(\"Accuracy on training data: {:2f}\".format(training_accuracy_nbcv))\n",
    "print(\"Accuracy on test data:     {:2f}\".format(test_accuracy_nbcv))"
   ]
  },
  {
   "cell_type": "code",
   "execution_count": 34,
   "id": "1ec35f85",
   "metadata": {},
   "outputs": [
    {
     "name": "stdout",
     "output_type": "stream",
     "text": [
      "Accuracy: 0.9198627893747953\n",
      "Balanced accuracy: 0.9198987194875261\n",
      "Precision score 0.89860346184107\n",
      "Recall score 0.9462837021438189\n",
      "F1 score 0.9218274453094786\n",
      "ROC_AUC Score 0.9198987194875261\n"
     ]
    }
   ],
   "source": [
    "accuracy_nbcvi = metrics.accuracy_score(y_test2,y_pred2)\n",
    "balanced_accuracy_nbcvi = metrics.balanced_accuracy_score(y_test2,y_pred2)\n",
    "precision_nbcvi = metrics.precision_score(y_test2,y_pred2, pos_label = 1)\n",
    "recall_nbcvi = metrics.recall_score(y_test2,y_pred2, pos_label = 1)\n",
    "f1_nbcvi = metrics.f1_score(y_test2, y_pred2, pos_label = 1)\n",
    "roc_auc_nbcvi = metrics.roc_auc_score(y_test2, y_pred2)\n",
    "print(\"Accuracy:\", accuracy_nbcvi)\n",
    "print(\"Balanced accuracy:\", balanced_accuracy_nbcvi)\n",
    "print('Precision score' , precision_nbcvi)\n",
    "print('Recall score' , recall_nbcvi)\n",
    "print('F1 score' , f1_nbcvi)\n",
    "print('ROC_AUC Score' , roc_auc_nbcvi)"
   ]
  },
  {
   "cell_type": "code",
   "execution_count": 35,
   "id": "ad2e78ac",
   "metadata": {},
   "outputs": [
    {
     "name": "stdout",
     "output_type": "stream",
     "text": [
      "True Suicide: 27411\n",
      "False Suicide: 3093\n",
      "True Non-Suicide: 25953\n",
      "False Non-Suicide: 1556\n"
     ]
    }
   ],
   "source": [
    "from sklearn.metrics import confusion_matrix\n",
    "tn_nbcvi, fp_nbcvi, fn_nbcvi, tp_nbcvi = confusion_matrix(y_test2, y_pred2).ravel()\n",
    "print(f'True Suicide: {tp_nbcvi}')\n",
    "print(f'False Suicide: {fp_nbcvi}')\n",
    "print(f'True Non-Suicide: {tn_nbcvi}')\n",
    "print(f'False Non-Suicide: {fn_nbcvi}')"
   ]
  },
  {
   "cell_type": "code",
   "execution_count": 36,
   "id": "0cb757c3",
   "metadata": {},
   "outputs": [
    {
     "data": {
      "text/html": [
       "<div>\n",
       "<style scoped>\n",
       "    .dataframe tbody tr th:only-of-type {\n",
       "        vertical-align: middle;\n",
       "    }\n",
       "\n",
       "    .dataframe tbody tr th {\n",
       "        vertical-align: top;\n",
       "    }\n",
       "\n",
       "    .dataframe thead th {\n",
       "        text-align: right;\n",
       "    }\n",
       "</style>\n",
       "<table border=\"1\" class=\"dataframe\">\n",
       "  <thead>\n",
       "    <tr style=\"text-align: right;\">\n",
       "      <th></th>\n",
       "      <th>Predicted Non-Suicide</th>\n",
       "      <th>Predicted Suicide</th>\n",
       "    </tr>\n",
       "  </thead>\n",
       "  <tbody>\n",
       "    <tr>\n",
       "      <th>Actual Non-Suicide</th>\n",
       "      <td>25953</td>\n",
       "      <td>3093</td>\n",
       "    </tr>\n",
       "    <tr>\n",
       "      <th>Actual Suicide</th>\n",
       "      <td>1556</td>\n",
       "      <td>27411</td>\n",
       "    </tr>\n",
       "  </tbody>\n",
       "</table>\n",
       "</div>"
      ],
      "text/plain": [
       "                    Predicted Non-Suicide  Predicted Suicide\n",
       "Actual Non-Suicide                  25953               3093\n",
       "Actual Suicide                       1556              27411"
      ]
     },
     "execution_count": 36,
     "metadata": {},
     "output_type": "execute_result"
    }
   ],
   "source": [
    "pd.DataFrame(confusion_matrix(y_test2, y_pred2), columns=['Predicted Non-Suicide', \"Predicted Suicide\"], index=['Actual Non-Suicide', 'Actual Suicide'])"
   ]
  },
  {
   "cell_type": "code",
   "execution_count": 37,
   "id": "be0d4f50",
   "metadata": {},
   "outputs": [
    {
     "data": {
      "image/png": "[encoded data removed]",
      "text/plain": [
       "<Figure size 576x432 with 1 Axes>"
      ]
     },
     "metadata": {
      "needs_background": "light"
     },
     "output_type": "display_data"
    }
   ],
   "source": [
    "y_pred_proba2 = nbcvi.predict_proba(X_test2)[::,1]\n",
    "fpr2, tpr2, _ = metrics.roc_curve(y_test2,  y_pred_proba2)\n",
    "plt.rcParams.update({'figure.figsize': (8, 6.0)})\n",
    "#create ROC curve\n",
    "plt.plot(fpr2,tpr2)\n",
    "plt.plot([0, 1], [0, 1],'r--')\n",
    "plt.title(\"ROC_AUC CURVE Naive Bayes with Count Vectorizer All Features\")\n",
    "plt.ylabel('True Positive Rate')\n",
    "plt.xlabel('False Positive Rate')\n",
    "plt.tight_layout()\n",
    "plt.savefig('ROC_AUC Naive Bayes with Count Vectorizer All features.png')"
   ]
  },
  {
   "cell_type": "code",
   "execution_count": 52,
   "id": "13775247",
   "metadata": {},
   "outputs": [],
   "source": [
    "fire_rain ='just yesterday morning they let me know you were gone suzanne the plans they made put an end to you i walked out this morning and i wrote down this song i just can not remember who to send it to i have seen fire and I have seen rain i have seen sunny days that i thought would never endi have seen lonely times when i could not find a friend but i always thought that i would see you again will you not look down upon me jesus you have got to help me make a stand you have just got to see me through another day my body is aching and my time is at hand and i will not make it any other way oh  i have seen fire and i have seen rain i have seen sunny days that i thought would never end i have seen lonely times when i could not find a friend but i always thought that i would see you again been walking my mind to an easy time my back turned towards the sun lord knows, when the cold wind blows it will turn your head around well there is hours of time on the telephone line to talk about things to come sweet dreams and flying machines in pieces on the ground oh i have seen fire and I have seen rain i  have seen sunny days that i thought would never end i have seen lonely times when i could not find a friend but i always thought that I would see you baby one more time again now thought i would see you one more time again there is just a few things coming my way this time around now thought i would see you thought I would see you fire and rain now'"
   ]
  },
  {
   "cell_type": "code",
   "execution_count": 38,
   "id": "d88ecf6d",
   "metadata": {},
   "outputs": [],
   "source": [
    "everybody_hurts ='when your day is long and the night the night is yours alone when you are sure you have had enough of this life well hang on do not let yourself go because everybody cries everybody hurts sometimes ometimes everything is wrong now its time to sing along when your day is night alone hold on hold on if you feel like letting go hold on if you think you have had too much of this life well hang on because everybody hurts take comfort in your friends everybody hurts do not throw your hand oh no do not throw your hand if you feel like you are alone no no no you are not alone if you are on your own in this life the days and nights are long when you think you have had too much of this life to hang on well everybody hurts sometimes everybody cries everybody hurts sometimes and everybody hurts sometimes so hold on hold on hold on hold on hold on hold on hold on hold on everybody hurts'"
   ]
  },
  {
   "cell_type": "code",
   "execution_count": 53,
   "id": "ce4ee193",
   "metadata": {},
   "outputs": [],
   "source": [
    "happy_know_it = 'if you are happy and you know it clap your hands if you are happy and you know it then your face will surely show it if you are happy and you know if clap your hands'"
   ]
  },
  {
   "cell_type": "code",
   "execution_count": 54,
   "id": "4352f0e6",
   "metadata": {},
   "outputs": [],
   "source": [
    "wonderful_world = 'i see trees of green red roses too i see them bloom for me and you and i think to myself what a wonderful world i see skies of blue and clouds of white the bright blessed day the dark sacred night and i think to myself what a wonderful world the colors of the rainbow so pretty in the sky are also on the faces of people going by i see friends shaking hands saying how do you do they are really saying i love you i hear babies crying i watch them grow they willl learn much more than i will ever know and i think to myself what a wonderful world yes i think to myself what a wonderful world ooh yes'"
   ]
  },
  {
   "cell_type": "code",
   "execution_count": 55,
   "id": "5e4f2b81",
   "metadata": {},
   "outputs": [],
   "source": [
    "r_roll = 'we are no strangers to love you know the rules and so do i a full commitment is what i am thinking of you would not get this from any other guy i just wanna tell you how i am feeling gotta make you understand never gonna give you up never gonna let you down never gonna run around and desert you never gonna make you cry never gonna say goodbye never gonna tell a lie and hurt you we have known each other for so long your heart has been aching but you are too shy to say it inside we both know what has been going on we know the game and we are gonna play it and if you ask me how i am feeling do not tell me you are too blind to see never gonna give you up never gonna let you down  never gonna run around and desert you never gonna make you cry never gonna say goodbye  never gonna tell a lie and hurt you never gonna give you up never gonna let you down never gonna run around and desert you never gonna make you cry never gonna say goodbye never gonna tell a lie and hurt you we have known each other for so long your heart has been aching but you are too shy to say it inside we both know what has been going on we know the game and we are gonna play it i just wanna tell you how i am feeling gotta make you understand never gonna give you up never gonna let you down never gonna run around and desert you never gonna make you cry never gonna say goodbye never gonna tell a lie and hurt you never gonna give you up never gonna let you down never gonna run around and desert you never gonna make you cry never gonna say goodbye never gonna tell a lie and hurt you never gonna give you up never gonna let you down never gonna run around and desert you never gonna make you cry never gonna say goodbye never gonna tell a lie and hurt you '"
   ]
  },
  {
   "cell_type": "code",
   "execution_count": 50,
   "id": "9145da8f",
   "metadata": {},
   "outputs": [],
   "source": [
    "eh = {'song': everybody_hurts}\n",
    "df_eh = pd.DataFrame(eh, index=[0])\n",
    "df_eh['class'] = 1"
   ]
  },
  {
   "cell_type": "code",
   "execution_count": 57,
   "id": "df81a056",
   "metadata": {},
   "outputs": [
    {
     "name": "stderr",
     "output_type": "stream",
     "text": [
      "C:\\Users\\BETH&A~1\\AppData\\Local\\Temp/ipykernel_14380/2796438399.py:1: SettingWithCopyWarning: \n",
      "A value is trying to be set on a copy of a slice from a DataFrame\n",
      "\n",
      "See the caveats in the documentation: https://pandas.pydata.org/pandas-docs/stable/user_guide/indexing.html#returning-a-view-versus-a-copy\n",
      "  df_eh['song'][1] = fire_rain\n"
     ]
    }
   ],
   "source": []
  },
  {
   "cell_type": "code",
   "execution_count": 58,
   "id": "005319dc",
   "metadata": {},
   "outputs": [
    {
     "data": {
      "text/html": [
       "<div>\n",
       "<style scoped>\n",
       "    .dataframe tbody tr th:only-of-type {\n",
       "        vertical-align: middle;\n",
       "    }\n",
       "\n",
       "    .dataframe tbody tr th {\n",
       "        vertical-align: top;\n",
       "    }\n",
       "\n",
       "    .dataframe thead th {\n",
       "        text-align: right;\n",
       "    }\n",
       "</style>\n",
       "<table border=\"1\" class=\"dataframe\">\n",
       "  <thead>\n",
       "    <tr style=\"text-align: right;\">\n",
       "      <th></th>\n",
       "      <th>song</th>\n",
       "      <th>class</th>\n",
       "    </tr>\n",
       "  </thead>\n",
       "  <tbody>\n",
       "    <tr>\n",
       "      <th>0</th>\n",
       "      <td>when your day is long and the night the night ...</td>\n",
       "      <td>0</td>\n",
       "    </tr>\n",
       "  </tbody>\n",
       "</table>\n",
       "</div>"
      ],
      "text/plain": [
       "                                                song  class\n",
       "0  when your day is long and the night the night ...      0"
      ]
     },
     "execution_count": 58,
     "metadata": {},
     "output_type": "execute_result"
    }
   ],
   "source": [
    "df_eh"
   ]
  },
  {
   "cell_type": "code",
   "execution_count": 40,
   "id": "e710d7b4",
   "metadata": {},
   "outputs": [
    {
     "data": {
      "text/html": [
       "<div>\n",
       "<style scoped>\n",
       "    .dataframe tbody tr th:only-of-type {\n",
       "        vertical-align: middle;\n",
       "    }\n",
       "\n",
       "    .dataframe tbody tr th {\n",
       "        vertical-align: top;\n",
       "    }\n",
       "\n",
       "    .dataframe thead th {\n",
       "        text-align: right;\n",
       "    }\n",
       "</style>\n",
       "<table border=\"1\" class=\"dataframe\">\n",
       "  <thead>\n",
       "    <tr style=\"text-align: right;\">\n",
       "      <th></th>\n",
       "      <th>length</th>\n",
       "      <th>sentiment</th>\n",
       "      <th>flesch_kincaid</th>\n",
       "      <th>repetition</th>\n",
       "      <th>class</th>\n",
       "    </tr>\n",
       "  </thead>\n",
       "  <tbody>\n",
       "    <tr>\n",
       "      <th>0</th>\n",
       "      <td>345</td>\n",
       "      <td>0.100000</td>\n",
       "      <td>24.4</td>\n",
       "      <td>0</td>\n",
       "      <td>1</td>\n",
       "    </tr>\n",
       "    <tr>\n",
       "      <th>1</th>\n",
       "      <td>69</td>\n",
       "      <td>0.100000</td>\n",
       "      <td>8.4</td>\n",
       "      <td>0</td>\n",
       "      <td>0</td>\n",
       "    </tr>\n",
       "    <tr>\n",
       "      <th>2</th>\n",
       "      <td>48</td>\n",
       "      <td>-0.525000</td>\n",
       "      <td>6.4</td>\n",
       "      <td>0</td>\n",
       "      <td>0</td>\n",
       "    </tr>\n",
       "    <tr>\n",
       "      <th>3</th>\n",
       "      <td>30</td>\n",
       "      <td>-0.291667</td>\n",
       "      <td>-1.5</td>\n",
       "      <td>0</td>\n",
       "      <td>1</td>\n",
       "    </tr>\n",
       "    <tr>\n",
       "      <th>4</th>\n",
       "      <td>1281</td>\n",
       "      <td>-0.228461</td>\n",
       "      <td>74.7</td>\n",
       "      <td>2</td>\n",
       "      <td>1</td>\n",
       "    </tr>\n",
       "  </tbody>\n",
       "</table>\n",
       "</div>"
      ],
      "text/plain": [
       "   length  sentiment  flesch_kincaid  repetition  class\n",
       "0     345   0.100000            24.4           0      1\n",
       "1      69   0.100000             8.4           0      0\n",
       "2      48  -0.525000             6.4           0      0\n",
       "3      30  -0.291667            -1.5           0      1\n",
       "4    1281  -0.228461            74.7           2      1"
      ]
     },
     "execution_count": 40,
     "metadata": {},
     "output_type": "execute_result"
    }
   ],
   "source": [
    "df1.head()"
   ]
  },
  {
   "cell_type": "code",
   "execution_count": 41,
   "id": "c5373929",
   "metadata": {},
   "outputs": [],
   "source": [
    "words = df_eh['song'].iloc[0].split(\" \")  \n",
    "count = 0; \n",
    "for i in range(len(words)-1):  \n",
    "    if words[i] == words[i+1]:\n",
    "        count = count + 1\n",
    "\n",
    "df_eh['repetition'] = count"
   ]
  },
  {
   "cell_type": "code",
   "execution_count": 42,
   "id": "58912504",
   "metadata": {},
   "outputs": [],
   "source": [
    "from textblob import TextBlob\n",
    "import textstat\n",
    "df_eh['length'] = len(df_eh['song'].iloc[0])\n",
    "df_eh['sentiment'] = TextBlob(df_eh['song'].iloc[0]).polarity\n",
    "df_eh['flesch_kincaid'] = textstat.flesch_kincaid_grade(df['clean_text'].iloc[0])\n"
   ]
  },
  {
   "cell_type": "code",
   "execution_count": 43,
   "id": "12ad1756",
   "metadata": {},
   "outputs": [],
   "source": [
    "df2 = df_eh[['sentiment', 'flesch_kincaid', 'repetition', 'length']]"
   ]
  },
  {
   "cell_type": "code",
   "execution_count": 44,
   "id": "3c257add",
   "metadata": {},
   "outputs": [],
   "source": [
    "from sklearn.preprocessing import StandardScaler, MinMaxScaler, RobustScaler, MaxAbsScaler\n",
    "scaler = MinMaxScaler()\n",
    "scaler.fit(df2)\n",
    "df_scaled = scaler.transform(df2)\n",
    "scaled_features_df = pd.DataFrame(df_scaled, index=df2.index, columns=df2.columns)"
   ]
  },
  {
   "cell_type": "code",
   "execution_count": 45,
   "id": "2f32a3c1",
   "metadata": {},
   "outputs": [
    {
     "name": "stderr",
     "output_type": "stream",
     "text": [
      "C:\\Users\\BETH&A~1\\AppData\\Local\\Temp/ipykernel_14380/3444347364.py:7: FutureWarning: Support for multi-dimensional indexing (e.g. `obj[:, None]`) is deprecated and will be removed in a future version.  Convert to a numpy array before indexing instead.\n",
      "  reading_level = scaled_features_df['flesch_kincaid'][:, None]\n",
      "C:\\Users\\BETH&A~1\\AppData\\Local\\Temp/ipykernel_14380/3444347364.py:8: FutureWarning: Support for multi-dimensional indexing (e.g. `obj[:, None]`) is deprecated and will be removed in a future version.  Convert to a numpy array before indexing instead.\n",
      "  repetition = scaled_features_df['repetition'][:, None]\n"
     ]
    }
   ],
   "source": [
    "from scipy.sparse import hstack\n",
    "\n",
    "text_matrix = vectorizer.transform(df_eh['song'])\n",
    "text_matrix = text_matrix.tocsc() \n",
    "length = scaled_features_df['length'].values[:, None]\n",
    "sentiment = scaled_features_df['sentiment'].values[:, None]\n",
    "reading_level = scaled_features_df['flesch_kincaid'][:, None]\n",
    "repetition = scaled_features_df['repetition'][:, None]\n",
    "first = hstack((text_matrix, length))\n",
    "second = hstack((first, sentiment))\n",
    "third = hstack((second, reading_level))\n",
    "X = hstack((third, sentiment))\n",
    "\n",
    "y = df_eh['class']"
   ]
  },
  {
   "cell_type": "code",
   "execution_count": 46,
   "id": "5490250b",
   "metadata": {},
   "outputs": [
    {
     "data": {
      "text/plain": [
       "array([1])"
      ]
     },
     "execution_count": 46,
     "metadata": {},
     "output_type": "execute_result"
    }
   ],
   "source": [
    "nbcvi.predict(X)"
   ]
  },
  {
   "cell_type": "code",
   "execution_count": 47,
   "id": "eaed87a4",
   "metadata": {},
   "outputs": [
    {
     "data": {
      "text/plain": [
       "array([[0.00144764, 0.99855236]])"
      ]
     },
     "execution_count": 47,
     "metadata": {},
     "output_type": "execute_result"
    }
   ],
   "source": [
    "nbcvi.predict_proba(X)"
   ]
  },
  {
   "cell_type": "code",
   "execution_count": null,
   "id": "95f28c67",
   "metadata": {},
   "outputs": [],
   "source": []
  },
  {
   "cell_type": "code",
   "execution_count": 97,
   "id": "dc6080b2",
   "metadata": {},
   "outputs": [],
   "source": [
    "dict1 = {'title':['Fire and Rain', 'Everybody Hurts', 'Happy and You Know It', 'Wonderful World', 'Never Gonna Give You Up'],\n",
    "        'song':[fire_rain, everybody_hurts, happy_know_it, wonderful_world, r_roll],\n",
    "        'length':[len(fire_rain), len(everybody_hurts), len(happy_know_it), len(wonderful_world), len(r_roll)], \n",
    "         'class': [1, 1 ,0, 0, 0]\n",
    "       }"
   ]
  },
  {
   "cell_type": "code",
   "execution_count": 98,
   "id": "27a6e469",
   "metadata": {},
   "outputs": [],
   "source": [
    "df_song = pd.DataFrame(dict1)\n"
   ]
  },
  {
   "cell_type": "code",
   "execution_count": 99,
   "id": "0dfbe363",
   "metadata": {},
   "outputs": [
    {
     "data": {
      "text/html": [
       "<div>\n",
       "<style scoped>\n",
       "    .dataframe tbody tr th:only-of-type {\n",
       "        vertical-align: middle;\n",
       "    }\n",
       "\n",
       "    .dataframe tbody tr th {\n",
       "        vertical-align: top;\n",
       "    }\n",
       "\n",
       "    .dataframe thead th {\n",
       "        text-align: right;\n",
       "    }\n",
       "</style>\n",
       "<table border=\"1\" class=\"dataframe\">\n",
       "  <thead>\n",
       "    <tr style=\"text-align: right;\">\n",
       "      <th></th>\n",
       "      <th>title</th>\n",
       "      <th>song</th>\n",
       "      <th>length</th>\n",
       "      <th>class</th>\n",
       "    </tr>\n",
       "  </thead>\n",
       "  <tbody>\n",
       "    <tr>\n",
       "      <th>0</th>\n",
       "      <td>Fire and Rain</td>\n",
       "      <td>just yesterday morning they let me know you we...</td>\n",
       "      <td>1455</td>\n",
       "      <td>1</td>\n",
       "    </tr>\n",
       "    <tr>\n",
       "      <th>1</th>\n",
       "      <td>Everybody Hurts</td>\n",
       "      <td>when your day is long and the night the night ...</td>\n",
       "      <td>886</td>\n",
       "      <td>1</td>\n",
       "    </tr>\n",
       "    <tr>\n",
       "      <th>2</th>\n",
       "      <td>Happy and You Know It</td>\n",
       "      <td>if you are happy and you know it clap your han...</td>\n",
       "      <td>165</td>\n",
       "      <td>0</td>\n",
       "    </tr>\n",
       "    <tr>\n",
       "      <th>3</th>\n",
       "      <td>Wonderful World</td>\n",
       "      <td>i see trees of green red roses too i see them ...</td>\n",
       "      <td>598</td>\n",
       "      <td>0</td>\n",
       "    </tr>\n",
       "    <tr>\n",
       "      <th>4</th>\n",
       "      <td>Never Gonna Give You Up</td>\n",
       "      <td>we are no strangers to love you know the rules...</td>\n",
       "      <td>1741</td>\n",
       "      <td>0</td>\n",
       "    </tr>\n",
       "  </tbody>\n",
       "</table>\n",
       "</div>"
      ],
      "text/plain": [
       "                     title                                               song  \\\n",
       "0            Fire and Rain  just yesterday morning they let me know you we...   \n",
       "1          Everybody Hurts  when your day is long and the night the night ...   \n",
       "2    Happy and You Know It  if you are happy and you know it clap your han...   \n",
       "3          Wonderful World  i see trees of green red roses too i see them ...   \n",
       "4  Never Gonna Give You Up  we are no strangers to love you know the rules...   \n",
       "\n",
       "   length  class  \n",
       "0    1455      1  \n",
       "1     886      1  \n",
       "2     165      0  \n",
       "3     598      0  \n",
       "4    1741      0  "
      ]
     },
     "execution_count": 99,
     "metadata": {},
     "output_type": "execute_result"
    }
   ],
   "source": [
    "df_song"
   ]
  },
  {
   "cell_type": "code",
   "execution_count": 100,
   "id": "4190f99f",
   "metadata": {},
   "outputs": [
    {
     "name": "stderr",
     "output_type": "stream",
     "text": [
      "C:\\anaconda3\\lib\\site-packages\\pandas\\core\\indexing.py:1732: SettingWithCopyWarning: \n",
      "A value is trying to be set on a copy of a slice from a DataFrame\n",
      "\n",
      "See the caveats in the documentation: https://pandas.pydata.org/pandas-docs/stable/user_guide/indexing.html#returning-a-view-versus-a-copy\n",
      "  self._setitem_single_block(indexer, value, name)\n"
     ]
    }
   ],
   "source": [
    "\n",
    "df_song['repetition'] = ''\n",
    "for item in range(len(df_song)):\n",
    "\n",
    "    words = df_song['song'].iloc[item].split(\" \")  \n",
    "   \n",
    "    \n",
    "    count = 0; \n",
    "    for i in range(len(words)-1):  \n",
    "        if words[i] == words[i+1]:\n",
    "            count = count + 1\n",
    "\n",
    "    df_song['repetition'].iloc[item] = count"
   ]
  },
  {
   "cell_type": "code",
   "execution_count": 101,
   "id": "c587e3cb",
   "metadata": {},
   "outputs": [],
   "source": [
    "df_song['flesch_kincaid'] = ''\n",
    "for i in range(len(df_song)):\n",
    "    df_song['flesch_kincaid'].iloc[i] = textstat.flesch_kincaid_grade(df_song['song'].iloc[i])\n"
   ]
  },
  {
   "cell_type": "code",
   "execution_count": 102,
   "id": "53d8b119",
   "metadata": {},
   "outputs": [],
   "source": [
    "df_song['sentiment'] = ''\n",
    "for i in range(len(df_song)):\n",
    "    df_song['sentiment'].iloc[i] = TextBlob(df_song['song'].iloc[i]).polarity"
   ]
  },
  {
   "cell_type": "code",
   "execution_count": 103,
   "id": "cabc5197",
   "metadata": {},
   "outputs": [
    {
     "data": {
      "text/html": [
       "<div>\n",
       "<style scoped>\n",
       "    .dataframe tbody tr th:only-of-type {\n",
       "        vertical-align: middle;\n",
       "    }\n",
       "\n",
       "    .dataframe tbody tr th {\n",
       "        vertical-align: top;\n",
       "    }\n",
       "\n",
       "    .dataframe thead th {\n",
       "        text-align: right;\n",
       "    }\n",
       "</style>\n",
       "<table border=\"1\" class=\"dataframe\">\n",
       "  <thead>\n",
       "    <tr style=\"text-align: right;\">\n",
       "      <th></th>\n",
       "      <th>title</th>\n",
       "      <th>song</th>\n",
       "      <th>length</th>\n",
       "      <th>class</th>\n",
       "      <th>repetition</th>\n",
       "      <th>flesch_kincaid</th>\n",
       "      <th>sentiment</th>\n",
       "    </tr>\n",
       "  </thead>\n",
       "  <tbody>\n",
       "    <tr>\n",
       "      <th>0</th>\n",
       "      <td>Fire and Rain</td>\n",
       "      <td>just yesterday morning they let me know you we...</td>\n",
       "      <td>1455</td>\n",
       "      <td>1</td>\n",
       "      <td>0</td>\n",
       "      <td>117.5</td>\n",
       "      <td>0.019017</td>\n",
       "    </tr>\n",
       "    <tr>\n",
       "      <th>1</th>\n",
       "      <td>Everybody Hurts</td>\n",
       "      <td>when your day is long and the night the night ...</td>\n",
       "      <td>886</td>\n",
       "      <td>1</td>\n",
       "      <td>2</td>\n",
       "      <td>67.6</td>\n",
       "      <td>0.1125</td>\n",
       "    </tr>\n",
       "    <tr>\n",
       "      <th>2</th>\n",
       "      <td>Happy and You Know It</td>\n",
       "      <td>if you are happy and you know it clap your han...</td>\n",
       "      <td>165</td>\n",
       "      <td>0</td>\n",
       "      <td>0</td>\n",
       "      <td>11.8</td>\n",
       "      <td>0.725</td>\n",
       "    </tr>\n",
       "    <tr>\n",
       "      <th>3</th>\n",
       "      <td>Wonderful World</td>\n",
       "      <td>i see trees of green red roses too i see them ...</td>\n",
       "      <td>598</td>\n",
       "      <td>0</td>\n",
       "      <td>0</td>\n",
       "      <td>47.3</td>\n",
       "      <td>0.373333</td>\n",
       "    </tr>\n",
       "    <tr>\n",
       "      <th>4</th>\n",
       "      <td>Never Gonna Give You Up</td>\n",
       "      <td>we are no strangers to love you know the rules...</td>\n",
       "      <td>1741</td>\n",
       "      <td>0</td>\n",
       "      <td>0</td>\n",
       "      <td>139.4</td>\n",
       "      <td>-0.158796</td>\n",
       "    </tr>\n",
       "  </tbody>\n",
       "</table>\n",
       "</div>"
      ],
      "text/plain": [
       "                     title                                               song  \\\n",
       "0            Fire and Rain  just yesterday morning they let me know you we...   \n",
       "1          Everybody Hurts  when your day is long and the night the night ...   \n",
       "2    Happy and You Know It  if you are happy and you know it clap your han...   \n",
       "3          Wonderful World  i see trees of green red roses too i see them ...   \n",
       "4  Never Gonna Give You Up  we are no strangers to love you know the rules...   \n",
       "\n",
       "   length  class repetition flesch_kincaid sentiment  \n",
       "0    1455      1          0          117.5  0.019017  \n",
       "1     886      1          2           67.6    0.1125  \n",
       "2     165      0          0           11.8     0.725  \n",
       "3     598      0          0           47.3  0.373333  \n",
       "4    1741      0          0          139.4 -0.158796  "
      ]
     },
     "execution_count": 103,
     "metadata": {},
     "output_type": "execute_result"
    }
   ],
   "source": [
    "df_song\n"
   ]
  },
  {
   "cell_type": "code",
   "execution_count": 104,
   "id": "d7c881a9",
   "metadata": {},
   "outputs": [],
   "source": [
    "df3 = df_song[['sentiment', 'flesch_kincaid', 'repetition', 'length']]"
   ]
  },
  {
   "cell_type": "code",
   "execution_count": 105,
   "id": "aadbc1c5",
   "metadata": {},
   "outputs": [],
   "source": [
    "from sklearn.preprocessing import StandardScaler, MinMaxScaler, RobustScaler, MaxAbsScaler\n",
    "scaler = MinMaxScaler()\n",
    "scaler.fit(df3)\n",
    "df_scaled = scaler.transform(df3)\n",
    "scaled_features_df = pd.DataFrame(df_scaled, index=df3.index, columns=df3.columns)"
   ]
  },
  {
   "cell_type": "code",
   "execution_count": 110,
   "id": "ab11170a",
   "metadata": {},
   "outputs": [],
   "source": [
    "from scipy.sparse import hstack\n",
    "\n",
    "text_matrix =  vectorizor_tfid.transform(df_song['song'])\n",
    "text_matrix = text_matrix.tocsc() \n",
    "length = scaled_features_df['length'].values[:, None]\n",
    "sentiment = scaled_features_df['sentiment'].values[:, None]\n",
    "reading_level = scaled_features_df['flesch_kincaid'].values[:, None]\n",
    "repetition = scaled_features_df['repetition'].values[:, None]\n",
    "first = hstack((text_matrix, length))\n",
    "second = hstack((first, sentiment))\n",
    "third = hstack((second, reading_level))\n",
    "X_song = hstack((third, sentiment))\n",
    "\n",
    "y_song = df_song['class']"
   ]
  },
  {
   "cell_type": "code",
   "execution_count": 111,
   "id": "8c0f9a06",
   "metadata": {},
   "outputs": [
    {
     "data": {
      "text/plain": [
       "array([0, 0, 0, 0, 0])"
      ]
     },
     "execution_count": 111,
     "metadata": {},
     "output_type": "execute_result"
    }
   ],
   "source": [
    "lr_tfidi.predict(X_song)"
   ]
  }
 ],
 "metadata": {
  "kernelspec": {
   "display_name": "Python 3 (ipykernel)",
   "language": "python",
   "name": "python3"
  },
  "language_info": {
   "codemirror_mode": {
    "name": "ipython",
    "version": 3
   },
   "file_extension": ".py",
   "mimetype": "text/x-python",
   "name": "python",
   "nbconvert_exporter": "python",
   "pygments_lexer": "ipython3",
   "version": "3.9.7"
  }
 },
 "nbformat": 4,
 "nbformat_minor": 5
}
